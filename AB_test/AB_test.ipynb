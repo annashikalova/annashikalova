{
  "cells": [
    {
      "cell_type": "markdown",
      "metadata": {
        "id": "505O7jbeeZLI"
      },
      "source": [
        "# Проект по А/B-тестированию  \n",
        "  \n",
        "**Цели исследования:**\n",
        "- проанализировать результат проведения А/В-теста `recommender_system_test`\n",
        "- оценить влияние на пользовательские метрики в результате А/В-тестирования:  \n",
        "  * конверсия в просмотры товара\n",
        "  * конверсия в переход в корзину товаров\n",
        "  * конверсия в покупки  \n",
        "  \n",
        "**Этапы проведения исследования:**\n",
        "- Обзор данных, первоначальная оценка\n",
        "- Оценка аудитории проведения теста\n",
        "- Соответствие данных требованиям технического задания.\n",
        "- Соотнесение времени проведения теста с маркетинговыми акциями\n",
        "- Оценка кол-ва событий в группах теста\n",
        "- Построение воронки продаж по группам теста\n",
        "- Проверка статистической разницы долей наступления собитий по группам теста z-критерием.\n",
        "- Выводы о корректности и результатах проведения теста"
      ]
    },
    {
      "cell_type": "markdown",
      "metadata": {
        "id": "UO-s7oUAo3q6"
      },
      "source": [
        "## Обзор данных"
      ]
    },
    {
      "cell_type": "code",
      "execution_count": 2,
      "metadata": {
        "id": "ErKI7DHluLxZ"
      },
      "outputs": [],
      "source": [
        "import pandas as pd\n",
        "from scipy import stats as st\n",
        "from statsmodels.stats.proportion import proportions_ztest\n",
        "import numpy as np\n",
        "import matplotlib.pyplot as plt\n",
        "import seaborn as sns\n",
        "import plotly.express as px\n",
        "from plotly import graph_objects as go\n",
        "import datetime as dt\n",
        "from datetime import timedelta\n",
        "import math as mth\n",
        "import cmath as cmth"
      ]
    },
    {
      "cell_type": "code",
      "execution_count": 3,
      "metadata": {
        "id": "xNgP8dqruulH"
      },
      "outputs": [],
      "source": [
        "try:\n",
        "  marketing_events = pd.read_csv('/content/ab_project_marketing_events.csv')\n",
        "  ab_events = pd.read_csv('/content/final_ab_events.csv')\n",
        "  ab_new_users = pd.read_csv('/content/final_ab_new_users.csv')\n",
        "  ab_participants = pd.read_csv('/content/final_ab_participants.csv')\n",
        "except:\n",
        "  marketing_events = pd.read_csv('/datasets/ab_project_marketing_events.csv')\n",
        "  ab_events = pd.read_csv('/datasets/final_ab_events.csv')\n",
        "  ab_new_users = pd.read_csv('/datasets/final_ab_new_users.csv')\n",
        "  ab_participants = pd.read_csv('/datasets/final_ab_participants.csv')\n"
      ]
    },
    {
      "cell_type": "code",
      "execution_count": 4,
      "metadata": {
        "colab": {
          "base_uri": "https://localhost:8080/",
          "height": 397
        },
        "id": "6x710tC8wNsA",
        "outputId": "527544ba-1c96-46db-9b68-5c587a33cc18"
      },
      "outputs": [
        {
          "output_type": "stream",
          "name": "stdout",
          "text": [
            "<class 'pandas.core.frame.DataFrame'>\n",
            "RangeIndex: 14 entries, 0 to 13\n",
            "Data columns (total 4 columns):\n",
            " #   Column     Non-Null Count  Dtype \n",
            "---  ------     --------------  ----- \n",
            " 0   name       14 non-null     object\n",
            " 1   regions    14 non-null     object\n",
            " 2   start_dt   14 non-null     object\n",
            " 3   finish_dt  14 non-null     object\n",
            "dtypes: object(4)\n",
            "memory usage: 576.0+ bytes\n"
          ]
        },
        {
          "output_type": "execute_result",
          "data": {
            "text/plain": [
              "                           name                   regions    start_dt  \\\n",
              "0      Christmas&New Year Promo             EU, N.America  2020-12-25   \n",
              "1  St. Valentine's Day Giveaway  EU, CIS, APAC, N.America  2020-02-14   \n",
              "2        St. Patric's Day Promo             EU, N.America  2020-03-17   \n",
              "3                  Easter Promo  EU, CIS, APAC, N.America  2020-04-12   \n",
              "4             4th of July Promo                 N.America  2020-07-04   \n",
              "\n",
              "    finish_dt  \n",
              "0  2021-01-03  \n",
              "1  2020-02-16  \n",
              "2  2020-03-19  \n",
              "3  2020-04-19  \n",
              "4  2020-07-11  "
            ],
            "text/html": [
              "\n",
              "  <div id=\"df-01d74953-a7d3-44bb-9876-0a83bc2f04a7\" class=\"colab-df-container\">\n",
              "    <div>\n",
              "<style scoped>\n",
              "    .dataframe tbody tr th:only-of-type {\n",
              "        vertical-align: middle;\n",
              "    }\n",
              "\n",
              "    .dataframe tbody tr th {\n",
              "        vertical-align: top;\n",
              "    }\n",
              "\n",
              "    .dataframe thead th {\n",
              "        text-align: right;\n",
              "    }\n",
              "</style>\n",
              "<table border=\"1\" class=\"dataframe\">\n",
              "  <thead>\n",
              "    <tr style=\"text-align: right;\">\n",
              "      <th></th>\n",
              "      <th>name</th>\n",
              "      <th>regions</th>\n",
              "      <th>start_dt</th>\n",
              "      <th>finish_dt</th>\n",
              "    </tr>\n",
              "  </thead>\n",
              "  <tbody>\n",
              "    <tr>\n",
              "      <th>0</th>\n",
              "      <td>Christmas&amp;New Year Promo</td>\n",
              "      <td>EU, N.America</td>\n",
              "      <td>2020-12-25</td>\n",
              "      <td>2021-01-03</td>\n",
              "    </tr>\n",
              "    <tr>\n",
              "      <th>1</th>\n",
              "      <td>St. Valentine's Day Giveaway</td>\n",
              "      <td>EU, CIS, APAC, N.America</td>\n",
              "      <td>2020-02-14</td>\n",
              "      <td>2020-02-16</td>\n",
              "    </tr>\n",
              "    <tr>\n",
              "      <th>2</th>\n",
              "      <td>St. Patric's Day Promo</td>\n",
              "      <td>EU, N.America</td>\n",
              "      <td>2020-03-17</td>\n",
              "      <td>2020-03-19</td>\n",
              "    </tr>\n",
              "    <tr>\n",
              "      <th>3</th>\n",
              "      <td>Easter Promo</td>\n",
              "      <td>EU, CIS, APAC, N.America</td>\n",
              "      <td>2020-04-12</td>\n",
              "      <td>2020-04-19</td>\n",
              "    </tr>\n",
              "    <tr>\n",
              "      <th>4</th>\n",
              "      <td>4th of July Promo</td>\n",
              "      <td>N.America</td>\n",
              "      <td>2020-07-04</td>\n",
              "      <td>2020-07-11</td>\n",
              "    </tr>\n",
              "  </tbody>\n",
              "</table>\n",
              "</div>\n",
              "    <div class=\"colab-df-buttons\">\n",
              "\n",
              "  <div class=\"colab-df-container\">\n",
              "    <button class=\"colab-df-convert\" onclick=\"convertToInteractive('df-01d74953-a7d3-44bb-9876-0a83bc2f04a7')\"\n",
              "            title=\"Convert this dataframe to an interactive table.\"\n",
              "            style=\"display:none;\">\n",
              "\n",
              "  <svg xmlns=\"http://www.w3.org/2000/svg\" height=\"24px\" viewBox=\"0 -960 960 960\">\n",
              "    <path d=\"M120-120v-720h720v720H120Zm60-500h600v-160H180v160Zm220 220h160v-160H400v160Zm0 220h160v-160H400v160ZM180-400h160v-160H180v160Zm440 0h160v-160H620v160ZM180-180h160v-160H180v160Zm440 0h160v-160H620v160Z\"/>\n",
              "  </svg>\n",
              "    </button>\n",
              "\n",
              "  <style>\n",
              "    .colab-df-container {\n",
              "      display:flex;\n",
              "      gap: 12px;\n",
              "    }\n",
              "\n",
              "    .colab-df-convert {\n",
              "      background-color: #E8F0FE;\n",
              "      border: none;\n",
              "      border-radius: 50%;\n",
              "      cursor: pointer;\n",
              "      display: none;\n",
              "      fill: #1967D2;\n",
              "      height: 32px;\n",
              "      padding: 0 0 0 0;\n",
              "      width: 32px;\n",
              "    }\n",
              "\n",
              "    .colab-df-convert:hover {\n",
              "      background-color: #E2EBFA;\n",
              "      box-shadow: 0px 1px 2px rgba(60, 64, 67, 0.3), 0px 1px 3px 1px rgba(60, 64, 67, 0.15);\n",
              "      fill: #174EA6;\n",
              "    }\n",
              "\n",
              "    .colab-df-buttons div {\n",
              "      margin-bottom: 4px;\n",
              "    }\n",
              "\n",
              "    [theme=dark] .colab-df-convert {\n",
              "      background-color: #3B4455;\n",
              "      fill: #D2E3FC;\n",
              "    }\n",
              "\n",
              "    [theme=dark] .colab-df-convert:hover {\n",
              "      background-color: #434B5C;\n",
              "      box-shadow: 0px 1px 3px 1px rgba(0, 0, 0, 0.15);\n",
              "      filter: drop-shadow(0px 1px 2px rgba(0, 0, 0, 0.3));\n",
              "      fill: #FFFFFF;\n",
              "    }\n",
              "  </style>\n",
              "\n",
              "    <script>\n",
              "      const buttonEl =\n",
              "        document.querySelector('#df-01d74953-a7d3-44bb-9876-0a83bc2f04a7 button.colab-df-convert');\n",
              "      buttonEl.style.display =\n",
              "        google.colab.kernel.accessAllowed ? 'block' : 'none';\n",
              "\n",
              "      async function convertToInteractive(key) {\n",
              "        const element = document.querySelector('#df-01d74953-a7d3-44bb-9876-0a83bc2f04a7');\n",
              "        const dataTable =\n",
              "          await google.colab.kernel.invokeFunction('convertToInteractive',\n",
              "                                                    [key], {});\n",
              "        if (!dataTable) return;\n",
              "\n",
              "        const docLinkHtml = 'Like what you see? Visit the ' +\n",
              "          '<a target=\"_blank\" href=https://colab.research.google.com/notebooks/data_table.ipynb>data table notebook</a>'\n",
              "          + ' to learn more about interactive tables.';\n",
              "        element.innerHTML = '';\n",
              "        dataTable['output_type'] = 'display_data';\n",
              "        await google.colab.output.renderOutput(dataTable, element);\n",
              "        const docLink = document.createElement('div');\n",
              "        docLink.innerHTML = docLinkHtml;\n",
              "        element.appendChild(docLink);\n",
              "      }\n",
              "    </script>\n",
              "  </div>\n",
              "\n",
              "\n",
              "<div id=\"df-c6fa7f29-d469-47b7-b1c2-ff072b35e2e5\">\n",
              "  <button class=\"colab-df-quickchart\" onclick=\"quickchart('df-c6fa7f29-d469-47b7-b1c2-ff072b35e2e5')\"\n",
              "            title=\"Suggest charts.\"\n",
              "            style=\"display:none;\">\n",
              "\n",
              "<svg xmlns=\"http://www.w3.org/2000/svg\" height=\"24px\"viewBox=\"0 0 24 24\"\n",
              "     width=\"24px\">\n",
              "    <g>\n",
              "        <path d=\"M19 3H5c-1.1 0-2 .9-2 2v14c0 1.1.9 2 2 2h14c1.1 0 2-.9 2-2V5c0-1.1-.9-2-2-2zM9 17H7v-7h2v7zm4 0h-2V7h2v10zm4 0h-2v-4h2v4z\"/>\n",
              "    </g>\n",
              "</svg>\n",
              "  </button>\n",
              "\n",
              "<style>\n",
              "  .colab-df-quickchart {\n",
              "      --bg-color: #E8F0FE;\n",
              "      --fill-color: #1967D2;\n",
              "      --hover-bg-color: #E2EBFA;\n",
              "      --hover-fill-color: #174EA6;\n",
              "      --disabled-fill-color: #AAA;\n",
              "      --disabled-bg-color: #DDD;\n",
              "  }\n",
              "\n",
              "  [theme=dark] .colab-df-quickchart {\n",
              "      --bg-color: #3B4455;\n",
              "      --fill-color: #D2E3FC;\n",
              "      --hover-bg-color: #434B5C;\n",
              "      --hover-fill-color: #FFFFFF;\n",
              "      --disabled-bg-color: #3B4455;\n",
              "      --disabled-fill-color: #666;\n",
              "  }\n",
              "\n",
              "  .colab-df-quickchart {\n",
              "    background-color: var(--bg-color);\n",
              "    border: none;\n",
              "    border-radius: 50%;\n",
              "    cursor: pointer;\n",
              "    display: none;\n",
              "    fill: var(--fill-color);\n",
              "    height: 32px;\n",
              "    padding: 0;\n",
              "    width: 32px;\n",
              "  }\n",
              "\n",
              "  .colab-df-quickchart:hover {\n",
              "    background-color: var(--hover-bg-color);\n",
              "    box-shadow: 0 1px 2px rgba(60, 64, 67, 0.3), 0 1px 3px 1px rgba(60, 64, 67, 0.15);\n",
              "    fill: var(--button-hover-fill-color);\n",
              "  }\n",
              "\n",
              "  .colab-df-quickchart-complete:disabled,\n",
              "  .colab-df-quickchart-complete:disabled:hover {\n",
              "    background-color: var(--disabled-bg-color);\n",
              "    fill: var(--disabled-fill-color);\n",
              "    box-shadow: none;\n",
              "  }\n",
              "\n",
              "  .colab-df-spinner {\n",
              "    border: 2px solid var(--fill-color);\n",
              "    border-color: transparent;\n",
              "    border-bottom-color: var(--fill-color);\n",
              "    animation:\n",
              "      spin 1s steps(1) infinite;\n",
              "  }\n",
              "\n",
              "  @keyframes spin {\n",
              "    0% {\n",
              "      border-color: transparent;\n",
              "      border-bottom-color: var(--fill-color);\n",
              "      border-left-color: var(--fill-color);\n",
              "    }\n",
              "    20% {\n",
              "      border-color: transparent;\n",
              "      border-left-color: var(--fill-color);\n",
              "      border-top-color: var(--fill-color);\n",
              "    }\n",
              "    30% {\n",
              "      border-color: transparent;\n",
              "      border-left-color: var(--fill-color);\n",
              "      border-top-color: var(--fill-color);\n",
              "      border-right-color: var(--fill-color);\n",
              "    }\n",
              "    40% {\n",
              "      border-color: transparent;\n",
              "      border-right-color: var(--fill-color);\n",
              "      border-top-color: var(--fill-color);\n",
              "    }\n",
              "    60% {\n",
              "      border-color: transparent;\n",
              "      border-right-color: var(--fill-color);\n",
              "    }\n",
              "    80% {\n",
              "      border-color: transparent;\n",
              "      border-right-color: var(--fill-color);\n",
              "      border-bottom-color: var(--fill-color);\n",
              "    }\n",
              "    90% {\n",
              "      border-color: transparent;\n",
              "      border-bottom-color: var(--fill-color);\n",
              "    }\n",
              "  }\n",
              "</style>\n",
              "\n",
              "  <script>\n",
              "    async function quickchart(key) {\n",
              "      const quickchartButtonEl =\n",
              "        document.querySelector('#' + key + ' button');\n",
              "      quickchartButtonEl.disabled = true;  // To prevent multiple clicks.\n",
              "      quickchartButtonEl.classList.add('colab-df-spinner');\n",
              "      try {\n",
              "        const charts = await google.colab.kernel.invokeFunction(\n",
              "            'suggestCharts', [key], {});\n",
              "      } catch (error) {\n",
              "        console.error('Error during call to suggestCharts:', error);\n",
              "      }\n",
              "      quickchartButtonEl.classList.remove('colab-df-spinner');\n",
              "      quickchartButtonEl.classList.add('colab-df-quickchart-complete');\n",
              "    }\n",
              "    (() => {\n",
              "      let quickchartButtonEl =\n",
              "        document.querySelector('#df-c6fa7f29-d469-47b7-b1c2-ff072b35e2e5 button');\n",
              "      quickchartButtonEl.style.display =\n",
              "        google.colab.kernel.accessAllowed ? 'block' : 'none';\n",
              "    })();\n",
              "  </script>\n",
              "</div>\n",
              "    </div>\n",
              "  </div>\n"
            ]
          },
          "metadata": {},
          "execution_count": 4
        }
      ],
      "source": [
        "marketing_events.info()\n",
        "marketing_events.head()"
      ]
    },
    {
      "cell_type": "code",
      "execution_count": 5,
      "metadata": {
        "id": "6AqQMM6ZzUQP"
      },
      "outputs": [],
      "source": [
        "marketing_events['start_dt'] = pd.to_datetime(marketing_events['start_dt'])\n",
        "marketing_events['finish_dt'] = pd.to_datetime(marketing_events['finish_dt'])"
      ]
    },
    {
      "cell_type": "code",
      "execution_count": 6,
      "metadata": {
        "colab": {
          "base_uri": "https://localhost:8080/",
          "height": 397
        },
        "id": "Z4SGHaCywyx1",
        "outputId": "041b35c1-9b48-4615-ec30-bd25bf5a545b"
      },
      "outputs": [
        {
          "output_type": "stream",
          "name": "stdout",
          "text": [
            "<class 'pandas.core.frame.DataFrame'>\n",
            "RangeIndex: 440317 entries, 0 to 440316\n",
            "Data columns (total 4 columns):\n",
            " #   Column      Non-Null Count   Dtype  \n",
            "---  ------      --------------   -----  \n",
            " 0   user_id     440317 non-null  object \n",
            " 1   event_dt    440317 non-null  object \n",
            " 2   event_name  440317 non-null  object \n",
            " 3   details     62740 non-null   float64\n",
            "dtypes: float64(1), object(3)\n",
            "memory usage: 13.4+ MB\n"
          ]
        },
        {
          "output_type": "execute_result",
          "data": {
            "text/plain": [
              "            user_id             event_dt event_name  details\n",
              "0  E1BDDCE0DAFA2679  2020-12-07 20:22:03   purchase    99.99\n",
              "1  7B6452F081F49504  2020-12-07 09:22:53   purchase     9.99\n",
              "2  9CD9F34546DF254C  2020-12-07 12:59:29   purchase     4.99\n",
              "3  96F27A054B191457  2020-12-07 04:02:40   purchase     4.99\n",
              "4  1FD7660FDF94CA1F  2020-12-07 10:15:09   purchase     4.99"
            ],
            "text/html": [
              "\n",
              "  <div id=\"df-0944ebce-063e-4d82-b5f5-ef06e03115c4\" class=\"colab-df-container\">\n",
              "    <div>\n",
              "<style scoped>\n",
              "    .dataframe tbody tr th:only-of-type {\n",
              "        vertical-align: middle;\n",
              "    }\n",
              "\n",
              "    .dataframe tbody tr th {\n",
              "        vertical-align: top;\n",
              "    }\n",
              "\n",
              "    .dataframe thead th {\n",
              "        text-align: right;\n",
              "    }\n",
              "</style>\n",
              "<table border=\"1\" class=\"dataframe\">\n",
              "  <thead>\n",
              "    <tr style=\"text-align: right;\">\n",
              "      <th></th>\n",
              "      <th>user_id</th>\n",
              "      <th>event_dt</th>\n",
              "      <th>event_name</th>\n",
              "      <th>details</th>\n",
              "    </tr>\n",
              "  </thead>\n",
              "  <tbody>\n",
              "    <tr>\n",
              "      <th>0</th>\n",
              "      <td>E1BDDCE0DAFA2679</td>\n",
              "      <td>2020-12-07 20:22:03</td>\n",
              "      <td>purchase</td>\n",
              "      <td>99.99</td>\n",
              "    </tr>\n",
              "    <tr>\n",
              "      <th>1</th>\n",
              "      <td>7B6452F081F49504</td>\n",
              "      <td>2020-12-07 09:22:53</td>\n",
              "      <td>purchase</td>\n",
              "      <td>9.99</td>\n",
              "    </tr>\n",
              "    <tr>\n",
              "      <th>2</th>\n",
              "      <td>9CD9F34546DF254C</td>\n",
              "      <td>2020-12-07 12:59:29</td>\n",
              "      <td>purchase</td>\n",
              "      <td>4.99</td>\n",
              "    </tr>\n",
              "    <tr>\n",
              "      <th>3</th>\n",
              "      <td>96F27A054B191457</td>\n",
              "      <td>2020-12-07 04:02:40</td>\n",
              "      <td>purchase</td>\n",
              "      <td>4.99</td>\n",
              "    </tr>\n",
              "    <tr>\n",
              "      <th>4</th>\n",
              "      <td>1FD7660FDF94CA1F</td>\n",
              "      <td>2020-12-07 10:15:09</td>\n",
              "      <td>purchase</td>\n",
              "      <td>4.99</td>\n",
              "    </tr>\n",
              "  </tbody>\n",
              "</table>\n",
              "</div>\n",
              "    <div class=\"colab-df-buttons\">\n",
              "\n",
              "  <div class=\"colab-df-container\">\n",
              "    <button class=\"colab-df-convert\" onclick=\"convertToInteractive('df-0944ebce-063e-4d82-b5f5-ef06e03115c4')\"\n",
              "            title=\"Convert this dataframe to an interactive table.\"\n",
              "            style=\"display:none;\">\n",
              "\n",
              "  <svg xmlns=\"http://www.w3.org/2000/svg\" height=\"24px\" viewBox=\"0 -960 960 960\">\n",
              "    <path d=\"M120-120v-720h720v720H120Zm60-500h600v-160H180v160Zm220 220h160v-160H400v160Zm0 220h160v-160H400v160ZM180-400h160v-160H180v160Zm440 0h160v-160H620v160ZM180-180h160v-160H180v160Zm440 0h160v-160H620v160Z\"/>\n",
              "  </svg>\n",
              "    </button>\n",
              "\n",
              "  <style>\n",
              "    .colab-df-container {\n",
              "      display:flex;\n",
              "      gap: 12px;\n",
              "    }\n",
              "\n",
              "    .colab-df-convert {\n",
              "      background-color: #E8F0FE;\n",
              "      border: none;\n",
              "      border-radius: 50%;\n",
              "      cursor: pointer;\n",
              "      display: none;\n",
              "      fill: #1967D2;\n",
              "      height: 32px;\n",
              "      padding: 0 0 0 0;\n",
              "      width: 32px;\n",
              "    }\n",
              "\n",
              "    .colab-df-convert:hover {\n",
              "      background-color: #E2EBFA;\n",
              "      box-shadow: 0px 1px 2px rgba(60, 64, 67, 0.3), 0px 1px 3px 1px rgba(60, 64, 67, 0.15);\n",
              "      fill: #174EA6;\n",
              "    }\n",
              "\n",
              "    .colab-df-buttons div {\n",
              "      margin-bottom: 4px;\n",
              "    }\n",
              "\n",
              "    [theme=dark] .colab-df-convert {\n",
              "      background-color: #3B4455;\n",
              "      fill: #D2E3FC;\n",
              "    }\n",
              "\n",
              "    [theme=dark] .colab-df-convert:hover {\n",
              "      background-color: #434B5C;\n",
              "      box-shadow: 0px 1px 3px 1px rgba(0, 0, 0, 0.15);\n",
              "      filter: drop-shadow(0px 1px 2px rgba(0, 0, 0, 0.3));\n",
              "      fill: #FFFFFF;\n",
              "    }\n",
              "  </style>\n",
              "\n",
              "    <script>\n",
              "      const buttonEl =\n",
              "        document.querySelector('#df-0944ebce-063e-4d82-b5f5-ef06e03115c4 button.colab-df-convert');\n",
              "      buttonEl.style.display =\n",
              "        google.colab.kernel.accessAllowed ? 'block' : 'none';\n",
              "\n",
              "      async function convertToInteractive(key) {\n",
              "        const element = document.querySelector('#df-0944ebce-063e-4d82-b5f5-ef06e03115c4');\n",
              "        const dataTable =\n",
              "          await google.colab.kernel.invokeFunction('convertToInteractive',\n",
              "                                                    [key], {});\n",
              "        if (!dataTable) return;\n",
              "\n",
              "        const docLinkHtml = 'Like what you see? Visit the ' +\n",
              "          '<a target=\"_blank\" href=https://colab.research.google.com/notebooks/data_table.ipynb>data table notebook</a>'\n",
              "          + ' to learn more about interactive tables.';\n",
              "        element.innerHTML = '';\n",
              "        dataTable['output_type'] = 'display_data';\n",
              "        await google.colab.output.renderOutput(dataTable, element);\n",
              "        const docLink = document.createElement('div');\n",
              "        docLink.innerHTML = docLinkHtml;\n",
              "        element.appendChild(docLink);\n",
              "      }\n",
              "    </script>\n",
              "  </div>\n",
              "\n",
              "\n",
              "<div id=\"df-a85739fb-1037-4888-936c-a767be9ebc91\">\n",
              "  <button class=\"colab-df-quickchart\" onclick=\"quickchart('df-a85739fb-1037-4888-936c-a767be9ebc91')\"\n",
              "            title=\"Suggest charts.\"\n",
              "            style=\"display:none;\">\n",
              "\n",
              "<svg xmlns=\"http://www.w3.org/2000/svg\" height=\"24px\"viewBox=\"0 0 24 24\"\n",
              "     width=\"24px\">\n",
              "    <g>\n",
              "        <path d=\"M19 3H5c-1.1 0-2 .9-2 2v14c0 1.1.9 2 2 2h14c1.1 0 2-.9 2-2V5c0-1.1-.9-2-2-2zM9 17H7v-7h2v7zm4 0h-2V7h2v10zm4 0h-2v-4h2v4z\"/>\n",
              "    </g>\n",
              "</svg>\n",
              "  </button>\n",
              "\n",
              "<style>\n",
              "  .colab-df-quickchart {\n",
              "      --bg-color: #E8F0FE;\n",
              "      --fill-color: #1967D2;\n",
              "      --hover-bg-color: #E2EBFA;\n",
              "      --hover-fill-color: #174EA6;\n",
              "      --disabled-fill-color: #AAA;\n",
              "      --disabled-bg-color: #DDD;\n",
              "  }\n",
              "\n",
              "  [theme=dark] .colab-df-quickchart {\n",
              "      --bg-color: #3B4455;\n",
              "      --fill-color: #D2E3FC;\n",
              "      --hover-bg-color: #434B5C;\n",
              "      --hover-fill-color: #FFFFFF;\n",
              "      --disabled-bg-color: #3B4455;\n",
              "      --disabled-fill-color: #666;\n",
              "  }\n",
              "\n",
              "  .colab-df-quickchart {\n",
              "    background-color: var(--bg-color);\n",
              "    border: none;\n",
              "    border-radius: 50%;\n",
              "    cursor: pointer;\n",
              "    display: none;\n",
              "    fill: var(--fill-color);\n",
              "    height: 32px;\n",
              "    padding: 0;\n",
              "    width: 32px;\n",
              "  }\n",
              "\n",
              "  .colab-df-quickchart:hover {\n",
              "    background-color: var(--hover-bg-color);\n",
              "    box-shadow: 0 1px 2px rgba(60, 64, 67, 0.3), 0 1px 3px 1px rgba(60, 64, 67, 0.15);\n",
              "    fill: var(--button-hover-fill-color);\n",
              "  }\n",
              "\n",
              "  .colab-df-quickchart-complete:disabled,\n",
              "  .colab-df-quickchart-complete:disabled:hover {\n",
              "    background-color: var(--disabled-bg-color);\n",
              "    fill: var(--disabled-fill-color);\n",
              "    box-shadow: none;\n",
              "  }\n",
              "\n",
              "  .colab-df-spinner {\n",
              "    border: 2px solid var(--fill-color);\n",
              "    border-color: transparent;\n",
              "    border-bottom-color: var(--fill-color);\n",
              "    animation:\n",
              "      spin 1s steps(1) infinite;\n",
              "  }\n",
              "\n",
              "  @keyframes spin {\n",
              "    0% {\n",
              "      border-color: transparent;\n",
              "      border-bottom-color: var(--fill-color);\n",
              "      border-left-color: var(--fill-color);\n",
              "    }\n",
              "    20% {\n",
              "      border-color: transparent;\n",
              "      border-left-color: var(--fill-color);\n",
              "      border-top-color: var(--fill-color);\n",
              "    }\n",
              "    30% {\n",
              "      border-color: transparent;\n",
              "      border-left-color: var(--fill-color);\n",
              "      border-top-color: var(--fill-color);\n",
              "      border-right-color: var(--fill-color);\n",
              "    }\n",
              "    40% {\n",
              "      border-color: transparent;\n",
              "      border-right-color: var(--fill-color);\n",
              "      border-top-color: var(--fill-color);\n",
              "    }\n",
              "    60% {\n",
              "      border-color: transparent;\n",
              "      border-right-color: var(--fill-color);\n",
              "    }\n",
              "    80% {\n",
              "      border-color: transparent;\n",
              "      border-right-color: var(--fill-color);\n",
              "      border-bottom-color: var(--fill-color);\n",
              "    }\n",
              "    90% {\n",
              "      border-color: transparent;\n",
              "      border-bottom-color: var(--fill-color);\n",
              "    }\n",
              "  }\n",
              "</style>\n",
              "\n",
              "  <script>\n",
              "    async function quickchart(key) {\n",
              "      const quickchartButtonEl =\n",
              "        document.querySelector('#' + key + ' button');\n",
              "      quickchartButtonEl.disabled = true;  // To prevent multiple clicks.\n",
              "      quickchartButtonEl.classList.add('colab-df-spinner');\n",
              "      try {\n",
              "        const charts = await google.colab.kernel.invokeFunction(\n",
              "            'suggestCharts', [key], {});\n",
              "      } catch (error) {\n",
              "        console.error('Error during call to suggestCharts:', error);\n",
              "      }\n",
              "      quickchartButtonEl.classList.remove('colab-df-spinner');\n",
              "      quickchartButtonEl.classList.add('colab-df-quickchart-complete');\n",
              "    }\n",
              "    (() => {\n",
              "      let quickchartButtonEl =\n",
              "        document.querySelector('#df-a85739fb-1037-4888-936c-a767be9ebc91 button');\n",
              "      quickchartButtonEl.style.display =\n",
              "        google.colab.kernel.accessAllowed ? 'block' : 'none';\n",
              "    })();\n",
              "  </script>\n",
              "</div>\n",
              "    </div>\n",
              "  </div>\n"
            ]
          },
          "metadata": {},
          "execution_count": 6
        }
      ],
      "source": [
        "ab_events.info()\n",
        "ab_events.head()"
      ]
    },
    {
      "cell_type": "markdown",
      "metadata": {
        "id": "b0PBVImaw68z"
      },
      "source": [
        "В колонке `details` присутствуют данные о сумме покупки, если она осуществлена, в остальных случаях данные отсутствуют."
      ]
    },
    {
      "cell_type": "code",
      "execution_count": 7,
      "metadata": {
        "id": "_DQ5MX4HDD44"
      },
      "outputs": [],
      "source": [
        "ab_events['event_dt'] = pd.to_datetime(ab_events['event_dt'])"
      ]
    },
    {
      "cell_type": "code",
      "execution_count": 8,
      "metadata": {
        "colab": {
          "base_uri": "https://localhost:8080/",
          "height": 397
        },
        "id": "c9EYVPkiwP3F",
        "outputId": "35ee1b75-187f-40da-d3e8-2b52dff44b23"
      },
      "outputs": [
        {
          "output_type": "stream",
          "name": "stdout",
          "text": [
            "<class 'pandas.core.frame.DataFrame'>\n",
            "RangeIndex: 61733 entries, 0 to 61732\n",
            "Data columns (total 4 columns):\n",
            " #   Column      Non-Null Count  Dtype \n",
            "---  ------      --------------  ----- \n",
            " 0   user_id     61733 non-null  object\n",
            " 1   first_date  61733 non-null  object\n",
            " 2   region      61733 non-null  object\n",
            " 3   device      61733 non-null  object\n",
            "dtypes: object(4)\n",
            "memory usage: 1.9+ MB\n"
          ]
        },
        {
          "output_type": "execute_result",
          "data": {
            "text/plain": [
              "            user_id  first_date     region   device\n",
              "0  D72A72121175D8BE  2020-12-07         EU       PC\n",
              "1  F1C668619DFE6E65  2020-12-07  N.America  Android\n",
              "2  2E1BF1D4C37EA01F  2020-12-07         EU       PC\n",
              "3  50734A22C0C63768  2020-12-07         EU   iPhone\n",
              "4  E1BDDCE0DAFA2679  2020-12-07  N.America   iPhone"
            ],
            "text/html": [
              "\n",
              "  <div id=\"df-b57051f9-3896-4a67-94b8-c5720a8b62ec\" class=\"colab-df-container\">\n",
              "    <div>\n",
              "<style scoped>\n",
              "    .dataframe tbody tr th:only-of-type {\n",
              "        vertical-align: middle;\n",
              "    }\n",
              "\n",
              "    .dataframe tbody tr th {\n",
              "        vertical-align: top;\n",
              "    }\n",
              "\n",
              "    .dataframe thead th {\n",
              "        text-align: right;\n",
              "    }\n",
              "</style>\n",
              "<table border=\"1\" class=\"dataframe\">\n",
              "  <thead>\n",
              "    <tr style=\"text-align: right;\">\n",
              "      <th></th>\n",
              "      <th>user_id</th>\n",
              "      <th>first_date</th>\n",
              "      <th>region</th>\n",
              "      <th>device</th>\n",
              "    </tr>\n",
              "  </thead>\n",
              "  <tbody>\n",
              "    <tr>\n",
              "      <th>0</th>\n",
              "      <td>D72A72121175D8BE</td>\n",
              "      <td>2020-12-07</td>\n",
              "      <td>EU</td>\n",
              "      <td>PC</td>\n",
              "    </tr>\n",
              "    <tr>\n",
              "      <th>1</th>\n",
              "      <td>F1C668619DFE6E65</td>\n",
              "      <td>2020-12-07</td>\n",
              "      <td>N.America</td>\n",
              "      <td>Android</td>\n",
              "    </tr>\n",
              "    <tr>\n",
              "      <th>2</th>\n",
              "      <td>2E1BF1D4C37EA01F</td>\n",
              "      <td>2020-12-07</td>\n",
              "      <td>EU</td>\n",
              "      <td>PC</td>\n",
              "    </tr>\n",
              "    <tr>\n",
              "      <th>3</th>\n",
              "      <td>50734A22C0C63768</td>\n",
              "      <td>2020-12-07</td>\n",
              "      <td>EU</td>\n",
              "      <td>iPhone</td>\n",
              "    </tr>\n",
              "    <tr>\n",
              "      <th>4</th>\n",
              "      <td>E1BDDCE0DAFA2679</td>\n",
              "      <td>2020-12-07</td>\n",
              "      <td>N.America</td>\n",
              "      <td>iPhone</td>\n",
              "    </tr>\n",
              "  </tbody>\n",
              "</table>\n",
              "</div>\n",
              "    <div class=\"colab-df-buttons\">\n",
              "\n",
              "  <div class=\"colab-df-container\">\n",
              "    <button class=\"colab-df-convert\" onclick=\"convertToInteractive('df-b57051f9-3896-4a67-94b8-c5720a8b62ec')\"\n",
              "            title=\"Convert this dataframe to an interactive table.\"\n",
              "            style=\"display:none;\">\n",
              "\n",
              "  <svg xmlns=\"http://www.w3.org/2000/svg\" height=\"24px\" viewBox=\"0 -960 960 960\">\n",
              "    <path d=\"M120-120v-720h720v720H120Zm60-500h600v-160H180v160Zm220 220h160v-160H400v160Zm0 220h160v-160H400v160ZM180-400h160v-160H180v160Zm440 0h160v-160H620v160ZM180-180h160v-160H180v160Zm440 0h160v-160H620v160Z\"/>\n",
              "  </svg>\n",
              "    </button>\n",
              "\n",
              "  <style>\n",
              "    .colab-df-container {\n",
              "      display:flex;\n",
              "      gap: 12px;\n",
              "    }\n",
              "\n",
              "    .colab-df-convert {\n",
              "      background-color: #E8F0FE;\n",
              "      border: none;\n",
              "      border-radius: 50%;\n",
              "      cursor: pointer;\n",
              "      display: none;\n",
              "      fill: #1967D2;\n",
              "      height: 32px;\n",
              "      padding: 0 0 0 0;\n",
              "      width: 32px;\n",
              "    }\n",
              "\n",
              "    .colab-df-convert:hover {\n",
              "      background-color: #E2EBFA;\n",
              "      box-shadow: 0px 1px 2px rgba(60, 64, 67, 0.3), 0px 1px 3px 1px rgba(60, 64, 67, 0.15);\n",
              "      fill: #174EA6;\n",
              "    }\n",
              "\n",
              "    .colab-df-buttons div {\n",
              "      margin-bottom: 4px;\n",
              "    }\n",
              "\n",
              "    [theme=dark] .colab-df-convert {\n",
              "      background-color: #3B4455;\n",
              "      fill: #D2E3FC;\n",
              "    }\n",
              "\n",
              "    [theme=dark] .colab-df-convert:hover {\n",
              "      background-color: #434B5C;\n",
              "      box-shadow: 0px 1px 3px 1px rgba(0, 0, 0, 0.15);\n",
              "      filter: drop-shadow(0px 1px 2px rgba(0, 0, 0, 0.3));\n",
              "      fill: #FFFFFF;\n",
              "    }\n",
              "  </style>\n",
              "\n",
              "    <script>\n",
              "      const buttonEl =\n",
              "        document.querySelector('#df-b57051f9-3896-4a67-94b8-c5720a8b62ec button.colab-df-convert');\n",
              "      buttonEl.style.display =\n",
              "        google.colab.kernel.accessAllowed ? 'block' : 'none';\n",
              "\n",
              "      async function convertToInteractive(key) {\n",
              "        const element = document.querySelector('#df-b57051f9-3896-4a67-94b8-c5720a8b62ec');\n",
              "        const dataTable =\n",
              "          await google.colab.kernel.invokeFunction('convertToInteractive',\n",
              "                                                    [key], {});\n",
              "        if (!dataTable) return;\n",
              "\n",
              "        const docLinkHtml = 'Like what you see? Visit the ' +\n",
              "          '<a target=\"_blank\" href=https://colab.research.google.com/notebooks/data_table.ipynb>data table notebook</a>'\n",
              "          + ' to learn more about interactive tables.';\n",
              "        element.innerHTML = '';\n",
              "        dataTable['output_type'] = 'display_data';\n",
              "        await google.colab.output.renderOutput(dataTable, element);\n",
              "        const docLink = document.createElement('div');\n",
              "        docLink.innerHTML = docLinkHtml;\n",
              "        element.appendChild(docLink);\n",
              "      }\n",
              "    </script>\n",
              "  </div>\n",
              "\n",
              "\n",
              "<div id=\"df-1da7028f-a4d9-48da-a329-7ed2c593f835\">\n",
              "  <button class=\"colab-df-quickchart\" onclick=\"quickchart('df-1da7028f-a4d9-48da-a329-7ed2c593f835')\"\n",
              "            title=\"Suggest charts.\"\n",
              "            style=\"display:none;\">\n",
              "\n",
              "<svg xmlns=\"http://www.w3.org/2000/svg\" height=\"24px\"viewBox=\"0 0 24 24\"\n",
              "     width=\"24px\">\n",
              "    <g>\n",
              "        <path d=\"M19 3H5c-1.1 0-2 .9-2 2v14c0 1.1.9 2 2 2h14c1.1 0 2-.9 2-2V5c0-1.1-.9-2-2-2zM9 17H7v-7h2v7zm4 0h-2V7h2v10zm4 0h-2v-4h2v4z\"/>\n",
              "    </g>\n",
              "</svg>\n",
              "  </button>\n",
              "\n",
              "<style>\n",
              "  .colab-df-quickchart {\n",
              "      --bg-color: #E8F0FE;\n",
              "      --fill-color: #1967D2;\n",
              "      --hover-bg-color: #E2EBFA;\n",
              "      --hover-fill-color: #174EA6;\n",
              "      --disabled-fill-color: #AAA;\n",
              "      --disabled-bg-color: #DDD;\n",
              "  }\n",
              "\n",
              "  [theme=dark] .colab-df-quickchart {\n",
              "      --bg-color: #3B4455;\n",
              "      --fill-color: #D2E3FC;\n",
              "      --hover-bg-color: #434B5C;\n",
              "      --hover-fill-color: #FFFFFF;\n",
              "      --disabled-bg-color: #3B4455;\n",
              "      --disabled-fill-color: #666;\n",
              "  }\n",
              "\n",
              "  .colab-df-quickchart {\n",
              "    background-color: var(--bg-color);\n",
              "    border: none;\n",
              "    border-radius: 50%;\n",
              "    cursor: pointer;\n",
              "    display: none;\n",
              "    fill: var(--fill-color);\n",
              "    height: 32px;\n",
              "    padding: 0;\n",
              "    width: 32px;\n",
              "  }\n",
              "\n",
              "  .colab-df-quickchart:hover {\n",
              "    background-color: var(--hover-bg-color);\n",
              "    box-shadow: 0 1px 2px rgba(60, 64, 67, 0.3), 0 1px 3px 1px rgba(60, 64, 67, 0.15);\n",
              "    fill: var(--button-hover-fill-color);\n",
              "  }\n",
              "\n",
              "  .colab-df-quickchart-complete:disabled,\n",
              "  .colab-df-quickchart-complete:disabled:hover {\n",
              "    background-color: var(--disabled-bg-color);\n",
              "    fill: var(--disabled-fill-color);\n",
              "    box-shadow: none;\n",
              "  }\n",
              "\n",
              "  .colab-df-spinner {\n",
              "    border: 2px solid var(--fill-color);\n",
              "    border-color: transparent;\n",
              "    border-bottom-color: var(--fill-color);\n",
              "    animation:\n",
              "      spin 1s steps(1) infinite;\n",
              "  }\n",
              "\n",
              "  @keyframes spin {\n",
              "    0% {\n",
              "      border-color: transparent;\n",
              "      border-bottom-color: var(--fill-color);\n",
              "      border-left-color: var(--fill-color);\n",
              "    }\n",
              "    20% {\n",
              "      border-color: transparent;\n",
              "      border-left-color: var(--fill-color);\n",
              "      border-top-color: var(--fill-color);\n",
              "    }\n",
              "    30% {\n",
              "      border-color: transparent;\n",
              "      border-left-color: var(--fill-color);\n",
              "      border-top-color: var(--fill-color);\n",
              "      border-right-color: var(--fill-color);\n",
              "    }\n",
              "    40% {\n",
              "      border-color: transparent;\n",
              "      border-right-color: var(--fill-color);\n",
              "      border-top-color: var(--fill-color);\n",
              "    }\n",
              "    60% {\n",
              "      border-color: transparent;\n",
              "      border-right-color: var(--fill-color);\n",
              "    }\n",
              "    80% {\n",
              "      border-color: transparent;\n",
              "      border-right-color: var(--fill-color);\n",
              "      border-bottom-color: var(--fill-color);\n",
              "    }\n",
              "    90% {\n",
              "      border-color: transparent;\n",
              "      border-bottom-color: var(--fill-color);\n",
              "    }\n",
              "  }\n",
              "</style>\n",
              "\n",
              "  <script>\n",
              "    async function quickchart(key) {\n",
              "      const quickchartButtonEl =\n",
              "        document.querySelector('#' + key + ' button');\n",
              "      quickchartButtonEl.disabled = true;  // To prevent multiple clicks.\n",
              "      quickchartButtonEl.classList.add('colab-df-spinner');\n",
              "      try {\n",
              "        const charts = await google.colab.kernel.invokeFunction(\n",
              "            'suggestCharts', [key], {});\n",
              "      } catch (error) {\n",
              "        console.error('Error during call to suggestCharts:', error);\n",
              "      }\n",
              "      quickchartButtonEl.classList.remove('colab-df-spinner');\n",
              "      quickchartButtonEl.classList.add('colab-df-quickchart-complete');\n",
              "    }\n",
              "    (() => {\n",
              "      let quickchartButtonEl =\n",
              "        document.querySelector('#df-1da7028f-a4d9-48da-a329-7ed2c593f835 button');\n",
              "      quickchartButtonEl.style.display =\n",
              "        google.colab.kernel.accessAllowed ? 'block' : 'none';\n",
              "    })();\n",
              "  </script>\n",
              "</div>\n",
              "    </div>\n",
              "  </div>\n"
            ]
          },
          "metadata": {},
          "execution_count": 8
        }
      ],
      "source": [
        "ab_new_users.info()\n",
        "ab_new_users.head()"
      ]
    },
    {
      "cell_type": "code",
      "execution_count": 9,
      "metadata": {
        "id": "zWa6utMLxYNf"
      },
      "outputs": [],
      "source": [
        "ab_new_users['first_date'] = pd.to_datetime(ab_new_users['first_date'])"
      ]
    },
    {
      "cell_type": "code",
      "execution_count": 10,
      "metadata": {
        "colab": {
          "base_uri": "https://localhost:8080/",
          "height": 380
        },
        "id": "wDQu33pT0VGi",
        "outputId": "e7f7c539-b50d-409c-f646-86f6894fb054"
      },
      "outputs": [
        {
          "output_type": "stream",
          "name": "stdout",
          "text": [
            "<class 'pandas.core.frame.DataFrame'>\n",
            "RangeIndex: 18268 entries, 0 to 18267\n",
            "Data columns (total 3 columns):\n",
            " #   Column   Non-Null Count  Dtype \n",
            "---  ------   --------------  ----- \n",
            " 0   user_id  18268 non-null  object\n",
            " 1   group    18268 non-null  object\n",
            " 2   ab_test  18268 non-null  object\n",
            "dtypes: object(3)\n",
            "memory usage: 428.3+ KB\n"
          ]
        },
        {
          "output_type": "execute_result",
          "data": {
            "text/plain": [
              "            user_id group                  ab_test\n",
              "0  D1ABA3E2887B6A73     A  recommender_system_test\n",
              "1  A7A3664BD6242119     A  recommender_system_test\n",
              "2  DABC14FDDFADD29E     A  recommender_system_test\n",
              "3  04988C5DF189632E     A  recommender_system_test\n",
              "4  482F14783456D21B     B  recommender_system_test"
            ],
            "text/html": [
              "\n",
              "  <div id=\"df-2fb3191c-11f5-440d-a2e5-80adf6593128\" class=\"colab-df-container\">\n",
              "    <div>\n",
              "<style scoped>\n",
              "    .dataframe tbody tr th:only-of-type {\n",
              "        vertical-align: middle;\n",
              "    }\n",
              "\n",
              "    .dataframe tbody tr th {\n",
              "        vertical-align: top;\n",
              "    }\n",
              "\n",
              "    .dataframe thead th {\n",
              "        text-align: right;\n",
              "    }\n",
              "</style>\n",
              "<table border=\"1\" class=\"dataframe\">\n",
              "  <thead>\n",
              "    <tr style=\"text-align: right;\">\n",
              "      <th></th>\n",
              "      <th>user_id</th>\n",
              "      <th>group</th>\n",
              "      <th>ab_test</th>\n",
              "    </tr>\n",
              "  </thead>\n",
              "  <tbody>\n",
              "    <tr>\n",
              "      <th>0</th>\n",
              "      <td>D1ABA3E2887B6A73</td>\n",
              "      <td>A</td>\n",
              "      <td>recommender_system_test</td>\n",
              "    </tr>\n",
              "    <tr>\n",
              "      <th>1</th>\n",
              "      <td>A7A3664BD6242119</td>\n",
              "      <td>A</td>\n",
              "      <td>recommender_system_test</td>\n",
              "    </tr>\n",
              "    <tr>\n",
              "      <th>2</th>\n",
              "      <td>DABC14FDDFADD29E</td>\n",
              "      <td>A</td>\n",
              "      <td>recommender_system_test</td>\n",
              "    </tr>\n",
              "    <tr>\n",
              "      <th>3</th>\n",
              "      <td>04988C5DF189632E</td>\n",
              "      <td>A</td>\n",
              "      <td>recommender_system_test</td>\n",
              "    </tr>\n",
              "    <tr>\n",
              "      <th>4</th>\n",
              "      <td>482F14783456D21B</td>\n",
              "      <td>B</td>\n",
              "      <td>recommender_system_test</td>\n",
              "    </tr>\n",
              "  </tbody>\n",
              "</table>\n",
              "</div>\n",
              "    <div class=\"colab-df-buttons\">\n",
              "\n",
              "  <div class=\"colab-df-container\">\n",
              "    <button class=\"colab-df-convert\" onclick=\"convertToInteractive('df-2fb3191c-11f5-440d-a2e5-80adf6593128')\"\n",
              "            title=\"Convert this dataframe to an interactive table.\"\n",
              "            style=\"display:none;\">\n",
              "\n",
              "  <svg xmlns=\"http://www.w3.org/2000/svg\" height=\"24px\" viewBox=\"0 -960 960 960\">\n",
              "    <path d=\"M120-120v-720h720v720H120Zm60-500h600v-160H180v160Zm220 220h160v-160H400v160Zm0 220h160v-160H400v160ZM180-400h160v-160H180v160Zm440 0h160v-160H620v160ZM180-180h160v-160H180v160Zm440 0h160v-160H620v160Z\"/>\n",
              "  </svg>\n",
              "    </button>\n",
              "\n",
              "  <style>\n",
              "    .colab-df-container {\n",
              "      display:flex;\n",
              "      gap: 12px;\n",
              "    }\n",
              "\n",
              "    .colab-df-convert {\n",
              "      background-color: #E8F0FE;\n",
              "      border: none;\n",
              "      border-radius: 50%;\n",
              "      cursor: pointer;\n",
              "      display: none;\n",
              "      fill: #1967D2;\n",
              "      height: 32px;\n",
              "      padding: 0 0 0 0;\n",
              "      width: 32px;\n",
              "    }\n",
              "\n",
              "    .colab-df-convert:hover {\n",
              "      background-color: #E2EBFA;\n",
              "      box-shadow: 0px 1px 2px rgba(60, 64, 67, 0.3), 0px 1px 3px 1px rgba(60, 64, 67, 0.15);\n",
              "      fill: #174EA6;\n",
              "    }\n",
              "\n",
              "    .colab-df-buttons div {\n",
              "      margin-bottom: 4px;\n",
              "    }\n",
              "\n",
              "    [theme=dark] .colab-df-convert {\n",
              "      background-color: #3B4455;\n",
              "      fill: #D2E3FC;\n",
              "    }\n",
              "\n",
              "    [theme=dark] .colab-df-convert:hover {\n",
              "      background-color: #434B5C;\n",
              "      box-shadow: 0px 1px 3px 1px rgba(0, 0, 0, 0.15);\n",
              "      filter: drop-shadow(0px 1px 2px rgba(0, 0, 0, 0.3));\n",
              "      fill: #FFFFFF;\n",
              "    }\n",
              "  </style>\n",
              "\n",
              "    <script>\n",
              "      const buttonEl =\n",
              "        document.querySelector('#df-2fb3191c-11f5-440d-a2e5-80adf6593128 button.colab-df-convert');\n",
              "      buttonEl.style.display =\n",
              "        google.colab.kernel.accessAllowed ? 'block' : 'none';\n",
              "\n",
              "      async function convertToInteractive(key) {\n",
              "        const element = document.querySelector('#df-2fb3191c-11f5-440d-a2e5-80adf6593128');\n",
              "        const dataTable =\n",
              "          await google.colab.kernel.invokeFunction('convertToInteractive',\n",
              "                                                    [key], {});\n",
              "        if (!dataTable) return;\n",
              "\n",
              "        const docLinkHtml = 'Like what you see? Visit the ' +\n",
              "          '<a target=\"_blank\" href=https://colab.research.google.com/notebooks/data_table.ipynb>data table notebook</a>'\n",
              "          + ' to learn more about interactive tables.';\n",
              "        element.innerHTML = '';\n",
              "        dataTable['output_type'] = 'display_data';\n",
              "        await google.colab.output.renderOutput(dataTable, element);\n",
              "        const docLink = document.createElement('div');\n",
              "        docLink.innerHTML = docLinkHtml;\n",
              "        element.appendChild(docLink);\n",
              "      }\n",
              "    </script>\n",
              "  </div>\n",
              "\n",
              "\n",
              "<div id=\"df-2019d882-c042-468e-9fe6-cc7c16aa71be\">\n",
              "  <button class=\"colab-df-quickchart\" onclick=\"quickchart('df-2019d882-c042-468e-9fe6-cc7c16aa71be')\"\n",
              "            title=\"Suggest charts.\"\n",
              "            style=\"display:none;\">\n",
              "\n",
              "<svg xmlns=\"http://www.w3.org/2000/svg\" height=\"24px\"viewBox=\"0 0 24 24\"\n",
              "     width=\"24px\">\n",
              "    <g>\n",
              "        <path d=\"M19 3H5c-1.1 0-2 .9-2 2v14c0 1.1.9 2 2 2h14c1.1 0 2-.9 2-2V5c0-1.1-.9-2-2-2zM9 17H7v-7h2v7zm4 0h-2V7h2v10zm4 0h-2v-4h2v4z\"/>\n",
              "    </g>\n",
              "</svg>\n",
              "  </button>\n",
              "\n",
              "<style>\n",
              "  .colab-df-quickchart {\n",
              "      --bg-color: #E8F0FE;\n",
              "      --fill-color: #1967D2;\n",
              "      --hover-bg-color: #E2EBFA;\n",
              "      --hover-fill-color: #174EA6;\n",
              "      --disabled-fill-color: #AAA;\n",
              "      --disabled-bg-color: #DDD;\n",
              "  }\n",
              "\n",
              "  [theme=dark] .colab-df-quickchart {\n",
              "      --bg-color: #3B4455;\n",
              "      --fill-color: #D2E3FC;\n",
              "      --hover-bg-color: #434B5C;\n",
              "      --hover-fill-color: #FFFFFF;\n",
              "      --disabled-bg-color: #3B4455;\n",
              "      --disabled-fill-color: #666;\n",
              "  }\n",
              "\n",
              "  .colab-df-quickchart {\n",
              "    background-color: var(--bg-color);\n",
              "    border: none;\n",
              "    border-radius: 50%;\n",
              "    cursor: pointer;\n",
              "    display: none;\n",
              "    fill: var(--fill-color);\n",
              "    height: 32px;\n",
              "    padding: 0;\n",
              "    width: 32px;\n",
              "  }\n",
              "\n",
              "  .colab-df-quickchart:hover {\n",
              "    background-color: var(--hover-bg-color);\n",
              "    box-shadow: 0 1px 2px rgba(60, 64, 67, 0.3), 0 1px 3px 1px rgba(60, 64, 67, 0.15);\n",
              "    fill: var(--button-hover-fill-color);\n",
              "  }\n",
              "\n",
              "  .colab-df-quickchart-complete:disabled,\n",
              "  .colab-df-quickchart-complete:disabled:hover {\n",
              "    background-color: var(--disabled-bg-color);\n",
              "    fill: var(--disabled-fill-color);\n",
              "    box-shadow: none;\n",
              "  }\n",
              "\n",
              "  .colab-df-spinner {\n",
              "    border: 2px solid var(--fill-color);\n",
              "    border-color: transparent;\n",
              "    border-bottom-color: var(--fill-color);\n",
              "    animation:\n",
              "      spin 1s steps(1) infinite;\n",
              "  }\n",
              "\n",
              "  @keyframes spin {\n",
              "    0% {\n",
              "      border-color: transparent;\n",
              "      border-bottom-color: var(--fill-color);\n",
              "      border-left-color: var(--fill-color);\n",
              "    }\n",
              "    20% {\n",
              "      border-color: transparent;\n",
              "      border-left-color: var(--fill-color);\n",
              "      border-top-color: var(--fill-color);\n",
              "    }\n",
              "    30% {\n",
              "      border-color: transparent;\n",
              "      border-left-color: var(--fill-color);\n",
              "      border-top-color: var(--fill-color);\n",
              "      border-right-color: var(--fill-color);\n",
              "    }\n",
              "    40% {\n",
              "      border-color: transparent;\n",
              "      border-right-color: var(--fill-color);\n",
              "      border-top-color: var(--fill-color);\n",
              "    }\n",
              "    60% {\n",
              "      border-color: transparent;\n",
              "      border-right-color: var(--fill-color);\n",
              "    }\n",
              "    80% {\n",
              "      border-color: transparent;\n",
              "      border-right-color: var(--fill-color);\n",
              "      border-bottom-color: var(--fill-color);\n",
              "    }\n",
              "    90% {\n",
              "      border-color: transparent;\n",
              "      border-bottom-color: var(--fill-color);\n",
              "    }\n",
              "  }\n",
              "</style>\n",
              "\n",
              "  <script>\n",
              "    async function quickchart(key) {\n",
              "      const quickchartButtonEl =\n",
              "        document.querySelector('#' + key + ' button');\n",
              "      quickchartButtonEl.disabled = true;  // To prevent multiple clicks.\n",
              "      quickchartButtonEl.classList.add('colab-df-spinner');\n",
              "      try {\n",
              "        const charts = await google.colab.kernel.invokeFunction(\n",
              "            'suggestCharts', [key], {});\n",
              "      } catch (error) {\n",
              "        console.error('Error during call to suggestCharts:', error);\n",
              "      }\n",
              "      quickchartButtonEl.classList.remove('colab-df-spinner');\n",
              "      quickchartButtonEl.classList.add('colab-df-quickchart-complete');\n",
              "    }\n",
              "    (() => {\n",
              "      let quickchartButtonEl =\n",
              "        document.querySelector('#df-2019d882-c042-468e-9fe6-cc7c16aa71be button');\n",
              "      quickchartButtonEl.style.display =\n",
              "        google.colab.kernel.accessAllowed ? 'block' : 'none';\n",
              "    })();\n",
              "  </script>\n",
              "</div>\n",
              "    </div>\n",
              "  </div>\n"
            ]
          },
          "metadata": {},
          "execution_count": 10
        }
      ],
      "source": [
        "ab_participants.info()\n",
        "ab_participants.head()"
      ]
    },
    {
      "cell_type": "markdown",
      "metadata": {
        "id": "RFBkK0a1iYkt"
      },
      "source": [
        "### Проверим таблицы на наличие дубликатов"
      ]
    },
    {
      "cell_type": "code",
      "execution_count": 11,
      "metadata": {
        "colab": {
          "base_uri": "https://localhost:8080/",
          "height": 53
        },
        "id": "3DRM0tVHifyt",
        "outputId": "3025439b-a2da-472b-972b-0ce9aab89ee5"
      },
      "outputs": [
        {
          "output_type": "execute_result",
          "data": {
            "text/plain": [
              "Empty DataFrame\n",
              "Columns: [name, regions, start_dt, finish_dt]\n",
              "Index: []"
            ],
            "text/html": [
              "\n",
              "  <div id=\"df-3a2fe3f9-4f7e-4fea-823c-d5267eab46f3\" class=\"colab-df-container\">\n",
              "    <div>\n",
              "<style scoped>\n",
              "    .dataframe tbody tr th:only-of-type {\n",
              "        vertical-align: middle;\n",
              "    }\n",
              "\n",
              "    .dataframe tbody tr th {\n",
              "        vertical-align: top;\n",
              "    }\n",
              "\n",
              "    .dataframe thead th {\n",
              "        text-align: right;\n",
              "    }\n",
              "</style>\n",
              "<table border=\"1\" class=\"dataframe\">\n",
              "  <thead>\n",
              "    <tr style=\"text-align: right;\">\n",
              "      <th></th>\n",
              "      <th>name</th>\n",
              "      <th>regions</th>\n",
              "      <th>start_dt</th>\n",
              "      <th>finish_dt</th>\n",
              "    </tr>\n",
              "  </thead>\n",
              "  <tbody>\n",
              "  </tbody>\n",
              "</table>\n",
              "</div>\n",
              "    <div class=\"colab-df-buttons\">\n",
              "\n",
              "  <div class=\"colab-df-container\">\n",
              "    <button class=\"colab-df-convert\" onclick=\"convertToInteractive('df-3a2fe3f9-4f7e-4fea-823c-d5267eab46f3')\"\n",
              "            title=\"Convert this dataframe to an interactive table.\"\n",
              "            style=\"display:none;\">\n",
              "\n",
              "  <svg xmlns=\"http://www.w3.org/2000/svg\" height=\"24px\" viewBox=\"0 -960 960 960\">\n",
              "    <path d=\"M120-120v-720h720v720H120Zm60-500h600v-160H180v160Zm220 220h160v-160H400v160Zm0 220h160v-160H400v160ZM180-400h160v-160H180v160Zm440 0h160v-160H620v160ZM180-180h160v-160H180v160Zm440 0h160v-160H620v160Z\"/>\n",
              "  </svg>\n",
              "    </button>\n",
              "\n",
              "  <style>\n",
              "    .colab-df-container {\n",
              "      display:flex;\n",
              "      gap: 12px;\n",
              "    }\n",
              "\n",
              "    .colab-df-convert {\n",
              "      background-color: #E8F0FE;\n",
              "      border: none;\n",
              "      border-radius: 50%;\n",
              "      cursor: pointer;\n",
              "      display: none;\n",
              "      fill: #1967D2;\n",
              "      height: 32px;\n",
              "      padding: 0 0 0 0;\n",
              "      width: 32px;\n",
              "    }\n",
              "\n",
              "    .colab-df-convert:hover {\n",
              "      background-color: #E2EBFA;\n",
              "      box-shadow: 0px 1px 2px rgba(60, 64, 67, 0.3), 0px 1px 3px 1px rgba(60, 64, 67, 0.15);\n",
              "      fill: #174EA6;\n",
              "    }\n",
              "\n",
              "    .colab-df-buttons div {\n",
              "      margin-bottom: 4px;\n",
              "    }\n",
              "\n",
              "    [theme=dark] .colab-df-convert {\n",
              "      background-color: #3B4455;\n",
              "      fill: #D2E3FC;\n",
              "    }\n",
              "\n",
              "    [theme=dark] .colab-df-convert:hover {\n",
              "      background-color: #434B5C;\n",
              "      box-shadow: 0px 1px 3px 1px rgba(0, 0, 0, 0.15);\n",
              "      filter: drop-shadow(0px 1px 2px rgba(0, 0, 0, 0.3));\n",
              "      fill: #FFFFFF;\n",
              "    }\n",
              "  </style>\n",
              "\n",
              "    <script>\n",
              "      const buttonEl =\n",
              "        document.querySelector('#df-3a2fe3f9-4f7e-4fea-823c-d5267eab46f3 button.colab-df-convert');\n",
              "      buttonEl.style.display =\n",
              "        google.colab.kernel.accessAllowed ? 'block' : 'none';\n",
              "\n",
              "      async function convertToInteractive(key) {\n",
              "        const element = document.querySelector('#df-3a2fe3f9-4f7e-4fea-823c-d5267eab46f3');\n",
              "        const dataTable =\n",
              "          await google.colab.kernel.invokeFunction('convertToInteractive',\n",
              "                                                    [key], {});\n",
              "        if (!dataTable) return;\n",
              "\n",
              "        const docLinkHtml = 'Like what you see? Visit the ' +\n",
              "          '<a target=\"_blank\" href=https://colab.research.google.com/notebooks/data_table.ipynb>data table notebook</a>'\n",
              "          + ' to learn more about interactive tables.';\n",
              "        element.innerHTML = '';\n",
              "        dataTable['output_type'] = 'display_data';\n",
              "        await google.colab.output.renderOutput(dataTable, element);\n",
              "        const docLink = document.createElement('div');\n",
              "        docLink.innerHTML = docLinkHtml;\n",
              "        element.appendChild(docLink);\n",
              "      }\n",
              "    </script>\n",
              "  </div>\n",
              "\n",
              "    </div>\n",
              "  </div>\n"
            ]
          },
          "metadata": {},
          "execution_count": 11
        }
      ],
      "source": [
        "marketing_events[marketing_events.duplicated()]"
      ]
    },
    {
      "cell_type": "code",
      "execution_count": 12,
      "metadata": {
        "colab": {
          "base_uri": "https://localhost:8080/",
          "height": 53
        },
        "id": "khnKdiT-ivS_",
        "outputId": "5ac77408-01d8-4196-d5cc-e12ce7c76fd9"
      },
      "outputs": [
        {
          "output_type": "execute_result",
          "data": {
            "text/plain": [
              "Empty DataFrame\n",
              "Columns: [user_id, event_dt, event_name, details]\n",
              "Index: []"
            ],
            "text/html": [
              "\n",
              "  <div id=\"df-3b33eed7-1d97-4e4b-9bd0-60958aa3a5ca\" class=\"colab-df-container\">\n",
              "    <div>\n",
              "<style scoped>\n",
              "    .dataframe tbody tr th:only-of-type {\n",
              "        vertical-align: middle;\n",
              "    }\n",
              "\n",
              "    .dataframe tbody tr th {\n",
              "        vertical-align: top;\n",
              "    }\n",
              "\n",
              "    .dataframe thead th {\n",
              "        text-align: right;\n",
              "    }\n",
              "</style>\n",
              "<table border=\"1\" class=\"dataframe\">\n",
              "  <thead>\n",
              "    <tr style=\"text-align: right;\">\n",
              "      <th></th>\n",
              "      <th>user_id</th>\n",
              "      <th>event_dt</th>\n",
              "      <th>event_name</th>\n",
              "      <th>details</th>\n",
              "    </tr>\n",
              "  </thead>\n",
              "  <tbody>\n",
              "  </tbody>\n",
              "</table>\n",
              "</div>\n",
              "    <div class=\"colab-df-buttons\">\n",
              "\n",
              "  <div class=\"colab-df-container\">\n",
              "    <button class=\"colab-df-convert\" onclick=\"convertToInteractive('df-3b33eed7-1d97-4e4b-9bd0-60958aa3a5ca')\"\n",
              "            title=\"Convert this dataframe to an interactive table.\"\n",
              "            style=\"display:none;\">\n",
              "\n",
              "  <svg xmlns=\"http://www.w3.org/2000/svg\" height=\"24px\" viewBox=\"0 -960 960 960\">\n",
              "    <path d=\"M120-120v-720h720v720H120Zm60-500h600v-160H180v160Zm220 220h160v-160H400v160Zm0 220h160v-160H400v160ZM180-400h160v-160H180v160Zm440 0h160v-160H620v160ZM180-180h160v-160H180v160Zm440 0h160v-160H620v160Z\"/>\n",
              "  </svg>\n",
              "    </button>\n",
              "\n",
              "  <style>\n",
              "    .colab-df-container {\n",
              "      display:flex;\n",
              "      gap: 12px;\n",
              "    }\n",
              "\n",
              "    .colab-df-convert {\n",
              "      background-color: #E8F0FE;\n",
              "      border: none;\n",
              "      border-radius: 50%;\n",
              "      cursor: pointer;\n",
              "      display: none;\n",
              "      fill: #1967D2;\n",
              "      height: 32px;\n",
              "      padding: 0 0 0 0;\n",
              "      width: 32px;\n",
              "    }\n",
              "\n",
              "    .colab-df-convert:hover {\n",
              "      background-color: #E2EBFA;\n",
              "      box-shadow: 0px 1px 2px rgba(60, 64, 67, 0.3), 0px 1px 3px 1px rgba(60, 64, 67, 0.15);\n",
              "      fill: #174EA6;\n",
              "    }\n",
              "\n",
              "    .colab-df-buttons div {\n",
              "      margin-bottom: 4px;\n",
              "    }\n",
              "\n",
              "    [theme=dark] .colab-df-convert {\n",
              "      background-color: #3B4455;\n",
              "      fill: #D2E3FC;\n",
              "    }\n",
              "\n",
              "    [theme=dark] .colab-df-convert:hover {\n",
              "      background-color: #434B5C;\n",
              "      box-shadow: 0px 1px 3px 1px rgba(0, 0, 0, 0.15);\n",
              "      filter: drop-shadow(0px 1px 2px rgba(0, 0, 0, 0.3));\n",
              "      fill: #FFFFFF;\n",
              "    }\n",
              "  </style>\n",
              "\n",
              "    <script>\n",
              "      const buttonEl =\n",
              "        document.querySelector('#df-3b33eed7-1d97-4e4b-9bd0-60958aa3a5ca button.colab-df-convert');\n",
              "      buttonEl.style.display =\n",
              "        google.colab.kernel.accessAllowed ? 'block' : 'none';\n",
              "\n",
              "      async function convertToInteractive(key) {\n",
              "        const element = document.querySelector('#df-3b33eed7-1d97-4e4b-9bd0-60958aa3a5ca');\n",
              "        const dataTable =\n",
              "          await google.colab.kernel.invokeFunction('convertToInteractive',\n",
              "                                                    [key], {});\n",
              "        if (!dataTable) return;\n",
              "\n",
              "        const docLinkHtml = 'Like what you see? Visit the ' +\n",
              "          '<a target=\"_blank\" href=https://colab.research.google.com/notebooks/data_table.ipynb>data table notebook</a>'\n",
              "          + ' to learn more about interactive tables.';\n",
              "        element.innerHTML = '';\n",
              "        dataTable['output_type'] = 'display_data';\n",
              "        await google.colab.output.renderOutput(dataTable, element);\n",
              "        const docLink = document.createElement('div');\n",
              "        docLink.innerHTML = docLinkHtml;\n",
              "        element.appendChild(docLink);\n",
              "      }\n",
              "    </script>\n",
              "  </div>\n",
              "\n",
              "    </div>\n",
              "  </div>\n"
            ]
          },
          "metadata": {},
          "execution_count": 12
        }
      ],
      "source": [
        "ab_events[ab_events.duplicated()]"
      ]
    },
    {
      "cell_type": "code",
      "execution_count": 13,
      "metadata": {
        "colab": {
          "base_uri": "https://localhost:8080/",
          "height": 53
        },
        "id": "aSL6bJkKiwW0",
        "outputId": "0e4e3125-e6e5-4430-9b0d-efbb31ca98a3"
      },
      "outputs": [
        {
          "output_type": "execute_result",
          "data": {
            "text/plain": [
              "Empty DataFrame\n",
              "Columns: [user_id, first_date, region, device]\n",
              "Index: []"
            ],
            "text/html": [
              "\n",
              "  <div id=\"df-231997c2-a89e-413a-87b5-fa3f7ad8d3b9\" class=\"colab-df-container\">\n",
              "    <div>\n",
              "<style scoped>\n",
              "    .dataframe tbody tr th:only-of-type {\n",
              "        vertical-align: middle;\n",
              "    }\n",
              "\n",
              "    .dataframe tbody tr th {\n",
              "        vertical-align: top;\n",
              "    }\n",
              "\n",
              "    .dataframe thead th {\n",
              "        text-align: right;\n",
              "    }\n",
              "</style>\n",
              "<table border=\"1\" class=\"dataframe\">\n",
              "  <thead>\n",
              "    <tr style=\"text-align: right;\">\n",
              "      <th></th>\n",
              "      <th>user_id</th>\n",
              "      <th>first_date</th>\n",
              "      <th>region</th>\n",
              "      <th>device</th>\n",
              "    </tr>\n",
              "  </thead>\n",
              "  <tbody>\n",
              "  </tbody>\n",
              "</table>\n",
              "</div>\n",
              "    <div class=\"colab-df-buttons\">\n",
              "\n",
              "  <div class=\"colab-df-container\">\n",
              "    <button class=\"colab-df-convert\" onclick=\"convertToInteractive('df-231997c2-a89e-413a-87b5-fa3f7ad8d3b9')\"\n",
              "            title=\"Convert this dataframe to an interactive table.\"\n",
              "            style=\"display:none;\">\n",
              "\n",
              "  <svg xmlns=\"http://www.w3.org/2000/svg\" height=\"24px\" viewBox=\"0 -960 960 960\">\n",
              "    <path d=\"M120-120v-720h720v720H120Zm60-500h600v-160H180v160Zm220 220h160v-160H400v160Zm0 220h160v-160H400v160ZM180-400h160v-160H180v160Zm440 0h160v-160H620v160ZM180-180h160v-160H180v160Zm440 0h160v-160H620v160Z\"/>\n",
              "  </svg>\n",
              "    </button>\n",
              "\n",
              "  <style>\n",
              "    .colab-df-container {\n",
              "      display:flex;\n",
              "      gap: 12px;\n",
              "    }\n",
              "\n",
              "    .colab-df-convert {\n",
              "      background-color: #E8F0FE;\n",
              "      border: none;\n",
              "      border-radius: 50%;\n",
              "      cursor: pointer;\n",
              "      display: none;\n",
              "      fill: #1967D2;\n",
              "      height: 32px;\n",
              "      padding: 0 0 0 0;\n",
              "      width: 32px;\n",
              "    }\n",
              "\n",
              "    .colab-df-convert:hover {\n",
              "      background-color: #E2EBFA;\n",
              "      box-shadow: 0px 1px 2px rgba(60, 64, 67, 0.3), 0px 1px 3px 1px rgba(60, 64, 67, 0.15);\n",
              "      fill: #174EA6;\n",
              "    }\n",
              "\n",
              "    .colab-df-buttons div {\n",
              "      margin-bottom: 4px;\n",
              "    }\n",
              "\n",
              "    [theme=dark] .colab-df-convert {\n",
              "      background-color: #3B4455;\n",
              "      fill: #D2E3FC;\n",
              "    }\n",
              "\n",
              "    [theme=dark] .colab-df-convert:hover {\n",
              "      background-color: #434B5C;\n",
              "      box-shadow: 0px 1px 3px 1px rgba(0, 0, 0, 0.15);\n",
              "      filter: drop-shadow(0px 1px 2px rgba(0, 0, 0, 0.3));\n",
              "      fill: #FFFFFF;\n",
              "    }\n",
              "  </style>\n",
              "\n",
              "    <script>\n",
              "      const buttonEl =\n",
              "        document.querySelector('#df-231997c2-a89e-413a-87b5-fa3f7ad8d3b9 button.colab-df-convert');\n",
              "      buttonEl.style.display =\n",
              "        google.colab.kernel.accessAllowed ? 'block' : 'none';\n",
              "\n",
              "      async function convertToInteractive(key) {\n",
              "        const element = document.querySelector('#df-231997c2-a89e-413a-87b5-fa3f7ad8d3b9');\n",
              "        const dataTable =\n",
              "          await google.colab.kernel.invokeFunction('convertToInteractive',\n",
              "                                                    [key], {});\n",
              "        if (!dataTable) return;\n",
              "\n",
              "        const docLinkHtml = 'Like what you see? Visit the ' +\n",
              "          '<a target=\"_blank\" href=https://colab.research.google.com/notebooks/data_table.ipynb>data table notebook</a>'\n",
              "          + ' to learn more about interactive tables.';\n",
              "        element.innerHTML = '';\n",
              "        dataTable['output_type'] = 'display_data';\n",
              "        await google.colab.output.renderOutput(dataTable, element);\n",
              "        const docLink = document.createElement('div');\n",
              "        docLink.innerHTML = docLinkHtml;\n",
              "        element.appendChild(docLink);\n",
              "      }\n",
              "    </script>\n",
              "  </div>\n",
              "\n",
              "    </div>\n",
              "  </div>\n"
            ]
          },
          "metadata": {},
          "execution_count": 13
        }
      ],
      "source": [
        "ab_new_users[ab_new_users.duplicated()]"
      ]
    },
    {
      "cell_type": "code",
      "execution_count": 14,
      "metadata": {
        "colab": {
          "base_uri": "https://localhost:8080/",
          "height": 53
        },
        "id": "6zMLWhstixEm",
        "outputId": "e50a5f69-1fbd-4ee1-c922-958addf5ede0"
      },
      "outputs": [
        {
          "output_type": "execute_result",
          "data": {
            "text/plain": [
              "Empty DataFrame\n",
              "Columns: [user_id, group, ab_test]\n",
              "Index: []"
            ],
            "text/html": [
              "\n",
              "  <div id=\"df-22d47466-bd64-4b3f-aa27-a37e7e890b5b\" class=\"colab-df-container\">\n",
              "    <div>\n",
              "<style scoped>\n",
              "    .dataframe tbody tr th:only-of-type {\n",
              "        vertical-align: middle;\n",
              "    }\n",
              "\n",
              "    .dataframe tbody tr th {\n",
              "        vertical-align: top;\n",
              "    }\n",
              "\n",
              "    .dataframe thead th {\n",
              "        text-align: right;\n",
              "    }\n",
              "</style>\n",
              "<table border=\"1\" class=\"dataframe\">\n",
              "  <thead>\n",
              "    <tr style=\"text-align: right;\">\n",
              "      <th></th>\n",
              "      <th>user_id</th>\n",
              "      <th>group</th>\n",
              "      <th>ab_test</th>\n",
              "    </tr>\n",
              "  </thead>\n",
              "  <tbody>\n",
              "  </tbody>\n",
              "</table>\n",
              "</div>\n",
              "    <div class=\"colab-df-buttons\">\n",
              "\n",
              "  <div class=\"colab-df-container\">\n",
              "    <button class=\"colab-df-convert\" onclick=\"convertToInteractive('df-22d47466-bd64-4b3f-aa27-a37e7e890b5b')\"\n",
              "            title=\"Convert this dataframe to an interactive table.\"\n",
              "            style=\"display:none;\">\n",
              "\n",
              "  <svg xmlns=\"http://www.w3.org/2000/svg\" height=\"24px\" viewBox=\"0 -960 960 960\">\n",
              "    <path d=\"M120-120v-720h720v720H120Zm60-500h600v-160H180v160Zm220 220h160v-160H400v160Zm0 220h160v-160H400v160ZM180-400h160v-160H180v160Zm440 0h160v-160H620v160ZM180-180h160v-160H180v160Zm440 0h160v-160H620v160Z\"/>\n",
              "  </svg>\n",
              "    </button>\n",
              "\n",
              "  <style>\n",
              "    .colab-df-container {\n",
              "      display:flex;\n",
              "      gap: 12px;\n",
              "    }\n",
              "\n",
              "    .colab-df-convert {\n",
              "      background-color: #E8F0FE;\n",
              "      border: none;\n",
              "      border-radius: 50%;\n",
              "      cursor: pointer;\n",
              "      display: none;\n",
              "      fill: #1967D2;\n",
              "      height: 32px;\n",
              "      padding: 0 0 0 0;\n",
              "      width: 32px;\n",
              "    }\n",
              "\n",
              "    .colab-df-convert:hover {\n",
              "      background-color: #E2EBFA;\n",
              "      box-shadow: 0px 1px 2px rgba(60, 64, 67, 0.3), 0px 1px 3px 1px rgba(60, 64, 67, 0.15);\n",
              "      fill: #174EA6;\n",
              "    }\n",
              "\n",
              "    .colab-df-buttons div {\n",
              "      margin-bottom: 4px;\n",
              "    }\n",
              "\n",
              "    [theme=dark] .colab-df-convert {\n",
              "      background-color: #3B4455;\n",
              "      fill: #D2E3FC;\n",
              "    }\n",
              "\n",
              "    [theme=dark] .colab-df-convert:hover {\n",
              "      background-color: #434B5C;\n",
              "      box-shadow: 0px 1px 3px 1px rgba(0, 0, 0, 0.15);\n",
              "      filter: drop-shadow(0px 1px 2px rgba(0, 0, 0, 0.3));\n",
              "      fill: #FFFFFF;\n",
              "    }\n",
              "  </style>\n",
              "\n",
              "    <script>\n",
              "      const buttonEl =\n",
              "        document.querySelector('#df-22d47466-bd64-4b3f-aa27-a37e7e890b5b button.colab-df-convert');\n",
              "      buttonEl.style.display =\n",
              "        google.colab.kernel.accessAllowed ? 'block' : 'none';\n",
              "\n",
              "      async function convertToInteractive(key) {\n",
              "        const element = document.querySelector('#df-22d47466-bd64-4b3f-aa27-a37e7e890b5b');\n",
              "        const dataTable =\n",
              "          await google.colab.kernel.invokeFunction('convertToInteractive',\n",
              "                                                    [key], {});\n",
              "        if (!dataTable) return;\n",
              "\n",
              "        const docLinkHtml = 'Like what you see? Visit the ' +\n",
              "          '<a target=\"_blank\" href=https://colab.research.google.com/notebooks/data_table.ipynb>data table notebook</a>'\n",
              "          + ' to learn more about interactive tables.';\n",
              "        element.innerHTML = '';\n",
              "        dataTable['output_type'] = 'display_data';\n",
              "        await google.colab.output.renderOutput(dataTable, element);\n",
              "        const docLink = document.createElement('div');\n",
              "        docLink.innerHTML = docLinkHtml;\n",
              "        element.appendChild(docLink);\n",
              "      }\n",
              "    </script>\n",
              "  </div>\n",
              "\n",
              "    </div>\n",
              "  </div>\n"
            ]
          },
          "metadata": {},
          "execution_count": 14
        }
      ],
      "source": [
        "ab_participants[ab_participants.duplicated()]"
      ]
    },
    {
      "cell_type": "markdown",
      "metadata": {
        "id": "jhzYwrrai_Q7"
      },
      "source": [
        "**Вывод:** дубликатов нет"
      ]
    },
    {
      "cell_type": "markdown",
      "metadata": {
        "id": "El_jz2ZryFl-"
      },
      "source": [
        "## Оценка аудитории проведения теста"
      ]
    },
    {
      "cell_type": "markdown",
      "metadata": {
        "id": "s-BvKLvixG27"
      },
      "source": [
        "Посмтрим на данные в датасете ab_participants"
      ]
    },
    {
      "cell_type": "code",
      "execution_count": 15,
      "metadata": {
        "colab": {
          "base_uri": "https://localhost:8080/"
        },
        "id": "8PNwhNhRx2WU",
        "outputId": "eb375ab8-6c50-405b-ff30-43aee0c40133"
      },
      "outputs": [
        {
          "output_type": "execute_result",
          "data": {
            "text/plain": [
              "ab_test                  group\n",
              "interface_eu_test        A        5831\n",
              "                         B        5736\n",
              "recommender_system_test  A        3824\n",
              "                         B        2877\n",
              "Name: user_id, dtype: int64"
            ]
          },
          "metadata": {},
          "execution_count": 15
        }
      ],
      "source": [
        "ab_participants.groupby(['ab_test','group'])['user_id'].count()"
      ]
    },
    {
      "cell_type": "markdown",
      "metadata": {
        "id": "5_zgRs33WbmH"
      },
      "source": [
        "Выделим в отдельный датасет пользователей из нужного нам теста `recommender_system_test`, оценим их кол-во - по тех.заданию нам необходимо 6000 пользователей"
      ]
    },
    {
      "cell_type": "code",
      "execution_count": 16,
      "metadata": {
        "colab": {
          "base_uri": "https://localhost:8080/"
        },
        "id": "kqL-fY-vXK-O",
        "outputId": "0e723608-2737-48d0-d5d8-4e4f53c869da"
      },
      "outputs": [
        {
          "output_type": "execute_result",
          "data": {
            "text/plain": [
              "6701"
            ]
          },
          "metadata": {},
          "execution_count": 16
        }
      ],
      "source": [
        "test_ab_rst = ab_participants.query('ab_test == \"recommender_system_test\"')\n",
        "test_ab_rst.user_id.nunique()"
      ]
    },
    {
      "cell_type": "markdown",
      "metadata": {
        "id": "XYwgJrAwYJCH"
      },
      "source": [
        "Проверим пересечение пользователей в группах А и В теста `recommender_system_test`, оценим их кол-во"
      ]
    },
    {
      "cell_type": "code",
      "execution_count": 17,
      "metadata": {
        "colab": {
          "base_uri": "https://localhost:8080/"
        },
        "id": "sCepqyB9YFjH",
        "outputId": "c2269557-1f6a-46ab-ad60-86dbe66a2a48"
      },
      "outputs": [
        {
          "output_type": "execute_result",
          "data": {
            "text/plain": [
              "0"
            ]
          },
          "metadata": {},
          "execution_count": 17
        }
      ],
      "source": [
        "users_rst_ab = test_ab_rst.groupby('user_id').agg({'group':'nunique'}).query('group > 1')\n",
        "len(users_rst_ab)"
      ]
    },
    {
      "cell_type": "markdown",
      "metadata": {
        "id": "JaxxrKJoY9DC"
      },
      "source": [
        "Пересекающихся пользователей нет"
      ]
    },
    {
      "cell_type": "markdown",
      "metadata": {
        "id": "NVgLprZZX9i9"
      },
      "source": [
        "Выделим в отдельный датасет пользователей из конкурирующего теста `interface_eu_test`"
      ]
    },
    {
      "cell_type": "code",
      "execution_count": 18,
      "metadata": {
        "id": "vEMRtubTZorb"
      },
      "outputs": [],
      "source": [
        "test_ab_iet = ab_participants.query('ab_test == \"interface_eu_test\"')"
      ]
    },
    {
      "cell_type": "code",
      "execution_count": 19,
      "metadata": {
        "colab": {
          "base_uri": "https://localhost:8080/"
        },
        "id": "FlY9ue30x_E1",
        "outputId": "1b59caa5-591c-4388-edd9-deae5222f64a"
      },
      "outputs": [
        {
          "output_type": "stream",
          "name": "stdout",
          "text": [
            "Пользователи группы A конкурирующего теста interface_eu_test, попавшие в тест recommender_system_test:\n",
            "Кол-во: 819\n",
            "Процент от общего кол-ва: 12.22205640949112 %\n"
          ]
        }
      ],
      "source": [
        "print('Пользователи группы A конкурирующего теста interface_eu_test, попавшие в тест recommender_system_test:')\n",
        "print('Кол-во:',test_ab_iet.query('user_id in @test_ab_rst.user_id and group == \"A\"')['user_id'].nunique())\n",
        "print('Процент от общего кол-ва:',(test_ab_iet.query('user_id in @test_ab_rst.user_id and group == \"A\"')['user_id'].nunique()/\n",
        "                                   test_ab_rst.user_id.nunique()*100),'%')"
      ]
    },
    {
      "cell_type": "code",
      "execution_count": 20,
      "metadata": {
        "colab": {
          "base_uri": "https://localhost:8080/"
        },
        "id": "fl-8AbxrasSy",
        "outputId": "3aee1405-84e2-4dc1-cd61-4a3d62dc688d"
      },
      "outputs": [
        {
          "output_type": "stream",
          "name": "stdout",
          "text": [
            "Пользователи контрольной группы B конкурирующего теста interface_eu_test, попавшие в тест recommender_system_test:\n",
            "Кол-во: 783\n",
            "Процент от общего кол-ва: 11.68482316072228 %\n"
          ]
        }
      ],
      "source": [
        "print('Пользователи контрольной группы B конкурирующего теста interface_eu_test, попавшие в тест recommender_system_test:')\n",
        "print('Кол-во:', test_ab_iet.query('user_id in @test_ab_rst.user_id and group == \"B\"')['user_id'].nunique())\n",
        "print('Процент от общего кол-ва:',((test_ab_iet.query('user_id in @test_ab_rst.user_id and group == \"B\"')['user_id'].nunique()/\n",
        "                                    test_ab_rst.user_id.nunique())*100),'%')"
      ]
    },
    {
      "cell_type": "markdown",
      "metadata": {
        "id": "vkp0y0Gf3nwi"
      },
      "source": [
        "Посмотрим распределение по группам А и В нашего теста пользователей из гр.В конкурирующего теста"
      ]
    },
    {
      "cell_type": "code",
      "execution_count": 21,
      "metadata": {
        "colab": {
          "base_uri": "https://localhost:8080/"
        },
        "id": "Z9pFCQMy36Z3",
        "outputId": "17d77f46-5bd4-4f9d-aa2b-42cfdb17dbc8"
      },
      "outputs": [
        {
          "output_type": "execute_result",
          "data": {
            "text/plain": [
              "group\n",
              "A    439\n",
              "B    344\n",
              "Name: group, dtype: int64"
            ]
          },
          "metadata": {},
          "execution_count": 21
        }
      ],
      "source": [
        "users_in_b_competition = test_ab_iet.query('user_id in @test_ab_rst.user_id and group == \"B\"')['user_id']\n",
        "test_ab_rst.query('user_id in @users_in_b_competition').groupby('group')['group'].count()\n"
      ]
    },
    {
      "cell_type": "markdown",
      "metadata": {
        "id": "9JNcoBzBn3IW"
      },
      "source": [
        "**Вывод:**  \n",
        "- Оставим пользователей группы А конкурирующего теста в нашем тесте `recommender_system_test`, т.к. на них не было какого-либо воздействия\n",
        "- Для повышения качества анализа теста `recommender_system_test` принимаем решение удалить пользователей экспериментальной группы В теста `interface_eu_test` из нашего теста"
      ]
    },
    {
      "cell_type": "code",
      "execution_count": 22,
      "metadata": {
        "id": "coKhl8bobYvt"
      },
      "outputs": [],
      "source": [
        "test_ab_rst = test_ab_rst.query('user_id not in @users_in_b_competition')"
      ]
    },
    {
      "cell_type": "markdown",
      "metadata": {
        "id": "9TwLwF6ljJMl"
      },
      "source": [
        "## Проверим данные на соответствие техническому заданию"
      ]
    },
    {
      "cell_type": "markdown",
      "metadata": {
        "id": "cIWTa9GhDusx"
      },
      "source": [
        "### Проверим кол-во пользователей, оставшихся после удаления пересечений с конкурирующим тестом"
      ]
    },
    {
      "cell_type": "code",
      "execution_count": 23,
      "metadata": {
        "colab": {
          "base_uri": "https://localhost:8080/"
        },
        "id": "tQtER1ziDsz_",
        "outputId": "545b07d5-6dab-49a9-a7b7-58e788809677"
      },
      "outputs": [
        {
          "output_type": "execute_result",
          "data": {
            "text/plain": [
              "5918"
            ]
          },
          "metadata": {},
          "execution_count": 23
        }
      ],
      "source": [
        "test_ab_rst.user_id.nunique()"
      ]
    },
    {
      "cell_type": "code",
      "execution_count": 24,
      "metadata": {
        "colab": {
          "base_uri": "https://localhost:8080/"
        },
        "id": "ciSDx9rSEsFQ",
        "outputId": "c8c5123c-3c2f-4a31-aaa4-9b1b5551519a"
      },
      "outputs": [
        {
          "output_type": "execute_result",
          "data": {
            "text/plain": [
              "-1.3666666666666716"
            ]
          },
          "metadata": {},
          "execution_count": 24
        }
      ],
      "source": [
        "(test_ab_rst.user_id.nunique()/6000-1)*100"
      ]
    },
    {
      "cell_type": "markdown",
      "metadata": {
        "id": "f9ImaxuqD9pm"
      },
      "source": [
        "**Вывод:** по тех.заданию нам требовалось 6000 пользователей, у нас осталось 5918 чел. - это на 1.4 % меньше, чем требовалось. Поскольку пересекающиеся пользователи могли исказить результаты исследования, исключение их влияния было необходимо."
      ]
    },
    {
      "cell_type": "markdown",
      "metadata": {
        "id": "QK-aPopZjSRn"
      },
      "source": [
        "### Проверим даты набора новых пользователей в тест: объединим данные о регистрации с данными о пользователях в группах"
      ]
    },
    {
      "cell_type": "code",
      "execution_count": 25,
      "metadata": {
        "id": "lDo0a-fEc-Kd"
      },
      "outputs": [],
      "source": [
        "test_ab_rst = test_ab_rst.merge(ab_new_users, on = 'user_id')"
      ]
    },
    {
      "cell_type": "markdown",
      "metadata": {
        "id": "66oTVaFgefqg"
      },
      "source": [
        "### Проверим соответствие дат набора пользователей в тест техническому заданию:  \n",
        "- запуск теста: 2020-12-07\n",
        "- окончание набора новых пользователей: 2020-12-21"
      ]
    },
    {
      "cell_type": "code",
      "execution_count": 26,
      "metadata": {
        "colab": {
          "base_uri": "https://localhost:8080/"
        },
        "id": "nH2A7S_wd2Ak",
        "outputId": "7cf276ee-7b23-4e04-987e-66dabb134248"
      },
      "outputs": [
        {
          "output_type": "execute_result",
          "data": {
            "text/plain": [
              "Timestamp('2020-12-07 00:00:00')"
            ]
          },
          "metadata": {},
          "execution_count": 26
        }
      ],
      "source": [
        "test_ab_rst['first_date'].min()"
      ]
    },
    {
      "cell_type": "code",
      "execution_count": 27,
      "metadata": {
        "colab": {
          "base_uri": "https://localhost:8080/"
        },
        "id": "Oc0_sFXpebFO",
        "outputId": "9768b3b9-57d1-462e-8d0d-0ab7f06151a5"
      },
      "outputs": [
        {
          "output_type": "execute_result",
          "data": {
            "text/plain": [
              "Timestamp('2020-12-21 00:00:00')"
            ]
          },
          "metadata": {},
          "execution_count": 27
        }
      ],
      "source": [
        "test_ab_rst['first_date'].max()"
      ]
    },
    {
      "cell_type": "markdown",
      "metadata": {
        "id": "ONuIcRM8fE6a"
      },
      "source": [
        "**Вывод:** даты начала, окончания набора пользователей в тест соответствуют тех.заданию"
      ]
    },
    {
      "cell_type": "markdown",
      "metadata": {
        "id": "W6Dhz1pAfVd5"
      },
      "source": [
        "### Проверим распределение пользователей по группам теста"
      ]
    },
    {
      "cell_type": "code",
      "execution_count": 28,
      "metadata": {
        "colab": {
          "base_uri": "https://localhost:8080/"
        },
        "id": "y0ltnl1pffv8",
        "outputId": "ab35d7f4-1d61-406d-b9bd-a68e8933e79c"
      },
      "outputs": [
        {
          "output_type": "execute_result",
          "data": {
            "text/plain": [
              "group\n",
              "A    3385\n",
              "B    2533\n",
              "Name: group, dtype: int64"
            ]
          },
          "metadata": {},
          "execution_count": 28
        }
      ],
      "source": [
        "groups = test_ab_rst.groupby('group')['group'].count()\n",
        "groups"
      ]
    },
    {
      "cell_type": "code",
      "execution_count": 29,
      "metadata": {
        "colab": {
          "base_uri": "https://localhost:8080/",
          "height": 35
        },
        "id": "0Rz24A7ngzjQ",
        "outputId": "28aba6d9-7563-4ed3-b395-3a4167e06316"
      },
      "outputs": [
        {
          "output_type": "execute_result",
          "data": {
            "text/plain": [
              "'Группа А больше группы В на 34 %'"
            ],
            "application/vnd.google.colaboratory.intrinsic+json": {
              "type": "string"
            }
          },
          "metadata": {},
          "execution_count": 29
        }
      ],
      "source": [
        "f'Группа А больше группы В на {((groups[0]/groups[1]-1)*100):.0f} %'"
      ]
    },
    {
      "cell_type": "markdown",
      "metadata": {
        "id": "ss0mh0MLfew_"
      },
      "source": [
        "В контрольной группе А пользователей больше на 34%, чем в экспериментальной группе В - распределение неравномерное, но не критично, т.к. выборки достаточны по объему."
      ]
    },
    {
      "cell_type": "markdown",
      "metadata": {
        "id": "Y15-NHLaiop6"
      },
      "source": [
        "### Проверим, какой процент пользователей в тесте приходится на Европу - регион EU"
      ]
    },
    {
      "cell_type": "code",
      "execution_count": 30,
      "metadata": {
        "colab": {
          "base_uri": "https://localhost:8080/"
        },
        "id": "BZTGBYosi8sl",
        "outputId": "90b96f71-d26c-4fbc-e4bb-b307770a677c"
      },
      "outputs": [
        {
          "output_type": "execute_result",
          "data": {
            "text/plain": [
              "13.0"
            ]
          },
          "metadata": {},
          "execution_count": 30
        }
      ],
      "source": [
        "(test_ab_rst.query('region == \"EU\"')['user_id'].count()/len(ab_new_users.\\\n",
        "            query('region == \"EU\" and \"2020-12-21\" >= first_date >= \"2020-12-07\"'))*100).round()"
      ]
    },
    {
      "cell_type": "markdown",
      "metadata": {
        "id": "p1vOImqyCO6z"
      },
      "source": [
        "**Вывод:** на аудиторию теста из Европы приходится 13% отобранных пользователей, т.е. меньше 15%, что не соответствует тех.заданию."
      ]
    },
    {
      "cell_type": "markdown",
      "metadata": {
        "id": "pwQGg-sRHdht"
      },
      "source": [
        "## Объединение датасетов"
      ]
    },
    {
      "cell_type": "markdown",
      "metadata": {
        "id": "73hRsm7EqZ9R"
      },
      "source": [
        "Объединим датасет с данными пользователей из А/В-теста с данными о действиях пользователей"
      ]
    },
    {
      "cell_type": "code",
      "execution_count": 31,
      "metadata": {
        "id": "oJVVe2aBqjMG"
      },
      "outputs": [],
      "source": [
        "data_rst = test_ab_rst.merge(ab_events, on = 'user_id', how='left')"
      ]
    },
    {
      "cell_type": "code",
      "execution_count": 32,
      "metadata": {
        "colab": {
          "base_uri": "https://localhost:8080/"
        },
        "id": "nnWjcGXMizQG",
        "outputId": "184e9553-f491-4eac-be92-bbb339b0ca92"
      },
      "outputs": [
        {
          "output_type": "stream",
          "name": "stdout",
          "text": [
            "<class 'pandas.core.frame.DataFrame'>\n",
            "Int64Index: 24516 entries, 0 to 24515\n",
            "Data columns (total 9 columns):\n",
            " #   Column      Non-Null Count  Dtype         \n",
            "---  ------      --------------  -----         \n",
            " 0   user_id     24516 non-null  object        \n",
            " 1   group       24516 non-null  object        \n",
            " 2   ab_test     24516 non-null  object        \n",
            " 3   first_date  24516 non-null  datetime64[ns]\n",
            " 4   region      24516 non-null  object        \n",
            " 5   device      24516 non-null  object        \n",
            " 6   event_dt    21842 non-null  datetime64[ns]\n",
            " 7   event_name  21842 non-null  object        \n",
            " 8   details     2939 non-null   float64       \n",
            "dtypes: datetime64[ns](2), float64(1), object(6)\n",
            "memory usage: 1.9+ MB\n"
          ]
        }
      ],
      "source": [
        "data_rst.info()"
      ]
    },
    {
      "cell_type": "markdown",
      "metadata": {
        "id": "pt5_3UOxLsg8"
      },
      "source": [
        "Добавим день, на который пользователь совершает событие от даты регистрации"
      ]
    },
    {
      "cell_type": "code",
      "execution_count": 33,
      "metadata": {
        "id": "DvVhIUez7zpv"
      },
      "outputs": [],
      "source": [
        "data_rst['event_date'] = pd.to_datetime(data_rst['event_dt'].dt.date)"
      ]
    },
    {
      "cell_type": "code",
      "execution_count": 34,
      "metadata": {
        "id": "aRgToE5OLqwa"
      },
      "outputs": [],
      "source": [
        "data_rst['day_event'] = (pd.to_datetime(data_rst['event_date']) - data_rst['first_date'])/ np.timedelta64 ( 1 , 'D')"
      ]
    },
    {
      "cell_type": "markdown",
      "metadata": {
        "id": "y30OSAxqU0bh"
      },
      "source": [
        "Посмотрим, какая самая поздняя дата совершения события"
      ]
    },
    {
      "cell_type": "code",
      "execution_count": 35,
      "metadata": {
        "colab": {
          "base_uri": "https://localhost:8080/"
        },
        "id": "DwtgpXkx75P3",
        "outputId": "bcc72760-8eb2-4b30-9388-f503e1d85746",
        "scrolled": true
      },
      "outputs": [
        {
          "output_type": "execute_result",
          "data": {
            "text/plain": [
              "Timestamp('2020-12-30 00:00:00')"
            ]
          },
          "metadata": {},
          "execution_count": 35
        }
      ],
      "source": [
        "data_rst['event_date'].max()"
      ]
    },
    {
      "cell_type": "markdown",
      "metadata": {
        "id": "dmy1xPH6pVTI"
      },
      "source": [
        "**Вывод:** по тех.заданию дата остановки: 2021-01-04, пользователи из теста совершают последнее событие 2020-12-30, т.е. раньше даты остановки, что не соответствует тех.заданию.  \n",
        "Предположительно, это связано с тем, что сотрудники, проводившие тест, ушли на новогодние каникулы."
      ]
    },
    {
      "cell_type": "markdown",
      "metadata": {
        "id": "rKFHFtk8DtOa"
      },
      "source": [
        "## Исследовательский анализ данных"
      ]
    },
    {
      "cell_type": "markdown",
      "metadata": {
        "id": "3KGXGmOj5fVE"
      },
      "source": [
        "### Посмотрим на кол-во пользователей, которые зарегистрировались, но не совершали событий"
      ]
    },
    {
      "cell_type": "markdown",
      "metadata": {
        "id": "a71AssD3KNpU"
      },
      "source": [
        "Построим график по этим пользователям, не дошедших до воронки продаж, в разбивке по группам, по дням"
      ]
    },
    {
      "cell_type": "code",
      "execution_count": 36,
      "metadata": {
        "colab": {
          "base_uri": "https://localhost:8080/",
          "height": 112
        },
        "id": "ePtxmW7nKfnd",
        "outputId": "8e1a9f12-913f-4ce0-9ed2-3462b1a0940f"
      },
      "outputs": [
        {
          "output_type": "execute_result",
          "data": {
            "text/plain": [
              "  group  user_id_x  user_id_y  users_%\n",
              "0     A       3385        963     28.0\n",
              "1     B       2533       1711     68.0"
            ],
            "text/html": [
              "\n",
              "  <div id=\"df-88809622-2efe-458d-a252-12c8979aebbc\" class=\"colab-df-container\">\n",
              "    <div>\n",
              "<style scoped>\n",
              "    .dataframe tbody tr th:only-of-type {\n",
              "        vertical-align: middle;\n",
              "    }\n",
              "\n",
              "    .dataframe tbody tr th {\n",
              "        vertical-align: top;\n",
              "    }\n",
              "\n",
              "    .dataframe thead th {\n",
              "        text-align: right;\n",
              "    }\n",
              "</style>\n",
              "<table border=\"1\" class=\"dataframe\">\n",
              "  <thead>\n",
              "    <tr style=\"text-align: right;\">\n",
              "      <th></th>\n",
              "      <th>group</th>\n",
              "      <th>user_id_x</th>\n",
              "      <th>user_id_y</th>\n",
              "      <th>users_%</th>\n",
              "    </tr>\n",
              "  </thead>\n",
              "  <tbody>\n",
              "    <tr>\n",
              "      <th>0</th>\n",
              "      <td>A</td>\n",
              "      <td>3385</td>\n",
              "      <td>963</td>\n",
              "      <td>28.0</td>\n",
              "    </tr>\n",
              "    <tr>\n",
              "      <th>1</th>\n",
              "      <td>B</td>\n",
              "      <td>2533</td>\n",
              "      <td>1711</td>\n",
              "      <td>68.0</td>\n",
              "    </tr>\n",
              "  </tbody>\n",
              "</table>\n",
              "</div>\n",
              "    <div class=\"colab-df-buttons\">\n",
              "\n",
              "  <div class=\"colab-df-container\">\n",
              "    <button class=\"colab-df-convert\" onclick=\"convertToInteractive('df-88809622-2efe-458d-a252-12c8979aebbc')\"\n",
              "            title=\"Convert this dataframe to an interactive table.\"\n",
              "            style=\"display:none;\">\n",
              "\n",
              "  <svg xmlns=\"http://www.w3.org/2000/svg\" height=\"24px\" viewBox=\"0 -960 960 960\">\n",
              "    <path d=\"M120-120v-720h720v720H120Zm60-500h600v-160H180v160Zm220 220h160v-160H400v160Zm0 220h160v-160H400v160ZM180-400h160v-160H180v160Zm440 0h160v-160H620v160ZM180-180h160v-160H180v160Zm440 0h160v-160H620v160Z\"/>\n",
              "  </svg>\n",
              "    </button>\n",
              "\n",
              "  <style>\n",
              "    .colab-df-container {\n",
              "      display:flex;\n",
              "      gap: 12px;\n",
              "    }\n",
              "\n",
              "    .colab-df-convert {\n",
              "      background-color: #E8F0FE;\n",
              "      border: none;\n",
              "      border-radius: 50%;\n",
              "      cursor: pointer;\n",
              "      display: none;\n",
              "      fill: #1967D2;\n",
              "      height: 32px;\n",
              "      padding: 0 0 0 0;\n",
              "      width: 32px;\n",
              "    }\n",
              "\n",
              "    .colab-df-convert:hover {\n",
              "      background-color: #E2EBFA;\n",
              "      box-shadow: 0px 1px 2px rgba(60, 64, 67, 0.3), 0px 1px 3px 1px rgba(60, 64, 67, 0.15);\n",
              "      fill: #174EA6;\n",
              "    }\n",
              "\n",
              "    .colab-df-buttons div {\n",
              "      margin-bottom: 4px;\n",
              "    }\n",
              "\n",
              "    [theme=dark] .colab-df-convert {\n",
              "      background-color: #3B4455;\n",
              "      fill: #D2E3FC;\n",
              "    }\n",
              "\n",
              "    [theme=dark] .colab-df-convert:hover {\n",
              "      background-color: #434B5C;\n",
              "      box-shadow: 0px 1px 3px 1px rgba(0, 0, 0, 0.15);\n",
              "      filter: drop-shadow(0px 1px 2px rgba(0, 0, 0, 0.3));\n",
              "      fill: #FFFFFF;\n",
              "    }\n",
              "  </style>\n",
              "\n",
              "    <script>\n",
              "      const buttonEl =\n",
              "        document.querySelector('#df-88809622-2efe-458d-a252-12c8979aebbc button.colab-df-convert');\n",
              "      buttonEl.style.display =\n",
              "        google.colab.kernel.accessAllowed ? 'block' : 'none';\n",
              "\n",
              "      async function convertToInteractive(key) {\n",
              "        const element = document.querySelector('#df-88809622-2efe-458d-a252-12c8979aebbc');\n",
              "        const dataTable =\n",
              "          await google.colab.kernel.invokeFunction('convertToInteractive',\n",
              "                                                    [key], {});\n",
              "        if (!dataTable) return;\n",
              "\n",
              "        const docLinkHtml = 'Like what you see? Visit the ' +\n",
              "          '<a target=\"_blank\" href=https://colab.research.google.com/notebooks/data_table.ipynb>data table notebook</a>'\n",
              "          + ' to learn more about interactive tables.';\n",
              "        element.innerHTML = '';\n",
              "        dataTable['output_type'] = 'display_data';\n",
              "        await google.colab.output.renderOutput(dataTable, element);\n",
              "        const docLink = document.createElement('div');\n",
              "        docLink.innerHTML = docLinkHtml;\n",
              "        element.appendChild(docLink);\n",
              "      }\n",
              "    </script>\n",
              "  </div>\n",
              "\n",
              "\n",
              "<div id=\"df-ec9004f8-6625-4f32-8980-0b37f5dda5b7\">\n",
              "  <button class=\"colab-df-quickchart\" onclick=\"quickchart('df-ec9004f8-6625-4f32-8980-0b37f5dda5b7')\"\n",
              "            title=\"Suggest charts.\"\n",
              "            style=\"display:none;\">\n",
              "\n",
              "<svg xmlns=\"http://www.w3.org/2000/svg\" height=\"24px\"viewBox=\"0 0 24 24\"\n",
              "     width=\"24px\">\n",
              "    <g>\n",
              "        <path d=\"M19 3H5c-1.1 0-2 .9-2 2v14c0 1.1.9 2 2 2h14c1.1 0 2-.9 2-2V5c0-1.1-.9-2-2-2zM9 17H7v-7h2v7zm4 0h-2V7h2v10zm4 0h-2v-4h2v4z\"/>\n",
              "    </g>\n",
              "</svg>\n",
              "  </button>\n",
              "\n",
              "<style>\n",
              "  .colab-df-quickchart {\n",
              "      --bg-color: #E8F0FE;\n",
              "      --fill-color: #1967D2;\n",
              "      --hover-bg-color: #E2EBFA;\n",
              "      --hover-fill-color: #174EA6;\n",
              "      --disabled-fill-color: #AAA;\n",
              "      --disabled-bg-color: #DDD;\n",
              "  }\n",
              "\n",
              "  [theme=dark] .colab-df-quickchart {\n",
              "      --bg-color: #3B4455;\n",
              "      --fill-color: #D2E3FC;\n",
              "      --hover-bg-color: #434B5C;\n",
              "      --hover-fill-color: #FFFFFF;\n",
              "      --disabled-bg-color: #3B4455;\n",
              "      --disabled-fill-color: #666;\n",
              "  }\n",
              "\n",
              "  .colab-df-quickchart {\n",
              "    background-color: var(--bg-color);\n",
              "    border: none;\n",
              "    border-radius: 50%;\n",
              "    cursor: pointer;\n",
              "    display: none;\n",
              "    fill: var(--fill-color);\n",
              "    height: 32px;\n",
              "    padding: 0;\n",
              "    width: 32px;\n",
              "  }\n",
              "\n",
              "  .colab-df-quickchart:hover {\n",
              "    background-color: var(--hover-bg-color);\n",
              "    box-shadow: 0 1px 2px rgba(60, 64, 67, 0.3), 0 1px 3px 1px rgba(60, 64, 67, 0.15);\n",
              "    fill: var(--button-hover-fill-color);\n",
              "  }\n",
              "\n",
              "  .colab-df-quickchart-complete:disabled,\n",
              "  .colab-df-quickchart-complete:disabled:hover {\n",
              "    background-color: var(--disabled-bg-color);\n",
              "    fill: var(--disabled-fill-color);\n",
              "    box-shadow: none;\n",
              "  }\n",
              "\n",
              "  .colab-df-spinner {\n",
              "    border: 2px solid var(--fill-color);\n",
              "    border-color: transparent;\n",
              "    border-bottom-color: var(--fill-color);\n",
              "    animation:\n",
              "      spin 1s steps(1) infinite;\n",
              "  }\n",
              "\n",
              "  @keyframes spin {\n",
              "    0% {\n",
              "      border-color: transparent;\n",
              "      border-bottom-color: var(--fill-color);\n",
              "      border-left-color: var(--fill-color);\n",
              "    }\n",
              "    20% {\n",
              "      border-color: transparent;\n",
              "      border-left-color: var(--fill-color);\n",
              "      border-top-color: var(--fill-color);\n",
              "    }\n",
              "    30% {\n",
              "      border-color: transparent;\n",
              "      border-left-color: var(--fill-color);\n",
              "      border-top-color: var(--fill-color);\n",
              "      border-right-color: var(--fill-color);\n",
              "    }\n",
              "    40% {\n",
              "      border-color: transparent;\n",
              "      border-right-color: var(--fill-color);\n",
              "      border-top-color: var(--fill-color);\n",
              "    }\n",
              "    60% {\n",
              "      border-color: transparent;\n",
              "      border-right-color: var(--fill-color);\n",
              "    }\n",
              "    80% {\n",
              "      border-color: transparent;\n",
              "      border-right-color: var(--fill-color);\n",
              "      border-bottom-color: var(--fill-color);\n",
              "    }\n",
              "    90% {\n",
              "      border-color: transparent;\n",
              "      border-bottom-color: var(--fill-color);\n",
              "    }\n",
              "  }\n",
              "</style>\n",
              "\n",
              "  <script>\n",
              "    async function quickchart(key) {\n",
              "      const quickchartButtonEl =\n",
              "        document.querySelector('#' + key + ' button');\n",
              "      quickchartButtonEl.disabled = true;  // To prevent multiple clicks.\n",
              "      quickchartButtonEl.classList.add('colab-df-spinner');\n",
              "      try {\n",
              "        const charts = await google.colab.kernel.invokeFunction(\n",
              "            'suggestCharts', [key], {});\n",
              "      } catch (error) {\n",
              "        console.error('Error during call to suggestCharts:', error);\n",
              "      }\n",
              "      quickchartButtonEl.classList.remove('colab-df-spinner');\n",
              "      quickchartButtonEl.classList.add('colab-df-quickchart-complete');\n",
              "    }\n",
              "    (() => {\n",
              "      let quickchartButtonEl =\n",
              "        document.querySelector('#df-ec9004f8-6625-4f32-8980-0b37f5dda5b7 button');\n",
              "      quickchartButtonEl.style.display =\n",
              "        google.colab.kernel.accessAllowed ? 'block' : 'none';\n",
              "    })();\n",
              "  </script>\n",
              "</div>\n",
              "    </div>\n",
              "  </div>\n"
            ]
          },
          "metadata": {},
          "execution_count": 36
        }
      ],
      "source": [
        "users_not_event = data_rst.groupby('group')['user_id'].nunique().reset_index().\\\n",
        "      merge(data_rst[data_rst['event_dt'].isna()].groupby('group')['user_id'].nunique().reset_index(), on = 'group')\n",
        "users_not_event['users_%'] = (users_not_event['user_id_y']/users_not_event['user_id_x']*100).round()\n",
        "users_not_event"
      ]
    },
    {
      "cell_type": "code",
      "execution_count": 37,
      "metadata": {
        "colab": {
          "base_uri": "https://localhost:8080/",
          "height": 443
        },
        "id": "DtklyhvwsKaX",
        "outputId": "60018a28-e589-4ce6-ce68-467b7fd3055a"
      },
      "outputs": [
        {
          "output_type": "display_data",
          "data": {
            "text/plain": [
              "<Figure size 500x300 with 1 Axes>"
            ],
            "image/png": "[encoded data removed]"
          },
          "metadata": {}
        }
      ],
      "source": [
        "data_rst[data_rst['event_dt'].isna()].pivot_table(index = 'first_date', columns = 'group', values = 'user_id', aggfunc = 'count').\\\n",
        "    plot(kind = 'bar', figsize = (5,3));"
      ]
    },
    {
      "cell_type": "markdown",
      "metadata": {
        "id": "YkqOOr3COXCe"
      },
      "source": [
        "**Вывод:** разница между процентами пользователей, не попавшими в воронку продаж существенно различается в группах:\n",
        "- в группе А - 28% (963 чел.)\n",
        "- в группе B - 68% (1711 чел.)  \n",
        "  \n",
        "Из группы А не попадали в воронку пользователи, набранные с 07.12.2020 по 13.12.2020;  \n",
        "из группы В не попали в воронку пользователи из всего периода набора с 07.12.2020 по 21.12.2020"
      ]
    },
    {
      "cell_type": "markdown",
      "metadata": {
        "id": "bSJ4RifLX1BY"
      },
      "source": [
        "### Посмотрим, какие маркетинговые события совпали с временем проведения А\\В теста"
      ]
    },
    {
      "cell_type": "code",
      "execution_count": 38,
      "metadata": {
        "colab": {
          "base_uri": "https://localhost:8080/",
          "height": 112
        },
        "id": "dfrHNV7DG7WU",
        "outputId": "a29652cf-653a-4657-d127-8ceb4ffa81e0"
      },
      "outputs": [
        {
          "output_type": "execute_result",
          "data": {
            "text/plain": [
              "                         name        regions   start_dt  finish_dt\n",
              "0    Christmas&New Year Promo  EU, N.America 2020-12-25 2021-01-03\n",
              "10  CIS New Year Gift Lottery            CIS 2020-12-30 2021-01-07"
            ],
            "text/html": [
              "\n",
              "  <div id=\"df-38048174-a823-41d1-8cd0-c3b74818aaa6\" class=\"colab-df-container\">\n",
              "    <div>\n",
              "<style scoped>\n",
              "    .dataframe tbody tr th:only-of-type {\n",
              "        vertical-align: middle;\n",
              "    }\n",
              "\n",
              "    .dataframe tbody tr th {\n",
              "        vertical-align: top;\n",
              "    }\n",
              "\n",
              "    .dataframe thead th {\n",
              "        text-align: right;\n",
              "    }\n",
              "</style>\n",
              "<table border=\"1\" class=\"dataframe\">\n",
              "  <thead>\n",
              "    <tr style=\"text-align: right;\">\n",
              "      <th></th>\n",
              "      <th>name</th>\n",
              "      <th>regions</th>\n",
              "      <th>start_dt</th>\n",
              "      <th>finish_dt</th>\n",
              "    </tr>\n",
              "  </thead>\n",
              "  <tbody>\n",
              "    <tr>\n",
              "      <th>0</th>\n",
              "      <td>Christmas&amp;New Year Promo</td>\n",
              "      <td>EU, N.America</td>\n",
              "      <td>2020-12-25</td>\n",
              "      <td>2021-01-03</td>\n",
              "    </tr>\n",
              "    <tr>\n",
              "      <th>10</th>\n",
              "      <td>CIS New Year Gift Lottery</td>\n",
              "      <td>CIS</td>\n",
              "      <td>2020-12-30</td>\n",
              "      <td>2021-01-07</td>\n",
              "    </tr>\n",
              "  </tbody>\n",
              "</table>\n",
              "</div>\n",
              "    <div class=\"colab-df-buttons\">\n",
              "\n",
              "  <div class=\"colab-df-container\">\n",
              "    <button class=\"colab-df-convert\" onclick=\"convertToInteractive('df-38048174-a823-41d1-8cd0-c3b74818aaa6')\"\n",
              "            title=\"Convert this dataframe to an interactive table.\"\n",
              "            style=\"display:none;\">\n",
              "\n",
              "  <svg xmlns=\"http://www.w3.org/2000/svg\" height=\"24px\" viewBox=\"0 -960 960 960\">\n",
              "    <path d=\"M120-120v-720h720v720H120Zm60-500h600v-160H180v160Zm220 220h160v-160H400v160Zm0 220h160v-160H400v160ZM180-400h160v-160H180v160Zm440 0h160v-160H620v160ZM180-180h160v-160H180v160Zm440 0h160v-160H620v160Z\"/>\n",
              "  </svg>\n",
              "    </button>\n",
              "\n",
              "  <style>\n",
              "    .colab-df-container {\n",
              "      display:flex;\n",
              "      gap: 12px;\n",
              "    }\n",
              "\n",
              "    .colab-df-convert {\n",
              "      background-color: #E8F0FE;\n",
              "      border: none;\n",
              "      border-radius: 50%;\n",
              "      cursor: pointer;\n",
              "      display: none;\n",
              "      fill: #1967D2;\n",
              "      height: 32px;\n",
              "      padding: 0 0 0 0;\n",
              "      width: 32px;\n",
              "    }\n",
              "\n",
              "    .colab-df-convert:hover {\n",
              "      background-color: #E2EBFA;\n",
              "      box-shadow: 0px 1px 2px rgba(60, 64, 67, 0.3), 0px 1px 3px 1px rgba(60, 64, 67, 0.15);\n",
              "      fill: #174EA6;\n",
              "    }\n",
              "\n",
              "    .colab-df-buttons div {\n",
              "      margin-bottom: 4px;\n",
              "    }\n",
              "\n",
              "    [theme=dark] .colab-df-convert {\n",
              "      background-color: #3B4455;\n",
              "      fill: #D2E3FC;\n",
              "    }\n",
              "\n",
              "    [theme=dark] .colab-df-convert:hover {\n",
              "      background-color: #434B5C;\n",
              "      box-shadow: 0px 1px 3px 1px rgba(0, 0, 0, 0.15);\n",
              "      filter: drop-shadow(0px 1px 2px rgba(0, 0, 0, 0.3));\n",
              "      fill: #FFFFFF;\n",
              "    }\n",
              "  </style>\n",
              "\n",
              "    <script>\n",
              "      const buttonEl =\n",
              "        document.querySelector('#df-38048174-a823-41d1-8cd0-c3b74818aaa6 button.colab-df-convert');\n",
              "      buttonEl.style.display =\n",
              "        google.colab.kernel.accessAllowed ? 'block' : 'none';\n",
              "\n",
              "      async function convertToInteractive(key) {\n",
              "        const element = document.querySelector('#df-38048174-a823-41d1-8cd0-c3b74818aaa6');\n",
              "        const dataTable =\n",
              "          await google.colab.kernel.invokeFunction('convertToInteractive',\n",
              "                                                    [key], {});\n",
              "        if (!dataTable) return;\n",
              "\n",
              "        const docLinkHtml = 'Like what you see? Visit the ' +\n",
              "          '<a target=\"_blank\" href=https://colab.research.google.com/notebooks/data_table.ipynb>data table notebook</a>'\n",
              "          + ' to learn more about interactive tables.';\n",
              "        element.innerHTML = '';\n",
              "        dataTable['output_type'] = 'display_data';\n",
              "        await google.colab.output.renderOutput(dataTable, element);\n",
              "        const docLink = document.createElement('div');\n",
              "        docLink.innerHTML = docLinkHtml;\n",
              "        element.appendChild(docLink);\n",
              "      }\n",
              "    </script>\n",
              "  </div>\n",
              "\n",
              "\n",
              "<div id=\"df-ee8b8edf-fde7-42b3-8485-2d13e241c459\">\n",
              "  <button class=\"colab-df-quickchart\" onclick=\"quickchart('df-ee8b8edf-fde7-42b3-8485-2d13e241c459')\"\n",
              "            title=\"Suggest charts.\"\n",
              "            style=\"display:none;\">\n",
              "\n",
              "<svg xmlns=\"http://www.w3.org/2000/svg\" height=\"24px\"viewBox=\"0 0 24 24\"\n",
              "     width=\"24px\">\n",
              "    <g>\n",
              "        <path d=\"M19 3H5c-1.1 0-2 .9-2 2v14c0 1.1.9 2 2 2h14c1.1 0 2-.9 2-2V5c0-1.1-.9-2-2-2zM9 17H7v-7h2v7zm4 0h-2V7h2v10zm4 0h-2v-4h2v4z\"/>\n",
              "    </g>\n",
              "</svg>\n",
              "  </button>\n",
              "\n",
              "<style>\n",
              "  .colab-df-quickchart {\n",
              "      --bg-color: #E8F0FE;\n",
              "      --fill-color: #1967D2;\n",
              "      --hover-bg-color: #E2EBFA;\n",
              "      --hover-fill-color: #174EA6;\n",
              "      --disabled-fill-color: #AAA;\n",
              "      --disabled-bg-color: #DDD;\n",
              "  }\n",
              "\n",
              "  [theme=dark] .colab-df-quickchart {\n",
              "      --bg-color: #3B4455;\n",
              "      --fill-color: #D2E3FC;\n",
              "      --hover-bg-color: #434B5C;\n",
              "      --hover-fill-color: #FFFFFF;\n",
              "      --disabled-bg-color: #3B4455;\n",
              "      --disabled-fill-color: #666;\n",
              "  }\n",
              "\n",
              "  .colab-df-quickchart {\n",
              "    background-color: var(--bg-color);\n",
              "    border: none;\n",
              "    border-radius: 50%;\n",
              "    cursor: pointer;\n",
              "    display: none;\n",
              "    fill: var(--fill-color);\n",
              "    height: 32px;\n",
              "    padding: 0;\n",
              "    width: 32px;\n",
              "  }\n",
              "\n",
              "  .colab-df-quickchart:hover {\n",
              "    background-color: var(--hover-bg-color);\n",
              "    box-shadow: 0 1px 2px rgba(60, 64, 67, 0.3), 0 1px 3px 1px rgba(60, 64, 67, 0.15);\n",
              "    fill: var(--button-hover-fill-color);\n",
              "  }\n",
              "\n",
              "  .colab-df-quickchart-complete:disabled,\n",
              "  .colab-df-quickchart-complete:disabled:hover {\n",
              "    background-color: var(--disabled-bg-color);\n",
              "    fill: var(--disabled-fill-color);\n",
              "    box-shadow: none;\n",
              "  }\n",
              "\n",
              "  .colab-df-spinner {\n",
              "    border: 2px solid var(--fill-color);\n",
              "    border-color: transparent;\n",
              "    border-bottom-color: var(--fill-color);\n",
              "    animation:\n",
              "      spin 1s steps(1) infinite;\n",
              "  }\n",
              "\n",
              "  @keyframes spin {\n",
              "    0% {\n",
              "      border-color: transparent;\n",
              "      border-bottom-color: var(--fill-color);\n",
              "      border-left-color: var(--fill-color);\n",
              "    }\n",
              "    20% {\n",
              "      border-color: transparent;\n",
              "      border-left-color: var(--fill-color);\n",
              "      border-top-color: var(--fill-color);\n",
              "    }\n",
              "    30% {\n",
              "      border-color: transparent;\n",
              "      border-left-color: var(--fill-color);\n",
              "      border-top-color: var(--fill-color);\n",
              "      border-right-color: var(--fill-color);\n",
              "    }\n",
              "    40% {\n",
              "      border-color: transparent;\n",
              "      border-right-color: var(--fill-color);\n",
              "      border-top-color: var(--fill-color);\n",
              "    }\n",
              "    60% {\n",
              "      border-color: transparent;\n",
              "      border-right-color: var(--fill-color);\n",
              "    }\n",
              "    80% {\n",
              "      border-color: transparent;\n",
              "      border-right-color: var(--fill-color);\n",
              "      border-bottom-color: var(--fill-color);\n",
              "    }\n",
              "    90% {\n",
              "      border-color: transparent;\n",
              "      border-bottom-color: var(--fill-color);\n",
              "    }\n",
              "  }\n",
              "</style>\n",
              "\n",
              "  <script>\n",
              "    async function quickchart(key) {\n",
              "      const quickchartButtonEl =\n",
              "        document.querySelector('#' + key + ' button');\n",
              "      quickchartButtonEl.disabled = true;  // To prevent multiple clicks.\n",
              "      quickchartButtonEl.classList.add('colab-df-spinner');\n",
              "      try {\n",
              "        const charts = await google.colab.kernel.invokeFunction(\n",
              "            'suggestCharts', [key], {});\n",
              "      } catch (error) {\n",
              "        console.error('Error during call to suggestCharts:', error);\n",
              "      }\n",
              "      quickchartButtonEl.classList.remove('colab-df-spinner');\n",
              "      quickchartButtonEl.classList.add('colab-df-quickchart-complete');\n",
              "    }\n",
              "    (() => {\n",
              "      let quickchartButtonEl =\n",
              "        document.querySelector('#df-ee8b8edf-fde7-42b3-8485-2d13e241c459 button');\n",
              "      quickchartButtonEl.style.display =\n",
              "        google.colab.kernel.accessAllowed ? 'block' : 'none';\n",
              "    })();\n",
              "  </script>\n",
              "</div>\n",
              "    </div>\n",
              "  </div>\n"
            ]
          },
          "metadata": {},
          "execution_count": 38
        }
      ],
      "source": [
        "marketing_events.query('@data_rst.event_date.max()>= start_dt >= @data_rst.first_date.min() or \\\n",
        "                @data_rst.event_date.max()>= finish_dt >= @data_rst.first_date.min()')"
      ]
    },
    {
      "cell_type": "markdown",
      "metadata": {
        "id": "oilphUMLZiyV"
      },
      "source": [
        "**Вывод:**  \n",
        "Маркетинговое событие \"Christmas&New Year Promo\" могло повлиять на пользователей из Европы - даты проведения с 2020-12-25 по\t2021-01-03. Необходимо это учесть при дальнейшем анализе."
      ]
    },
    {
      "cell_type": "markdown",
      "metadata": {
        "id": "TLQTCWFjpVTO"
      },
      "source": [
        "### Оценим кол-во событий на пользователя внутри выборок"
      ]
    },
    {
      "cell_type": "code",
      "execution_count": 39,
      "metadata": {
        "colab": {
          "base_uri": "https://localhost:8080/",
          "height": 517
        },
        "id": "Vn1S2nyepVTO",
        "outputId": "7ea1ebdc-f0bf-4898-d050-882cc56ad297"
      },
      "outputs": [
        {
          "output_type": "display_data",
          "data": {
            "text/html": [
              "<html>\n",
              "<head><meta charset=\"utf-8\" /></head>\n",
              "<body>\n",
              "    <div>            <script src=\"https://cdnjs.cloudflare.com/ajax/libs/mathjax/2.7.5/MathJax.js?config=TeX-AMS-MML_SVG\"></script><script type=\"text/javascript\">if (window.MathJax && window.MathJax.Hub && window.MathJax.Hub.Config) {window.MathJax.Hub.Config({SVG: {font: \"STIX-Web\"}});}</script>                <script type=\"text/javascript\">window.PlotlyConfig = {MathJaxConfig: 'local'};</script>\n",
              "        <script charset=\"utf-8\" src=\"https://cdn.plot.ly/plotly-2.24.1.min.js\"></script>                <div id=\"c04c97e1-d991-431d-938a-9a8eb1e0465f\" class=\"plotly-graph-div\" style=\"height:500px; width:600px;\"></div>            <script type=\"text/javascript\">                                    window.PLOTLYENV=window.PLOTLYENV || {};                                    if (document.getElementById(\"c04c97e1-d991-431d-938a-9a8eb1e0465f\")) {                    Plotly.newPlot(                        \"c04c97e1-d991-431d-938a-9a8eb1e0465f\",                        [{\"alignmentgroup\":\"True\",\"bingroup\":\"x\",\"hovertemplate\":\"group=A\\u003cbr\\u003eevent_date=%{x}\\u003cbr\\u003ecount=%{y}\\u003cextra\\u003e\\u003c\\u002fextra\\u003e\",\"legendgroup\":\"A\",\"marker\":{\"color\":\"#636efa\",\"pattern\":{\"shape\":\"\"}},\"name\":\"A\",\"offsetgroup\":\"A\",\"orientation\":\"v\",\"showlegend\":true,\"x\":[0,12,0,2,0,15,5,6,0,0,2,9,9,4,9,4,0,8,6,4,0,12,0,6,9,1,0,0,2,0,8,8,0,0,0,9,6,0,6,4,10,0,0,6,9,8,4,4,0,12,0,6,8,0,9,0,8,0,15,0,12,10,0,4,8,4,8,0,8,9,10,8,3,6,9,6,3,12,2,6,0,12,3,4,0,8,0,6,2,9,4,4,0,3,8,0,6,0,5,9,6,8,0,6,4,6,0,12,0,0,9,3,9,9,8,4,12,10,9,6,3,9,12,15,0,0,0,6,0,12,6,6,8,16,0,9,0,12,6,0,4,9,0,0,5,6,4,0,0,4,0,0,4,0,8,4,10,3,6,0,0,8,15,2,8,0,3,0,9,4,0,8,12,0,9,2,6,10,8,0,12,0,0,8,8,6,6,10,0,6,9,4,3,0,6,4,4,4,5,3,6,1,4,3,8,6,10,0,12,20,6,0,0,4,0,4,0,9,2,8,6,0,6,4,6,4,10,2,6,10,0,9,2,6,8,0,4,5,0,8,4,10,6,3,4,10,12,6,12,12,4,10,4,9,3,6,0,6,0,0,0,15,0,0,0,3,0,12,0,2,12,3,16,0,6,0,15,8,12,10,0,8,6,9,3,0,9,0,0,12,3,0,6,6,0,12,4,4,8,0,4,0,6,6,12,3,4,0,6,6,0,6,9,0,6,6,0,0,9,4,0,2,0,0,0,0,0,2,0,3,6,6,9,20,3,4,0,0,20,0,15,6,8,3,0,12,6,8,16,8,9,4,4,4,0,9,6,0,6,8,16,6,20,15,0,0,2,8,6,0,0,0,0,16,6,4,4,8,0,0,10,0,9,0,9,2,4,0,4,6,24,9,6,6,4,9,3,12,6,0,2,8,0,0,0,6,9,9,4,12,6,1,6,10,0,12,0,12,0,6,2,0,9,2,8,0,0,9,1,0,6,0,0,12,4,2,0,0,9,8,3,0,0,0,9,4,18,8,0,6,0,0,15,0,0,2,9,6,0,3,4,12,2,3,9,0,5,0,6,2,0,0,4,8,4,8,8,0,6,0,0,0,6,8,6,0,10,12,4,0,9,4,0,0,0,1,0,6,0,0,4,8,9,16,9,9,8,0,0,2,0,3,0,0,15,15,2,0,0,3,8,3,6,2,1,4,15,8,3,4,6,9,6,0,12,12,8,9,0,3,8,9,0,0,12,4,9,9,3,4,8,0,0,0,10,0,9,6,12,8,6,6,4,15,8,12,3,8,2,4,15,8,6,0,12,0,6,4,6,12,10,0,20,0,0,0,4,6,6,8,0,6,0,4,0,0,3,6,4,3,8,12,10,0,0,0,5,9,0,6,6,6,6,0,6,0,0,4,12,6,12,4,0,0,0,0,4,3,6,3,0,6,20,0,12,6,9,3,9,8,6,0,15,0,6,8,6,8,8,3,6,10,3,9,6,0,2,15,0,3,0,12,6,9,6,15,0,8,6,4,4,9,0,0,8,0,6,5,0,0,0,0,0,0,0,0,0,0,8,12,8,9,0,9,15,0,0,0,0,6,0,0,4,0,8,0,12,6,0,0,8,0,2,0,5,8,12,8,3,0,5,8,12,6,0,4,4,4,10,6,12,9,10,6,9,6,4,0,2,15,1,15,4,0,8,0,12,3,9,12,6,0,0,8,5,9,16,0,5,0,0,0,0,10,15,4,0,12,12,0,18,0,2,6,6,2,6,4,4,0,8,8,12,12,2,12,20,3,6,2,8,1,4,4,4,0,6,12,0,0,6,0,4,0,16,3,0,5,4,0,4,0,3,0,4,9,3,8,8,15,0,3,6,1,4,12,0,6,12,4,6,9,4,12,3,12,9,0,12,0,6,0,8,0,6,9,8,6,2,3,0,6,6,12,8,0,12,0,9,6,0,3,6,6,0,0,6,0,6,3,0,9,4,0,4,6,14,2,12,8,2,6,18,6,0,9,3,2,2,0,9,8,8,0,0,4,4,0,8,4,0,0,6,0,1,0,2,12,1,12,0,6,0,15,0,4,8,8,0,3,6,3,4,2,8,0,12,4,0,0,0,6,8,6,2,0,0,0,15,0,3,3,6,8,15,4,9,9,8,9,2,2,6,4,6,3,16,2,2,6,15,0,6,9,6,0,8,0,9,12,0,0,9,2,0,9,4,9,8,8,1,0,6,10,12,0,15,0,3,6,0,0,15,8,6,20,6,4,6,12,12,6,0,16,6,3,2,0,8,0,0,0,8,9,8,4,0,9,10,0,6,4,12,4,4,5,0,9,6,9,0,9,6,0,0,2,8,3,9,5,0,12,4,12,2,9,6,0,10,0,12,0,5,3,8,4,0,12,12,12,4,4,0,0,8,0,6,12,4,10,12,2,4,4,12,0,4,0,6,6,2,10,12,12,15,2,0,6,6,4,6,15,0,6,0,6,9,12,3,0,0,4,10,0,4,4,2,2,6,12,6,0,6,6,0,4,2,3,2,6,6,6,6,0,4,6,4,0,2,6,0,9,9,4,12,10,4,8,9,8,0,4,12,6,3,0,4,2,6,16,0,9,0,0,12,6,1,0,10,0,8,4,6,0,4,0,0,0,12,8,0,3,4,0,12,1,9,4,0,8,0,0,0,0,4,0,2,0,4,6,10,9,9,8,0,9,9,0,0,0,6,12,1,9,6,0,0,0,12,3,6,8,0,0,9,0,8,9,6,2,6,3,8,3,5,4,0,8,8,0,4,4,12,10,10,8,12,12,8,4,3,15,0,0,3,0,6,0,0,2,0,0,4,8,10,18,0,3,6,8,8,0,8,3,3,0,9,8,8,0,9,0,15,14,6,8,6,0,4,6,0,3,4,8,12,14,6,12,0,8,12,4,9,12,8,6,12,3,6,0,0,12,0,2,4,4,8,4,12,18,9,4,2,0,8,6,5,10,16,9,4,8,4,6,4,2,6,12,2,8,0,0,12,6,6,12,0,6,4,9,6,12,3,8,6,0,0,6,6,3,0,4,0,4,0,6,4,16,4,3,6,3,10,0,4,9,4,0,0,0,2,12,8,6,0,0,9,12,0,6,4,0,12,3,4,4,0,0,0,15,9,0,6,9,8,4,2,0,4,12,2,4,0,2,3,6,0,3,6,0,4,10,4,3,6,20,10,0,12,0,3,2,6,12,6,6,15,0,0,6,12,8,9,0,10,5,6,9,2,9,8,1,4,0,3,6,9,0,6,8,21,2,3,0,0,2,15,12,2,3,0,2,18,10,6,9,5,6,0,9,8,0,0,6,4,0,9,8,0,3,8,0,3,0,6,6,2,6,5,4,18,12,0,4,14,0,0,8,3,9,0,0,6,8,4,6,0,6,0,10,0,12,5,12,20,0,0,0,9,4,9,0,12,4,0,3,6,8,12,0,9,3,8,12,3,0,9,6,15,0,6,9,0,14,0,3,3,2,3,0,4,8,2,0,4,6,3,0,0,4,6,0,9,6,0,4,11,6,0,12,6,0,20,10,0,3,0,9,1,15,6,5,8,14,0,6,12,15,12,9,4,10,12,12,4,3,4,20,0,0,6,0,0,0,12,3,0,0,3,2,8,0,3,0,0,0,2,0,0,6,6,0,0,12,10,2,0,4,6,0,6,0,2,4,6,0,6,0,3,4,0,3,10,6,9,12,6,4,8,1,0,6,4,2,2,14,6,0,4,8,0,0,0,6,1,6,3,8,2,4,3,4,6,4,4,6,12,9,9,0,2,0,3,10,6,0,6,10,3,0,4,9,0,12,0,4,12,0,0,3,0,0,3,0,4,8,0,2,4,0,8,6,8,4,4,8,4,10,20,0,0,8,0,4,0,0,10,8,0,0,6,6,9,0,6,4,9,0,0,12,0,10,6,3,0,4,4,0,0,3,3,4,12,2,12,0,0,9,0,6,6,6,2,12,6,12,0,0,2,6,4,0,0,0,0,18,9,0,0,6,10,0,0,0,0,8,4,0,6,6,0,0,6,16,16,4,3,8,16,0,12,12,3,0,10,14,9,0,0,6,0,8,0,3,0,4,8,2,0,4,12,2,4,8,2,6,0,8,4,8,0,0,0,2,6,0,6,4,6,0,3,4,5,0,18,0,0,9,8,1,4,10,9,0,8,9,9,0,6,8,9,2,4,3,6,2,6,3,12,12,6,0,18,4,0,6,1,0,2,0,3,3,0,0,8,12,16,13,6,4,0,12,4,12,4,15,8,4,0,0,12,4,4,8,12,6,0,0,0,10,9,2,4,6,6,9,1,0,0,8,0,9,8,6,4,2,12,16,6,9,0,3,3,3,8,0,0,0,0,9,4,0,0,6,9,9,6,0,4,4,6,6,8,0,6,6,2,4,6,8,3,6,4,0,6,4,6,0,2,9,2,2,8,4,9,8,0,4,4,9,0,6,12,0,9,0,0,0,0,0,9,6,0,0,0,0,0,4,2,6,3,0,0,12,9,0,6,4,0,15,5,18,0,0,9,0,4,2,6,0,9,12,12,6,4,6,0,12,9,0,0,9,15,8,15,3,3,6,4,16,0,0,4,0,4,9,0,0,10,3,0,0,12,0,0,6,0,6,12,9,10,10,6,6,4,16,6,0,4,8,0,9,6,4,9,0,0,3,12,6,4,2,9,0,0,8,8,6,0,5,12,6,4,0,6,3,4,3,0,6,3,3,6,0,12,4,6,0,6,9,10,0,2,10,4,6,8,10,8,0,0,0,3,5,6,15,2,2,6,4,6,1,2,0,0,6,0,0,12,12,6,4,0,9,6,4,18,10,0,6,0,4,6,2,20,6,2,0,0,6,0,0,0,12,6,20,6,0,9,0,0,4,8,0,15,0,4,0,0,18,11,8,6,4,8,4,0,0,18,4,4,9,0,10,8,0,3,0,4,14,0,0,8,3,6,0,6,12,15,1,0,6,9,0,8,8,6,0,4,6,3,0,15,6,0,4,4,14,6,0,4,9,6,0,12,0,6,3,6,10,15,0,6,4,4,0,20,0,0,16,0,0,10,4,4,2,0,0,0,8,8,12,0,12,6,16,16,9,6,6,0,12,8,0,2,3,9,10,4,0,0,2,10,6,12,12,0,0,0,0,2,6,6,8,6,0,16,8,0,12,10,10,4,2,3,6,8,0,12,6,20,8,8,9,0,8,0,6,16,9,4,3,6,3,4,0,9,0,6,4,0,0,6,9,0,6,0,12,0,0,12,10,15,4,9,6,0,6,10,0,0,2,0,0,4,8,10,10,3,5,10,6,5,8,8,12,0,6,9,8,2,0,9,0,0,8,4,6,9,2,3,15,2,3,6,0,6,0,0,0,4,6,3,6,6,8,10,15,4,0,4,0,6,9,14,8,12,0,6,6,3,6,0,15,4,0,6,0,0,6,15,6,10,4,0,0,4,0,0,0,9,0,12,2,2,8,0,6,0,0,8,2,8,4,0,4,0,3,12,10,15,0,5,0,0,4,9,12,0,3,4,0,8,9,4,4,12,3,2,0,6,10,4,6,0,0,15,4,4,0,4,0,15,15,15,0,3,8,4,8,9,8,12,0,8,15,21,4,8,6,8,0,8,6,0,4,6,15,0,0,12,16,4,6,8,8,6,8,20,18,0,8,0,0,12,8,6,0,4,6,4,5,4,8,4,0,5,9,10,12,4,0,4,0,4,6,4,0,4,0,3,8,8,6,15,8,0,0,10,0,4,0,8,8,4,3,9,9,6,12,8,6,6,0,0,12,3,0,0,4,0,6,3,0,0,0,6,0,0,6,6,4,0,0,4,18,0,0,0,6,6,4,5,8,3,20,9,15,8,6,0,0,2,4,8,6,2,0,2,6,4,6,3,8,0,3,0,4,4,9,2,8,9,6,3,9,6,6,9,6,16,8,12,0,8,3,0,4,12,0,0,9,1,6,8,0,6,0,9,0,4,6,6,8,2,0,2,9,0,12,0,2,6,16,9,4,6,3,6,12,8,3,6,18,6,12,6,4,12,8,0,8,2,3,12,4,12,2,6,6,0,6,0,8,0,0,6,9,6,10,12,3,0,8,10,0,6,0,0,12,8,2,4,0,0,9,12,4,4,0,6,9,1,0,0,0,0,0,12,8,0,4,12,0,18,6,0,8,12,0,9,0,0,8,0,4,15,0,0,3,0,4,8,12,12,0,0,6,6,24,6,0,8,6,2,8,6,6,0,4,5,0,3,6,2,8,4,6,9,6,9,8,9,2,0,12,4,6,6,6,6,6,8,8,0,2,0,1,0,2,0,0,8,4,0,0,6,0,12,1,2,2,9,0,5,0,12,0,12,9,6,12,6,0,6,4,0,0,6,0,0,0,2,0,6,8,4,6,0,12,0,12,0,10,0,2,0,4,0,8,4,0,12,6,6,3,0,12,0,12,0,0,0,2,6,15,0,0,6,0,0,0,3,10,2,4,0,5,12,12,4,6,10,2,8,6,12,0,0,0,4,2,6,0,4,0,12,15,0,4,6,12,6,12,4,0,4,4,9,4,3,0,0,0,8,15,6,16,12,6,0,2,8,4,3,4,8,0,0,8,8,10,9,6,0,9,3,15,6,12,6,4,12,0,6,0,6,0,4,0,4,12,12,1,6,6,6,4,6,6,0,12,6,6,0,0,6,0,12,2,9,0,8,16,8,4,10,0,3,0,12,8,3,0,6,4,3,4,15,4,12,0,6,20,6,6,0,12,6,12,3,0,6,6,0,4,0,0,0,2,3,2,4,3,18,4,2,6,4,8,6,6,4,6,2,1,0,4,0,9,2,8,12,10,0,4,8,0,9,16,9,3,0,4,4,8,6,0,0,0,6,3,8,0,3,8,0,2,6,3,6,0,3,0,0,3,15,0,6,9,9,4,8,9,2,0,4,6,0,0,3,0,0,2,5,6,0,2,18,3,6,8,0,9,0,12,9,6,6,8,6,0,3,6,9,0,6,6,3,6,6,8,6,6,6,3,9,4,2,0,0,12,2,0,0,2,6,4,0,4,3,0,0,2,0,15,6,0,4,6,0,6,2,8,0,0,9,12,6,6,9,0,6,0,2,2,4,0,4,8,9,8,6,0,8,10,6,9,6,6,0,2,6,2,0,0,9,8,8,8,0,2,9,6,3,0,12,15,0,0,0,10,10,12,12,12,12,9,6,17,0,8,15,2,0,4,3,0,3,0,4,0,3,0,8,5,0,1,9,6,8,0,4,9,4,0,0,4,4,4,8,4,0,9,6,9,6,6,6,9,6,15,6,12,8,10,9,9,6,0,0,2,2,3,8,2,8,6,6,10,0,0,0,8,4,3,3,6,0,0,0,6,4,3,0,4,8,14,10,20,12,4,6,9,4,4,12,0,8,0,0,6,12,6,12,15,2,8,20,6,12,3,8,0,6,0,6,0,9,0,8,9,4,6,2,6,9,12,0,6,0,0,12,3,2,0,0,4,4,8,4,6,8,8,8,4,6,0,0,9,12,2,0,8,6,0,3,16,12,3,0,4,8,3,6,1,9,6,12,6,9,10,6,4,4,0,0,4,12,6,10,9,8,6,0],\"xaxis\":\"x\",\"yaxis\":\"y\",\"type\":\"histogram\"},{\"alignmentgroup\":\"True\",\"bingroup\":\"x\",\"hovertemplate\":\"group=B\\u003cbr\\u003eevent_date=%{x}\\u003cbr\\u003ecount=%{y}\\u003cextra\\u003e\\u003c\\u002fextra\\u003e\",\"legendgroup\":\"B\",\"marker\":{\"color\":\"#EF553B\",\"pattern\":{\"shape\":\"\"}},\"name\":\"B\",\"offsetgroup\":\"B\",\"orientation\":\"v\",\"showlegend\":true,\"x\":[4,0,0,0,0,0,6,2,12,0,0,5,0,0,0,8,3,0,2,0,0,0,0,0,0,0,0,0,0,0,0,5,6,8,0,0,0,0,3,0,0,2,0,0,3,0,0,6,2,0,0,0,3,3,0,0,4,0,0,0,0,4,8,6,0,0,0,12,9,0,2,0,0,0,0,0,6,0,7,0,0,0,9,0,0,0,0,4,0,0,1,2,0,0,12,0,0,0,0,0,0,9,0,0,0,0,0,0,0,0,0,0,0,0,0,0,9,0,0,0,0,0,0,0,0,0,0,0,0,0,0,0,0,0,0,0,0,3,0,5,2,0,0,0,0,4,0,6,0,0,6,0,0,4,6,0,6,27,0,0,28,2,0,0,0,0,0,0,0,0,0,0,0,0,0,4,10,4,0,6,0,6,0,0,5,0,0,6,6,9,0,3,0,0,0,8,0,2,0,0,0,3,6,0,10,0,3,9,0,0,6,0,0,0,9,0,6,0,6,0,4,0,8,0,0,0,0,4,1,3,0,0,0,0,0,4,5,0,9,0,3,0,0,4,4,9,0,0,0,4,9,0,2,0,2,0,0,9,0,0,0,0,0,0,0,0,0,0,0,6,3,0,4,8,0,3,9,0,0,0,9,0,0,4,0,4,5,1,0,0,0,4,0,0,6,5,0,0,0,4,0,0,6,0,0,0,6,0,0,0,0,0,0,0,8,0,0,0,0,0,0,0,0,4,0,0,0,0,0,0,4,0,4,0,9,0,4,0,6,0,0,0,0,3,0,2,9,0,0,0,2,0,0,0,0,0,0,0,3,6,0,4,4,0,9,0,0,0,0,0,0,2,0,0,0,6,12,0,0,0,0,0,4,4,0,0,0,0,4,0,0,0,6,0,0,10,3,4,0,2,0,0,15,0,0,0,6,6,4,0,12,0,12,10,0,0,20,3,0,0,4,0,4,0,0,1,0,4,0,6,0,0,0,0,0,8,0,4,5,8,0,0,0,4,0,0,0,0,0,0,0,0,0,0,0,0,0,0,0,3,8,0,0,0,9,4,0,0,0,2,4,0,0,0,8,6,0,0,6,6,3,0,0,0,6,0,0,4,0,0,0,3,2,0,0,0,0,0,0,0,0,0,0,2,6,0,0,0,9,0,0,4,8,8,0,10,0,0,0,10,9,3,0,6,0,0,6,4,0,0,6,3,9,0,0,0,0,3,3,0,6,0,0,0,0,0,12,0,8,6,0,8,3,3,0,0,4,0,4,0,0,0,0,2,0,0,0,0,0,0,12,9,0,0,0,1,4,0,12,0,0,2,0,0,0,0,2,6,0,2,0,4,4,3,0,0,4,0,9,0,0,0,0,0,0,0,10,0,0,0,2,4,0,0,0,0,4,0,0,0,4,0,0,4,0,0,0,0,6,0,0,4,0,0,0,0,4,0,12,6,2,4,0,0,4,0,0,2,0,0,0,0,6,0,2,10,0,2,0,4,0,0,9,4,0,3,0,0,0,4,0,8,0,5,9,0,0,0,0,0,4,0,4,0,0,15,0,0,0,4,4,0,0,8,0,0,0,0,0,4,0,0,0,0,0,6,0,0,0,0,0,4,0,0,0,0,0,0,4,6,4,8,0,0,0,0,2,3,0,0,0,0,0,0,0,4,0,12,0,0,0,2,0,5,20,0,0,2,0,0,4,0,0,6,0,0,8,4,0,0,0,6,8,0,0,4,0,0,0,0,0,0,0,0,0,0,4,0,3,2,0,0,0,8,0,0,2,8,0,0,4,12,0,4,0,3,0,0,6,0,0,0,6,0,0,0,0,1,0,8,0,9,0,12,0,0,0,0,0,0,0,2,0,8,0,3,0,0,12,9,2,9,2,0,0,0,0,0,0,0,8,0,4,0,0,0,0,0,0,0,0,0,12,6,6,0,0,0,4,0,0,0,0,0,6,5,12,0,4,0,0,0,0,0,0,0,6,0,0,3,0,0,0,12,8,4,0,0,0,6,6,0,9,0,4,6,0,0,0,3,0,0,0,0,0,0,0,4,0,0,0,0,0,0,0,0,0,0,0,3,4,3,3,0,0,0,0,0,0,0,0,6,0,9,0,0,0,2,0,0,0,0,0,6,0,0,0,2,8,0,0,0,0,0,0,0,0,0,0,0,15,4,0,0,10,3,0,9,0,0,0,0,3,0,0,9,0,14,8,0,4,0,0,0,0,0,0,2,2,15,0,0,2,0,6,0,0,0,0,0,3,0,0,0,4,0,0,6,0,10,6,0,3,0,2,0,0,5,0,1,0,4,6,4,0,0,2,0,9,3,0,6,0,0,0,0,0,0,6,0,6,6,0,9,0,0,0,0,0,3,4,15,0,0,0,0,0,12,0,12,0,0,0,0,0,0,0,0,0,0,0,0,9,0,6,0,0,0,0,6,9,0,8,0,0,0,0,6,0,0,0,0,12,8,0,12,5,0,6,0,0,8,0,0,2,0,0,0,12,0,0,0,12,6,9,0,0,9,2,0,0,4,12,10,0,8,0,0,0,0,9,0,0,0,5,10,12,0,3,4,0,0,0,0,0,0,0,8,0,0,0,4,4,0,0,2,0,0,0,0,0,0,0,0,0,0,0,0,0,0,0,0,0,0,2,0,0,2,0,0,8,0,0,0,0,4,12,0,0,6,0,3,0,0,0,0,0,0,8,0,4,0,0,15,0,0,4,0,0,0,12,9,0,0,20,0,0,0,0,0,0,0,0,0,0,0,0,0,0,9,0,0,0,4,0,4,4,10,0,0,0,6,4,0,0,11,0,0,2,0,0,0,0,6,0,3,0,12,0,0,2,0,0,4,0,0,3,2,0,6,0,0,0,0,0,8,0,0,0,0,3,0,0,8,6,0,0,0,3,2,0,0,6,0,0,6,10,0,0,0,0,0,0,9,0,0,1,6,6,2,0,0,8,2,8,0,0,12,9,5,6,0,21,0,0,0,0,0,0,10,0,0,3,8,0,0,4,0,0,9,0,0,0,0,0,0,4,9,3,4,0,0,0,4,0,0,12,0,0,0,0,0,4,0,0,0,0,0,0,0,0,0,3,0,0,0,0,0,0,0,0,0,0,0,0,3,0,0,3,2,0,8,4,0,13,7,2,0,12,2,0,0,0,0,0,3,0,0,0,8,0,0,0,4,0,6,0,0,0,4,2,0,1,3,0,0,10,0,6,0,6,0,0,0,0,0,6,0,12,6,2,0,0,4,0,0,3,1,0,0,0,0,0,0,0,0,0,0,0,0,0,0,0,0,0,3,0,2,4,0,0,4,0,0,0,9,6,0,0,6,4,0,4,0,4,0,0,0,0,3,4,0,0,0,0,0,8,0,0,0,0,0,0,0,0,0,0,0,3,0,4,8,3,0,0,3,0,0,0,0,8,4,0,0,0,6,0,0,0,0,0,10,3,0,2,6,0,0,0,0,0,0,0,0,0,0,0,6,0,6,6,0,0,0,6,0,2,6,0,0,0,0,0,0,0,0,3,2,0,0,0,0,0,4,0,0,0,0,6,0,0,8,0,0,0,12,0,4,0,0,0,0,0,2,0,0,0,6,3,0,12,0,0,0,3,0,10,0,0,6,0,0,0,6,4,0,0,8,9,0,0,3,0,4,8,3,0,0,3,6,0,0,0,0,0,0,6,0,6,0,3,6,4,4,6,0,0,0,0,0,0,0,0,3,3,2,0,0,0,6,0,0,16,0,0,0,0,4,0,0,0,0,8,0,4,0,0,0,0,4,0,2,0,0,4,0,0,0,0,0,0,6,0,0,0,2,0,0,0,0,0,6,6,6,0,0,0,3,3,0,8,3,0,0,0,0,0,6,0,0,3,4,3,0,0,0,0,0,0,3,0,0,0,10,0,0,0,0,0,0,0,0,0,4,0,0,0,0,0,0,2,0,6,0,6,0,2,8,0,1,0,0,0,4,0,0,0,0,0,0,0,4,0,0,1,0,12,6,0,0,11,0,4,9,3,0,0,0,0,0,0,0,0,0,0,0,3,0,0,0,0,0,8,0,0,0,0,12,0,0,2,0,8,0,0,0,9,6,2,3,0,0,0,2,0,0,0,0,8,0,6,0,2,8,0,2,6,0,0,0,0,0,3,0,0,0,0,0,3,0,0,6,0,4,0,0,0,4,0,0,8,0,0,6,9,0,0,3,0,0,0,3,0,4,0,0,0,0,0,0,0,0,4,0,0,2,0,2,0,0,0,0,9,0,0,3,0,0,0,3,9,0,0,3,0,0,0,0,0,2,6,4,4,0,0,0,9,10,9,0,0,0,0,18,0,4,0,0,0,3,0,0,0,4,4,0,6,6,3,2,0,0,0,0,0,6,0,3,9,0,3,0,0,0,4,0,6,0,0,0,3,0,3,0,0,0,0,13,0,0,0,0,0,0,0,0,6,0,6,0,0,3,0,4,9,6,6,0,0,0,0,0,0,5,4,10,0,0,0,6,0,8,0,2,0,0,0,0,0,0,12,0,3,3,0,0,6,0,0,0,0,4,4,0,3,0,4,2,0,0,0,8,6,0,0,4,0,0,0,0,0,0,0,0,0,0,0,0,0,3,2,0,10,0,0,0,0,10,8,0,0,0,1,0,0,2,6,0,0,14,0,3,4,0,4,0,6,0,0,0,0,4,3,3,2,2,3,0,0,0,0,0,0,0,6,0,9,0,0,0,0,0,0,0,0,0,0,0,0,0,0,0,0,0,0,0,0,0,0,6,0,0,6,0,0,0,0,0,12,4,0,0,4,0,0,0,0,0,0,0,0,0,9,0,8,6,0,0,6,0,0,6,6,10,12,0,1,0,9,2,0,0,6,0,0,12,0,0,0,3,0,0,0,0,0,0,0,0,12,0,12,6,0,8,0,9,0,5,0,0,4,0,0,8,0,2,8,0,0,0,0,0,0,0,2,0,4,0,6,0,4,8,0,0,2,0,0,0,0,0,0,0,0,0,6,0,0,0,0,0,0,4,0,0,0,4,6,2,8,3,0,0,6,0,0,0,0,2,0,0,3,0,3,0,8,0,0,0,0,0,0,2,0,0,0,0,0,0,0,0,0,0,0,9,3,12,0,0,0,0,0,0,0,0,6,6,0,8,1,1,0,0,0,0,0,0,6,6,0,0,0,6,0,0,0,0,0,0,3,0,0,6,0,0,6,0,0,0,0,8,0,0,0,0,0,10,0,0,5,6,0,0,0,0,8,10,10,3,0,0,0,6,0,0,0,0,0,0,0,9,0,6,3,0,0,0,0,0,0,6,0,0,4,0,0,3,0,4,4,0,0,0,6,0,2,4,0,0,0,0,8,0,0,12,0,0,0,4,0,0,3,0,0,0,1,6,6,0,0,0,0,3,0,7,6,0,6,0,0,0,0,0,2,2,0,9,0,0,0,0,0,0,0,0,0,0,3,0,0,0,0,3,0,12,0,2,4,0,0,2,0,0,0,0,0,2,0,0,4,0,0,4,0,5,0,0,0,0,0,0,4,0,0,0,8,0,4,2,0,0,0,0,0,0,0,0,0,0,0,6,0,6,6,0,1,0,14,0,0,0,0,6,0,8,0,0,9,4,4,0,0,4,6,0,0,6,0,0,0,0,0,0,6,0,0,2,0,20,0,2,3,0,0,0,0,0,0,0,4,0,0,0,9],\"xaxis\":\"x\",\"yaxis\":\"y\",\"type\":\"histogram\"}],                        {\"template\":{\"data\":{\"histogram2dcontour\":[{\"type\":\"histogram2dcontour\",\"colorbar\":{\"outlinewidth\":0,\"ticks\":\"\"},\"colorscale\":[[0.0,\"#0d0887\"],[0.1111111111111111,\"#46039f\"],[0.2222222222222222,\"#7201a8\"],[0.3333333333333333,\"#9c179e\"],[0.4444444444444444,\"#bd3786\"],[0.5555555555555556,\"#d8576b\"],[0.6666666666666666,\"#ed7953\"],[0.7777777777777778,\"#fb9f3a\"],[0.8888888888888888,\"#fdca26\"],[1.0,\"#f0f921\"]]}],\"choropleth\":[{\"type\":\"choropleth\",\"colorbar\":{\"outlinewidth\":0,\"ticks\":\"\"}}],\"histogram2d\":[{\"type\":\"histogram2d\",\"colorbar\":{\"outlinewidth\":0,\"ticks\":\"\"},\"colorscale\":[[0.0,\"#0d0887\"],[0.1111111111111111,\"#46039f\"],[0.2222222222222222,\"#7201a8\"],[0.3333333333333333,\"#9c179e\"],[0.4444444444444444,\"#bd3786\"],[0.5555555555555556,\"#d8576b\"],[0.6666666666666666,\"#ed7953\"],[0.7777777777777778,\"#fb9f3a\"],[0.8888888888888888,\"#fdca26\"],[1.0,\"#f0f921\"]]}],\"heatmap\":[{\"type\":\"heatmap\",\"colorbar\":{\"outlinewidth\":0,\"ticks\":\"\"},\"colorscale\":[[0.0,\"#0d0887\"],[0.1111111111111111,\"#46039f\"],[0.2222222222222222,\"#7201a8\"],[0.3333333333333333,\"#9c179e\"],[0.4444444444444444,\"#bd3786\"],[0.5555555555555556,\"#d8576b\"],[0.6666666666666666,\"#ed7953\"],[0.7777777777777778,\"#fb9f3a\"],[0.8888888888888888,\"#fdca26\"],[1.0,\"#f0f921\"]]}],\"heatmapgl\":[{\"type\":\"heatmapgl\",\"colorbar\":{\"outlinewidth\":0,\"ticks\":\"\"},\"colorscale\":[[0.0,\"#0d0887\"],[0.1111111111111111,\"#46039f\"],[0.2222222222222222,\"#7201a8\"],[0.3333333333333333,\"#9c179e\"],[0.4444444444444444,\"#bd3786\"],[0.5555555555555556,\"#d8576b\"],[0.6666666666666666,\"#ed7953\"],[0.7777777777777778,\"#fb9f3a\"],[0.8888888888888888,\"#fdca26\"],[1.0,\"#f0f921\"]]}],\"contourcarpet\":[{\"type\":\"contourcarpet\",\"colorbar\":{\"outlinewidth\":0,\"ticks\":\"\"}}],\"contour\":[{\"type\":\"contour\",\"colorbar\":{\"outlinewidth\":0,\"ticks\":\"\"},\"colorscale\":[[0.0,\"#0d0887\"],[0.1111111111111111,\"#46039f\"],[0.2222222222222222,\"#7201a8\"],[0.3333333333333333,\"#9c179e\"],[0.4444444444444444,\"#bd3786\"],[0.5555555555555556,\"#d8576b\"],[0.6666666666666666,\"#ed7953\"],[0.7777777777777778,\"#fb9f3a\"],[0.8888888888888888,\"#fdca26\"],[1.0,\"#f0f921\"]]}],\"surface\":[{\"type\":\"surface\",\"colorbar\":{\"outlinewidth\":0,\"ticks\":\"\"},\"colorscale\":[[0.0,\"#0d0887\"],[0.1111111111111111,\"#46039f\"],[0.2222222222222222,\"#7201a8\"],[0.3333333333333333,\"#9c179e\"],[0.4444444444444444,\"#bd3786\"],[0.5555555555555556,\"#d8576b\"],[0.6666666666666666,\"#ed7953\"],[0.7777777777777778,\"#fb9f3a\"],[0.8888888888888888,\"#fdca26\"],[1.0,\"#f0f921\"]]}],\"mesh3d\":[{\"type\":\"mesh3d\",\"colorbar\":{\"outlinewidth\":0,\"ticks\":\"\"}}],\"scatter\":[{\"fillpattern\":{\"fillmode\":\"overlay\",\"size\":10,\"solidity\":0.2},\"type\":\"scatter\"}],\"parcoords\":[{\"type\":\"parcoords\",\"line\":{\"colorbar\":{\"outlinewidth\":0,\"ticks\":\"\"}}}],\"scatterpolargl\":[{\"type\":\"scatterpolargl\",\"marker\":{\"colorbar\":{\"outlinewidth\":0,\"ticks\":\"\"}}}],\"bar\":[{\"error_x\":{\"color\":\"#2a3f5f\"},\"error_y\":{\"color\":\"#2a3f5f\"},\"marker\":{\"line\":{\"color\":\"#E5ECF6\",\"width\":0.5},\"pattern\":{\"fillmode\":\"overlay\",\"size\":10,\"solidity\":0.2}},\"type\":\"bar\"}],\"scattergeo\":[{\"type\":\"scattergeo\",\"marker\":{\"colorbar\":{\"outlinewidth\":0,\"ticks\":\"\"}}}],\"scatterpolar\":[{\"type\":\"scatterpolar\",\"marker\":{\"colorbar\":{\"outlinewidth\":0,\"ticks\":\"\"}}}],\"histogram\":[{\"marker\":{\"pattern\":{\"fillmode\":\"overlay\",\"size\":10,\"solidity\":0.2}},\"type\":\"histogram\"}],\"scattergl\":[{\"type\":\"scattergl\",\"marker\":{\"colorbar\":{\"outlinewidth\":0,\"ticks\":\"\"}}}],\"scatter3d\":[{\"type\":\"scatter3d\",\"line\":{\"colorbar\":{\"outlinewidth\":0,\"ticks\":\"\"}},\"marker\":{\"colorbar\":{\"outlinewidth\":0,\"ticks\":\"\"}}}],\"scattermapbox\":[{\"type\":\"scattermapbox\",\"marker\":{\"colorbar\":{\"outlinewidth\":0,\"ticks\":\"\"}}}],\"scatterternary\":[{\"type\":\"scatterternary\",\"marker\":{\"colorbar\":{\"outlinewidth\":0,\"ticks\":\"\"}}}],\"scattercarpet\":[{\"type\":\"scattercarpet\",\"marker\":{\"colorbar\":{\"outlinewidth\":0,\"ticks\":\"\"}}}],\"carpet\":[{\"aaxis\":{\"endlinecolor\":\"#2a3f5f\",\"gridcolor\":\"white\",\"linecolor\":\"white\",\"minorgridcolor\":\"white\",\"startlinecolor\":\"#2a3f5f\"},\"baxis\":{\"endlinecolor\":\"#2a3f5f\",\"gridcolor\":\"white\",\"linecolor\":\"white\",\"minorgridcolor\":\"white\",\"startlinecolor\":\"#2a3f5f\"},\"type\":\"carpet\"}],\"table\":[{\"cells\":{\"fill\":{\"color\":\"#EBF0F8\"},\"line\":{\"color\":\"white\"}},\"header\":{\"fill\":{\"color\":\"#C8D4E3\"},\"line\":{\"color\":\"white\"}},\"type\":\"table\"}],\"barpolar\":[{\"marker\":{\"line\":{\"color\":\"#E5ECF6\",\"width\":0.5},\"pattern\":{\"fillmode\":\"overlay\",\"size\":10,\"solidity\":0.2}},\"type\":\"barpolar\"}],\"pie\":[{\"automargin\":true,\"type\":\"pie\"}]},\"layout\":{\"autotypenumbers\":\"strict\",\"colorway\":[\"#636efa\",\"#EF553B\",\"#00cc96\",\"#ab63fa\",\"#FFA15A\",\"#19d3f3\",\"#FF6692\",\"#B6E880\",\"#FF97FF\",\"#FECB52\"],\"font\":{\"color\":\"#2a3f5f\"},\"hovermode\":\"closest\",\"hoverlabel\":{\"align\":\"left\"},\"paper_bgcolor\":\"white\",\"plot_bgcolor\":\"#E5ECF6\",\"polar\":{\"bgcolor\":\"#E5ECF6\",\"angularaxis\":{\"gridcolor\":\"white\",\"linecolor\":\"white\",\"ticks\":\"\"},\"radialaxis\":{\"gridcolor\":\"white\",\"linecolor\":\"white\",\"ticks\":\"\"}},\"ternary\":{\"bgcolor\":\"#E5ECF6\",\"aaxis\":{\"gridcolor\":\"white\",\"linecolor\":\"white\",\"ticks\":\"\"},\"baxis\":{\"gridcolor\":\"white\",\"linecolor\":\"white\",\"ticks\":\"\"},\"caxis\":{\"gridcolor\":\"white\",\"linecolor\":\"white\",\"ticks\":\"\"}},\"coloraxis\":{\"colorbar\":{\"outlinewidth\":0,\"ticks\":\"\"}},\"colorscale\":{\"sequential\":[[0.0,\"#0d0887\"],[0.1111111111111111,\"#46039f\"],[0.2222222222222222,\"#7201a8\"],[0.3333333333333333,\"#9c179e\"],[0.4444444444444444,\"#bd3786\"],[0.5555555555555556,\"#d8576b\"],[0.6666666666666666,\"#ed7953\"],[0.7777777777777778,\"#fb9f3a\"],[0.8888888888888888,\"#fdca26\"],[1.0,\"#f0f921\"]],\"sequentialminus\":[[0.0,\"#0d0887\"],[0.1111111111111111,\"#46039f\"],[0.2222222222222222,\"#7201a8\"],[0.3333333333333333,\"#9c179e\"],[0.4444444444444444,\"#bd3786\"],[0.5555555555555556,\"#d8576b\"],[0.6666666666666666,\"#ed7953\"],[0.7777777777777778,\"#fb9f3a\"],[0.8888888888888888,\"#fdca26\"],[1.0,\"#f0f921\"]],\"diverging\":[[0,\"#8e0152\"],[0.1,\"#c51b7d\"],[0.2,\"#de77ae\"],[0.3,\"#f1b6da\"],[0.4,\"#fde0ef\"],[0.5,\"#f7f7f7\"],[0.6,\"#e6f5d0\"],[0.7,\"#b8e186\"],[0.8,\"#7fbc41\"],[0.9,\"#4d9221\"],[1,\"#276419\"]]},\"xaxis\":{\"gridcolor\":\"white\",\"linecolor\":\"white\",\"ticks\":\"\",\"title\":{\"standoff\":15},\"zerolinecolor\":\"white\",\"automargin\":true,\"zerolinewidth\":2},\"yaxis\":{\"gridcolor\":\"white\",\"linecolor\":\"white\",\"ticks\":\"\",\"title\":{\"standoff\":15},\"zerolinecolor\":\"white\",\"automargin\":true,\"zerolinewidth\":2},\"scene\":{\"xaxis\":{\"backgroundcolor\":\"#E5ECF6\",\"gridcolor\":\"white\",\"linecolor\":\"white\",\"showbackground\":true,\"ticks\":\"\",\"zerolinecolor\":\"white\",\"gridwidth\":2},\"yaxis\":{\"backgroundcolor\":\"#E5ECF6\",\"gridcolor\":\"white\",\"linecolor\":\"white\",\"showbackground\":true,\"ticks\":\"\",\"zerolinecolor\":\"white\",\"gridwidth\":2},\"zaxis\":{\"backgroundcolor\":\"#E5ECF6\",\"gridcolor\":\"white\",\"linecolor\":\"white\",\"showbackground\":true,\"ticks\":\"\",\"zerolinecolor\":\"white\",\"gridwidth\":2}},\"shapedefaults\":{\"line\":{\"color\":\"#2a3f5f\"}},\"annotationdefaults\":{\"arrowcolor\":\"#2a3f5f\",\"arrowhead\":0,\"arrowwidth\":1},\"geo\":{\"bgcolor\":\"white\",\"landcolor\":\"#E5ECF6\",\"subunitcolor\":\"white\",\"showland\":true,\"showlakes\":true,\"lakecolor\":\"white\"},\"title\":{\"x\":0.05},\"mapbox\":{\"style\":\"light\"}}},\"xaxis\":{\"anchor\":\"y\",\"domain\":[0.0,1.0],\"title\":{\"text\":\"event_date\"}},\"yaxis\":{\"anchor\":\"x\",\"domain\":[0.0,1.0],\"title\":{\"text\":\"count\"}},\"legend\":{\"title\":{\"text\":\"group\"},\"tracegroupgap\":0},\"title\":{\"text\":\"\\u041a\\u043e\\u043b-\\u0432\\u043e \\u043f\\u043e\\u043b\\u044c\\u0437\\u043e\\u0432\\u0430\\u0442\\u0435\\u043b\\u0435\\u0439 \\u043f\\u043e \\u043a\\u043e\\u043b\\u0438\\u0447\\u0435\\u0441\\u0442\\u0432\\u0443 \\u043e\\u0441\\u0443\\u0449\\u0435\\u0441\\u0442\\u0432\\u043b\\u044f\\u0435\\u043c\\u044b\\u0445 \\u0441\\u043e\\u0431\\u044b\\u0442\\u0438\\u0439\"},\"barmode\":\"relative\",\"height\":500,\"width\":600},                        {\"responsive\": true}                    ).then(function(){\n",
              "                            \n",
              "var gd = document.getElementById('c04c97e1-d991-431d-938a-9a8eb1e0465f');\n",
              "var x = new MutationObserver(function (mutations, observer) {{\n",
              "        var display = window.getComputedStyle(gd).display;\n",
              "        if (!display || display === 'none') {{\n",
              "            console.log([gd, 'removed!']);\n",
              "            Plotly.purge(gd);\n",
              "            observer.disconnect();\n",
              "        }}\n",
              "}});\n",
              "\n",
              "// Listen for the removal of the full notebook cells\n",
              "var notebookContainer = gd.closest('#notebook-container');\n",
              "if (notebookContainer) {{\n",
              "    x.observe(notebookContainer, {childList: true});\n",
              "}}\n",
              "\n",
              "// Listen for the clearing of the current output cell\n",
              "var outputEl = gd.closest('.output');\n",
              "if (outputEl) {{\n",
              "    x.observe(outputEl, {childList: true});\n",
              "}}\n",
              "\n",
              "                        })                };                            </script>        </div>\n",
              "</body>\n",
              "</html>"
            ]
          },
          "metadata": {}
        }
      ],
      "source": [
        "data_rst.groupby(['group','user_id'])['event_date'].count().reset_index()\n",
        "fig = px.histogram(data_rst.groupby(['group','user_id'])['event_date'].count().reset_index(), x= 'event_date',\\\n",
        "                   color = 'group',width=600, height=500, title = 'Кол-во пользователей по количеству осуществляемых событий')\n",
        "fig.show()"
      ]
    },
    {
      "cell_type": "markdown",
      "metadata": {
        "id": "WvQpxMMgpVTO"
      },
      "source": [
        "Посчитаем среднее кол-во событий на пользователя в группах"
      ]
    },
    {
      "cell_type": "code",
      "execution_count": 40,
      "metadata": {
        "colab": {
          "base_uri": "https://localhost:8080/",
          "height": 112
        },
        "id": "CiJQmnUSpVTP",
        "outputId": "e0049750-acc2-4edc-eab9-2a5774295939"
      },
      "outputs": [
        {
          "output_type": "execute_result",
          "data": {
            "text/plain": [
              "  group  event_cnt  user_cnt  event_per_user\n",
              "0     A      17149      3385             5.0\n",
              "1     B       4693      2533             2.0"
            ],
            "text/html": [
              "\n",
              "  <div id=\"df-14827551-8c44-4176-9a27-b5f5292d41e8\" class=\"colab-df-container\">\n",
              "    <div>\n",
              "<style scoped>\n",
              "    .dataframe tbody tr th:only-of-type {\n",
              "        vertical-align: middle;\n",
              "    }\n",
              "\n",
              "    .dataframe tbody tr th {\n",
              "        vertical-align: top;\n",
              "    }\n",
              "\n",
              "    .dataframe thead th {\n",
              "        text-align: right;\n",
              "    }\n",
              "</style>\n",
              "<table border=\"1\" class=\"dataframe\">\n",
              "  <thead>\n",
              "    <tr style=\"text-align: right;\">\n",
              "      <th></th>\n",
              "      <th>group</th>\n",
              "      <th>event_cnt</th>\n",
              "      <th>user_cnt</th>\n",
              "      <th>event_per_user</th>\n",
              "    </tr>\n",
              "  </thead>\n",
              "  <tbody>\n",
              "    <tr>\n",
              "      <th>0</th>\n",
              "      <td>A</td>\n",
              "      <td>17149</td>\n",
              "      <td>3385</td>\n",
              "      <td>5.0</td>\n",
              "    </tr>\n",
              "    <tr>\n",
              "      <th>1</th>\n",
              "      <td>B</td>\n",
              "      <td>4693</td>\n",
              "      <td>2533</td>\n",
              "      <td>2.0</td>\n",
              "    </tr>\n",
              "  </tbody>\n",
              "</table>\n",
              "</div>\n",
              "    <div class=\"colab-df-buttons\">\n",
              "\n",
              "  <div class=\"colab-df-container\">\n",
              "    <button class=\"colab-df-convert\" onclick=\"convertToInteractive('df-14827551-8c44-4176-9a27-b5f5292d41e8')\"\n",
              "            title=\"Convert this dataframe to an interactive table.\"\n",
              "            style=\"display:none;\">\n",
              "\n",
              "  <svg xmlns=\"http://www.w3.org/2000/svg\" height=\"24px\" viewBox=\"0 -960 960 960\">\n",
              "    <path d=\"M120-120v-720h720v720H120Zm60-500h600v-160H180v160Zm220 220h160v-160H400v160Zm0 220h160v-160H400v160ZM180-400h160v-160H180v160Zm440 0h160v-160H620v160ZM180-180h160v-160H180v160Zm440 0h160v-160H620v160Z\"/>\n",
              "  </svg>\n",
              "    </button>\n",
              "\n",
              "  <style>\n",
              "    .colab-df-container {\n",
              "      display:flex;\n",
              "      gap: 12px;\n",
              "    }\n",
              "\n",
              "    .colab-df-convert {\n",
              "      background-color: #E8F0FE;\n",
              "      border: none;\n",
              "      border-radius: 50%;\n",
              "      cursor: pointer;\n",
              "      display: none;\n",
              "      fill: #1967D2;\n",
              "      height: 32px;\n",
              "      padding: 0 0 0 0;\n",
              "      width: 32px;\n",
              "    }\n",
              "\n",
              "    .colab-df-convert:hover {\n",
              "      background-color: #E2EBFA;\n",
              "      box-shadow: 0px 1px 2px rgba(60, 64, 67, 0.3), 0px 1px 3px 1px rgba(60, 64, 67, 0.15);\n",
              "      fill: #174EA6;\n",
              "    }\n",
              "\n",
              "    .colab-df-buttons div {\n",
              "      margin-bottom: 4px;\n",
              "    }\n",
              "\n",
              "    [theme=dark] .colab-df-convert {\n",
              "      background-color: #3B4455;\n",
              "      fill: #D2E3FC;\n",
              "    }\n",
              "\n",
              "    [theme=dark] .colab-df-convert:hover {\n",
              "      background-color: #434B5C;\n",
              "      box-shadow: 0px 1px 3px 1px rgba(0, 0, 0, 0.15);\n",
              "      filter: drop-shadow(0px 1px 2px rgba(0, 0, 0, 0.3));\n",
              "      fill: #FFFFFF;\n",
              "    }\n",
              "  </style>\n",
              "\n",
              "    <script>\n",
              "      const buttonEl =\n",
              "        document.querySelector('#df-14827551-8c44-4176-9a27-b5f5292d41e8 button.colab-df-convert');\n",
              "      buttonEl.style.display =\n",
              "        google.colab.kernel.accessAllowed ? 'block' : 'none';\n",
              "\n",
              "      async function convertToInteractive(key) {\n",
              "        const element = document.querySelector('#df-14827551-8c44-4176-9a27-b5f5292d41e8');\n",
              "        const dataTable =\n",
              "          await google.colab.kernel.invokeFunction('convertToInteractive',\n",
              "                                                    [key], {});\n",
              "        if (!dataTable) return;\n",
              "\n",
              "        const docLinkHtml = 'Like what you see? Visit the ' +\n",
              "          '<a target=\"_blank\" href=https://colab.research.google.com/notebooks/data_table.ipynb>data table notebook</a>'\n",
              "          + ' to learn more about interactive tables.';\n",
              "        element.innerHTML = '';\n",
              "        dataTable['output_type'] = 'display_data';\n",
              "        await google.colab.output.renderOutput(dataTable, element);\n",
              "        const docLink = document.createElement('div');\n",
              "        docLink.innerHTML = docLinkHtml;\n",
              "        element.appendChild(docLink);\n",
              "      }\n",
              "    </script>\n",
              "  </div>\n",
              "\n",
              "\n",
              "<div id=\"df-1494291e-116a-4c85-879f-d64a1bbed0fa\">\n",
              "  <button class=\"colab-df-quickchart\" onclick=\"quickchart('df-1494291e-116a-4c85-879f-d64a1bbed0fa')\"\n",
              "            title=\"Suggest charts.\"\n",
              "            style=\"display:none;\">\n",
              "\n",
              "<svg xmlns=\"http://www.w3.org/2000/svg\" height=\"24px\"viewBox=\"0 0 24 24\"\n",
              "     width=\"24px\">\n",
              "    <g>\n",
              "        <path d=\"M19 3H5c-1.1 0-2 .9-2 2v14c0 1.1.9 2 2 2h14c1.1 0 2-.9 2-2V5c0-1.1-.9-2-2-2zM9 17H7v-7h2v7zm4 0h-2V7h2v10zm4 0h-2v-4h2v4z\"/>\n",
              "    </g>\n",
              "</svg>\n",
              "  </button>\n",
              "\n",
              "<style>\n",
              "  .colab-df-quickchart {\n",
              "      --bg-color: #E8F0FE;\n",
              "      --fill-color: #1967D2;\n",
              "      --hover-bg-color: #E2EBFA;\n",
              "      --hover-fill-color: #174EA6;\n",
              "      --disabled-fill-color: #AAA;\n",
              "      --disabled-bg-color: #DDD;\n",
              "  }\n",
              "\n",
              "  [theme=dark] .colab-df-quickchart {\n",
              "      --bg-color: #3B4455;\n",
              "      --fill-color: #D2E3FC;\n",
              "      --hover-bg-color: #434B5C;\n",
              "      --hover-fill-color: #FFFFFF;\n",
              "      --disabled-bg-color: #3B4455;\n",
              "      --disabled-fill-color: #666;\n",
              "  }\n",
              "\n",
              "  .colab-df-quickchart {\n",
              "    background-color: var(--bg-color);\n",
              "    border: none;\n",
              "    border-radius: 50%;\n",
              "    cursor: pointer;\n",
              "    display: none;\n",
              "    fill: var(--fill-color);\n",
              "    height: 32px;\n",
              "    padding: 0;\n",
              "    width: 32px;\n",
              "  }\n",
              "\n",
              "  .colab-df-quickchart:hover {\n",
              "    background-color: var(--hover-bg-color);\n",
              "    box-shadow: 0 1px 2px rgba(60, 64, 67, 0.3), 0 1px 3px 1px rgba(60, 64, 67, 0.15);\n",
              "    fill: var(--button-hover-fill-color);\n",
              "  }\n",
              "\n",
              "  .colab-df-quickchart-complete:disabled,\n",
              "  .colab-df-quickchart-complete:disabled:hover {\n",
              "    background-color: var(--disabled-bg-color);\n",
              "    fill: var(--disabled-fill-color);\n",
              "    box-shadow: none;\n",
              "  }\n",
              "\n",
              "  .colab-df-spinner {\n",
              "    border: 2px solid var(--fill-color);\n",
              "    border-color: transparent;\n",
              "    border-bottom-color: var(--fill-color);\n",
              "    animation:\n",
              "      spin 1s steps(1) infinite;\n",
              "  }\n",
              "\n",
              "  @keyframes spin {\n",
              "    0% {\n",
              "      border-color: transparent;\n",
              "      border-bottom-color: var(--fill-color);\n",
              "      border-left-color: var(--fill-color);\n",
              "    }\n",
              "    20% {\n",
              "      border-color: transparent;\n",
              "      border-left-color: var(--fill-color);\n",
              "      border-top-color: var(--fill-color);\n",
              "    }\n",
              "    30% {\n",
              "      border-color: transparent;\n",
              "      border-left-color: var(--fill-color);\n",
              "      border-top-color: var(--fill-color);\n",
              "      border-right-color: var(--fill-color);\n",
              "    }\n",
              "    40% {\n",
              "      border-color: transparent;\n",
              "      border-right-color: var(--fill-color);\n",
              "      border-top-color: var(--fill-color);\n",
              "    }\n",
              "    60% {\n",
              "      border-color: transparent;\n",
              "      border-right-color: var(--fill-color);\n",
              "    }\n",
              "    80% {\n",
              "      border-color: transparent;\n",
              "      border-right-color: var(--fill-color);\n",
              "      border-bottom-color: var(--fill-color);\n",
              "    }\n",
              "    90% {\n",
              "      border-color: transparent;\n",
              "      border-bottom-color: var(--fill-color);\n",
              "    }\n",
              "  }\n",
              "</style>\n",
              "\n",
              "  <script>\n",
              "    async function quickchart(key) {\n",
              "      const quickchartButtonEl =\n",
              "        document.querySelector('#' + key + ' button');\n",
              "      quickchartButtonEl.disabled = true;  // To prevent multiple clicks.\n",
              "      quickchartButtonEl.classList.add('colab-df-spinner');\n",
              "      try {\n",
              "        const charts = await google.colab.kernel.invokeFunction(\n",
              "            'suggestCharts', [key], {});\n",
              "      } catch (error) {\n",
              "        console.error('Error during call to suggestCharts:', error);\n",
              "      }\n",
              "      quickchartButtonEl.classList.remove('colab-df-spinner');\n",
              "      quickchartButtonEl.classList.add('colab-df-quickchart-complete');\n",
              "    }\n",
              "    (() => {\n",
              "      let quickchartButtonEl =\n",
              "        document.querySelector('#df-1494291e-116a-4c85-879f-d64a1bbed0fa button');\n",
              "      quickchartButtonEl.style.display =\n",
              "        google.colab.kernel.accessAllowed ? 'block' : 'none';\n",
              "    })();\n",
              "  </script>\n",
              "</div>\n",
              "    </div>\n",
              "  </div>\n"
            ]
          },
          "metadata": {},
          "execution_count": 40
        }
      ],
      "source": [
        "data_groups = data_rst.groupby(['group','user_id'])['event_date'].count().reset_index()\n",
        "data_groups_event = data_groups.groupby(['group'])['event_date'].sum().reset_index().\\\n",
        "                    merge(data_groups.groupby(['group'])['user_id'].nunique().\\\n",
        "                    reset_index(), on = 'group')\n",
        "data_groups_event.columns = ['group', 'event_cnt', 'user_cnt']\n",
        "data_groups_event['event_per_user'] = (data_groups_event['event_cnt']/data_groups_event['user_cnt']).\\\n",
        "            round()\n",
        "data_groups_event"
      ]
    },
    {
      "cell_type": "markdown",
      "metadata": {
        "id": "EEg7klcPpVTP"
      },
      "source": [
        "**Вывод:** распределение кол-ва событий на пользователя в обеих группах имеет похожую форму - и в гр.А, и в группе В очень много пользователей, не осуществивших ни одного события;  \n",
        "в обеих группах очень мало пользователей, осуществивших по 5 и 7 событий;  \n",
        "больше всего пользователей осуществляют 4 и 6 событий.  \n",
        "Среднее кол-во событий на пользователя в группе А - 5, в группе В - 2"
      ]
    },
    {
      "cell_type": "markdown",
      "metadata": {
        "id": "aJvrWrRxpVTQ"
      },
      "source": [
        "### Оценим распределение числа событий в выборках по дням"
      ]
    },
    {
      "cell_type": "code",
      "execution_count": 41,
      "metadata": {
        "colab": {
          "base_uri": "https://localhost:8080/",
          "height": 619
        },
        "id": "i1Kb8q7lpVTQ",
        "outputId": "11adb009-1fa1-4dcb-ec75-5dd6a7767d4c"
      },
      "outputs": [
        {
          "output_type": "display_data",
          "data": {
            "text/plain": [
              "<Figure size 1000x500 with 1 Axes>"
            ],
            "image/png": "[encoded data removed]"
          },
          "metadata": {}
        }
      ],
      "source": [
        "data_rst.pivot_table(index = 'event_date', columns = 'group', values = 'user_id', aggfunc = 'count').\\\n",
        "    plot(kind = 'bar', figsize = (10, 5), title = 'Количество событий по дням', ylabel = 'Кол-во событий',\n",
        "        xlabel = 'дата');"
      ]
    },
    {
      "cell_type": "markdown",
      "metadata": {
        "id": "OrDLiwmUpVTR"
      },
      "source": [
        "**Выводы:**\n",
        "1. В группе А мы видим сильный рост количества событий с 2020-12-14, после остановки набора пользователей в тест 2020-12-21 кол-во событий постепенно уменьшается\n",
        "2. В группе В мы видим достаточно равномерное распределение количества событий по дням, после остановки набора пользователей в тест 2020-12-21 кол-во событий постепенно уменьшается"
      ]
    },
    {
      "cell_type": "markdown",
      "metadata": {
        "id": "Yrtmek1HDvoH"
      },
      "source": [
        "### Посмотрим на распределение кол-ва совершаемых пользователями событий в тестовых группах по дням:\n",
        "1. кол-во регистраций\n",
        "2. кол-во авторизаций\n",
        "3. кол-во просмотров карточек товаров\n",
        "4. кол-во просмотров корзины\n",
        "5. кол-во покупок"
      ]
    },
    {
      "cell_type": "markdown",
      "metadata": {
        "id": "cdPcAPhlFYXo"
      },
      "source": [
        "#### Оценим кол-во регистраций пользователей по группам по дням"
      ]
    },
    {
      "cell_type": "code",
      "execution_count": 42,
      "metadata": {
        "colab": {
          "base_uri": "https://localhost:8080/",
          "height": 366
        },
        "id": "-JHl-T-4Fktr",
        "outputId": "eafd4712-bb98-4631-e08b-3713e74218f9"
      },
      "outputs": [
        {
          "output_type": "display_data",
          "data": {
            "text/plain": [
              "<Figure size 1000x300 with 1 Axes>"
            ],
            "image/png": "[encoded data removed]"
          },
          "metadata": {}
        }
      ],
      "source": [
        "plt.figure(figsize=(10, 3))\n",
        "plt.rcParams.update({'font.size': 10})\n",
        "\n",
        "data_rst.pivot_table(index = 'first_date', columns = 'group', values = 'user_id', aggfunc = 'nunique').\\\n",
        "      plot(ax=plt.subplot(1, 2, 1), ylabel = \"Кол-во регистраций\", xlabel = 'Дата', fontsize=10, grid = True,\\\n",
        "           title = 'Количество регистраций по дням');"
      ]
    },
    {
      "cell_type": "code",
      "execution_count": 43,
      "metadata": {
        "colab": {
          "base_uri": "https://localhost:8080/"
        },
        "id": "n0hfoL5q8Wgf",
        "outputId": "dd216346-a8c2-4efb-b0ac-cbd3b03230d4"
      },
      "outputs": [
        {
          "output_type": "execute_result",
          "data": {
            "text/plain": [
              "event_name\n",
              "login           9901\n",
              "product_cart    2886\n",
              "product_page    6116\n",
              "purchase        2939\n",
              "Name: event_name, dtype: int64"
            ]
          },
          "metadata": {},
          "execution_count": 43
        }
      ],
      "source": [
        "data_rst.groupby('event_name')['event_name'].count()"
      ]
    },
    {
      "cell_type": "code",
      "execution_count": 44,
      "metadata": {
        "colab": {
          "base_uri": "https://localhost:8080/"
        },
        "id": "SZe50k4i6hQk",
        "outputId": "a312aed9-30c6-496e-afa6-8b08b0eabeda"
      },
      "outputs": [
        {
          "output_type": "stream",
          "name": "stdout",
          "text": [
            "<class 'pandas.core.frame.DataFrame'>\n",
            "Int64Index: 24516 entries, 0 to 24515\n",
            "Data columns (total 11 columns):\n",
            " #   Column      Non-Null Count  Dtype         \n",
            "---  ------      --------------  -----         \n",
            " 0   user_id     24516 non-null  object        \n",
            " 1   group       24516 non-null  object        \n",
            " 2   ab_test     24516 non-null  object        \n",
            " 3   first_date  24516 non-null  datetime64[ns]\n",
            " 4   region      24516 non-null  object        \n",
            " 5   device      24516 non-null  object        \n",
            " 6   event_dt    21842 non-null  datetime64[ns]\n",
            " 7   event_name  21842 non-null  object        \n",
            " 8   details     2939 non-null   float64       \n",
            " 9   event_date  21842 non-null  datetime64[ns]\n",
            " 10  day_event   21842 non-null  float64       \n",
            "dtypes: datetime64[ns](3), float64(2), object(6)\n",
            "memory usage: 2.2+ MB\n"
          ]
        }
      ],
      "source": [
        "data_rst.info()"
      ]
    },
    {
      "cell_type": "markdown",
      "metadata": {
        "id": "LIxFK9-1n3KU"
      },
      "source": [
        "Подготовим таблицу с первыми событиями на каждого пользователя в группе А, группе B"
      ]
    },
    {
      "cell_type": "code",
      "execution_count": 45,
      "metadata": {
        "id": "JSBLvU2kEe2S"
      },
      "outputs": [],
      "source": [
        "data_events_A = data_rst.query('group == \"A\"').\\\n",
        "                pivot_table(index = 'user_id', columns = 'event_name', values = 'event_date',\\\n",
        "                aggfunc = 'min')\n",
        "data_events_B = data_rst.query('group == \"B\"').\\\n",
        "                pivot_table(index = 'user_id', columns = 'event_name', values = 'event_date',\\\n",
        "                aggfunc = 'min')"
      ]
    },
    {
      "cell_type": "markdown",
      "metadata": {
        "id": "PqZ139m-pVTU"
      },
      "source": [
        "#### Сравним кол-во регистраций и кол-во авторизаций по группам"
      ]
    },
    {
      "cell_type": "code",
      "execution_count": 46,
      "metadata": {
        "colab": {
          "base_uri": "https://localhost:8080/",
          "height": 534
        },
        "id": "GoHTbnUHD6XP",
        "outputId": "bfb91563-c683-4baa-81d5-fe4e189e30cd"
      },
      "outputs": [
        {
          "output_type": "display_data",
          "data": {
            "text/plain": [
              "<Figure size 1500x500 with 2 Axes>"
            ],
            "image/png": "[encoded data removed]"
          },
          "metadata": {}
        }
      ],
      "source": [
        "fig, axs = plt.subplots(nrows= 1 , ncols= 2, figsize=(15, 5))\n",
        "\n",
        "event_login_A = data_events_A.groupby(['login'])['login'].count()\n",
        "axs[1].plot(event_login_A.index, event_login_A, label='A')\n",
        "\n",
        "event_login_B = data_events_B.groupby(['login'])['login'].count()\n",
        "axs[1].plot( event_login_B.index, event_login_B, label='B')\n",
        "\n",
        "axs[1].set_title('Кол-во авторизаций по дням')\n",
        "axs[1].tick_params(labelrotation=90)\n",
        "\n",
        "data_rst.pivot_table(index = 'first_date', columns = 'group', values = 'user_id', aggfunc = 'nunique').\\\n",
        "      plot(ax=plt.subplot(1, 2, 1), ylabel = \"Кол-во регистраций\", xlabel = 'Дата', fontsize=10, grid = True,\\\n",
        "           title = 'Количество регистраций по дням');\n"
      ]
    },
    {
      "cell_type": "markdown",
      "metadata": {
        "id": "HSAgRJKhpVTV"
      },
      "source": [
        "#### Оценим кол-во просмотров карточек товаров по группам"
      ]
    },
    {
      "cell_type": "code",
      "execution_count": 47,
      "metadata": {
        "colab": {
          "base_uri": "https://localhost:8080/",
          "height": 381
        },
        "id": "Mxsx0I0huC1O",
        "outputId": "cb3ccec5-c0f1-44c4-f387-c21e48e257fb"
      },
      "outputs": [
        {
          "output_type": "display_data",
          "data": {
            "text/plain": [
              "<Figure size 500x300 with 1 Axes>"
            ],
            "image/png": "[encoded data removed]"
          },
          "metadata": {}
        }
      ],
      "source": [
        "plt.figure(figsize=(5, 3))\n",
        "event_login_A = data_events_A.groupby(['product_page'])['product_page'].count()\n",
        "plt.plot(event_login_A.index, event_login_A, label='A')\n",
        "\n",
        "event_login_B = data_events_B.groupby(['product_page'])['product_page'].count()\n",
        "plt.plot(event_login_B.index, event_login_B, label='B')\n",
        "\n",
        "plt.title('Кол-во просмотров карточек товаров')\n",
        "plt.xticks(rotation=75)\n",
        "plt.ylabel('Кол-во событий')\n",
        "plt.grid(True)\n",
        "plt.legend();"
      ]
    },
    {
      "cell_type": "markdown",
      "metadata": {
        "id": "5KB-cQIgpVTW"
      },
      "source": [
        "#### Оценим кол-во просмотров корзины товаров по группам"
      ]
    },
    {
      "cell_type": "code",
      "execution_count": 48,
      "metadata": {
        "colab": {
          "base_uri": "https://localhost:8080/",
          "height": 381
        },
        "id": "p6fIXjNAGyRZ",
        "outputId": "973f9829-b009-4273-d6ba-b2ee1c78e0dc"
      },
      "outputs": [
        {
          "output_type": "display_data",
          "data": {
            "text/plain": [
              "<Figure size 500x300 with 1 Axes>"
            ],
            "image/png": "[encoded data removed]"
          },
          "metadata": {}
        }
      ],
      "source": [
        "plt.figure(figsize=(5, 3))\n",
        "event_login_A = data_events_A.groupby(['product_cart'])['product_cart'].count()\n",
        "plt.plot(event_login_A.index, event_login_A, label='A')\n",
        "\n",
        "event_login_B = data_events_B.groupby(['product_cart'])['product_cart'].count()\n",
        "plt.plot(event_login_B.index, event_login_B, label='B')\n",
        "\n",
        "plt.title('Кол-во просмотров корзины по дням')\n",
        "plt.xticks(rotation=75)\n",
        "plt.ylabel('Кол-во событий')\n",
        "plt.grid(True)\n",
        "plt.legend();"
      ]
    },
    {
      "cell_type": "markdown",
      "metadata": {
        "id": "vWPbHXDupVTW"
      },
      "source": [
        "#### Оценим кол-во покупок товаров по группам"
      ]
    },
    {
      "cell_type": "code",
      "execution_count": 49,
      "metadata": {
        "colab": {
          "base_uri": "https://localhost:8080/",
          "height": 381
        },
        "id": "Nsgn0ZLRG1MC",
        "outputId": "4831a4e3-2e8e-4170-e92b-1a2d5a5fccc1"
      },
      "outputs": [
        {
          "output_type": "display_data",
          "data": {
            "text/plain": [
              "<Figure size 500x300 with 1 Axes>"
            ],
            "image/png": "[encoded data removed]"
          },
          "metadata": {}
        }
      ],
      "source": [
        "plt.figure(figsize=(5, 3))\n",
        "event_login_A = data_events_A.groupby(['purchase'])['purchase'].count()\n",
        "plt.plot(event_login_A.index, event_login_A, label='A')\n",
        "\n",
        "event_login_B = data_events_B.groupby(['purchase'])['purchase'].count()\n",
        "plt.plot(event_login_B.index, event_login_B, label='B')\n",
        "\n",
        "plt.title('Кол-во первых покупок по дням')\n",
        "plt.xticks(rotation=75)\n",
        "plt.ylabel('Кол-во событий')\n",
        "plt.grid(True)\n",
        "plt.legend();\n"
      ]
    },
    {
      "cell_type": "markdown",
      "metadata": {
        "id": "69tWwi47OmFH"
      },
      "source": [
        "Посмотрим, на какой день пользователи совершают покупку в среднем и наиболее часто"
      ]
    },
    {
      "cell_type": "code",
      "execution_count": 50,
      "metadata": {
        "colab": {
          "base_uri": "https://localhost:8080/",
          "height": 144
        },
        "id": "hH1wS2qjJmJW",
        "outputId": "8513a616-2b37-4333-c7f8-7db8138883fd"
      },
      "outputs": [
        {
          "output_type": "execute_result",
          "data": {
            "text/plain": [
              "        count  mean  std  min  25%  50%  75%   max\n",
              "group                                             \n",
              "A      2359.0   3.0  4.0  0.0  0.0  2.0  5.0  22.0\n",
              "B       580.0   4.0  5.0  0.0  0.0  1.0  5.0  22.0"
            ],
            "text/html": [
              "\n",
              "  <div id=\"df-2581675f-fa1b-4fbc-bf4b-25f859620a0c\" class=\"colab-df-container\">\n",
              "    <div>\n",
              "<style scoped>\n",
              "    .dataframe tbody tr th:only-of-type {\n",
              "        vertical-align: middle;\n",
              "    }\n",
              "\n",
              "    .dataframe tbody tr th {\n",
              "        vertical-align: top;\n",
              "    }\n",
              "\n",
              "    .dataframe thead th {\n",
              "        text-align: right;\n",
              "    }\n",
              "</style>\n",
              "<table border=\"1\" class=\"dataframe\">\n",
              "  <thead>\n",
              "    <tr style=\"text-align: right;\">\n",
              "      <th></th>\n",
              "      <th>count</th>\n",
              "      <th>mean</th>\n",
              "      <th>std</th>\n",
              "      <th>min</th>\n",
              "      <th>25%</th>\n",
              "      <th>50%</th>\n",
              "      <th>75%</th>\n",
              "      <th>max</th>\n",
              "    </tr>\n",
              "    <tr>\n",
              "      <th>group</th>\n",
              "      <th></th>\n",
              "      <th></th>\n",
              "      <th></th>\n",
              "      <th></th>\n",
              "      <th></th>\n",
              "      <th></th>\n",
              "      <th></th>\n",
              "      <th></th>\n",
              "    </tr>\n",
              "  </thead>\n",
              "  <tbody>\n",
              "    <tr>\n",
              "      <th>A</th>\n",
              "      <td>2359.0</td>\n",
              "      <td>3.0</td>\n",
              "      <td>4.0</td>\n",
              "      <td>0.0</td>\n",
              "      <td>0.0</td>\n",
              "      <td>2.0</td>\n",
              "      <td>5.0</td>\n",
              "      <td>22.0</td>\n",
              "    </tr>\n",
              "    <tr>\n",
              "      <th>B</th>\n",
              "      <td>580.0</td>\n",
              "      <td>4.0</td>\n",
              "      <td>5.0</td>\n",
              "      <td>0.0</td>\n",
              "      <td>0.0</td>\n",
              "      <td>1.0</td>\n",
              "      <td>5.0</td>\n",
              "      <td>22.0</td>\n",
              "    </tr>\n",
              "  </tbody>\n",
              "</table>\n",
              "</div>\n",
              "    <div class=\"colab-df-buttons\">\n",
              "\n",
              "  <div class=\"colab-df-container\">\n",
              "    <button class=\"colab-df-convert\" onclick=\"convertToInteractive('df-2581675f-fa1b-4fbc-bf4b-25f859620a0c')\"\n",
              "            title=\"Convert this dataframe to an interactive table.\"\n",
              "            style=\"display:none;\">\n",
              "\n",
              "  <svg xmlns=\"http://www.w3.org/2000/svg\" height=\"24px\" viewBox=\"0 -960 960 960\">\n",
              "    <path d=\"M120-120v-720h720v720H120Zm60-500h600v-160H180v160Zm220 220h160v-160H400v160Zm0 220h160v-160H400v160ZM180-400h160v-160H180v160Zm440 0h160v-160H620v160ZM180-180h160v-160H180v160Zm440 0h160v-160H620v160Z\"/>\n",
              "  </svg>\n",
              "    </button>\n",
              "\n",
              "  <style>\n",
              "    .colab-df-container {\n",
              "      display:flex;\n",
              "      gap: 12px;\n",
              "    }\n",
              "\n",
              "    .colab-df-convert {\n",
              "      background-color: #E8F0FE;\n",
              "      border: none;\n",
              "      border-radius: 50%;\n",
              "      cursor: pointer;\n",
              "      display: none;\n",
              "      fill: #1967D2;\n",
              "      height: 32px;\n",
              "      padding: 0 0 0 0;\n",
              "      width: 32px;\n",
              "    }\n",
              "\n",
              "    .colab-df-convert:hover {\n",
              "      background-color: #E2EBFA;\n",
              "      box-shadow: 0px 1px 2px rgba(60, 64, 67, 0.3), 0px 1px 3px 1px rgba(60, 64, 67, 0.15);\n",
              "      fill: #174EA6;\n",
              "    }\n",
              "\n",
              "    .colab-df-buttons div {\n",
              "      margin-bottom: 4px;\n",
              "    }\n",
              "\n",
              "    [theme=dark] .colab-df-convert {\n",
              "      background-color: #3B4455;\n",
              "      fill: #D2E3FC;\n",
              "    }\n",
              "\n",
              "    [theme=dark] .colab-df-convert:hover {\n",
              "      background-color: #434B5C;\n",
              "      box-shadow: 0px 1px 3px 1px rgba(0, 0, 0, 0.15);\n",
              "      filter: drop-shadow(0px 1px 2px rgba(0, 0, 0, 0.3));\n",
              "      fill: #FFFFFF;\n",
              "    }\n",
              "  </style>\n",
              "\n",
              "    <script>\n",
              "      const buttonEl =\n",
              "        document.querySelector('#df-2581675f-fa1b-4fbc-bf4b-25f859620a0c button.colab-df-convert');\n",
              "      buttonEl.style.display =\n",
              "        google.colab.kernel.accessAllowed ? 'block' : 'none';\n",
              "\n",
              "      async function convertToInteractive(key) {\n",
              "        const element = document.querySelector('#df-2581675f-fa1b-4fbc-bf4b-25f859620a0c');\n",
              "        const dataTable =\n",
              "          await google.colab.kernel.invokeFunction('convertToInteractive',\n",
              "                                                    [key], {});\n",
              "        if (!dataTable) return;\n",
              "\n",
              "        const docLinkHtml = 'Like what you see? Visit the ' +\n",
              "          '<a target=\"_blank\" href=https://colab.research.google.com/notebooks/data_table.ipynb>data table notebook</a>'\n",
              "          + ' to learn more about interactive tables.';\n",
              "        element.innerHTML = '';\n",
              "        dataTable['output_type'] = 'display_data';\n",
              "        await google.colab.output.renderOutput(dataTable, element);\n",
              "        const docLink = document.createElement('div');\n",
              "        docLink.innerHTML = docLinkHtml;\n",
              "        element.appendChild(docLink);\n",
              "      }\n",
              "    </script>\n",
              "  </div>\n",
              "\n",
              "\n",
              "<div id=\"df-973bddf4-e28f-4902-b2c8-53d435b7339a\">\n",
              "  <button class=\"colab-df-quickchart\" onclick=\"quickchart('df-973bddf4-e28f-4902-b2c8-53d435b7339a')\"\n",
              "            title=\"Suggest charts.\"\n",
              "            style=\"display:none;\">\n",
              "\n",
              "<svg xmlns=\"http://www.w3.org/2000/svg\" height=\"24px\"viewBox=\"0 0 24 24\"\n",
              "     width=\"24px\">\n",
              "    <g>\n",
              "        <path d=\"M19 3H5c-1.1 0-2 .9-2 2v14c0 1.1.9 2 2 2h14c1.1 0 2-.9 2-2V5c0-1.1-.9-2-2-2zM9 17H7v-7h2v7zm4 0h-2V7h2v10zm4 0h-2v-4h2v4z\"/>\n",
              "    </g>\n",
              "</svg>\n",
              "  </button>\n",
              "\n",
              "<style>\n",
              "  .colab-df-quickchart {\n",
              "      --bg-color: #E8F0FE;\n",
              "      --fill-color: #1967D2;\n",
              "      --hover-bg-color: #E2EBFA;\n",
              "      --hover-fill-color: #174EA6;\n",
              "      --disabled-fill-color: #AAA;\n",
              "      --disabled-bg-color: #DDD;\n",
              "  }\n",
              "\n",
              "  [theme=dark] .colab-df-quickchart {\n",
              "      --bg-color: #3B4455;\n",
              "      --fill-color: #D2E3FC;\n",
              "      --hover-bg-color: #434B5C;\n",
              "      --hover-fill-color: #FFFFFF;\n",
              "      --disabled-bg-color: #3B4455;\n",
              "      --disabled-fill-color: #666;\n",
              "  }\n",
              "\n",
              "  .colab-df-quickchart {\n",
              "    background-color: var(--bg-color);\n",
              "    border: none;\n",
              "    border-radius: 50%;\n",
              "    cursor: pointer;\n",
              "    display: none;\n",
              "    fill: var(--fill-color);\n",
              "    height: 32px;\n",
              "    padding: 0;\n",
              "    width: 32px;\n",
              "  }\n",
              "\n",
              "  .colab-df-quickchart:hover {\n",
              "    background-color: var(--hover-bg-color);\n",
              "    box-shadow: 0 1px 2px rgba(60, 64, 67, 0.3), 0 1px 3px 1px rgba(60, 64, 67, 0.15);\n",
              "    fill: var(--button-hover-fill-color);\n",
              "  }\n",
              "\n",
              "  .colab-df-quickchart-complete:disabled,\n",
              "  .colab-df-quickchart-complete:disabled:hover {\n",
              "    background-color: var(--disabled-bg-color);\n",
              "    fill: var(--disabled-fill-color);\n",
              "    box-shadow: none;\n",
              "  }\n",
              "\n",
              "  .colab-df-spinner {\n",
              "    border: 2px solid var(--fill-color);\n",
              "    border-color: transparent;\n",
              "    border-bottom-color: var(--fill-color);\n",
              "    animation:\n",
              "      spin 1s steps(1) infinite;\n",
              "  }\n",
              "\n",
              "  @keyframes spin {\n",
              "    0% {\n",
              "      border-color: transparent;\n",
              "      border-bottom-color: var(--fill-color);\n",
              "      border-left-color: var(--fill-color);\n",
              "    }\n",
              "    20% {\n",
              "      border-color: transparent;\n",
              "      border-left-color: var(--fill-color);\n",
              "      border-top-color: var(--fill-color);\n",
              "    }\n",
              "    30% {\n",
              "      border-color: transparent;\n",
              "      border-left-color: var(--fill-color);\n",
              "      border-top-color: var(--fill-color);\n",
              "      border-right-color: var(--fill-color);\n",
              "    }\n",
              "    40% {\n",
              "      border-color: transparent;\n",
              "      border-right-color: var(--fill-color);\n",
              "      border-top-color: var(--fill-color);\n",
              "    }\n",
              "    60% {\n",
              "      border-color: transparent;\n",
              "      border-right-color: var(--fill-color);\n",
              "    }\n",
              "    80% {\n",
              "      border-color: transparent;\n",
              "      border-right-color: var(--fill-color);\n",
              "      border-bottom-color: var(--fill-color);\n",
              "    }\n",
              "    90% {\n",
              "      border-color: transparent;\n",
              "      border-bottom-color: var(--fill-color);\n",
              "    }\n",
              "  }\n",
              "</style>\n",
              "\n",
              "  <script>\n",
              "    async function quickchart(key) {\n",
              "      const quickchartButtonEl =\n",
              "        document.querySelector('#' + key + ' button');\n",
              "      quickchartButtonEl.disabled = true;  // To prevent multiple clicks.\n",
              "      quickchartButtonEl.classList.add('colab-df-spinner');\n",
              "      try {\n",
              "        const charts = await google.colab.kernel.invokeFunction(\n",
              "            'suggestCharts', [key], {});\n",
              "      } catch (error) {\n",
              "        console.error('Error during call to suggestCharts:', error);\n",
              "      }\n",
              "      quickchartButtonEl.classList.remove('colab-df-spinner');\n",
              "      quickchartButtonEl.classList.add('colab-df-quickchart-complete');\n",
              "    }\n",
              "    (() => {\n",
              "      let quickchartButtonEl =\n",
              "        document.querySelector('#df-973bddf4-e28f-4902-b2c8-53d435b7339a button');\n",
              "      quickchartButtonEl.style.display =\n",
              "        google.colab.kernel.accessAllowed ? 'block' : 'none';\n",
              "    })();\n",
              "  </script>\n",
              "</div>\n",
              "    </div>\n",
              "  </div>\n"
            ]
          },
          "metadata": {},
          "execution_count": 50
        }
      ],
      "source": [
        "data_rst.query('event_name == \"purchase\" and details > 0').groupby('group')['day_event'].describe().round()"
      ]
    },
    {
      "cell_type": "code",
      "execution_count": 51,
      "metadata": {
        "colab": {
          "base_uri": "https://localhost:8080/",
          "height": 311
        },
        "id": "sRzraC-55Nm_",
        "outputId": "1f3138f8-afd4-45a3-9d7f-f97e86dca257"
      },
      "outputs": [
        {
          "output_type": "display_data",
          "data": {
            "text/plain": [
              "<Figure size 500x300 with 1 Axes>"
            ],
            "image/png": "[encoded data removed]"
          },
          "metadata": {}
        }
      ],
      "source": [
        "data_1 = data_rst.query('event_name == \"purchase\" and details > 0')[['group','day_event']]\n",
        "plt.subplots(figsize=(5, 3))\n",
        "sns.boxplot(data=data_1, x = 'day_event', y = 'group', width = 0.3);"
      ]
    },
    {
      "cell_type": "markdown",
      "metadata": {
        "id": "QZirbnF0H5CI"
      },
      "source": [
        "**Выводы:**\n",
        "1. В группе А начиная с 2020-12-13 мы видим повышение покупательской активности, в то время как в группе В каких-то явных изменений не наблюдается\n",
        "2. Из графика *ящик с усами* мы видим, что и клиенты группы А, и клиенты группы В в большинстве совершают покупки до 5 дня, но в группе А чаще всего на 2 день, а в группе В на 1 день."
      ]
    },
    {
      "cell_type": "markdown",
      "metadata": {
        "id": "OyoBDSLmSrYR"
      },
      "source": [
        "## Оценим ожидаемый эффект.  \n",
        "За 14 дней с момента регистрации в системе пользователи ожидаемо покажут улучшение каждой метрики не менее, чем на 10%:\n",
        "- конверсии в просмотр карточек товаров — событие product_page\n",
        "- просмотры корзины — событие product_cart\n",
        "- покупки — событие purchase"
      ]
    },
    {
      "cell_type": "markdown",
      "metadata": {
        "id": "1mSNewTYJZ6W"
      },
      "source": [
        "### Построим воронки по группам теста"
      ]
    },
    {
      "cell_type": "code",
      "execution_count": 52,
      "metadata": {
        "colab": {
          "base_uri": "https://localhost:8080/",
          "height": 175
        },
        "id": "n9qSQropJD4X",
        "outputId": "ddbe09d0-cfc7-41f0-cf26-60acc3f81d20"
      },
      "outputs": [
        {
          "output_type": "execute_result",
          "data": {
            "text/plain": [
              "   funnel_stage  users_cnt  users_%\n",
              "0         login       2422    100.0\n",
              "2  product_page       1571     64.9\n",
              "1  product_cart        728     30.1\n",
              "3      purchase        773     31.9"
            ],
            "text/html": [
              "\n",
              "  <div id=\"df-67a58d39-c2c1-4732-a7cd-83aed5c320e6\" class=\"colab-df-container\">\n",
              "    <div>\n",
              "<style scoped>\n",
              "    .dataframe tbody tr th:only-of-type {\n",
              "        vertical-align: middle;\n",
              "    }\n",
              "\n",
              "    .dataframe tbody tr th {\n",
              "        vertical-align: top;\n",
              "    }\n",
              "\n",
              "    .dataframe thead th {\n",
              "        text-align: right;\n",
              "    }\n",
              "</style>\n",
              "<table border=\"1\" class=\"dataframe\">\n",
              "  <thead>\n",
              "    <tr style=\"text-align: right;\">\n",
              "      <th></th>\n",
              "      <th>funnel_stage</th>\n",
              "      <th>users_cnt</th>\n",
              "      <th>users_%</th>\n",
              "    </tr>\n",
              "  </thead>\n",
              "  <tbody>\n",
              "    <tr>\n",
              "      <th>0</th>\n",
              "      <td>login</td>\n",
              "      <td>2422</td>\n",
              "      <td>100.0</td>\n",
              "    </tr>\n",
              "    <tr>\n",
              "      <th>2</th>\n",
              "      <td>product_page</td>\n",
              "      <td>1571</td>\n",
              "      <td>64.9</td>\n",
              "    </tr>\n",
              "    <tr>\n",
              "      <th>1</th>\n",
              "      <td>product_cart</td>\n",
              "      <td>728</td>\n",
              "      <td>30.1</td>\n",
              "    </tr>\n",
              "    <tr>\n",
              "      <th>3</th>\n",
              "      <td>purchase</td>\n",
              "      <td>773</td>\n",
              "      <td>31.9</td>\n",
              "    </tr>\n",
              "  </tbody>\n",
              "</table>\n",
              "</div>\n",
              "    <div class=\"colab-df-buttons\">\n",
              "\n",
              "  <div class=\"colab-df-container\">\n",
              "    <button class=\"colab-df-convert\" onclick=\"convertToInteractive('df-67a58d39-c2c1-4732-a7cd-83aed5c320e6')\"\n",
              "            title=\"Convert this dataframe to an interactive table.\"\n",
              "            style=\"display:none;\">\n",
              "\n",
              "  <svg xmlns=\"http://www.w3.org/2000/svg\" height=\"24px\" viewBox=\"0 -960 960 960\">\n",
              "    <path d=\"M120-120v-720h720v720H120Zm60-500h600v-160H180v160Zm220 220h160v-160H400v160Zm0 220h160v-160H400v160ZM180-400h160v-160H180v160Zm440 0h160v-160H620v160ZM180-180h160v-160H180v160Zm440 0h160v-160H620v160Z\"/>\n",
              "  </svg>\n",
              "    </button>\n",
              "\n",
              "  <style>\n",
              "    .colab-df-container {\n",
              "      display:flex;\n",
              "      gap: 12px;\n",
              "    }\n",
              "\n",
              "    .colab-df-convert {\n",
              "      background-color: #E8F0FE;\n",
              "      border: none;\n",
              "      border-radius: 50%;\n",
              "      cursor: pointer;\n",
              "      display: none;\n",
              "      fill: #1967D2;\n",
              "      height: 32px;\n",
              "      padding: 0 0 0 0;\n",
              "      width: 32px;\n",
              "    }\n",
              "\n",
              "    .colab-df-convert:hover {\n",
              "      background-color: #E2EBFA;\n",
              "      box-shadow: 0px 1px 2px rgba(60, 64, 67, 0.3), 0px 1px 3px 1px rgba(60, 64, 67, 0.15);\n",
              "      fill: #174EA6;\n",
              "    }\n",
              "\n",
              "    .colab-df-buttons div {\n",
              "      margin-bottom: 4px;\n",
              "    }\n",
              "\n",
              "    [theme=dark] .colab-df-convert {\n",
              "      background-color: #3B4455;\n",
              "      fill: #D2E3FC;\n",
              "    }\n",
              "\n",
              "    [theme=dark] .colab-df-convert:hover {\n",
              "      background-color: #434B5C;\n",
              "      box-shadow: 0px 1px 3px 1px rgba(0, 0, 0, 0.15);\n",
              "      filter: drop-shadow(0px 1px 2px rgba(0, 0, 0, 0.3));\n",
              "      fill: #FFFFFF;\n",
              "    }\n",
              "  </style>\n",
              "\n",
              "    <script>\n",
              "      const buttonEl =\n",
              "        document.querySelector('#df-67a58d39-c2c1-4732-a7cd-83aed5c320e6 button.colab-df-convert');\n",
              "      buttonEl.style.display =\n",
              "        google.colab.kernel.accessAllowed ? 'block' : 'none';\n",
              "\n",
              "      async function convertToInteractive(key) {\n",
              "        const element = document.querySelector('#df-67a58d39-c2c1-4732-a7cd-83aed5c320e6');\n",
              "        const dataTable =\n",
              "          await google.colab.kernel.invokeFunction('convertToInteractive',\n",
              "                                                    [key], {});\n",
              "        if (!dataTable) return;\n",
              "\n",
              "        const docLinkHtml = 'Like what you see? Visit the ' +\n",
              "          '<a target=\"_blank\" href=https://colab.research.google.com/notebooks/data_table.ipynb>data table notebook</a>'\n",
              "          + ' to learn more about interactive tables.';\n",
              "        element.innerHTML = '';\n",
              "        dataTable['output_type'] = 'display_data';\n",
              "        await google.colab.output.renderOutput(dataTable, element);\n",
              "        const docLink = document.createElement('div');\n",
              "        docLink.innerHTML = docLinkHtml;\n",
              "        element.appendChild(docLink);\n",
              "      }\n",
              "    </script>\n",
              "  </div>\n",
              "\n",
              "\n",
              "<div id=\"df-35d39f2f-ac10-4324-b4c5-4059afc37f8e\">\n",
              "  <button class=\"colab-df-quickchart\" onclick=\"quickchart('df-35d39f2f-ac10-4324-b4c5-4059afc37f8e')\"\n",
              "            title=\"Suggest charts.\"\n",
              "            style=\"display:none;\">\n",
              "\n",
              "<svg xmlns=\"http://www.w3.org/2000/svg\" height=\"24px\"viewBox=\"0 0 24 24\"\n",
              "     width=\"24px\">\n",
              "    <g>\n",
              "        <path d=\"M19 3H5c-1.1 0-2 .9-2 2v14c0 1.1.9 2 2 2h14c1.1 0 2-.9 2-2V5c0-1.1-.9-2-2-2zM9 17H7v-7h2v7zm4 0h-2V7h2v10zm4 0h-2v-4h2v4z\"/>\n",
              "    </g>\n",
              "</svg>\n",
              "  </button>\n",
              "\n",
              "<style>\n",
              "  .colab-df-quickchart {\n",
              "      --bg-color: #E8F0FE;\n",
              "      --fill-color: #1967D2;\n",
              "      --hover-bg-color: #E2EBFA;\n",
              "      --hover-fill-color: #174EA6;\n",
              "      --disabled-fill-color: #AAA;\n",
              "      --disabled-bg-color: #DDD;\n",
              "  }\n",
              "\n",
              "  [theme=dark] .colab-df-quickchart {\n",
              "      --bg-color: #3B4455;\n",
              "      --fill-color: #D2E3FC;\n",
              "      --hover-bg-color: #434B5C;\n",
              "      --hover-fill-color: #FFFFFF;\n",
              "      --disabled-bg-color: #3B4455;\n",
              "      --disabled-fill-color: #666;\n",
              "  }\n",
              "\n",
              "  .colab-df-quickchart {\n",
              "    background-color: var(--bg-color);\n",
              "    border: none;\n",
              "    border-radius: 50%;\n",
              "    cursor: pointer;\n",
              "    display: none;\n",
              "    fill: var(--fill-color);\n",
              "    height: 32px;\n",
              "    padding: 0;\n",
              "    width: 32px;\n",
              "  }\n",
              "\n",
              "  .colab-df-quickchart:hover {\n",
              "    background-color: var(--hover-bg-color);\n",
              "    box-shadow: 0 1px 2px rgba(60, 64, 67, 0.3), 0 1px 3px 1px rgba(60, 64, 67, 0.15);\n",
              "    fill: var(--button-hover-fill-color);\n",
              "  }\n",
              "\n",
              "  .colab-df-quickchart-complete:disabled,\n",
              "  .colab-df-quickchart-complete:disabled:hover {\n",
              "    background-color: var(--disabled-bg-color);\n",
              "    fill: var(--disabled-fill-color);\n",
              "    box-shadow: none;\n",
              "  }\n",
              "\n",
              "  .colab-df-spinner {\n",
              "    border: 2px solid var(--fill-color);\n",
              "    border-color: transparent;\n",
              "    border-bottom-color: var(--fill-color);\n",
              "    animation:\n",
              "      spin 1s steps(1) infinite;\n",
              "  }\n",
              "\n",
              "  @keyframes spin {\n",
              "    0% {\n",
              "      border-color: transparent;\n",
              "      border-bottom-color: var(--fill-color);\n",
              "      border-left-color: var(--fill-color);\n",
              "    }\n",
              "    20% {\n",
              "      border-color: transparent;\n",
              "      border-left-color: var(--fill-color);\n",
              "      border-top-color: var(--fill-color);\n",
              "    }\n",
              "    30% {\n",
              "      border-color: transparent;\n",
              "      border-left-color: var(--fill-color);\n",
              "      border-top-color: var(--fill-color);\n",
              "      border-right-color: var(--fill-color);\n",
              "    }\n",
              "    40% {\n",
              "      border-color: transparent;\n",
              "      border-right-color: var(--fill-color);\n",
              "      border-top-color: var(--fill-color);\n",
              "    }\n",
              "    60% {\n",
              "      border-color: transparent;\n",
              "      border-right-color: var(--fill-color);\n",
              "    }\n",
              "    80% {\n",
              "      border-color: transparent;\n",
              "      border-right-color: var(--fill-color);\n",
              "      border-bottom-color: var(--fill-color);\n",
              "    }\n",
              "    90% {\n",
              "      border-color: transparent;\n",
              "      border-bottom-color: var(--fill-color);\n",
              "    }\n",
              "  }\n",
              "</style>\n",
              "\n",
              "  <script>\n",
              "    async function quickchart(key) {\n",
              "      const quickchartButtonEl =\n",
              "        document.querySelector('#' + key + ' button');\n",
              "      quickchartButtonEl.disabled = true;  // To prevent multiple clicks.\n",
              "      quickchartButtonEl.classList.add('colab-df-spinner');\n",
              "      try {\n",
              "        const charts = await google.colab.kernel.invokeFunction(\n",
              "            'suggestCharts', [key], {});\n",
              "      } catch (error) {\n",
              "        console.error('Error during call to suggestCharts:', error);\n",
              "      }\n",
              "      quickchartButtonEl.classList.remove('colab-df-spinner');\n",
              "      quickchartButtonEl.classList.add('colab-df-quickchart-complete');\n",
              "    }\n",
              "    (() => {\n",
              "      let quickchartButtonEl =\n",
              "        document.querySelector('#df-35d39f2f-ac10-4324-b4c5-4059afc37f8e button');\n",
              "      quickchartButtonEl.style.display =\n",
              "        google.colab.kernel.accessAllowed ? 'block' : 'none';\n",
              "    })();\n",
              "  </script>\n",
              "</div>\n",
              "    </div>\n",
              "  </div>\n"
            ]
          },
          "metadata": {},
          "execution_count": 52
        }
      ],
      "source": [
        "funnel_group_A = data_events_A.count().reset_index()\n",
        "funnel_group_A = funnel_group_A.reindex(index = [0, 2, 1, 3])\n",
        "funnel_group_A.columns = ['funnel_stage', 'users_cnt']\n",
        "funnel_group_A['users_%'] = (funnel_group_A['users_cnt']/funnel_group_A['users_cnt'].values[0]*100).round(1)\n",
        "funnel_group_A"
      ]
    },
    {
      "cell_type": "code",
      "execution_count": 53,
      "metadata": {
        "colab": {
          "base_uri": "https://localhost:8080/",
          "height": 175
        },
        "id": "F361wpXEHKv8",
        "outputId": "b4d8c565-98a2-4a5a-e3f2-86d9fa2def32"
      },
      "outputs": [
        {
          "output_type": "execute_result",
          "data": {
            "text/plain": [
              "   funnel_stage  users_cnt  users_%\n",
              "0         login        822    100.0\n",
              "2  product_page        459     55.8\n",
              "1  product_cart        225     27.4\n",
              "3      purchase        226     27.5"
            ],
            "text/html": [
              "\n",
              "  <div id=\"df-a3f11858-013e-4377-9ed8-805827592b97\" class=\"colab-df-container\">\n",
              "    <div>\n",
              "<style scoped>\n",
              "    .dataframe tbody tr th:only-of-type {\n",
              "        vertical-align: middle;\n",
              "    }\n",
              "\n",
              "    .dataframe tbody tr th {\n",
              "        vertical-align: top;\n",
              "    }\n",
              "\n",
              "    .dataframe thead th {\n",
              "        text-align: right;\n",
              "    }\n",
              "</style>\n",
              "<table border=\"1\" class=\"dataframe\">\n",
              "  <thead>\n",
              "    <tr style=\"text-align: right;\">\n",
              "      <th></th>\n",
              "      <th>funnel_stage</th>\n",
              "      <th>users_cnt</th>\n",
              "      <th>users_%</th>\n",
              "    </tr>\n",
              "  </thead>\n",
              "  <tbody>\n",
              "    <tr>\n",
              "      <th>0</th>\n",
              "      <td>login</td>\n",
              "      <td>822</td>\n",
              "      <td>100.0</td>\n",
              "    </tr>\n",
              "    <tr>\n",
              "      <th>2</th>\n",
              "      <td>product_page</td>\n",
              "      <td>459</td>\n",
              "      <td>55.8</td>\n",
              "    </tr>\n",
              "    <tr>\n",
              "      <th>1</th>\n",
              "      <td>product_cart</td>\n",
              "      <td>225</td>\n",
              "      <td>27.4</td>\n",
              "    </tr>\n",
              "    <tr>\n",
              "      <th>3</th>\n",
              "      <td>purchase</td>\n",
              "      <td>226</td>\n",
              "      <td>27.5</td>\n",
              "    </tr>\n",
              "  </tbody>\n",
              "</table>\n",
              "</div>\n",
              "    <div class=\"colab-df-buttons\">\n",
              "\n",
              "  <div class=\"colab-df-container\">\n",
              "    <button class=\"colab-df-convert\" onclick=\"convertToInteractive('df-a3f11858-013e-4377-9ed8-805827592b97')\"\n",
              "            title=\"Convert this dataframe to an interactive table.\"\n",
              "            style=\"display:none;\">\n",
              "\n",
              "  <svg xmlns=\"http://www.w3.org/2000/svg\" height=\"24px\" viewBox=\"0 -960 960 960\">\n",
              "    <path d=\"M120-120v-720h720v720H120Zm60-500h600v-160H180v160Zm220 220h160v-160H400v160Zm0 220h160v-160H400v160ZM180-400h160v-160H180v160Zm440 0h160v-160H620v160ZM180-180h160v-160H180v160Zm440 0h160v-160H620v160Z\"/>\n",
              "  </svg>\n",
              "    </button>\n",
              "\n",
              "  <style>\n",
              "    .colab-df-container {\n",
              "      display:flex;\n",
              "      gap: 12px;\n",
              "    }\n",
              "\n",
              "    .colab-df-convert {\n",
              "      background-color: #E8F0FE;\n",
              "      border: none;\n",
              "      border-radius: 50%;\n",
              "      cursor: pointer;\n",
              "      display: none;\n",
              "      fill: #1967D2;\n",
              "      height: 32px;\n",
              "      padding: 0 0 0 0;\n",
              "      width: 32px;\n",
              "    }\n",
              "\n",
              "    .colab-df-convert:hover {\n",
              "      background-color: #E2EBFA;\n",
              "      box-shadow: 0px 1px 2px rgba(60, 64, 67, 0.3), 0px 1px 3px 1px rgba(60, 64, 67, 0.15);\n",
              "      fill: #174EA6;\n",
              "    }\n",
              "\n",
              "    .colab-df-buttons div {\n",
              "      margin-bottom: 4px;\n",
              "    }\n",
              "\n",
              "    [theme=dark] .colab-df-convert {\n",
              "      background-color: #3B4455;\n",
              "      fill: #D2E3FC;\n",
              "    }\n",
              "\n",
              "    [theme=dark] .colab-df-convert:hover {\n",
              "      background-color: #434B5C;\n",
              "      box-shadow: 0px 1px 3px 1px rgba(0, 0, 0, 0.15);\n",
              "      filter: drop-shadow(0px 1px 2px rgba(0, 0, 0, 0.3));\n",
              "      fill: #FFFFFF;\n",
              "    }\n",
              "  </style>\n",
              "\n",
              "    <script>\n",
              "      const buttonEl =\n",
              "        document.querySelector('#df-a3f11858-013e-4377-9ed8-805827592b97 button.colab-df-convert');\n",
              "      buttonEl.style.display =\n",
              "        google.colab.kernel.accessAllowed ? 'block' : 'none';\n",
              "\n",
              "      async function convertToInteractive(key) {\n",
              "        const element = document.querySelector('#df-a3f11858-013e-4377-9ed8-805827592b97');\n",
              "        const dataTable =\n",
              "          await google.colab.kernel.invokeFunction('convertToInteractive',\n",
              "                                                    [key], {});\n",
              "        if (!dataTable) return;\n",
              "\n",
              "        const docLinkHtml = 'Like what you see? Visit the ' +\n",
              "          '<a target=\"_blank\" href=https://colab.research.google.com/notebooks/data_table.ipynb>data table notebook</a>'\n",
              "          + ' to learn more about interactive tables.';\n",
              "        element.innerHTML = '';\n",
              "        dataTable['output_type'] = 'display_data';\n",
              "        await google.colab.output.renderOutput(dataTable, element);\n",
              "        const docLink = document.createElement('div');\n",
              "        docLink.innerHTML = docLinkHtml;\n",
              "        element.appendChild(docLink);\n",
              "      }\n",
              "    </script>\n",
              "  </div>\n",
              "\n",
              "\n",
              "<div id=\"df-ebb48a07-bec1-44d3-a246-a654604534a5\">\n",
              "  <button class=\"colab-df-quickchart\" onclick=\"quickchart('df-ebb48a07-bec1-44d3-a246-a654604534a5')\"\n",
              "            title=\"Suggest charts.\"\n",
              "            style=\"display:none;\">\n",
              "\n",
              "<svg xmlns=\"http://www.w3.org/2000/svg\" height=\"24px\"viewBox=\"0 0 24 24\"\n",
              "     width=\"24px\">\n",
              "    <g>\n",
              "        <path d=\"M19 3H5c-1.1 0-2 .9-2 2v14c0 1.1.9 2 2 2h14c1.1 0 2-.9 2-2V5c0-1.1-.9-2-2-2zM9 17H7v-7h2v7zm4 0h-2V7h2v10zm4 0h-2v-4h2v4z\"/>\n",
              "    </g>\n",
              "</svg>\n",
              "  </button>\n",
              "\n",
              "<style>\n",
              "  .colab-df-quickchart {\n",
              "      --bg-color: #E8F0FE;\n",
              "      --fill-color: #1967D2;\n",
              "      --hover-bg-color: #E2EBFA;\n",
              "      --hover-fill-color: #174EA6;\n",
              "      --disabled-fill-color: #AAA;\n",
              "      --disabled-bg-color: #DDD;\n",
              "  }\n",
              "\n",
              "  [theme=dark] .colab-df-quickchart {\n",
              "      --bg-color: #3B4455;\n",
              "      --fill-color: #D2E3FC;\n",
              "      --hover-bg-color: #434B5C;\n",
              "      --hover-fill-color: #FFFFFF;\n",
              "      --disabled-bg-color: #3B4455;\n",
              "      --disabled-fill-color: #666;\n",
              "  }\n",
              "\n",
              "  .colab-df-quickchart {\n",
              "    background-color: var(--bg-color);\n",
              "    border: none;\n",
              "    border-radius: 50%;\n",
              "    cursor: pointer;\n",
              "    display: none;\n",
              "    fill: var(--fill-color);\n",
              "    height: 32px;\n",
              "    padding: 0;\n",
              "    width: 32px;\n",
              "  }\n",
              "\n",
              "  .colab-df-quickchart:hover {\n",
              "    background-color: var(--hover-bg-color);\n",
              "    box-shadow: 0 1px 2px rgba(60, 64, 67, 0.3), 0 1px 3px 1px rgba(60, 64, 67, 0.15);\n",
              "    fill: var(--button-hover-fill-color);\n",
              "  }\n",
              "\n",
              "  .colab-df-quickchart-complete:disabled,\n",
              "  .colab-df-quickchart-complete:disabled:hover {\n",
              "    background-color: var(--disabled-bg-color);\n",
              "    fill: var(--disabled-fill-color);\n",
              "    box-shadow: none;\n",
              "  }\n",
              "\n",
              "  .colab-df-spinner {\n",
              "    border: 2px solid var(--fill-color);\n",
              "    border-color: transparent;\n",
              "    border-bottom-color: var(--fill-color);\n",
              "    animation:\n",
              "      spin 1s steps(1) infinite;\n",
              "  }\n",
              "\n",
              "  @keyframes spin {\n",
              "    0% {\n",
              "      border-color: transparent;\n",
              "      border-bottom-color: var(--fill-color);\n",
              "      border-left-color: var(--fill-color);\n",
              "    }\n",
              "    20% {\n",
              "      border-color: transparent;\n",
              "      border-left-color: var(--fill-color);\n",
              "      border-top-color: var(--fill-color);\n",
              "    }\n",
              "    30% {\n",
              "      border-color: transparent;\n",
              "      border-left-color: var(--fill-color);\n",
              "      border-top-color: var(--fill-color);\n",
              "      border-right-color: var(--fill-color);\n",
              "    }\n",
              "    40% {\n",
              "      border-color: transparent;\n",
              "      border-right-color: var(--fill-color);\n",
              "      border-top-color: var(--fill-color);\n",
              "    }\n",
              "    60% {\n",
              "      border-color: transparent;\n",
              "      border-right-color: var(--fill-color);\n",
              "    }\n",
              "    80% {\n",
              "      border-color: transparent;\n",
              "      border-right-color: var(--fill-color);\n",
              "      border-bottom-color: var(--fill-color);\n",
              "    }\n",
              "    90% {\n",
              "      border-color: transparent;\n",
              "      border-bottom-color: var(--fill-color);\n",
              "    }\n",
              "  }\n",
              "</style>\n",
              "\n",
              "  <script>\n",
              "    async function quickchart(key) {\n",
              "      const quickchartButtonEl =\n",
              "        document.querySelector('#' + key + ' button');\n",
              "      quickchartButtonEl.disabled = true;  // To prevent multiple clicks.\n",
              "      quickchartButtonEl.classList.add('colab-df-spinner');\n",
              "      try {\n",
              "        const charts = await google.colab.kernel.invokeFunction(\n",
              "            'suggestCharts', [key], {});\n",
              "      } catch (error) {\n",
              "        console.error('Error during call to suggestCharts:', error);\n",
              "      }\n",
              "      quickchartButtonEl.classList.remove('colab-df-spinner');\n",
              "      quickchartButtonEl.classList.add('colab-df-quickchart-complete');\n",
              "    }\n",
              "    (() => {\n",
              "      let quickchartButtonEl =\n",
              "        document.querySelector('#df-ebb48a07-bec1-44d3-a246-a654604534a5 button');\n",
              "      quickchartButtonEl.style.display =\n",
              "        google.colab.kernel.accessAllowed ? 'block' : 'none';\n",
              "    })();\n",
              "  </script>\n",
              "</div>\n",
              "    </div>\n",
              "  </div>\n"
            ]
          },
          "metadata": {},
          "execution_count": 53
        }
      ],
      "source": [
        "funnel_group_B = data_events_B.count().reset_index()\n",
        "funnel_group_B = funnel_group_B.reindex(index = [0, 2, 1, 3])\n",
        "funnel_group_B.columns = ['funnel_stage', 'users_cnt']\n",
        "funnel_group_B['users_%'] = (funnel_group_B['users_cnt']/funnel_group_B['users_cnt'].values[0]*100).round(1)\n",
        "funnel_group_B"
      ]
    },
    {
      "cell_type": "markdown",
      "metadata": {
        "id": "xdexSUKyzDes"
      },
      "source": [
        "Визуализируем воронки на 1 графике.  \n",
        "Процент пользователей на всех этапах будем считать от события `login` - \"авторизация\""
      ]
    },
    {
      "cell_type": "code",
      "execution_count": 54,
      "metadata": {
        "colab": {
          "base_uri": "https://localhost:8080/",
          "height": 542
        },
        "id": "aMys2jhlxPqt",
        "outputId": "0ef473c2-24c9-4d2a-ea9d-10bb0fc50829"
      },
      "outputs": [
        {
          "output_type": "display_data",
          "data": {
            "text/html": [
              "<html>\n",
              "<head><meta charset=\"utf-8\" /></head>\n",
              "<body>\n",
              "    <div>            <script src=\"https://cdnjs.cloudflare.com/ajax/libs/mathjax/2.7.5/MathJax.js?config=TeX-AMS-MML_SVG\"></script><script type=\"text/javascript\">if (window.MathJax && window.MathJax.Hub && window.MathJax.Hub.Config) {window.MathJax.Hub.Config({SVG: {font: \"STIX-Web\"}});}</script>                <script type=\"text/javascript\">window.PlotlyConfig = {MathJaxConfig: 'local'};</script>\n",
              "        <script charset=\"utf-8\" src=\"https://cdn.plot.ly/plotly-2.24.1.min.js\"></script>                <div id=\"e0635aef-85f3-4be9-b119-8a2b2b03ff7b\" class=\"plotly-graph-div\" style=\"height:525px; width:100%;\"></div>            <script type=\"text/javascript\">                                    window.PLOTLYENV=window.PLOTLYENV || {};                                    if (document.getElementById(\"e0635aef-85f3-4be9-b119-8a2b2b03ff7b\")) {                    Plotly.newPlot(                        \"e0635aef-85f3-4be9-b119-8a2b2b03ff7b\",                        [{\"name\":\"\\u0413\\u0440\\u0443\\u043f\\u043f\\u0430 \\u0410\",\"textinfo\":\"value+percent initial\",\"x\":[2422,1571,728,773],\"y\":[\"login\",\"product_page\",\"product_cart\",\"purchase\"],\"type\":\"funnel\"},{\"name\":\"\\u0413\\u0440\\u0443\\u043f\\u043f\\u0430 \\u0412\",\"textinfo\":\"value+percent initial\",\"textposition\":\"inside\",\"x\":[822,459,225,226],\"y\":[\"login\",\"product_page\",\"product_cart\",\"purchase\"],\"type\":\"funnel\"}],                        {\"template\":{\"data\":{\"histogram2dcontour\":[{\"type\":\"histogram2dcontour\",\"colorbar\":{\"outlinewidth\":0,\"ticks\":\"\"},\"colorscale\":[[0.0,\"#0d0887\"],[0.1111111111111111,\"#46039f\"],[0.2222222222222222,\"#7201a8\"],[0.3333333333333333,\"#9c179e\"],[0.4444444444444444,\"#bd3786\"],[0.5555555555555556,\"#d8576b\"],[0.6666666666666666,\"#ed7953\"],[0.7777777777777778,\"#fb9f3a\"],[0.8888888888888888,\"#fdca26\"],[1.0,\"#f0f921\"]]}],\"choropleth\":[{\"type\":\"choropleth\",\"colorbar\":{\"outlinewidth\":0,\"ticks\":\"\"}}],\"histogram2d\":[{\"type\":\"histogram2d\",\"colorbar\":{\"outlinewidth\":0,\"ticks\":\"\"},\"colorscale\":[[0.0,\"#0d0887\"],[0.1111111111111111,\"#46039f\"],[0.2222222222222222,\"#7201a8\"],[0.3333333333333333,\"#9c179e\"],[0.4444444444444444,\"#bd3786\"],[0.5555555555555556,\"#d8576b\"],[0.6666666666666666,\"#ed7953\"],[0.7777777777777778,\"#fb9f3a\"],[0.8888888888888888,\"#fdca26\"],[1.0,\"#f0f921\"]]}],\"heatmap\":[{\"type\":\"heatmap\",\"colorbar\":{\"outlinewidth\":0,\"ticks\":\"\"},\"colorscale\":[[0.0,\"#0d0887\"],[0.1111111111111111,\"#46039f\"],[0.2222222222222222,\"#7201a8\"],[0.3333333333333333,\"#9c179e\"],[0.4444444444444444,\"#bd3786\"],[0.5555555555555556,\"#d8576b\"],[0.6666666666666666,\"#ed7953\"],[0.7777777777777778,\"#fb9f3a\"],[0.8888888888888888,\"#fdca26\"],[1.0,\"#f0f921\"]]}],\"heatmapgl\":[{\"type\":\"heatmapgl\",\"colorbar\":{\"outlinewidth\":0,\"ticks\":\"\"},\"colorscale\":[[0.0,\"#0d0887\"],[0.1111111111111111,\"#46039f\"],[0.2222222222222222,\"#7201a8\"],[0.3333333333333333,\"#9c179e\"],[0.4444444444444444,\"#bd3786\"],[0.5555555555555556,\"#d8576b\"],[0.6666666666666666,\"#ed7953\"],[0.7777777777777778,\"#fb9f3a\"],[0.8888888888888888,\"#fdca26\"],[1.0,\"#f0f921\"]]}],\"contourcarpet\":[{\"type\":\"contourcarpet\",\"colorbar\":{\"outlinewidth\":0,\"ticks\":\"\"}}],\"contour\":[{\"type\":\"contour\",\"colorbar\":{\"outlinewidth\":0,\"ticks\":\"\"},\"colorscale\":[[0.0,\"#0d0887\"],[0.1111111111111111,\"#46039f\"],[0.2222222222222222,\"#7201a8\"],[0.3333333333333333,\"#9c179e\"],[0.4444444444444444,\"#bd3786\"],[0.5555555555555556,\"#d8576b\"],[0.6666666666666666,\"#ed7953\"],[0.7777777777777778,\"#fb9f3a\"],[0.8888888888888888,\"#fdca26\"],[1.0,\"#f0f921\"]]}],\"surface\":[{\"type\":\"surface\",\"colorbar\":{\"outlinewidth\":0,\"ticks\":\"\"},\"colorscale\":[[0.0,\"#0d0887\"],[0.1111111111111111,\"#46039f\"],[0.2222222222222222,\"#7201a8\"],[0.3333333333333333,\"#9c179e\"],[0.4444444444444444,\"#bd3786\"],[0.5555555555555556,\"#d8576b\"],[0.6666666666666666,\"#ed7953\"],[0.7777777777777778,\"#fb9f3a\"],[0.8888888888888888,\"#fdca26\"],[1.0,\"#f0f921\"]]}],\"mesh3d\":[{\"type\":\"mesh3d\",\"colorbar\":{\"outlinewidth\":0,\"ticks\":\"\"}}],\"scatter\":[{\"fillpattern\":{\"fillmode\":\"overlay\",\"size\":10,\"solidity\":0.2},\"type\":\"scatter\"}],\"parcoords\":[{\"type\":\"parcoords\",\"line\":{\"colorbar\":{\"outlinewidth\":0,\"ticks\":\"\"}}}],\"scatterpolargl\":[{\"type\":\"scatterpolargl\",\"marker\":{\"colorbar\":{\"outlinewidth\":0,\"ticks\":\"\"}}}],\"bar\":[{\"error_x\":{\"color\":\"#2a3f5f\"},\"error_y\":{\"color\":\"#2a3f5f\"},\"marker\":{\"line\":{\"color\":\"#E5ECF6\",\"width\":0.5},\"pattern\":{\"fillmode\":\"overlay\",\"size\":10,\"solidity\":0.2}},\"type\":\"bar\"}],\"scattergeo\":[{\"type\":\"scattergeo\",\"marker\":{\"colorbar\":{\"outlinewidth\":0,\"ticks\":\"\"}}}],\"scatterpolar\":[{\"type\":\"scatterpolar\",\"marker\":{\"colorbar\":{\"outlinewidth\":0,\"ticks\":\"\"}}}],\"histogram\":[{\"marker\":{\"pattern\":{\"fillmode\":\"overlay\",\"size\":10,\"solidity\":0.2}},\"type\":\"histogram\"}],\"scattergl\":[{\"type\":\"scattergl\",\"marker\":{\"colorbar\":{\"outlinewidth\":0,\"ticks\":\"\"}}}],\"scatter3d\":[{\"type\":\"scatter3d\",\"line\":{\"colorbar\":{\"outlinewidth\":0,\"ticks\":\"\"}},\"marker\":{\"colorbar\":{\"outlinewidth\":0,\"ticks\":\"\"}}}],\"scattermapbox\":[{\"type\":\"scattermapbox\",\"marker\":{\"colorbar\":{\"outlinewidth\":0,\"ticks\":\"\"}}}],\"scatterternary\":[{\"type\":\"scatterternary\",\"marker\":{\"colorbar\":{\"outlinewidth\":0,\"ticks\":\"\"}}}],\"scattercarpet\":[{\"type\":\"scattercarpet\",\"marker\":{\"colorbar\":{\"outlinewidth\":0,\"ticks\":\"\"}}}],\"carpet\":[{\"aaxis\":{\"endlinecolor\":\"#2a3f5f\",\"gridcolor\":\"white\",\"linecolor\":\"white\",\"minorgridcolor\":\"white\",\"startlinecolor\":\"#2a3f5f\"},\"baxis\":{\"endlinecolor\":\"#2a3f5f\",\"gridcolor\":\"white\",\"linecolor\":\"white\",\"minorgridcolor\":\"white\",\"startlinecolor\":\"#2a3f5f\"},\"type\":\"carpet\"}],\"table\":[{\"cells\":{\"fill\":{\"color\":\"#EBF0F8\"},\"line\":{\"color\":\"white\"}},\"header\":{\"fill\":{\"color\":\"#C8D4E3\"},\"line\":{\"color\":\"white\"}},\"type\":\"table\"}],\"barpolar\":[{\"marker\":{\"line\":{\"color\":\"#E5ECF6\",\"width\":0.5},\"pattern\":{\"fillmode\":\"overlay\",\"size\":10,\"solidity\":0.2}},\"type\":\"barpolar\"}],\"pie\":[{\"automargin\":true,\"type\":\"pie\"}]},\"layout\":{\"autotypenumbers\":\"strict\",\"colorway\":[\"#636efa\",\"#EF553B\",\"#00cc96\",\"#ab63fa\",\"#FFA15A\",\"#19d3f3\",\"#FF6692\",\"#B6E880\",\"#FF97FF\",\"#FECB52\"],\"font\":{\"color\":\"#2a3f5f\"},\"hovermode\":\"closest\",\"hoverlabel\":{\"align\":\"left\"},\"paper_bgcolor\":\"white\",\"plot_bgcolor\":\"#E5ECF6\",\"polar\":{\"bgcolor\":\"#E5ECF6\",\"angularaxis\":{\"gridcolor\":\"white\",\"linecolor\":\"white\",\"ticks\":\"\"},\"radialaxis\":{\"gridcolor\":\"white\",\"linecolor\":\"white\",\"ticks\":\"\"}},\"ternary\":{\"bgcolor\":\"#E5ECF6\",\"aaxis\":{\"gridcolor\":\"white\",\"linecolor\":\"white\",\"ticks\":\"\"},\"baxis\":{\"gridcolor\":\"white\",\"linecolor\":\"white\",\"ticks\":\"\"},\"caxis\":{\"gridcolor\":\"white\",\"linecolor\":\"white\",\"ticks\":\"\"}},\"coloraxis\":{\"colorbar\":{\"outlinewidth\":0,\"ticks\":\"\"}},\"colorscale\":{\"sequential\":[[0.0,\"#0d0887\"],[0.1111111111111111,\"#46039f\"],[0.2222222222222222,\"#7201a8\"],[0.3333333333333333,\"#9c179e\"],[0.4444444444444444,\"#bd3786\"],[0.5555555555555556,\"#d8576b\"],[0.6666666666666666,\"#ed7953\"],[0.7777777777777778,\"#fb9f3a\"],[0.8888888888888888,\"#fdca26\"],[1.0,\"#f0f921\"]],\"sequentialminus\":[[0.0,\"#0d0887\"],[0.1111111111111111,\"#46039f\"],[0.2222222222222222,\"#7201a8\"],[0.3333333333333333,\"#9c179e\"],[0.4444444444444444,\"#bd3786\"],[0.5555555555555556,\"#d8576b\"],[0.6666666666666666,\"#ed7953\"],[0.7777777777777778,\"#fb9f3a\"],[0.8888888888888888,\"#fdca26\"],[1.0,\"#f0f921\"]],\"diverging\":[[0,\"#8e0152\"],[0.1,\"#c51b7d\"],[0.2,\"#de77ae\"],[0.3,\"#f1b6da\"],[0.4,\"#fde0ef\"],[0.5,\"#f7f7f7\"],[0.6,\"#e6f5d0\"],[0.7,\"#b8e186\"],[0.8,\"#7fbc41\"],[0.9,\"#4d9221\"],[1,\"#276419\"]]},\"xaxis\":{\"gridcolor\":\"white\",\"linecolor\":\"white\",\"ticks\":\"\",\"title\":{\"standoff\":15},\"zerolinecolor\":\"white\",\"automargin\":true,\"zerolinewidth\":2},\"yaxis\":{\"gridcolor\":\"white\",\"linecolor\":\"white\",\"ticks\":\"\",\"title\":{\"standoff\":15},\"zerolinecolor\":\"white\",\"automargin\":true,\"zerolinewidth\":2},\"scene\":{\"xaxis\":{\"backgroundcolor\":\"#E5ECF6\",\"gridcolor\":\"white\",\"linecolor\":\"white\",\"showbackground\":true,\"ticks\":\"\",\"zerolinecolor\":\"white\",\"gridwidth\":2},\"yaxis\":{\"backgroundcolor\":\"#E5ECF6\",\"gridcolor\":\"white\",\"linecolor\":\"white\",\"showbackground\":true,\"ticks\":\"\",\"zerolinecolor\":\"white\",\"gridwidth\":2},\"zaxis\":{\"backgroundcolor\":\"#E5ECF6\",\"gridcolor\":\"white\",\"linecolor\":\"white\",\"showbackground\":true,\"ticks\":\"\",\"zerolinecolor\":\"white\",\"gridwidth\":2}},\"shapedefaults\":{\"line\":{\"color\":\"#2a3f5f\"}},\"annotationdefaults\":{\"arrowcolor\":\"#2a3f5f\",\"arrowhead\":0,\"arrowwidth\":1},\"geo\":{\"bgcolor\":\"white\",\"landcolor\":\"#E5ECF6\",\"subunitcolor\":\"white\",\"showland\":true,\"showlakes\":true,\"lakecolor\":\"white\"},\"title\":{\"x\":0.05},\"mapbox\":{\"style\":\"light\"}}}},                        {\"responsive\": true}                    ).then(function(){\n",
              "                            \n",
              "var gd = document.getElementById('e0635aef-85f3-4be9-b119-8a2b2b03ff7b');\n",
              "var x = new MutationObserver(function (mutations, observer) {{\n",
              "        var display = window.getComputedStyle(gd).display;\n",
              "        if (!display || display === 'none') {{\n",
              "            console.log([gd, 'removed!']);\n",
              "            Plotly.purge(gd);\n",
              "            observer.disconnect();\n",
              "        }}\n",
              "}});\n",
              "\n",
              "// Listen for the removal of the full notebook cells\n",
              "var notebookContainer = gd.closest('#notebook-container');\n",
              "if (notebookContainer) {{\n",
              "    x.observe(notebookContainer, {childList: true});\n",
              "}}\n",
              "\n",
              "// Listen for the clearing of the current output cell\n",
              "var outputEl = gd.closest('.output');\n",
              "if (outputEl) {{\n",
              "    x.observe(outputEl, {childList: true});\n",
              "}}\n",
              "\n",
              "                        })                };                            </script>        </div>\n",
              "</body>\n",
              "</html>"
            ]
          },
          "metadata": {}
        }
      ],
      "source": [
        "fig = go.Figure()\n",
        "\n",
        "fig.add_trace(go.Funnel(\n",
        "    name = 'Группа А',\n",
        "    y = funnel_group_A['funnel_stage'],\n",
        "    x = funnel_group_A['users_cnt'],\n",
        "    textinfo = \"value+percent initial\"))\n",
        "\n",
        "fig.add_trace(go.Funnel(\n",
        "    name = 'Группа В',\n",
        "    #orientation = \"h\",\n",
        "    y = funnel_group_B['funnel_stage'],\n",
        "    x = funnel_group_B['users_cnt'],\n",
        "    textposition = \"inside\",\n",
        "    textinfo = \"value+percent initial\"))\n",
        "fig.show()"
      ]
    },
    {
      "cell_type": "markdown",
      "metadata": {
        "id": "cfVuXsg2Cj4S"
      },
      "source": [
        "Оценим разницу авторизованных пользователей по группам"
      ]
    },
    {
      "cell_type": "code",
      "execution_count": 55,
      "metadata": {
        "colab": {
          "base_uri": "https://localhost:8080/"
        },
        "id": "fTPdOZbvCqcd",
        "outputId": "3c67cf4a-52e8-47f0-af1a-cd8aeab5790d"
      },
      "outputs": [
        {
          "output_type": "execute_result",
          "data": {
            "text/plain": [
              "2.9"
            ]
          },
          "metadata": {},
          "execution_count": 55
        }
      ],
      "source": [
        "(funnel_group_A['users_cnt'].values[0]/funnel_group_B['users_cnt'].values[0]).round(1)"
      ]
    },
    {
      "cell_type": "markdown",
      "metadata": {
        "id": "JSEnC1by9Gms"
      },
      "source": [
        "**Вывод:**  \n",
        "- количество пользователей, участвующих в воронке продаж, сильно отличается по группам - в 2.9 раз:\n",
        "    * группа А - 2422 чел\n",
        "    * группа В - 822 чел  \n",
        "  \n",
        "В то время, как изначально количество зарегистрированных пользователей в группах отличалось всего на 34% в пользу группы А\n",
        "- в группе А на 2-й этап воронки - просмотр товаров - переходит на 9% больше пользователей, чем в группе В\n",
        "- в группе А на 3-й этап воронки - формирование корзины товаров - переходит на 3% больше пользователей, чем в группе В от числа авторизованных\n",
        "- в группе А на 4-й этап воронки - покупка товаров - переходит на 5% больше пользователей, чем в группе В от числа авторизованных\n",
        "- мы видим, что в обеих группах процент пользователей, дошедших до покупки, немного превышает процент пользователей, сформировавших корзину - это говорит о том, что есть пользователи, которые пропускают данный этап"
      ]
    },
    {
      "cell_type": "markdown",
      "metadata": {
        "id": "QqStrwHUDTt0"
      },
      "source": [
        "## Проверим статистическую разницу долей осуществления всех событий воронки продаж z-критерием.  \n",
        "**Сформулируем гипотезы для каждого события:**  \n",
        "1. **Но:** Доля авторизованных пользователей группы А, совершившая переход к просмотру карточки товара, не имеет статистически значимой разницы с долей авторизованных пользователей группы В, совершивших переход к просмотру карточки товара.  \n",
        "    **Н1:** Доли авторизованных пользователей в группах  А и В, перешедших к просмотру  карточки товара, имеют статистически значимую разницу.\n",
        "2.  **Но:** Доля авторизованных пользователей группы А, совершившая переход к просмотру продуктовой корзины, не имеет статистически значимой разницы с долей авторизованных пользователей группы В, совершивших переход к просмотру продуктовой корзины.  \n",
        "    **Н1:** Доли авторизованных пользователей в группах  А и В, перешедших к просмотру продуктовой корзины, имеют статистически значимую разницу.\n",
        "3. **Но:** Доля авторизованных пользователей группы А, совершившая переход к покупке товара, не имеет статистически значимой разницы с долей авторизованных пользователей группы В, совершивших переход к покупке товара.  \n",
        "    **Н1:** Доли авторизованных пользователей в группах  А и В, перешедших к покупке товара, имеют статистически значимую разницу.\n",
        "    \n",
        "Примем уровень значимости alpha = 0.05 с поправкой Бонферрони для 3 тестов: поделим его на 3"
      ]
    },
    {
      "cell_type": "code",
      "execution_count": 56,
      "metadata": {
        "colab": {
          "base_uri": "https://localhost:8080/"
        },
        "id": "NMrTxGz79BrJ",
        "outputId": "fa589b96-f488-4aba-e894-60b9f734ac48"
      },
      "outputs": [
        {
          "output_type": "stream",
          "name": "stdout",
          "text": [
            "Результат для события product_page \n",
            " p-значение:  0.0004402946747179559\n",
            "Доля в группе А: 65.0 %; Доля в группе В: 56.0 %\n",
            "Отвергаем нулевую гипотезу: между долями есть значимая разница\n",
            "\n",
            "Результат для события product_cart \n",
            " p-значение:  0.43953861009604456\n",
            "Доля в группе А: 30.0 %; Доля в группе В: 27.0 %\n",
            "Не получилось отвергнуть нулевую гипотезу, нет оснований считать доли разными\n",
            "\n",
            "Результат для события purchase \n",
            " p-значение:  0.2052815061762343\n",
            "Доля в группе А: 32.0 %; Доля в группе В: 27.0 %\n",
            "Не получилось отвергнуть нулевую гипотезу, нет оснований считать доли разными\n",
            "\n"
          ]
        }
      ],
      "source": [
        "alpha = 0.05/3\n",
        "funnel_stage = ['product_page', 'product_cart', 'purchase']\n",
        "for stage in funnel_stage:\n",
        "    events = np.array([funnel_group_A.query('funnel_stage == @stage')['users_cnt'].sum(), \\\n",
        "                   funnel_group_B.query('funnel_stage == @stage')['users_cnt'].sum()])\n",
        "    users = np.array([funnel_group_A.query('funnel_stage == \"login\"')['users_cnt'].sum(), \\\n",
        "                  funnel_group_B.query('funnel_stage == \"login\"')['users_cnt'].sum()])\n",
        "    p1 = events[0]/users[0]\n",
        "    p2 = events[1]/users[1]\n",
        "\n",
        "    p_combined = sum(events)/sum(users)\n",
        "    z_value = (p1-p2)/mth.sqrt(p_combined*(1-p_combined)*(1/events[0] + 1/events[1]))\n",
        "\n",
        "    distr = st.norm(0, 1)\n",
        "    p_value = (1 - distr.cdf(abs(z_value))) * 2\n",
        "    print('Результат для события', stage,'\\n', 'p-значение: ', p_value)\n",
        "    print('Доля в группе А:', (p1*100).round(),'%; Доля в группе В:', (p2*100).round(),'%')\n",
        "    if p_value < alpha:\n",
        "        print('Отвергаем нулевую гипотезу: между долями есть значимая разница', end='\\n\\n')\n",
        "    else:\n",
        "        print('Не получилось отвергнуть нулевую гипотезу, нет оснований считать доли разными', end='\\n\\n')\n"
      ]
    },
    {
      "cell_type": "markdown",
      "metadata": {
        "id": "YK9ocyswUT0_"
      },
      "source": [
        "## Выводы по результатам исследования:\n",
        "1. Правила проведения А\\В теста не соблюдены по следующим критериям:  \n",
        "  - во время проведения А\\В тестирования проводились маркетинговые акции, которые могли повлиять на результаты теста\n",
        "  - во время проведения анализиуемого А\\В теста `recommender_system_test` проводился конкурирующий тест `interface_eu_test`, который мог исказить результаты анализируемого теста\n",
        "  - доля пользователей из Европы составила 13%  вместо 15% по тех.заданию\n",
        "  - тест остановлен 2020-12-30 вместо 2021-01-04 по тех.заданию\n",
        "2. В процессе анализа выявилась неравномерность распределения конверсии пользователей в анализируемых группах из регистрации в авторизацию, т.е. вхождения в воронку продаж.  В связи с этим изначальная разница в группах в 34% гр.А больше гр.В изменилась: по кол-ву авторизаций гр.А почти в 3 раза больше гр.B\n",
        "3. Количество событий в группах существенно отличается как в абсолютном, так и в относительном выражении:\n",
        "    - в группе А наблюдается существенный рост кол-ва событий с 2020-12-14, после остановки набора пользователей в тест 2020-12-21 кол-во событий постепенно уменьшается;  \n",
        "    - в группе В мы видим достаточно равномерное распределение количества событий по дням, после остановки набора пользователей в тест 2020-12-21 кол-во событий постепенно уменьшается;\n",
        "    - в группе А среднее кол-во событий на пользователя 5, в группе В - 2\n",
        "4. И клиенты группы А, и клиенты группы В в большинстве совершают покупки до 5 дня, но в группе А чаще всего на 2 день, а в группе В на 1 день\n",
        "5. Результаты z-теста, который оценивал только этапы прохождения воронки продаж:\n",
        "- Результат для события product_page - просмотр карточки товара:\n",
        "    **Отвергаем нулевую гипотезу: между долями в группах А и В есть значимая разница**\n",
        "- Результат для события product_cart - просмотр корзины товаров:\n",
        "    **Не получилось отвергнуть нулевую гипотезу, нет оснований считать доли в группах А и В разными**\n",
        "- Результат для события purchase - покупка:  **Не получилось отвергнуть нулевую гипотезу, нет оснований считать доли в группах А и В разными**\n",
        "6. По результатам проведения А\\B теста можно сделать вывод об ухудшении пользовательских метрик в группе В по сравнению с группой А. Нет никаких оснований предполагать, что изменения в экспериментальной группе хоть как-то улучшили конверсию на этапах прохождения пользователями воронки продаж.\n",
        "7. Результаты теста мы засчитываем, т.к. несоответствия тех.заданию оказались несущественными и проведение нового теста в данном случае нецелесообразно, т.к. это повлечет за собой:\n",
        "    - новые затраты на проведение\n",
        "    - новые затраты на оценку результатов\n",
        "8. Недостатки, влияющие на качество проведения А\\В тестирования необходимо учесть в дальнейшем при проведении новых А\\В тестов:\n",
        "    - необходимо соблюдать сроки проведения теста в соответствии с тех.заданием\n",
        "    - нежелательно проводить А\\В тесты в предпраздничные, праздничные дни, периоды естественного повышения спроса\n",
        "    - необходимо договариваться с другими сотрудниками о проведении разных А\\В тестов изолированно, чтобы результаты одного теста не влияли на результаты другого\n",
        "    - по возможности нужно избегать пересечения А\\В тестов с маркетинговыми акциями"
      ]
    }
  ],
  "metadata": {
    "ExecuteTimeLog": [
      {
        "duration": 1294,
        "start_time": "2023-08-05T11:10:31.417Z"
      },
      {
        "duration": 773,
        "start_time": "2023-08-05T11:10:32.712Z"
      },
      {
        "duration": 20,
        "start_time": "2023-08-05T11:10:33.487Z"
      },
      {
        "duration": 4,
        "start_time": "2023-08-05T11:10:33.509Z"
      },
      {
        "duration": 62,
        "start_time": "2023-08-05T11:10:33.515Z"
      },
      {
        "duration": 94,
        "start_time": "2023-08-05T11:10:33.579Z"
      },
      {
        "duration": 31,
        "start_time": "2023-08-05T11:10:33.675Z"
      },
      {
        "duration": 10,
        "start_time": "2023-08-05T11:10:33.709Z"
      },
      {
        "duration": 17,
        "start_time": "2023-08-05T11:10:33.720Z"
      },
      {
        "duration": 13,
        "start_time": "2023-08-05T11:10:33.739Z"
      },
      {
        "duration": 148,
        "start_time": "2023-08-05T11:10:33.753Z"
      },
      {
        "duration": 26,
        "start_time": "2023-08-05T11:10:33.902Z"
      },
      {
        "duration": 11,
        "start_time": "2023-08-05T11:10:33.930Z"
      },
      {
        "duration": 8,
        "start_time": "2023-08-05T11:10:33.943Z"
      },
      {
        "duration": 8,
        "start_time": "2023-08-05T11:10:33.952Z"
      },
      {
        "duration": 43,
        "start_time": "2023-08-05T11:10:33.962Z"
      },
      {
        "duration": 4,
        "start_time": "2023-08-05T11:10:34.006Z"
      },
      {
        "duration": 18,
        "start_time": "2023-08-05T11:10:34.011Z"
      },
      {
        "duration": 12,
        "start_time": "2023-08-05T11:10:34.031Z"
      },
      {
        "duration": 10,
        "start_time": "2023-08-05T11:10:34.044Z"
      },
      {
        "duration": 4,
        "start_time": "2023-08-05T11:10:34.055Z"
      },
      {
        "duration": 39,
        "start_time": "2023-08-05T11:10:34.061Z"
      },
      {
        "duration": 5,
        "start_time": "2023-08-05T11:10:34.101Z"
      },
      {
        "duration": 22,
        "start_time": "2023-08-05T11:10:34.107Z"
      },
      {
        "duration": 5,
        "start_time": "2023-08-05T11:10:34.130Z"
      },
      {
        "duration": 20,
        "start_time": "2023-08-05T11:10:34.136Z"
      },
      {
        "duration": 12,
        "start_time": "2023-08-05T11:10:34.158Z"
      },
      {
        "duration": 5,
        "start_time": "2023-08-05T11:10:34.174Z"
      },
      {
        "duration": 19,
        "start_time": "2023-08-05T11:10:34.181Z"
      },
      {
        "duration": 109,
        "start_time": "2023-08-05T11:10:34.202Z"
      },
      {
        "duration": 14,
        "start_time": "2023-08-05T11:10:34.313Z"
      },
      {
        "duration": 13,
        "start_time": "2023-08-05T11:10:34.328Z"
      },
      {
        "duration": 16,
        "start_time": "2023-08-05T11:10:34.343Z"
      },
      {
        "duration": 12,
        "start_time": "2023-08-05T11:10:34.361Z"
      },
      {
        "duration": 37,
        "start_time": "2023-08-05T11:10:34.374Z"
      },
      {
        "duration": 210,
        "start_time": "2023-08-05T11:10:34.422Z"
      },
      {
        "duration": 12,
        "start_time": "2023-08-05T11:10:34.634Z"
      },
      {
        "duration": 189,
        "start_time": "2023-08-05T11:10:34.648Z"
      },
      {
        "duration": 8,
        "start_time": "2023-08-05T11:10:34.838Z"
      },
      {
        "duration": 22,
        "start_time": "2023-08-05T11:10:34.848Z"
      },
      {
        "duration": 58,
        "start_time": "2023-08-05T11:10:34.872Z"
      },
      {
        "duration": 423,
        "start_time": "2023-08-05T11:10:34.931Z"
      },
      {
        "duration": 166,
        "start_time": "2023-08-05T11:10:35.356Z"
      },
      {
        "duration": 202,
        "start_time": "2023-08-05T11:10:35.524Z"
      },
      {
        "duration": 157,
        "start_time": "2023-08-05T11:10:35.727Z"
      },
      {
        "duration": 31,
        "start_time": "2023-08-05T11:10:35.886Z"
      },
      {
        "duration": 147,
        "start_time": "2023-08-05T11:10:35.919Z"
      },
      {
        "duration": 17,
        "start_time": "2023-08-05T11:10:36.070Z"
      },
      {
        "duration": 44,
        "start_time": "2023-08-05T11:10:36.089Z"
      },
      {
        "duration": 751,
        "start_time": "2023-08-05T11:10:36.135Z"
      },
      {
        "duration": 14,
        "start_time": "2023-08-05T11:10:36.887Z"
      },
      {
        "duration": 40,
        "start_time": "2023-08-05T11:10:36.903Z"
      },
      {
        "duration": 27,
        "start_time": "2023-08-05T11:17:44.548Z"
      },
      {
        "duration": 1384,
        "start_time": "2023-08-06T06:24:33.263Z"
      },
      {
        "duration": 1913,
        "start_time": "2023-08-06T06:24:34.648Z"
      },
      {
        "duration": 18,
        "start_time": "2023-08-06T06:24:36.563Z"
      },
      {
        "duration": 5,
        "start_time": "2023-08-06T06:24:36.583Z"
      },
      {
        "duration": 89,
        "start_time": "2023-08-06T06:24:36.589Z"
      },
      {
        "duration": 87,
        "start_time": "2023-08-06T06:24:36.679Z"
      },
      {
        "duration": 21,
        "start_time": "2023-08-06T06:24:36.773Z"
      },
      {
        "duration": 10,
        "start_time": "2023-08-06T06:24:36.796Z"
      },
      {
        "duration": 16,
        "start_time": "2023-08-06T06:24:36.808Z"
      },
      {
        "duration": 8,
        "start_time": "2023-08-06T06:24:36.827Z"
      },
      {
        "duration": 190,
        "start_time": "2023-08-06T06:24:36.836Z"
      },
      {
        "duration": 28,
        "start_time": "2023-08-06T06:24:37.028Z"
      },
      {
        "duration": 23,
        "start_time": "2023-08-06T06:24:37.058Z"
      },
      {
        "duration": 9,
        "start_time": "2023-08-06T06:24:37.082Z"
      },
      {
        "duration": 11,
        "start_time": "2023-08-06T06:24:37.092Z"
      },
      {
        "duration": 15,
        "start_time": "2023-08-06T06:24:37.104Z"
      },
      {
        "duration": 5,
        "start_time": "2023-08-06T06:24:37.120Z"
      },
      {
        "duration": 14,
        "start_time": "2023-08-06T06:24:37.126Z"
      },
      {
        "duration": 39,
        "start_time": "2023-08-06T06:24:37.142Z"
      },
      {
        "duration": 11,
        "start_time": "2023-08-06T06:24:37.182Z"
      },
      {
        "duration": 5,
        "start_time": "2023-08-06T06:24:37.194Z"
      },
      {
        "duration": 16,
        "start_time": "2023-08-06T06:24:37.200Z"
      },
      {
        "duration": 6,
        "start_time": "2023-08-06T06:24:37.217Z"
      },
      {
        "duration": 28,
        "start_time": "2023-08-06T06:24:37.224Z"
      },
      {
        "duration": 23,
        "start_time": "2023-08-06T06:24:37.253Z"
      },
      {
        "duration": 17,
        "start_time": "2023-08-06T06:24:37.277Z"
      },
      {
        "duration": 8,
        "start_time": "2023-08-06T06:24:37.295Z"
      },
      {
        "duration": 4,
        "start_time": "2023-08-06T06:24:37.306Z"
      },
      {
        "duration": 16,
        "start_time": "2023-08-06T06:24:37.311Z"
      },
      {
        "duration": 131,
        "start_time": "2023-08-06T06:24:37.328Z"
      },
      {
        "duration": 16,
        "start_time": "2023-08-06T06:24:37.461Z"
      },
      {
        "duration": 22,
        "start_time": "2023-08-06T06:24:37.478Z"
      },
      {
        "duration": 13,
        "start_time": "2023-08-06T06:24:37.502Z"
      },
      {
        "duration": 6,
        "start_time": "2023-08-06T06:24:37.516Z"
      },
      {
        "duration": 19,
        "start_time": "2023-08-06T06:24:37.524Z"
      },
      {
        "duration": 252,
        "start_time": "2023-08-06T06:24:37.545Z"
      },
      {
        "duration": 14,
        "start_time": "2023-08-06T06:24:37.798Z"
      },
      {
        "duration": 230,
        "start_time": "2023-08-06T06:24:37.814Z"
      },
      {
        "duration": 8,
        "start_time": "2023-08-06T06:24:38.045Z"
      },
      {
        "duration": 28,
        "start_time": "2023-08-06T06:24:38.054Z"
      },
      {
        "duration": 35,
        "start_time": "2023-08-06T06:24:38.084Z"
      },
      {
        "duration": 445,
        "start_time": "2023-08-06T06:24:38.121Z"
      },
      {
        "duration": 164,
        "start_time": "2023-08-06T06:24:38.568Z"
      },
      {
        "duration": 224,
        "start_time": "2023-08-06T06:24:38.733Z"
      },
      {
        "duration": 179,
        "start_time": "2023-08-06T06:24:38.958Z"
      },
      {
        "duration": 22,
        "start_time": "2023-08-06T06:24:39.138Z"
      },
      {
        "duration": 103,
        "start_time": "2023-08-06T06:24:39.161Z"
      },
      {
        "duration": 18,
        "start_time": "2023-08-06T06:24:39.265Z"
      },
      {
        "duration": 14,
        "start_time": "2023-08-06T06:24:39.284Z"
      },
      {
        "duration": 120,
        "start_time": "2023-08-06T06:24:39.300Z"
      },
      {
        "duration": 4,
        "start_time": "2023-08-06T06:24:39.422Z"
      },
      {
        "duration": 59,
        "start_time": "2023-08-06T06:24:39.427Z"
      },
      {
        "duration": 132,
        "start_time": "2023-08-06T06:28:34.684Z"
      },
      {
        "duration": 13,
        "start_time": "2023-08-06T06:28:58.385Z"
      },
      {
        "duration": 5,
        "start_time": "2023-08-06T06:31:07.344Z"
      },
      {
        "duration": 4,
        "start_time": "2023-08-06T06:31:31.766Z"
      },
      {
        "duration": 14,
        "start_time": "2023-08-06T06:33:18.301Z"
      },
      {
        "duration": 14,
        "start_time": "2023-08-06T06:33:25.132Z"
      },
      {
        "duration": 12,
        "start_time": "2023-08-06T06:36:57.784Z"
      },
      {
        "duration": 25,
        "start_time": "2023-08-06T07:19:36.358Z"
      },
      {
        "duration": 29,
        "start_time": "2023-08-06T07:20:11.820Z"
      },
      {
        "duration": 5,
        "start_time": "2023-08-06T07:21:22.969Z"
      },
      {
        "duration": 8,
        "start_time": "2023-08-06T07:21:58.379Z"
      },
      {
        "duration": 27,
        "start_time": "2023-08-06T07:22:29.048Z"
      },
      {
        "duration": 33,
        "start_time": "2023-08-06T07:25:11.687Z"
      },
      {
        "duration": 28,
        "start_time": "2023-08-06T07:27:28.107Z"
      },
      {
        "duration": 46,
        "start_time": "2023-08-06T07:28:18.463Z"
      },
      {
        "duration": 48,
        "start_time": "2023-08-06T07:30:30.304Z"
      },
      {
        "duration": 24,
        "start_time": "2023-08-06T07:31:02.389Z"
      },
      {
        "duration": 43,
        "start_time": "2023-08-06T07:31:31.845Z"
      },
      {
        "duration": 29,
        "start_time": "2023-08-06T07:35:29.319Z"
      },
      {
        "duration": 30,
        "start_time": "2023-08-06T07:35:37.145Z"
      },
      {
        "duration": 1809,
        "start_time": "2023-08-06T07:36:21.811Z"
      },
      {
        "duration": 190,
        "start_time": "2023-08-06T07:43:07.071Z"
      },
      {
        "duration": 201,
        "start_time": "2023-08-06T07:44:30.658Z"
      },
      {
        "duration": 14,
        "start_time": "2023-08-06T07:46:17.246Z"
      },
      {
        "duration": 161,
        "start_time": "2023-08-06T07:47:46.768Z"
      },
      {
        "duration": 214,
        "start_time": "2023-08-06T07:48:07.696Z"
      },
      {
        "duration": 195,
        "start_time": "2023-08-06T07:48:32.083Z"
      },
      {
        "duration": 105,
        "start_time": "2023-08-06T07:49:00.190Z"
      },
      {
        "duration": 175,
        "start_time": "2023-08-06T07:49:08.987Z"
      },
      {
        "duration": 255,
        "start_time": "2023-08-06T07:49:19.066Z"
      },
      {
        "duration": 176,
        "start_time": "2023-08-06T07:49:29.134Z"
      },
      {
        "duration": 191,
        "start_time": "2023-08-06T07:49:43.854Z"
      },
      {
        "duration": 214,
        "start_time": "2023-08-06T07:49:56.088Z"
      },
      {
        "duration": 247,
        "start_time": "2023-08-06T07:50:10.303Z"
      },
      {
        "duration": 193,
        "start_time": "2023-08-06T07:50:38.979Z"
      },
      {
        "duration": 208,
        "start_time": "2023-08-06T07:51:19.646Z"
      },
      {
        "duration": 16,
        "start_time": "2023-08-06T08:49:38.763Z"
      },
      {
        "duration": 356,
        "start_time": "2023-08-06T08:49:49.425Z"
      },
      {
        "duration": 221,
        "start_time": "2023-08-06T08:50:03.408Z"
      },
      {
        "duration": 189,
        "start_time": "2023-08-06T08:50:22.564Z"
      },
      {
        "duration": 140,
        "start_time": "2023-08-06T08:51:04.534Z"
      },
      {
        "duration": 30,
        "start_time": "2023-08-06T09:04:07.381Z"
      },
      {
        "duration": 21,
        "start_time": "2023-08-06T09:04:51.483Z"
      },
      {
        "duration": 30,
        "start_time": "2023-08-06T09:05:18.366Z"
      },
      {
        "duration": 108,
        "start_time": "2023-08-06T09:06:51.064Z"
      },
      {
        "duration": 162,
        "start_time": "2023-08-06T09:34:36.096Z"
      },
      {
        "duration": 30,
        "start_time": "2023-08-06T09:56:47.239Z"
      },
      {
        "duration": 40,
        "start_time": "2023-08-06T09:57:23.846Z"
      },
      {
        "duration": 30,
        "start_time": "2023-08-06T09:58:36.911Z"
      },
      {
        "duration": 1262,
        "start_time": "2023-08-06T09:58:49.426Z"
      },
      {
        "duration": 591,
        "start_time": "2023-08-06T09:58:50.690Z"
      },
      {
        "duration": 19,
        "start_time": "2023-08-06T09:58:51.283Z"
      },
      {
        "duration": 5,
        "start_time": "2023-08-06T09:58:51.304Z"
      },
      {
        "duration": 84,
        "start_time": "2023-08-06T09:58:51.311Z"
      },
      {
        "duration": 89,
        "start_time": "2023-08-06T09:58:51.397Z"
      },
      {
        "duration": 23,
        "start_time": "2023-08-06T09:58:51.488Z"
      },
      {
        "duration": 15,
        "start_time": "2023-08-06T09:58:51.513Z"
      },
      {
        "duration": 17,
        "start_time": "2023-08-06T09:58:51.530Z"
      },
      {
        "duration": 9,
        "start_time": "2023-08-06T09:58:51.575Z"
      },
      {
        "duration": 191,
        "start_time": "2023-08-06T09:58:51.585Z"
      },
      {
        "duration": 29,
        "start_time": "2023-08-06T09:58:51.778Z"
      },
      {
        "duration": 12,
        "start_time": "2023-08-06T09:58:51.809Z"
      },
      {
        "duration": 9,
        "start_time": "2023-08-06T09:58:51.822Z"
      },
      {
        "duration": 9,
        "start_time": "2023-08-06T09:58:51.833Z"
      },
      {
        "duration": 43,
        "start_time": "2023-08-06T09:58:51.843Z"
      },
      {
        "duration": 4,
        "start_time": "2023-08-06T09:58:51.888Z"
      },
      {
        "duration": 14,
        "start_time": "2023-08-06T09:58:51.894Z"
      },
      {
        "duration": 13,
        "start_time": "2023-08-06T09:58:51.910Z"
      },
      {
        "duration": 28,
        "start_time": "2023-08-06T09:58:51.925Z"
      },
      {
        "duration": 21,
        "start_time": "2023-08-06T09:58:51.955Z"
      },
      {
        "duration": 15,
        "start_time": "2023-08-06T09:58:51.977Z"
      },
      {
        "duration": 14,
        "start_time": "2023-08-06T09:58:51.993Z"
      },
      {
        "duration": 32,
        "start_time": "2023-08-06T09:58:52.008Z"
      },
      {
        "duration": 4,
        "start_time": "2023-08-06T09:58:52.042Z"
      },
      {
        "duration": 10,
        "start_time": "2023-08-06T09:58:52.048Z"
      },
      {
        "duration": 16,
        "start_time": "2023-08-06T09:58:52.059Z"
      },
      {
        "duration": 14,
        "start_time": "2023-08-06T09:58:52.079Z"
      },
      {
        "duration": 27,
        "start_time": "2023-08-06T09:58:52.095Z"
      },
      {
        "duration": 135,
        "start_time": "2023-08-06T09:58:52.123Z"
      },
      {
        "duration": 22,
        "start_time": "2023-08-06T09:58:52.260Z"
      },
      {
        "duration": 19,
        "start_time": "2023-08-06T09:58:52.283Z"
      },
      {
        "duration": 27,
        "start_time": "2023-08-06T09:58:52.303Z"
      },
      {
        "duration": 37,
        "start_time": "2023-08-06T09:58:52.332Z"
      },
      {
        "duration": 42,
        "start_time": "2023-08-06T09:58:52.371Z"
      },
      {
        "duration": 275,
        "start_time": "2023-08-06T09:58:52.415Z"
      },
      {
        "duration": 15,
        "start_time": "2023-08-06T09:58:52.691Z"
      },
      {
        "duration": 488,
        "start_time": "2023-08-06T09:58:52.708Z"
      },
      {
        "duration": 230,
        "start_time": "2023-08-06T09:58:53.197Z"
      },
      {
        "duration": 194,
        "start_time": "2023-08-06T09:58:53.429Z"
      },
      {
        "duration": 13,
        "start_time": "2023-08-06T09:58:53.624Z"
      },
      {
        "duration": 263,
        "start_time": "2023-08-06T09:58:53.639Z"
      },
      {
        "duration": 11,
        "start_time": "2023-08-06T09:58:53.904Z"
      },
      {
        "duration": 26,
        "start_time": "2023-08-06T09:58:53.916Z"
      },
      {
        "duration": 45,
        "start_time": "2023-08-06T09:58:53.944Z"
      },
      {
        "duration": 550,
        "start_time": "2023-08-06T09:58:53.990Z"
      },
      {
        "duration": 182,
        "start_time": "2023-08-06T09:58:54.541Z"
      },
      {
        "duration": 187,
        "start_time": "2023-08-06T09:58:54.724Z"
      },
      {
        "duration": 183,
        "start_time": "2023-08-06T09:58:54.913Z"
      },
      {
        "duration": 23,
        "start_time": "2023-08-06T09:58:55.098Z"
      },
      {
        "duration": 116,
        "start_time": "2023-08-06T09:58:55.123Z"
      },
      {
        "duration": 12,
        "start_time": "2023-08-06T09:58:55.241Z"
      },
      {
        "duration": 24,
        "start_time": "2023-08-06T09:58:55.255Z"
      },
      {
        "duration": 19,
        "start_time": "2023-08-06T09:58:55.280Z"
      },
      {
        "duration": 5,
        "start_time": "2023-08-06T09:58:55.300Z"
      },
      {
        "duration": 54,
        "start_time": "2023-08-06T09:58:55.306Z"
      },
      {
        "duration": 116,
        "start_time": "2023-08-06T10:03:36.914Z"
      },
      {
        "duration": 32,
        "start_time": "2023-08-06T10:06:06.378Z"
      },
      {
        "duration": 31,
        "start_time": "2023-08-06T10:06:21.464Z"
      },
      {
        "duration": 112,
        "start_time": "2023-08-06T10:06:34.870Z"
      },
      {
        "duration": 31,
        "start_time": "2023-08-06T10:06:46.993Z"
      },
      {
        "duration": 109,
        "start_time": "2023-08-06T10:07:37.280Z"
      },
      {
        "duration": 35,
        "start_time": "2023-08-06T10:07:54.505Z"
      },
      {
        "duration": 33,
        "start_time": "2023-08-06T10:08:28.634Z"
      },
      {
        "duration": 31,
        "start_time": "2023-08-06T10:08:41.625Z"
      },
      {
        "duration": 34,
        "start_time": "2023-08-06T10:11:55.335Z"
      },
      {
        "duration": 48,
        "start_time": "2023-08-06T10:12:49.758Z"
      },
      {
        "duration": 1311,
        "start_time": "2023-08-06T10:25:22.188Z"
      },
      {
        "duration": 704,
        "start_time": "2023-08-06T10:25:23.501Z"
      },
      {
        "duration": 20,
        "start_time": "2023-08-06T10:25:24.206Z"
      },
      {
        "duration": 5,
        "start_time": "2023-08-06T10:25:24.228Z"
      },
      {
        "duration": 79,
        "start_time": "2023-08-06T10:25:24.235Z"
      },
      {
        "duration": 101,
        "start_time": "2023-08-06T10:25:24.316Z"
      },
      {
        "duration": 24,
        "start_time": "2023-08-06T10:25:24.419Z"
      },
      {
        "duration": 35,
        "start_time": "2023-08-06T10:25:24.445Z"
      },
      {
        "duration": 20,
        "start_time": "2023-08-06T10:25:24.483Z"
      },
      {
        "duration": 35,
        "start_time": "2023-08-06T10:25:24.506Z"
      },
      {
        "duration": 230,
        "start_time": "2023-08-06T10:25:24.542Z"
      },
      {
        "duration": 46,
        "start_time": "2023-08-06T10:25:24.776Z"
      },
      {
        "duration": 12,
        "start_time": "2023-08-06T10:25:24.824Z"
      },
      {
        "duration": 9,
        "start_time": "2023-08-06T10:25:24.838Z"
      },
      {
        "duration": 42,
        "start_time": "2023-08-06T10:25:24.849Z"
      },
      {
        "duration": 17,
        "start_time": "2023-08-06T10:25:24.892Z"
      },
      {
        "duration": 6,
        "start_time": "2023-08-06T10:25:24.911Z"
      },
      {
        "duration": 16,
        "start_time": "2023-08-06T10:25:24.919Z"
      },
      {
        "duration": 39,
        "start_time": "2023-08-06T10:25:24.937Z"
      },
      {
        "duration": 21,
        "start_time": "2023-08-06T10:25:24.978Z"
      },
      {
        "duration": 5,
        "start_time": "2023-08-06T10:25:25.000Z"
      },
      {
        "duration": 6,
        "start_time": "2023-08-06T10:25:25.007Z"
      },
      {
        "duration": 16,
        "start_time": "2023-08-06T10:25:25.014Z"
      },
      {
        "duration": 57,
        "start_time": "2023-08-06T10:25:25.032Z"
      },
      {
        "duration": 5,
        "start_time": "2023-08-06T10:25:25.091Z"
      },
      {
        "duration": 6,
        "start_time": "2023-08-06T10:25:25.098Z"
      },
      {
        "duration": 9,
        "start_time": "2023-08-06T10:25:25.106Z"
      },
      {
        "duration": 9,
        "start_time": "2023-08-06T10:25:25.119Z"
      },
      {
        "duration": 16,
        "start_time": "2023-08-06T10:25:25.130Z"
      },
      {
        "duration": 160,
        "start_time": "2023-08-06T10:25:25.147Z"
      },
      {
        "duration": 18,
        "start_time": "2023-08-06T10:25:25.308Z"
      },
      {
        "duration": 20,
        "start_time": "2023-08-06T10:25:25.328Z"
      },
      {
        "duration": 41,
        "start_time": "2023-08-06T10:25:25.350Z"
      },
      {
        "duration": 6,
        "start_time": "2023-08-06T10:25:25.393Z"
      },
      {
        "duration": 27,
        "start_time": "2023-08-06T10:25:25.400Z"
      },
      {
        "duration": 274,
        "start_time": "2023-08-06T10:25:25.429Z"
      },
      {
        "duration": 14,
        "start_time": "2023-08-06T10:25:25.704Z"
      },
      {
        "duration": 522,
        "start_time": "2023-08-06T10:25:25.720Z"
      },
      {
        "duration": 305,
        "start_time": "2023-08-06T10:25:26.244Z"
      },
      {
        "duration": 220,
        "start_time": "2023-08-06T10:25:26.550Z"
      },
      {
        "duration": 19,
        "start_time": "2023-08-06T10:25:26.775Z"
      },
      {
        "duration": 229,
        "start_time": "2023-08-06T10:25:26.796Z"
      },
      {
        "duration": 8,
        "start_time": "2023-08-06T10:25:27.027Z"
      },
      {
        "duration": 17,
        "start_time": "2023-08-06T10:25:27.037Z"
      },
      {
        "duration": 59,
        "start_time": "2023-08-06T10:25:27.055Z"
      },
      {
        "duration": 614,
        "start_time": "2023-08-06T10:25:27.115Z"
      },
      {
        "duration": 208,
        "start_time": "2023-08-06T10:25:27.731Z"
      },
      {
        "duration": 217,
        "start_time": "2023-08-06T10:25:27.941Z"
      },
      {
        "duration": 205,
        "start_time": "2023-08-06T10:25:28.160Z"
      },
      {
        "duration": 31,
        "start_time": "2023-08-06T10:25:28.367Z"
      },
      {
        "duration": 128,
        "start_time": "2023-08-06T10:25:28.400Z"
      },
      {
        "duration": 14,
        "start_time": "2023-08-06T10:25:28.529Z"
      },
      {
        "duration": 44,
        "start_time": "2023-08-06T10:25:28.545Z"
      },
      {
        "duration": 13,
        "start_time": "2023-08-06T10:25:28.591Z"
      },
      {
        "duration": 6,
        "start_time": "2023-08-06T10:25:28.605Z"
      },
      {
        "duration": 40,
        "start_time": "2023-08-06T10:25:28.613Z"
      },
      {
        "duration": 1204,
        "start_time": "2023-08-06T20:11:06.115Z"
      },
      {
        "duration": 576,
        "start_time": "2023-08-06T20:11:07.321Z"
      },
      {
        "duration": 18,
        "start_time": "2023-08-06T20:11:07.898Z"
      },
      {
        "duration": 13,
        "start_time": "2023-08-06T20:11:07.918Z"
      },
      {
        "duration": 155,
        "start_time": "2023-08-06T20:11:07.932Z"
      },
      {
        "duration": 115,
        "start_time": "2023-08-06T20:11:08.090Z"
      },
      {
        "duration": 24,
        "start_time": "2023-08-06T20:11:08.207Z"
      },
      {
        "duration": 42,
        "start_time": "2023-08-06T20:11:08.232Z"
      },
      {
        "duration": 25,
        "start_time": "2023-08-06T20:11:08.276Z"
      },
      {
        "duration": 9,
        "start_time": "2023-08-06T20:11:08.304Z"
      },
      {
        "duration": 172,
        "start_time": "2023-08-06T20:11:08.314Z"
      },
      {
        "duration": 28,
        "start_time": "2023-08-06T20:11:08.488Z"
      },
      {
        "duration": 50,
        "start_time": "2023-08-06T20:11:08.518Z"
      },
      {
        "duration": 9,
        "start_time": "2023-08-06T20:11:08.573Z"
      },
      {
        "duration": 26,
        "start_time": "2023-08-06T20:11:08.583Z"
      },
      {
        "duration": 76,
        "start_time": "2023-08-06T20:11:08.610Z"
      },
      {
        "duration": 67,
        "start_time": "2023-08-06T20:11:08.688Z"
      },
      {
        "duration": 45,
        "start_time": "2023-08-06T20:11:08.757Z"
      },
      {
        "duration": 14,
        "start_time": "2023-08-06T20:11:08.803Z"
      },
      {
        "duration": 16,
        "start_time": "2023-08-06T20:11:08.819Z"
      },
      {
        "duration": 45,
        "start_time": "2023-08-06T20:11:08.837Z"
      },
      {
        "duration": 8,
        "start_time": "2023-08-06T20:11:08.883Z"
      },
      {
        "duration": 23,
        "start_time": "2023-08-06T20:11:08.892Z"
      },
      {
        "duration": 31,
        "start_time": "2023-08-06T20:11:08.917Z"
      },
      {
        "duration": 16,
        "start_time": "2023-08-06T20:11:08.957Z"
      },
      {
        "duration": 10,
        "start_time": "2023-08-06T20:11:08.975Z"
      },
      {
        "duration": 47,
        "start_time": "2023-08-06T20:11:08.987Z"
      },
      {
        "duration": 42,
        "start_time": "2023-08-06T20:11:09.037Z"
      },
      {
        "duration": 16,
        "start_time": "2023-08-06T20:11:09.081Z"
      },
      {
        "duration": 180,
        "start_time": "2023-08-06T20:11:09.098Z"
      },
      {
        "duration": 20,
        "start_time": "2023-08-06T20:11:09.281Z"
      },
      {
        "duration": 15,
        "start_time": "2023-08-06T20:11:09.303Z"
      },
      {
        "duration": 15,
        "start_time": "2023-08-06T20:11:09.319Z"
      },
      {
        "duration": 47,
        "start_time": "2023-08-06T20:11:09.335Z"
      },
      {
        "duration": 32,
        "start_time": "2023-08-06T20:11:09.384Z"
      },
      {
        "duration": 263,
        "start_time": "2023-08-06T20:11:09.417Z"
      },
      {
        "duration": 13,
        "start_time": "2023-08-06T20:11:09.681Z"
      },
      {
        "duration": 1220,
        "start_time": "2023-08-06T20:11:09.696Z"
      },
      {
        "duration": 264,
        "start_time": "2023-08-06T20:11:10.918Z"
      },
      {
        "duration": 199,
        "start_time": "2023-08-06T20:11:11.183Z"
      },
      {
        "duration": 13,
        "start_time": "2023-08-06T20:11:11.385Z"
      },
      {
        "duration": 224,
        "start_time": "2023-08-06T20:11:11.400Z"
      },
      {
        "duration": 7,
        "start_time": "2023-08-06T20:11:11.626Z"
      },
      {
        "duration": 31,
        "start_time": "2023-08-06T20:11:11.634Z"
      },
      {
        "duration": 52,
        "start_time": "2023-08-06T20:11:11.666Z"
      },
      {
        "duration": 518,
        "start_time": "2023-08-06T20:11:11.719Z"
      },
      {
        "duration": 173,
        "start_time": "2023-08-06T20:11:12.244Z"
      },
      {
        "duration": 172,
        "start_time": "2023-08-06T20:11:12.419Z"
      },
      {
        "duration": 191,
        "start_time": "2023-08-06T20:11:12.592Z"
      },
      {
        "duration": 22,
        "start_time": "2023-08-06T20:11:12.784Z"
      },
      {
        "duration": 117,
        "start_time": "2023-08-06T20:11:12.807Z"
      },
      {
        "duration": 17,
        "start_time": "2023-08-06T20:11:12.926Z"
      },
      {
        "duration": 34,
        "start_time": "2023-08-06T20:11:12.945Z"
      },
      {
        "duration": 16,
        "start_time": "2023-08-06T20:11:12.981Z"
      },
      {
        "duration": 5,
        "start_time": "2023-08-06T20:11:12.999Z"
      },
      {
        "duration": 28,
        "start_time": "2023-08-06T20:11:13.006Z"
      },
      {
        "duration": 88,
        "start_time": "2023-08-06T20:11:23.383Z"
      },
      {
        "duration": 12,
        "start_time": "2023-08-06T20:11:28.499Z"
      },
      {
        "duration": 77,
        "start_time": "2023-08-07T06:02:49.713Z"
      },
      {
        "duration": 1436,
        "start_time": "2023-08-07T06:03:00.540Z"
      },
      {
        "duration": 852,
        "start_time": "2023-08-07T06:03:01.978Z"
      },
      {
        "duration": 18,
        "start_time": "2023-08-07T06:03:02.832Z"
      },
      {
        "duration": 5,
        "start_time": "2023-08-07T06:03:02.852Z"
      },
      {
        "duration": 76,
        "start_time": "2023-08-07T06:03:02.859Z"
      },
      {
        "duration": 90,
        "start_time": "2023-08-07T06:03:02.936Z"
      },
      {
        "duration": 39,
        "start_time": "2023-08-07T06:03:03.028Z"
      },
      {
        "duration": 23,
        "start_time": "2023-08-07T06:03:03.069Z"
      },
      {
        "duration": 21,
        "start_time": "2023-08-07T06:03:03.093Z"
      },
      {
        "duration": 75,
        "start_time": "2023-08-07T06:03:03.116Z"
      },
      {
        "duration": 199,
        "start_time": "2023-08-07T06:03:03.193Z"
      },
      {
        "duration": 30,
        "start_time": "2023-08-07T06:03:03.393Z"
      },
      {
        "duration": 13,
        "start_time": "2023-08-07T06:03:03.424Z"
      },
      {
        "duration": 56,
        "start_time": "2023-08-07T06:03:03.438Z"
      },
      {
        "duration": 12,
        "start_time": "2023-08-07T06:03:03.502Z"
      },
      {
        "duration": 45,
        "start_time": "2023-08-07T06:03:03.515Z"
      },
      {
        "duration": 17,
        "start_time": "2023-08-07T06:03:03.562Z"
      },
      {
        "duration": 20,
        "start_time": "2023-08-07T06:03:03.580Z"
      },
      {
        "duration": 59,
        "start_time": "2023-08-07T06:03:03.601Z"
      },
      {
        "duration": 36,
        "start_time": "2023-08-07T06:03:03.662Z"
      },
      {
        "duration": 20,
        "start_time": "2023-08-07T06:03:03.700Z"
      },
      {
        "duration": 20,
        "start_time": "2023-08-07T06:03:03.722Z"
      },
      {
        "duration": 19,
        "start_time": "2023-08-07T06:03:03.743Z"
      },
      {
        "duration": 29,
        "start_time": "2023-08-07T06:03:03.763Z"
      },
      {
        "duration": 4,
        "start_time": "2023-08-07T06:03:03.794Z"
      },
      {
        "duration": 13,
        "start_time": "2023-08-07T06:03:03.799Z"
      },
      {
        "duration": 14,
        "start_time": "2023-08-07T06:03:03.813Z"
      },
      {
        "duration": 36,
        "start_time": "2023-08-07T06:03:03.830Z"
      },
      {
        "duration": 39,
        "start_time": "2023-08-07T06:03:03.867Z"
      },
      {
        "duration": 117,
        "start_time": "2023-08-07T06:03:03.907Z"
      },
      {
        "duration": 13,
        "start_time": "2023-08-07T06:03:04.026Z"
      },
      {
        "duration": 93,
        "start_time": "2023-08-07T06:03:04.040Z"
      },
      {
        "duration": 29,
        "start_time": "2023-08-07T06:03:04.134Z"
      },
      {
        "duration": 26,
        "start_time": "2023-08-07T06:03:04.165Z"
      },
      {
        "duration": 41,
        "start_time": "2023-08-07T06:03:04.193Z"
      },
      {
        "duration": 217,
        "start_time": "2023-08-07T06:03:04.237Z"
      },
      {
        "duration": 13,
        "start_time": "2023-08-07T06:03:04.456Z"
      },
      {
        "duration": 457,
        "start_time": "2023-08-07T06:03:04.470Z"
      },
      {
        "duration": 15,
        "start_time": "2023-08-07T06:03:04.929Z"
      },
      {
        "duration": 212,
        "start_time": "2023-08-07T06:03:04.946Z"
      },
      {
        "duration": 208,
        "start_time": "2023-08-07T06:03:05.159Z"
      },
      {
        "duration": 7,
        "start_time": "2023-08-07T06:03:05.369Z"
      },
      {
        "duration": 38,
        "start_time": "2023-08-07T06:03:05.377Z"
      },
      {
        "duration": 42,
        "start_time": "2023-08-07T06:03:05.417Z"
      },
      {
        "duration": 492,
        "start_time": "2023-08-07T06:03:05.461Z"
      },
      {
        "duration": 271,
        "start_time": "2023-08-07T06:03:05.955Z"
      },
      {
        "duration": 158,
        "start_time": "2023-08-07T06:03:06.227Z"
      },
      {
        "duration": 169,
        "start_time": "2023-08-07T06:03:06.387Z"
      },
      {
        "duration": 20,
        "start_time": "2023-08-07T06:03:06.558Z"
      },
      {
        "duration": 103,
        "start_time": "2023-08-07T06:03:06.579Z"
      },
      {
        "duration": 17,
        "start_time": "2023-08-07T06:03:06.684Z"
      },
      {
        "duration": 43,
        "start_time": "2023-08-07T06:03:06.702Z"
      },
      {
        "duration": 15,
        "start_time": "2023-08-07T06:03:06.747Z"
      },
      {
        "duration": 8,
        "start_time": "2023-08-07T06:03:06.764Z"
      },
      {
        "duration": 37,
        "start_time": "2023-08-07T06:03:06.774Z"
      },
      {
        "duration": 19,
        "start_time": "2023-08-07T06:06:46.359Z"
      },
      {
        "duration": 19,
        "start_time": "2023-08-07T06:07:44.829Z"
      },
      {
        "duration": 21,
        "start_time": "2023-08-07T06:08:13.701Z"
      },
      {
        "duration": 13,
        "start_time": "2023-08-07T06:08:39.464Z"
      },
      {
        "duration": 22,
        "start_time": "2023-08-07T06:08:47.297Z"
      },
      {
        "duration": 18,
        "start_time": "2023-08-07T06:09:41.397Z"
      },
      {
        "duration": 8,
        "start_time": "2023-08-07T06:14:40.306Z"
      },
      {
        "duration": 171,
        "start_time": "2023-08-07T06:14:53.623Z"
      },
      {
        "duration": 23,
        "start_time": "2023-08-07T06:15:40.620Z"
      },
      {
        "duration": 22,
        "start_time": "2023-08-07T06:15:43.735Z"
      },
      {
        "duration": 23,
        "start_time": "2023-08-07T06:16:10.568Z"
      },
      {
        "duration": 22,
        "start_time": "2023-08-07T06:16:16.348Z"
      },
      {
        "duration": 13,
        "start_time": "2023-08-07T06:16:35.974Z"
      },
      {
        "duration": 14,
        "start_time": "2023-08-07T06:16:57.081Z"
      },
      {
        "duration": 23,
        "start_time": "2023-08-07T06:17:02.256Z"
      },
      {
        "duration": 23,
        "start_time": "2023-08-07T06:17:22.123Z"
      },
      {
        "duration": 23,
        "start_time": "2023-08-07T06:23:03.002Z"
      },
      {
        "duration": 22,
        "start_time": "2023-08-07T06:23:15.088Z"
      },
      {
        "duration": 24,
        "start_time": "2023-08-07T06:23:17.702Z"
      },
      {
        "duration": 18,
        "start_time": "2023-08-07T06:24:05.351Z"
      },
      {
        "duration": 20,
        "start_time": "2023-08-07T06:24:14.951Z"
      },
      {
        "duration": 23,
        "start_time": "2023-08-07T06:24:24.099Z"
      },
      {
        "duration": 26,
        "start_time": "2023-08-07T06:26:01.271Z"
      },
      {
        "duration": 27,
        "start_time": "2023-08-07T06:26:08.096Z"
      },
      {
        "duration": 101,
        "start_time": "2023-08-07T06:27:14.331Z"
      },
      {
        "duration": 22,
        "start_time": "2023-08-07T06:27:26.501Z"
      },
      {
        "duration": 30,
        "start_time": "2023-08-07T06:27:37.518Z"
      },
      {
        "duration": 25,
        "start_time": "2023-08-07T06:28:29.562Z"
      },
      {
        "duration": 27,
        "start_time": "2023-08-07T06:53:21.514Z"
      },
      {
        "duration": 1234,
        "start_time": "2023-08-07T06:53:31.264Z"
      },
      {
        "duration": 515,
        "start_time": "2023-08-07T06:53:32.501Z"
      },
      {
        "duration": 17,
        "start_time": "2023-08-07T06:53:33.018Z"
      },
      {
        "duration": 4,
        "start_time": "2023-08-07T06:53:33.037Z"
      },
      {
        "duration": 65,
        "start_time": "2023-08-07T06:53:33.043Z"
      },
      {
        "duration": 93,
        "start_time": "2023-08-07T06:53:33.110Z"
      },
      {
        "duration": 19,
        "start_time": "2023-08-07T06:53:33.204Z"
      },
      {
        "duration": 10,
        "start_time": "2023-08-07T06:53:33.224Z"
      },
      {
        "duration": 24,
        "start_time": "2023-08-07T06:53:33.236Z"
      },
      {
        "duration": 8,
        "start_time": "2023-08-07T06:53:33.262Z"
      },
      {
        "duration": 164,
        "start_time": "2023-08-07T06:53:33.271Z"
      },
      {
        "duration": 29,
        "start_time": "2023-08-07T06:53:33.436Z"
      },
      {
        "duration": 10,
        "start_time": "2023-08-07T06:53:33.466Z"
      },
      {
        "duration": 22,
        "start_time": "2023-08-07T06:53:33.478Z"
      },
      {
        "duration": 9,
        "start_time": "2023-08-07T06:53:33.502Z"
      },
      {
        "duration": 23,
        "start_time": "2023-08-07T06:53:33.512Z"
      },
      {
        "duration": 5,
        "start_time": "2023-08-07T06:53:33.536Z"
      },
      {
        "duration": 20,
        "start_time": "2023-08-07T06:53:33.542Z"
      },
      {
        "duration": 13,
        "start_time": "2023-08-07T06:53:33.563Z"
      },
      {
        "duration": 12,
        "start_time": "2023-08-07T06:53:33.599Z"
      },
      {
        "duration": 9,
        "start_time": "2023-08-07T06:53:33.612Z"
      },
      {
        "duration": 10,
        "start_time": "2023-08-07T06:53:33.622Z"
      },
      {
        "duration": 4,
        "start_time": "2023-08-07T06:53:33.633Z"
      },
      {
        "duration": 27,
        "start_time": "2023-08-07T06:53:33.638Z"
      },
      {
        "duration": 4,
        "start_time": "2023-08-07T06:53:33.667Z"
      },
      {
        "duration": 33,
        "start_time": "2023-08-07T06:53:33.672Z"
      },
      {
        "duration": 7,
        "start_time": "2023-08-07T06:53:33.708Z"
      },
      {
        "duration": 5,
        "start_time": "2023-08-07T06:53:33.718Z"
      },
      {
        "duration": 15,
        "start_time": "2023-08-07T06:53:33.725Z"
      },
      {
        "duration": 123,
        "start_time": "2023-08-07T06:53:33.742Z"
      },
      {
        "duration": 13,
        "start_time": "2023-08-07T06:53:33.867Z"
      },
      {
        "duration": 22,
        "start_time": "2023-08-07T06:53:33.882Z"
      },
      {
        "duration": 9,
        "start_time": "2023-08-07T06:53:33.906Z"
      },
      {
        "duration": 9,
        "start_time": "2023-08-07T06:53:33.916Z"
      },
      {
        "duration": 20,
        "start_time": "2023-08-07T06:53:33.926Z"
      },
      {
        "duration": 222,
        "start_time": "2023-08-07T06:53:33.948Z"
      },
      {
        "duration": 13,
        "start_time": "2023-08-07T06:53:34.172Z"
      },
      {
        "duration": 418,
        "start_time": "2023-08-07T06:53:34.186Z"
      },
      {
        "duration": 25,
        "start_time": "2023-08-07T06:53:34.606Z"
      },
      {
        "duration": 10,
        "start_time": "2023-08-07T06:53:34.633Z"
      },
      {
        "duration": 218,
        "start_time": "2023-08-07T06:53:34.645Z"
      },
      {
        "duration": 205,
        "start_time": "2023-08-07T06:53:34.865Z"
      },
      {
        "duration": 9,
        "start_time": "2023-08-07T06:53:35.071Z"
      },
      {
        "duration": 27,
        "start_time": "2023-08-07T06:53:35.082Z"
      },
      {
        "duration": 33,
        "start_time": "2023-08-07T06:53:35.111Z"
      },
      {
        "duration": 445,
        "start_time": "2023-08-07T06:53:35.146Z"
      },
      {
        "duration": 241,
        "start_time": "2023-08-07T06:53:35.592Z"
      },
      {
        "duration": 207,
        "start_time": "2023-08-07T06:53:35.834Z"
      },
      {
        "duration": 198,
        "start_time": "2023-08-07T06:53:36.043Z"
      },
      {
        "duration": 20,
        "start_time": "2023-08-07T06:53:36.242Z"
      },
      {
        "duration": 137,
        "start_time": "2023-08-07T06:53:36.264Z"
      },
      {
        "duration": 12,
        "start_time": "2023-08-07T06:53:36.402Z"
      },
      {
        "duration": 12,
        "start_time": "2023-08-07T06:53:36.416Z"
      },
      {
        "duration": 24,
        "start_time": "2023-08-07T06:53:36.430Z"
      },
      {
        "duration": 18,
        "start_time": "2023-08-07T06:53:36.456Z"
      },
      {
        "duration": 36,
        "start_time": "2023-08-07T06:53:36.476Z"
      },
      {
        "duration": 20,
        "start_time": "2023-08-07T07:07:54.410Z"
      },
      {
        "duration": 27,
        "start_time": "2023-08-07T07:08:04.416Z"
      },
      {
        "duration": 27,
        "start_time": "2023-08-07T07:10:07.287Z"
      },
      {
        "duration": 41,
        "start_time": "2023-08-07T07:10:35.958Z"
      },
      {
        "duration": 37,
        "start_time": "2023-08-07T07:10:46.291Z"
      },
      {
        "duration": 5,
        "start_time": "2023-08-07T07:11:24.637Z"
      },
      {
        "duration": 5,
        "start_time": "2023-08-07T07:12:00.445Z"
      },
      {
        "duration": 4,
        "start_time": "2023-08-07T07:12:03.558Z"
      },
      {
        "duration": 5,
        "start_time": "2023-08-07T07:12:06.512Z"
      },
      {
        "duration": 150,
        "start_time": "2023-08-07T07:22:14.159Z"
      },
      {
        "duration": 10,
        "start_time": "2023-08-07T07:22:32.063Z"
      },
      {
        "duration": 4,
        "start_time": "2023-08-07T07:24:17.825Z"
      },
      {
        "duration": 4,
        "start_time": "2023-08-07T07:24:55.859Z"
      },
      {
        "duration": 1269,
        "start_time": "2023-08-07T07:33:01.216Z"
      },
      {
        "duration": 664,
        "start_time": "2023-08-07T07:33:02.487Z"
      },
      {
        "duration": 18,
        "start_time": "2023-08-07T07:33:03.154Z"
      },
      {
        "duration": 121,
        "start_time": "2023-08-07T07:33:03.173Z"
      },
      {
        "duration": 196,
        "start_time": "2023-08-07T07:33:03.296Z"
      },
      {
        "duration": 133,
        "start_time": "2023-08-07T07:33:03.494Z"
      },
      {
        "duration": 31,
        "start_time": "2023-08-07T07:33:03.629Z"
      },
      {
        "duration": 22,
        "start_time": "2023-08-07T07:33:03.662Z"
      },
      {
        "duration": 31,
        "start_time": "2023-08-07T07:33:03.686Z"
      },
      {
        "duration": 33,
        "start_time": "2023-08-07T07:33:03.723Z"
      },
      {
        "duration": 199,
        "start_time": "2023-08-07T07:33:03.758Z"
      },
      {
        "duration": 30,
        "start_time": "2023-08-07T07:33:03.958Z"
      },
      {
        "duration": 25,
        "start_time": "2023-08-07T07:33:03.990Z"
      },
      {
        "duration": 19,
        "start_time": "2023-08-07T07:33:04.021Z"
      },
      {
        "duration": 11,
        "start_time": "2023-08-07T07:33:04.041Z"
      },
      {
        "duration": 14,
        "start_time": "2023-08-07T07:33:04.053Z"
      },
      {
        "duration": 5,
        "start_time": "2023-08-07T07:33:04.068Z"
      },
      {
        "duration": 47,
        "start_time": "2023-08-07T07:33:04.074Z"
      },
      {
        "duration": 22,
        "start_time": "2023-08-07T07:33:04.123Z"
      },
      {
        "duration": 13,
        "start_time": "2023-08-07T07:33:04.146Z"
      },
      {
        "duration": 28,
        "start_time": "2023-08-07T07:33:04.160Z"
      },
      {
        "duration": 42,
        "start_time": "2023-08-07T07:33:04.189Z"
      },
      {
        "duration": 20,
        "start_time": "2023-08-07T07:33:04.233Z"
      },
      {
        "duration": 38,
        "start_time": "2023-08-07T07:33:04.254Z"
      },
      {
        "duration": 4,
        "start_time": "2023-08-07T07:33:04.294Z"
      },
      {
        "duration": 41,
        "start_time": "2023-08-07T07:33:04.299Z"
      },
      {
        "duration": 18,
        "start_time": "2023-08-07T07:33:04.341Z"
      },
      {
        "duration": 11,
        "start_time": "2023-08-07T07:33:04.361Z"
      },
      {
        "duration": 20,
        "start_time": "2023-08-07T07:33:04.373Z"
      },
      {
        "duration": 132,
        "start_time": "2023-08-07T07:33:04.395Z"
      },
      {
        "duration": 15,
        "start_time": "2023-08-07T07:33:04.528Z"
      },
      {
        "duration": 20,
        "start_time": "2023-08-07T07:33:04.544Z"
      },
      {
        "duration": 32,
        "start_time": "2023-08-07T07:33:04.565Z"
      },
      {
        "duration": 13,
        "start_time": "2023-08-07T07:33:04.598Z"
      },
      {
        "duration": 48,
        "start_time": "2023-08-07T07:33:04.613Z"
      },
      {
        "duration": 231,
        "start_time": "2023-08-07T07:33:04.663Z"
      },
      {
        "duration": 23,
        "start_time": "2023-08-07T07:33:04.895Z"
      },
      {
        "duration": 529,
        "start_time": "2023-08-07T07:33:04.919Z"
      },
      {
        "duration": 75,
        "start_time": "2023-08-07T07:33:05.450Z"
      },
      {
        "duration": 362,
        "start_time": "2023-08-07T07:33:05.527Z"
      },
      {
        "duration": 248,
        "start_time": "2023-08-07T07:33:05.899Z"
      },
      {
        "duration": 11,
        "start_time": "2023-08-07T07:33:06.149Z"
      },
      {
        "duration": 16,
        "start_time": "2023-08-07T07:33:06.162Z"
      },
      {
        "duration": 71,
        "start_time": "2023-08-07T07:33:06.180Z"
      },
      {
        "duration": 478,
        "start_time": "2023-08-07T07:33:06.254Z"
      },
      {
        "duration": 177,
        "start_time": "2023-08-07T07:33:06.734Z"
      },
      {
        "duration": 210,
        "start_time": "2023-08-07T07:33:06.913Z"
      },
      {
        "duration": 172,
        "start_time": "2023-08-07T07:33:07.124Z"
      },
      {
        "duration": 27,
        "start_time": "2023-08-07T07:33:07.299Z"
      },
      {
        "duration": 208,
        "start_time": "2023-08-07T07:33:07.328Z"
      },
      {
        "duration": 13,
        "start_time": "2023-08-07T07:33:07.537Z"
      },
      {
        "duration": 14,
        "start_time": "2023-08-07T07:33:07.552Z"
      },
      {
        "duration": 32,
        "start_time": "2023-08-07T07:33:07.568Z"
      },
      {
        "duration": 8,
        "start_time": "2023-08-07T07:33:07.602Z"
      },
      {
        "duration": 64,
        "start_time": "2023-08-07T07:33:07.611Z"
      },
      {
        "duration": 308,
        "start_time": "2023-08-07T07:34:17.526Z"
      },
      {
        "duration": 304,
        "start_time": "2023-08-07T07:34:30.113Z"
      },
      {
        "duration": 305,
        "start_time": "2023-08-07T07:35:17.069Z"
      },
      {
        "duration": 300,
        "start_time": "2023-08-07T07:35:22.610Z"
      },
      {
        "duration": 347,
        "start_time": "2023-08-07T07:36:12.077Z"
      },
      {
        "duration": 410,
        "start_time": "2023-08-07T07:36:46.645Z"
      },
      {
        "duration": 338,
        "start_time": "2023-08-07T07:37:02.549Z"
      },
      {
        "duration": 446,
        "start_time": "2023-08-07T07:38:04.937Z"
      },
      {
        "duration": 341,
        "start_time": "2023-08-07T07:38:33.506Z"
      },
      {
        "duration": 335,
        "start_time": "2023-08-07T07:38:43.120Z"
      },
      {
        "duration": 326,
        "start_time": "2023-08-07T07:51:08.718Z"
      },
      {
        "duration": 106,
        "start_time": "2023-08-07T07:51:19.956Z"
      },
      {
        "duration": 94,
        "start_time": "2023-08-07T07:52:29.698Z"
      },
      {
        "duration": 107,
        "start_time": "2023-08-07T07:52:35.421Z"
      },
      {
        "duration": 1329,
        "start_time": "2023-08-07T08:06:11.819Z"
      },
      {
        "duration": 567,
        "start_time": "2023-08-07T08:06:13.149Z"
      },
      {
        "duration": 20,
        "start_time": "2023-08-07T08:06:13.718Z"
      },
      {
        "duration": 9,
        "start_time": "2023-08-07T08:06:13.740Z"
      },
      {
        "duration": 81,
        "start_time": "2023-08-07T08:06:13.750Z"
      },
      {
        "duration": 95,
        "start_time": "2023-08-07T08:06:13.832Z"
      },
      {
        "duration": 27,
        "start_time": "2023-08-07T08:06:13.929Z"
      },
      {
        "duration": 12,
        "start_time": "2023-08-07T08:06:13.957Z"
      },
      {
        "duration": 22,
        "start_time": "2023-08-07T08:06:13.970Z"
      },
      {
        "duration": 53,
        "start_time": "2023-08-07T08:06:13.994Z"
      },
      {
        "duration": 208,
        "start_time": "2023-08-07T08:06:14.048Z"
      },
      {
        "duration": 28,
        "start_time": "2023-08-07T08:06:14.257Z"
      },
      {
        "duration": 26,
        "start_time": "2023-08-07T08:06:14.287Z"
      },
      {
        "duration": 30,
        "start_time": "2023-08-07T08:06:14.317Z"
      },
      {
        "duration": 19,
        "start_time": "2023-08-07T08:06:14.348Z"
      },
      {
        "duration": 19,
        "start_time": "2023-08-07T08:06:14.368Z"
      },
      {
        "duration": 4,
        "start_time": "2023-08-07T08:06:14.388Z"
      },
      {
        "duration": 20,
        "start_time": "2023-08-07T08:06:14.393Z"
      },
      {
        "duration": 39,
        "start_time": "2023-08-07T08:06:14.415Z"
      },
      {
        "duration": 12,
        "start_time": "2023-08-07T08:06:14.456Z"
      },
      {
        "duration": 25,
        "start_time": "2023-08-07T08:06:14.469Z"
      },
      {
        "duration": 49,
        "start_time": "2023-08-07T08:06:14.495Z"
      },
      {
        "duration": 23,
        "start_time": "2023-08-07T08:06:14.546Z"
      },
      {
        "duration": 41,
        "start_time": "2023-08-07T08:06:14.570Z"
      },
      {
        "duration": 5,
        "start_time": "2023-08-07T08:06:14.620Z"
      },
      {
        "duration": 21,
        "start_time": "2023-08-07T08:06:14.626Z"
      },
      {
        "duration": 13,
        "start_time": "2023-08-07T08:06:14.649Z"
      },
      {
        "duration": 21,
        "start_time": "2023-08-07T08:06:14.663Z"
      },
      {
        "duration": 26,
        "start_time": "2023-08-07T08:06:14.686Z"
      },
      {
        "duration": 162,
        "start_time": "2023-08-07T08:06:14.714Z"
      },
      {
        "duration": 14,
        "start_time": "2023-08-07T08:06:14.878Z"
      },
      {
        "duration": 28,
        "start_time": "2023-08-07T08:06:14.894Z"
      },
      {
        "duration": 24,
        "start_time": "2023-08-07T08:06:14.924Z"
      },
      {
        "duration": 23,
        "start_time": "2023-08-07T08:06:14.951Z"
      },
      {
        "duration": 66,
        "start_time": "2023-08-07T08:06:14.975Z"
      },
      {
        "duration": 259,
        "start_time": "2023-08-07T08:06:15.042Z"
      },
      {
        "duration": 25,
        "start_time": "2023-08-07T08:06:15.302Z"
      },
      {
        "duration": 511,
        "start_time": "2023-08-07T08:06:15.333Z"
      },
      {
        "duration": 25,
        "start_time": "2023-08-07T08:06:15.846Z"
      },
      {
        "duration": 560,
        "start_time": "2023-08-07T08:06:15.873Z"
      },
      {
        "duration": 327,
        "start_time": "2023-08-07T08:06:16.437Z"
      },
      {
        "duration": 8,
        "start_time": "2023-08-07T08:06:16.765Z"
      },
      {
        "duration": 43,
        "start_time": "2023-08-07T08:06:16.775Z"
      },
      {
        "duration": 37,
        "start_time": "2023-08-07T08:06:16.824Z"
      },
      {
        "duration": 450,
        "start_time": "2023-08-07T08:06:16.862Z"
      },
      {
        "duration": 168,
        "start_time": "2023-08-07T08:06:17.317Z"
      },
      {
        "duration": 176,
        "start_time": "2023-08-07T08:06:17.487Z"
      },
      {
        "duration": 193,
        "start_time": "2023-08-07T08:06:17.664Z"
      },
      {
        "duration": 20,
        "start_time": "2023-08-07T08:06:17.858Z"
      },
      {
        "duration": 197,
        "start_time": "2023-08-07T08:06:17.879Z"
      },
      {
        "duration": 10,
        "start_time": "2023-08-07T08:06:18.078Z"
      },
      {
        "duration": 23,
        "start_time": "2023-08-07T08:06:18.089Z"
      },
      {
        "duration": 20,
        "start_time": "2023-08-07T08:06:18.114Z"
      },
      {
        "duration": 15,
        "start_time": "2023-08-07T08:06:18.136Z"
      },
      {
        "duration": 31,
        "start_time": "2023-08-07T08:06:18.152Z"
      },
      {
        "duration": 91,
        "start_time": "2023-08-07T08:07:30.777Z"
      },
      {
        "duration": 101,
        "start_time": "2023-08-07T08:07:45.994Z"
      },
      {
        "duration": 127,
        "start_time": "2023-08-07T08:07:57.391Z"
      },
      {
        "duration": 1315,
        "start_time": "2023-08-07T10:40:42.335Z"
      },
      {
        "duration": 596,
        "start_time": "2023-08-07T10:40:43.652Z"
      },
      {
        "duration": 21,
        "start_time": "2023-08-07T10:40:44.250Z"
      },
      {
        "duration": 63,
        "start_time": "2023-08-07T10:40:44.273Z"
      },
      {
        "duration": 159,
        "start_time": "2023-08-07T10:40:44.338Z"
      },
      {
        "duration": 87,
        "start_time": "2023-08-07T10:40:44.499Z"
      },
      {
        "duration": 34,
        "start_time": "2023-08-07T10:40:44.587Z"
      },
      {
        "duration": 12,
        "start_time": "2023-08-07T10:40:44.623Z"
      },
      {
        "duration": 52,
        "start_time": "2023-08-07T10:40:44.636Z"
      },
      {
        "duration": 12,
        "start_time": "2023-08-07T10:40:44.691Z"
      },
      {
        "duration": 221,
        "start_time": "2023-08-07T10:40:44.705Z"
      },
      {
        "duration": 34,
        "start_time": "2023-08-07T10:40:44.928Z"
      },
      {
        "duration": 12,
        "start_time": "2023-08-07T10:40:44.964Z"
      },
      {
        "duration": 33,
        "start_time": "2023-08-07T10:40:44.978Z"
      },
      {
        "duration": 9,
        "start_time": "2023-08-07T10:40:45.013Z"
      },
      {
        "duration": 36,
        "start_time": "2023-08-07T10:40:45.024Z"
      },
      {
        "duration": 6,
        "start_time": "2023-08-07T10:40:45.062Z"
      },
      {
        "duration": 18,
        "start_time": "2023-08-07T10:40:45.069Z"
      },
      {
        "duration": 31,
        "start_time": "2023-08-07T10:40:45.089Z"
      },
      {
        "duration": 14,
        "start_time": "2023-08-07T10:40:45.121Z"
      },
      {
        "duration": 17,
        "start_time": "2023-08-07T10:40:45.136Z"
      },
      {
        "duration": 11,
        "start_time": "2023-08-07T10:40:45.155Z"
      },
      {
        "duration": 7,
        "start_time": "2023-08-07T10:40:45.168Z"
      },
      {
        "duration": 63,
        "start_time": "2023-08-07T10:40:45.176Z"
      },
      {
        "duration": 5,
        "start_time": "2023-08-07T10:40:45.240Z"
      },
      {
        "duration": 24,
        "start_time": "2023-08-07T10:40:45.246Z"
      },
      {
        "duration": 15,
        "start_time": "2023-08-07T10:40:45.272Z"
      },
      {
        "duration": 4,
        "start_time": "2023-08-07T10:40:45.292Z"
      },
      {
        "duration": 22,
        "start_time": "2023-08-07T10:40:45.298Z"
      },
      {
        "duration": 167,
        "start_time": "2023-08-07T10:40:45.321Z"
      },
      {
        "duration": 23,
        "start_time": "2023-08-07T10:40:45.489Z"
      },
      {
        "duration": 20,
        "start_time": "2023-08-07T10:40:45.514Z"
      },
      {
        "duration": 24,
        "start_time": "2023-08-07T10:40:45.536Z"
      },
      {
        "duration": 16,
        "start_time": "2023-08-07T10:40:45.561Z"
      },
      {
        "duration": 45,
        "start_time": "2023-08-07T10:40:45.579Z"
      },
      {
        "duration": 289,
        "start_time": "2023-08-07T10:40:45.625Z"
      },
      {
        "duration": 20,
        "start_time": "2023-08-07T10:40:45.916Z"
      },
      {
        "duration": 1369,
        "start_time": "2023-08-07T10:40:45.939Z"
      },
      {
        "duration": 37,
        "start_time": "2023-08-07T10:40:47.310Z"
      },
      {
        "duration": 422,
        "start_time": "2023-08-07T10:40:47.348Z"
      },
      {
        "duration": 225,
        "start_time": "2023-08-07T10:40:47.771Z"
      },
      {
        "duration": 21,
        "start_time": "2023-08-07T10:40:47.998Z"
      },
      {
        "duration": 157,
        "start_time": "2023-08-07T10:40:48.021Z"
      },
      {
        "duration": 195,
        "start_time": "2023-08-07T10:40:48.180Z"
      },
      {
        "duration": 499,
        "start_time": "2023-08-07T10:40:48.377Z"
      },
      {
        "duration": 196,
        "start_time": "2023-08-07T10:40:48.879Z"
      },
      {
        "duration": 203,
        "start_time": "2023-08-07T10:40:49.076Z"
      },
      {
        "duration": 237,
        "start_time": "2023-08-07T10:40:49.280Z"
      },
      {
        "duration": 29,
        "start_time": "2023-08-07T10:40:49.518Z"
      },
      {
        "duration": 377,
        "start_time": "2023-08-07T10:40:49.549Z"
      },
      {
        "duration": 13,
        "start_time": "2023-08-07T10:40:49.927Z"
      },
      {
        "duration": 81,
        "start_time": "2023-08-07T10:40:49.941Z"
      },
      {
        "duration": 88,
        "start_time": "2023-08-07T10:40:50.024Z"
      },
      {
        "duration": 126,
        "start_time": "2023-08-07T10:40:50.113Z"
      },
      {
        "duration": 102,
        "start_time": "2023-08-07T10:40:50.241Z"
      }
    ],
    "colab": {
      "provenance": []
    },
    "kernelspec": {
      "display_name": "Python 3 (ipykernel)",
      "language": "python",
      "name": "python3"
    },
    "language_info": {
      "codemirror_mode": {
        "name": "ipython",
        "version": 3
      },
      "file_extension": ".py",
      "mimetype": "text/x-python",
      "name": "python",
      "nbconvert_exporter": "python",
      "pygments_lexer": "ipython3",
      "version": "3.9.5"
    },
    "toc": {
      "base_numbering": 1,
      "nav_menu": {},
      "number_sections": true,
      "sideBar": true,
      "skip_h1_title": true,
      "title_cell": "Table of Contents",
      "title_sidebar": "Contents",
      "toc_cell": false,
      "toc_position": {
        "height": "calc(100% - 180px)",
        "left": "10px",
        "top": "150px",
        "width": "263.182px"
      },
      "toc_section_display": true,
      "toc_window_display": true
    }
  },
  "nbformat": 4,
  "nbformat_minor": 0
}