{
  "cells": [
    {
      "cell_type": "markdown",
      "id": "386f2ae7",
      "metadata": {
        "deletable": false,
        "editable": false,
        "id": "386f2ae7"
      },
      "source": [
        "# Исследование надежности заемщиков\n"
      ]
    },
    {
      "cell_type": "markdown",
      "id": "ffe86f65",
      "metadata": {
        "deletable": false,
        "editable": false,
        "id": "ffe86f65"
      },
      "source": [
        "**Цель проекта:**  \n",
        "На основе статистики о платёжеспособности клиентов исследовать влияет ли семейное положение, количество детей клиента, цель использования кредита на факт его возврата в срок.\n",
        "\n",
        "**Для анализа используется датасет, содержащий следующие поля:**\n",
        "* children — количество детей в семье\n",
        "* days_employed — общий трудовой стаж в днях\n",
        "* dob_years — возраст клиента в годах\n",
        "* education — уровень образования клиента\n",
        "* education_id — идентификатор уровня образования\n",
        "* family_status — семейное положение\n",
        "* family_status_id — идентификатор семейного положения\n",
        "* gender — пол клиента\n",
        "* income_type — тип занятости\n",
        "* debt — имел ли задолженность по возврату кредитов\n",
        "* total_income — ежемесячный доход\n",
        "* purpose — цель получения кредита\n",
        "\n"
      ]
    },
    {
      "cell_type": "markdown",
      "id": "26613308",
      "metadata": {
        "deletable": false,
        "editable": false,
        "id": "26613308"
      },
      "source": [
        "## Обзор данных"
      ]
    },
    {
      "cell_type": "code",
      "execution_count": null,
      "id": "77a68a90",
      "metadata": {
        "deletable": false,
        "id": "77a68a90"
      },
      "outputs": [],
      "source": [
        "import pandas as pd"
      ]
    },
    {
      "cell_type": "code",
      "source": [
        "try:\n",
        "    data = pd.read_csv('/datasets/data.csv')\n",
        "except:\n",
        "    data = pd.read_csv('https://code.s3.yandex.net/datasets/data.csv')"
      ],
      "metadata": {
        "id": "fhTtnJH2NBNq"
      },
      "id": "fhTtnJH2NBNq",
      "execution_count": null,
      "outputs": []
    },
    {
      "cell_type": "markdown",
      "id": "45365635",
      "metadata": {
        "deletable": false,
        "editable": false,
        "id": "45365635"
      },
      "source": [
        "Выведем первые 10 строчек датафрейма `data` на экран"
      ]
    },
    {
      "cell_type": "code",
      "execution_count": null,
      "id": "b0451a9a",
      "metadata": {
        "deletable": false,
        "id": "b0451a9a",
        "outputId": "c4d83eab-36fe-4cb0-d84b-eb074cf0ec9e",
        "colab": {
          "base_uri": "https://localhost:8080/",
          "height": 556
        }
      },
      "outputs": [
        {
          "output_type": "execute_result",
          "data": {
            "text/plain": [
              "   children  days_employed  dob_years education  education_id  \\\n",
              "0         1   -8437.673028         42    высшее             0   \n",
              "1         1   -4024.803754         36   среднее             1   \n",
              "2         0   -5623.422610         33   Среднее             1   \n",
              "3         3   -4124.747207         32   среднее             1   \n",
              "4         0  340266.072047         53   среднее             1   \n",
              "5         0    -926.185831         27    высшее             0   \n",
              "6         0   -2879.202052         43    высшее             0   \n",
              "7         0    -152.779569         50   СРЕДНЕЕ             1   \n",
              "8         2   -6929.865299         35    ВЫСШЕЕ             0   \n",
              "9         0   -2188.756445         41   среднее             1   \n",
              "\n",
              "      family_status  family_status_id gender income_type  debt   total_income  \\\n",
              "0   женат / замужем                 0      F   сотрудник     0  253875.639453   \n",
              "1   женат / замужем                 0      F   сотрудник     0  112080.014102   \n",
              "2   женат / замужем                 0      M   сотрудник     0  145885.952297   \n",
              "3   женат / замужем                 0      M   сотрудник     0  267628.550329   \n",
              "4  гражданский брак                 1      F   пенсионер     0  158616.077870   \n",
              "5  гражданский брак                 1      M   компаньон     0  255763.565419   \n",
              "6   женат / замужем                 0      F   компаньон     0  240525.971920   \n",
              "7   женат / замужем                 0      M   сотрудник     0  135823.934197   \n",
              "8  гражданский брак                 1      F   сотрудник     0   95856.832424   \n",
              "9   женат / замужем                 0      M   сотрудник     0  144425.938277   \n",
              "\n",
              "                      purpose  \n",
              "0               покупка жилья  \n",
              "1     приобретение автомобиля  \n",
              "2               покупка жилья  \n",
              "3  дополнительное образование  \n",
              "4             сыграть свадьбу  \n",
              "5               покупка жилья  \n",
              "6           операции с жильем  \n",
              "7                 образование  \n",
              "8       на проведение свадьбы  \n",
              "9     покупка жилья для семьи  "
            ],
            "text/html": [
              "\n",
              "  <div id=\"df-7748cdfd-5ab1-4c2a-b903-3f339f4e40dc\" class=\"colab-df-container\">\n",
              "    <div>\n",
              "<style scoped>\n",
              "    .dataframe tbody tr th:only-of-type {\n",
              "        vertical-align: middle;\n",
              "    }\n",
              "\n",
              "    .dataframe tbody tr th {\n",
              "        vertical-align: top;\n",
              "    }\n",
              "\n",
              "    .dataframe thead th {\n",
              "        text-align: right;\n",
              "    }\n",
              "</style>\n",
              "<table border=\"1\" class=\"dataframe\">\n",
              "  <thead>\n",
              "    <tr style=\"text-align: right;\">\n",
              "      <th></th>\n",
              "      <th>children</th>\n",
              "      <th>days_employed</th>\n",
              "      <th>dob_years</th>\n",
              "      <th>education</th>\n",
              "      <th>education_id</th>\n",
              "      <th>family_status</th>\n",
              "      <th>family_status_id</th>\n",
              "      <th>gender</th>\n",
              "      <th>income_type</th>\n",
              "      <th>debt</th>\n",
              "      <th>total_income</th>\n",
              "      <th>purpose</th>\n",
              "    </tr>\n",
              "  </thead>\n",
              "  <tbody>\n",
              "    <tr>\n",
              "      <th>0</th>\n",
              "      <td>1</td>\n",
              "      <td>-8437.673028</td>\n",
              "      <td>42</td>\n",
              "      <td>высшее</td>\n",
              "      <td>0</td>\n",
              "      <td>женат / замужем</td>\n",
              "      <td>0</td>\n",
              "      <td>F</td>\n",
              "      <td>сотрудник</td>\n",
              "      <td>0</td>\n",
              "      <td>253875.639453</td>\n",
              "      <td>покупка жилья</td>\n",
              "    </tr>\n",
              "    <tr>\n",
              "      <th>1</th>\n",
              "      <td>1</td>\n",
              "      <td>-4024.803754</td>\n",
              "      <td>36</td>\n",
              "      <td>среднее</td>\n",
              "      <td>1</td>\n",
              "      <td>женат / замужем</td>\n",
              "      <td>0</td>\n",
              "      <td>F</td>\n",
              "      <td>сотрудник</td>\n",
              "      <td>0</td>\n",
              "      <td>112080.014102</td>\n",
              "      <td>приобретение автомобиля</td>\n",
              "    </tr>\n",
              "    <tr>\n",
              "      <th>2</th>\n",
              "      <td>0</td>\n",
              "      <td>-5623.422610</td>\n",
              "      <td>33</td>\n",
              "      <td>Среднее</td>\n",
              "      <td>1</td>\n",
              "      <td>женат / замужем</td>\n",
              "      <td>0</td>\n",
              "      <td>M</td>\n",
              "      <td>сотрудник</td>\n",
              "      <td>0</td>\n",
              "      <td>145885.952297</td>\n",
              "      <td>покупка жилья</td>\n",
              "    </tr>\n",
              "    <tr>\n",
              "      <th>3</th>\n",
              "      <td>3</td>\n",
              "      <td>-4124.747207</td>\n",
              "      <td>32</td>\n",
              "      <td>среднее</td>\n",
              "      <td>1</td>\n",
              "      <td>женат / замужем</td>\n",
              "      <td>0</td>\n",
              "      <td>M</td>\n",
              "      <td>сотрудник</td>\n",
              "      <td>0</td>\n",
              "      <td>267628.550329</td>\n",
              "      <td>дополнительное образование</td>\n",
              "    </tr>\n",
              "    <tr>\n",
              "      <th>4</th>\n",
              "      <td>0</td>\n",
              "      <td>340266.072047</td>\n",
              "      <td>53</td>\n",
              "      <td>среднее</td>\n",
              "      <td>1</td>\n",
              "      <td>гражданский брак</td>\n",
              "      <td>1</td>\n",
              "      <td>F</td>\n",
              "      <td>пенсионер</td>\n",
              "      <td>0</td>\n",
              "      <td>158616.077870</td>\n",
              "      <td>сыграть свадьбу</td>\n",
              "    </tr>\n",
              "    <tr>\n",
              "      <th>5</th>\n",
              "      <td>0</td>\n",
              "      <td>-926.185831</td>\n",
              "      <td>27</td>\n",
              "      <td>высшее</td>\n",
              "      <td>0</td>\n",
              "      <td>гражданский брак</td>\n",
              "      <td>1</td>\n",
              "      <td>M</td>\n",
              "      <td>компаньон</td>\n",
              "      <td>0</td>\n",
              "      <td>255763.565419</td>\n",
              "      <td>покупка жилья</td>\n",
              "    </tr>\n",
              "    <tr>\n",
              "      <th>6</th>\n",
              "      <td>0</td>\n",
              "      <td>-2879.202052</td>\n",
              "      <td>43</td>\n",
              "      <td>высшее</td>\n",
              "      <td>0</td>\n",
              "      <td>женат / замужем</td>\n",
              "      <td>0</td>\n",
              "      <td>F</td>\n",
              "      <td>компаньон</td>\n",
              "      <td>0</td>\n",
              "      <td>240525.971920</td>\n",
              "      <td>операции с жильем</td>\n",
              "    </tr>\n",
              "    <tr>\n",
              "      <th>7</th>\n",
              "      <td>0</td>\n",
              "      <td>-152.779569</td>\n",
              "      <td>50</td>\n",
              "      <td>СРЕДНЕЕ</td>\n",
              "      <td>1</td>\n",
              "      <td>женат / замужем</td>\n",
              "      <td>0</td>\n",
              "      <td>M</td>\n",
              "      <td>сотрудник</td>\n",
              "      <td>0</td>\n",
              "      <td>135823.934197</td>\n",
              "      <td>образование</td>\n",
              "    </tr>\n",
              "    <tr>\n",
              "      <th>8</th>\n",
              "      <td>2</td>\n",
              "      <td>-6929.865299</td>\n",
              "      <td>35</td>\n",
              "      <td>ВЫСШЕЕ</td>\n",
              "      <td>0</td>\n",
              "      <td>гражданский брак</td>\n",
              "      <td>1</td>\n",
              "      <td>F</td>\n",
              "      <td>сотрудник</td>\n",
              "      <td>0</td>\n",
              "      <td>95856.832424</td>\n",
              "      <td>на проведение свадьбы</td>\n",
              "    </tr>\n",
              "    <tr>\n",
              "      <th>9</th>\n",
              "      <td>0</td>\n",
              "      <td>-2188.756445</td>\n",
              "      <td>41</td>\n",
              "      <td>среднее</td>\n",
              "      <td>1</td>\n",
              "      <td>женат / замужем</td>\n",
              "      <td>0</td>\n",
              "      <td>M</td>\n",
              "      <td>сотрудник</td>\n",
              "      <td>0</td>\n",
              "      <td>144425.938277</td>\n",
              "      <td>покупка жилья для семьи</td>\n",
              "    </tr>\n",
              "  </tbody>\n",
              "</table>\n",
              "</div>\n",
              "    <div class=\"colab-df-buttons\">\n",
              "\n",
              "  <div class=\"colab-df-container\">\n",
              "    <button class=\"colab-df-convert\" onclick=\"convertToInteractive('df-7748cdfd-5ab1-4c2a-b903-3f339f4e40dc')\"\n",
              "            title=\"Convert this dataframe to an interactive table.\"\n",
              "            style=\"display:none;\">\n",
              "\n",
              "  <svg xmlns=\"http://www.w3.org/2000/svg\" height=\"24px\" viewBox=\"0 -960 960 960\">\n",
              "    <path d=\"M120-120v-720h720v720H120Zm60-500h600v-160H180v160Zm220 220h160v-160H400v160Zm0 220h160v-160H400v160ZM180-400h160v-160H180v160Zm440 0h160v-160H620v160ZM180-180h160v-160H180v160Zm440 0h160v-160H620v160Z\"/>\n",
              "  </svg>\n",
              "    </button>\n",
              "\n",
              "  <style>\n",
              "    .colab-df-container {\n",
              "      display:flex;\n",
              "      gap: 12px;\n",
              "    }\n",
              "\n",
              "    .colab-df-convert {\n",
              "      background-color: #E8F0FE;\n",
              "      border: none;\n",
              "      border-radius: 50%;\n",
              "      cursor: pointer;\n",
              "      display: none;\n",
              "      fill: #1967D2;\n",
              "      height: 32px;\n",
              "      padding: 0 0 0 0;\n",
              "      width: 32px;\n",
              "    }\n",
              "\n",
              "    .colab-df-convert:hover {\n",
              "      background-color: #E2EBFA;\n",
              "      box-shadow: 0px 1px 2px rgba(60, 64, 67, 0.3), 0px 1px 3px 1px rgba(60, 64, 67, 0.15);\n",
              "      fill: #174EA6;\n",
              "    }\n",
              "\n",
              "    .colab-df-buttons div {\n",
              "      margin-bottom: 4px;\n",
              "    }\n",
              "\n",
              "    [theme=dark] .colab-df-convert {\n",
              "      background-color: #3B4455;\n",
              "      fill: #D2E3FC;\n",
              "    }\n",
              "\n",
              "    [theme=dark] .colab-df-convert:hover {\n",
              "      background-color: #434B5C;\n",
              "      box-shadow: 0px 1px 3px 1px rgba(0, 0, 0, 0.15);\n",
              "      filter: drop-shadow(0px 1px 2px rgba(0, 0, 0, 0.3));\n",
              "      fill: #FFFFFF;\n",
              "    }\n",
              "  </style>\n",
              "\n",
              "    <script>\n",
              "      const buttonEl =\n",
              "        document.querySelector('#df-7748cdfd-5ab1-4c2a-b903-3f339f4e40dc button.colab-df-convert');\n",
              "      buttonEl.style.display =\n",
              "        google.colab.kernel.accessAllowed ? 'block' : 'none';\n",
              "\n",
              "      async function convertToInteractive(key) {\n",
              "        const element = document.querySelector('#df-7748cdfd-5ab1-4c2a-b903-3f339f4e40dc');\n",
              "        const dataTable =\n",
              "          await google.colab.kernel.invokeFunction('convertToInteractive',\n",
              "                                                    [key], {});\n",
              "        if (!dataTable) return;\n",
              "\n",
              "        const docLinkHtml = 'Like what you see? Visit the ' +\n",
              "          '<a target=\"_blank\" href=https://colab.research.google.com/notebooks/data_table.ipynb>data table notebook</a>'\n",
              "          + ' to learn more about interactive tables.';\n",
              "        element.innerHTML = '';\n",
              "        dataTable['output_type'] = 'display_data';\n",
              "        await google.colab.output.renderOutput(dataTable, element);\n",
              "        const docLink = document.createElement('div');\n",
              "        docLink.innerHTML = docLinkHtml;\n",
              "        element.appendChild(docLink);\n",
              "      }\n",
              "    </script>\n",
              "  </div>\n",
              "\n",
              "\n",
              "<div id=\"df-4e4f7866-fa57-495f-9cdb-7d3f33871278\">\n",
              "  <button class=\"colab-df-quickchart\" onclick=\"quickchart('df-4e4f7866-fa57-495f-9cdb-7d3f33871278')\"\n",
              "            title=\"Suggest charts.\"\n",
              "            style=\"display:none;\">\n",
              "\n",
              "<svg xmlns=\"http://www.w3.org/2000/svg\" height=\"24px\"viewBox=\"0 0 24 24\"\n",
              "     width=\"24px\">\n",
              "    <g>\n",
              "        <path d=\"M19 3H5c-1.1 0-2 .9-2 2v14c0 1.1.9 2 2 2h14c1.1 0 2-.9 2-2V5c0-1.1-.9-2-2-2zM9 17H7v-7h2v7zm4 0h-2V7h2v10zm4 0h-2v-4h2v4z\"/>\n",
              "    </g>\n",
              "</svg>\n",
              "  </button>\n",
              "\n",
              "<style>\n",
              "  .colab-df-quickchart {\n",
              "    background-color: #E8F0FE;\n",
              "    border: none;\n",
              "    border-radius: 50%;\n",
              "    cursor: pointer;\n",
              "    display: none;\n",
              "    fill: #1967D2;\n",
              "    height: 32px;\n",
              "    padding: 0 0 0 0;\n",
              "    width: 32px;\n",
              "  }\n",
              "\n",
              "  .colab-df-quickchart:hover {\n",
              "    background-color: #E2EBFA;\n",
              "    box-shadow: 0px 1px 2px rgba(60, 64, 67, 0.3), 0px 1px 3px 1px rgba(60, 64, 67, 0.15);\n",
              "    fill: #174EA6;\n",
              "  }\n",
              "\n",
              "  [theme=dark] .colab-df-quickchart {\n",
              "    background-color: #3B4455;\n",
              "    fill: #D2E3FC;\n",
              "  }\n",
              "\n",
              "  [theme=dark] .colab-df-quickchart:hover {\n",
              "    background-color: #434B5C;\n",
              "    box-shadow: 0px 1px 3px 1px rgba(0, 0, 0, 0.15);\n",
              "    filter: drop-shadow(0px 1px 2px rgba(0, 0, 0, 0.3));\n",
              "    fill: #FFFFFF;\n",
              "  }\n",
              "</style>\n",
              "\n",
              "  <script>\n",
              "    async function quickchart(key) {\n",
              "      const charts = await google.colab.kernel.invokeFunction(\n",
              "          'suggestCharts', [key], {});\n",
              "    }\n",
              "    (() => {\n",
              "      let quickchartButtonEl =\n",
              "        document.querySelector('#df-4e4f7866-fa57-495f-9cdb-7d3f33871278 button');\n",
              "      quickchartButtonEl.style.display =\n",
              "        google.colab.kernel.accessAllowed ? 'block' : 'none';\n",
              "    })();\n",
              "  </script>\n",
              "</div>\n",
              "    </div>\n",
              "  </div>\n"
            ]
          },
          "metadata": {},
          "execution_count": 31
        }
      ],
      "source": [
        "data.head(10)"
      ]
    },
    {
      "cell_type": "markdown",
      "id": "0ed8f27f",
      "metadata": {
        "deletable": false,
        "editable": false,
        "id": "0ed8f27f"
      },
      "source": [
        "Выведите основную информацию о датафрейме"
      ]
    },
    {
      "cell_type": "code",
      "execution_count": null,
      "id": "ab3f863b",
      "metadata": {
        "deletable": false,
        "id": "ab3f863b",
        "outputId": "576eb935-7a33-4d09-f298-362cfbadbffa",
        "colab": {
          "base_uri": "https://localhost:8080/"
        }
      },
      "outputs": [
        {
          "output_type": "stream",
          "name": "stdout",
          "text": [
            "<class 'pandas.core.frame.DataFrame'>\n",
            "RangeIndex: 21525 entries, 0 to 21524\n",
            "Data columns (total 12 columns):\n",
            " #   Column            Non-Null Count  Dtype  \n",
            "---  ------            --------------  -----  \n",
            " 0   children          21525 non-null  int64  \n",
            " 1   days_employed     19351 non-null  float64\n",
            " 2   dob_years         21525 non-null  int64  \n",
            " 3   education         21525 non-null  object \n",
            " 4   education_id      21525 non-null  int64  \n",
            " 5   family_status     21525 non-null  object \n",
            " 6   family_status_id  21525 non-null  int64  \n",
            " 7   gender            21525 non-null  object \n",
            " 8   income_type       21525 non-null  object \n",
            " 9   debt              21525 non-null  int64  \n",
            " 10  total_income      19351 non-null  float64\n",
            " 11  purpose           21525 non-null  object \n",
            "dtypes: float64(2), int64(5), object(5)\n",
            "memory usage: 2.0+ MB\n"
          ]
        }
      ],
      "source": [
        "data.info()"
      ]
    },
    {
      "cell_type": "markdown",
      "id": "aa020e2b",
      "metadata": {
        "id": "aa020e2b"
      },
      "source": [
        "**Выводы:**\n",
        "- тип данных в столбцах соответствует их содержимому\n",
        "- отсутствуют данные в столбцах days_employed, total_income  \n",
        "  \n",
        "Можно предположить следующие причины отсутствия данных:\n",
        "- категорией занятости заемщика не предполагает внесения данных (напр.неработающий пенсионер)\n",
        "- заемщик не предоставил данные\n",
        "- при выгрузке данных произошла ошибка"
      ]
    },
    {
      "cell_type": "markdown",
      "id": "60e3e22d",
      "metadata": {
        "deletable": false,
        "editable": false,
        "id": "60e3e22d"
      },
      "source": [
        "## Предобработка данных"
      ]
    },
    {
      "cell_type": "markdown",
      "id": "03dc170c",
      "metadata": {
        "deletable": false,
        "editable": false,
        "id": "03dc170c"
      },
      "source": [
        "### Удаление пропусков"
      ]
    },
    {
      "cell_type": "markdown",
      "id": "a4f54eef",
      "metadata": {
        "deletable": false,
        "editable": false,
        "id": "a4f54eef"
      },
      "source": [
        "Выведем количество пропущенных значений для каждого столбца"
      ]
    },
    {
      "cell_type": "code",
      "execution_count": null,
      "id": "2dc372b2",
      "metadata": {
        "deletable": false,
        "id": "2dc372b2",
        "outputId": "6a411786-cf48-4bcd-980f-ee089c558f15",
        "colab": {
          "base_uri": "https://localhost:8080/"
        }
      },
      "outputs": [
        {
          "output_type": "execute_result",
          "data": {
            "text/plain": [
              "children               0\n",
              "days_employed       2174\n",
              "dob_years              0\n",
              "education              0\n",
              "education_id           0\n",
              "family_status          0\n",
              "family_status_id       0\n",
              "gender                 0\n",
              "income_type            0\n",
              "debt                   0\n",
              "total_income        2174\n",
              "purpose                0\n",
              "dtype: int64"
            ]
          },
          "metadata": {},
          "execution_count": 33
        }
      ],
      "source": [
        "data.isna().sum()"
      ]
    },
    {
      "cell_type": "markdown",
      "id": "14f011b1",
      "metadata": {
        "deletable": false,
        "editable": false,
        "id": "14f011b1"
      },
      "source": [
        "Как было указано ранее, отсутствуют данные в столбцах days_employed, total_income.  \n",
        "Столбец `days_employed` обработаем далее.  \n",
        "Столбец с пропущенными значениями — `total_income` — хранит данные о доходах. На сумму дохода сильнее всего влияет тип занятости, поэтому заполним пропуски в этом столбце медианным значением по каждому типу из столбца `income_type`."
      ]
    },
    {
      "cell_type": "code",
      "execution_count": null,
      "id": "bdabfb6e",
      "metadata": {
        "deletable": false,
        "id": "bdabfb6e"
      },
      "outputs": [],
      "source": [
        "for t in data['income_type'].unique():\n",
        "    data.loc[(data['income_type'] == t) & (data['total_income'].isna()), 'total_income'] = \\\n",
        "    data.loc[(data['income_type'] == t), 'total_income'].median()"
      ]
    },
    {
      "cell_type": "markdown",
      "id": "5be34059",
      "metadata": {
        "deletable": false,
        "editable": false,
        "id": "5be34059"
      },
      "source": [
        "### Обработка аномальных значений"
      ]
    },
    {
      "cell_type": "markdown",
      "id": "a87606cb",
      "metadata": {
        "deletable": false,
        "editable": false,
        "id": "a87606cb"
      },
      "source": [
        "В данных могут встречаться артефакты (аномалии) — значения, которые не отражают действительность и появились по какой-то ошибке.  \n",
        "Таким артефактом будет отрицательное количество дней трудового стажа в столбце `days_employed`. Обработаем значения в этом столбце: заменим все отрицательные значения положительными."
      ]
    },
    {
      "cell_type": "code",
      "execution_count": null,
      "id": "020c46cc",
      "metadata": {
        "deletable": false,
        "id": "020c46cc"
      },
      "outputs": [],
      "source": [
        "data['days_employed'] = data['days_employed'].abs()"
      ]
    },
    {
      "cell_type": "markdown",
      "id": "45538a3a",
      "metadata": {
        "deletable": false,
        "editable": false,
        "id": "45538a3a"
      },
      "source": [
        "Для каждого типа занятости выведем медианное значение трудового стажа `days_employed` в днях."
      ]
    },
    {
      "cell_type": "code",
      "execution_count": null,
      "id": "cd3e6328",
      "metadata": {
        "deletable": false,
        "id": "cd3e6328",
        "outputId": "9e573c02-9b85-47a7-85a6-b8a2a8e64f13",
        "colab": {
          "base_uri": "https://localhost:8080/"
        }
      },
      "outputs": [
        {
          "output_type": "execute_result",
          "data": {
            "text/plain": [
              "income_type\n",
              "безработный        366413.652744\n",
              "в декрете            3296.759962\n",
              "госслужащий          2689.368353\n",
              "компаньон            1547.382223\n",
              "пенсионер          365213.306266\n",
              "предприниматель       520.848083\n",
              "сотрудник            1574.202821\n",
              "студент               578.751554\n",
              "Name: days_employed, dtype: float64"
            ]
          },
          "metadata": {},
          "execution_count": 36
        }
      ],
      "source": [
        "data.groupby('income_type')['days_employed'].agg('median')"
      ]
    },
    {
      "cell_type": "markdown",
      "id": "90c5f058",
      "metadata": {
        "deletable": false,
        "editable": false,
        "id": "90c5f058"
      },
      "source": [
        "У двух типов (безработные и пенсионеры) получатся аномально большие значения. Исправить такие значения сложно, поэтому оставим их как есть."
      ]
    },
    {
      "cell_type": "markdown",
      "id": "9652e50d",
      "metadata": {
        "deletable": false,
        "editable": false,
        "id": "9652e50d"
      },
      "source": [
        "Выведем перечень уникальных значений столбца `children`."
      ]
    },
    {
      "cell_type": "code",
      "execution_count": null,
      "id": "dbb37b8e",
      "metadata": {
        "deletable": false,
        "id": "dbb37b8e",
        "outputId": "5ffeb428-e151-42f6-a216-eb09f115823b",
        "colab": {
          "base_uri": "https://localhost:8080/"
        }
      },
      "outputs": [
        {
          "output_type": "execute_result",
          "data": {
            "text/plain": [
              "array([ 1,  0,  3,  2, -1,  4, 20,  5])"
            ]
          },
          "metadata": {},
          "execution_count": 37
        }
      ],
      "source": [
        "data['children'].unique()"
      ]
    },
    {
      "cell_type": "markdown",
      "id": "2b8b0715",
      "metadata": {
        "deletable": false,
        "editable": false,
        "id": "2b8b0715"
      },
      "source": [
        "В столбце `children` есть два аномальных значения. Посмотрим, каков процент таких строк"
      ]
    },
    {
      "cell_type": "code",
      "source": [
        "len(data.query('children == -1 or children == 20'))/len(data)*100"
      ],
      "metadata": {
        "colab": {
          "base_uri": "https://localhost:8080/"
        },
        "id": "DMuNfXDZPYAL",
        "outputId": "57c2ea51-855c-43ff-ab80-c78c6da82568"
      },
      "id": "DMuNfXDZPYAL",
      "execution_count": null,
      "outputs": [
        {
          "output_type": "execute_result",
          "data": {
            "text/plain": [
              "0.5714285714285714"
            ]
          },
          "metadata": {},
          "execution_count": 41
        }
      ]
    },
    {
      "cell_type": "markdown",
      "source": [
        "Процент строк с некорректными значениями 0.6%. Удалим строки, в которых встречаются такие аномальные значения из датафрейма `data`."
      ],
      "metadata": {
        "id": "vsqM1uVaPVlV"
      },
      "id": "vsqM1uVaPVlV"
    },
    {
      "cell_type": "code",
      "execution_count": null,
      "id": "20009df8",
      "metadata": {
        "deletable": false,
        "id": "20009df8"
      },
      "outputs": [],
      "source": [
        "data = data[(data['children'] != -1) & (data['children'] != 20)]"
      ]
    },
    {
      "cell_type": "markdown",
      "id": "8c6ac9f1",
      "metadata": {
        "deletable": false,
        "editable": false,
        "id": "8c6ac9f1"
      },
      "source": [
        "Ещё раз выведем перечень уникальных значений столбца `children`, чтобы убедиться, что артефакты удалены."
      ]
    },
    {
      "cell_type": "code",
      "execution_count": null,
      "id": "07337b81",
      "metadata": {
        "deletable": false,
        "id": "07337b81",
        "outputId": "9922fe65-ca37-464c-f553-a71b46bc7726",
        "colab": {
          "base_uri": "https://localhost:8080/"
        }
      },
      "outputs": [
        {
          "output_type": "execute_result",
          "data": {
            "text/plain": [
              "array([1, 0, 3, 2, 4, 5])"
            ]
          },
          "metadata": {},
          "execution_count": 43
        }
      ],
      "source": [
        "data['children'].unique()"
      ]
    },
    {
      "cell_type": "markdown",
      "id": "ee3f52d4",
      "metadata": {
        "deletable": false,
        "editable": false,
        "id": "ee3f52d4"
      },
      "source": [
        "### Удаление пропусков (продолжение)"
      ]
    },
    {
      "cell_type": "markdown",
      "id": "a700b0e4",
      "metadata": {
        "deletable": false,
        "editable": false,
        "id": "a700b0e4"
      },
      "source": [
        "Заполним пропуски в столбце `days_employed` медианными значениями для каждого типа занятости `income_type`."
      ]
    },
    {
      "cell_type": "code",
      "execution_count": null,
      "id": "61946b83",
      "metadata": {
        "deletable": false,
        "id": "61946b83"
      },
      "outputs": [],
      "source": [
        "for t in data['income_type'].unique():\n",
        "    data.loc[(data['income_type'] == t) & (data['days_employed'].isna()), 'days_employed'] = \\\n",
        "    data.loc[(data['income_type'] == t), 'days_employed'].median()"
      ]
    },
    {
      "cell_type": "markdown",
      "id": "550dcd9b",
      "metadata": {
        "deletable": false,
        "editable": false,
        "id": "550dcd9b"
      },
      "source": [
        "Убедимся, что все пропуски заполнены."
      ]
    },
    {
      "cell_type": "code",
      "execution_count": null,
      "id": "937c7014",
      "metadata": {
        "deletable": false,
        "id": "937c7014",
        "outputId": "f84e48eb-3c76-4e16-c2be-2184ecd5d674",
        "colab": {
          "base_uri": "https://localhost:8080/"
        }
      },
      "outputs": [
        {
          "output_type": "execute_result",
          "data": {
            "text/plain": [
              "children            0\n",
              "days_employed       0\n",
              "dob_years           0\n",
              "education           0\n",
              "education_id        0\n",
              "family_status       0\n",
              "family_status_id    0\n",
              "gender              0\n",
              "income_type         0\n",
              "debt                0\n",
              "total_income        0\n",
              "purpose             0\n",
              "dtype: int64"
            ]
          },
          "metadata": {},
          "execution_count": 45
        }
      ],
      "source": [
        "data.isna().sum()"
      ]
    },
    {
      "cell_type": "markdown",
      "id": "d522e295",
      "metadata": {
        "deletable": false,
        "editable": false,
        "id": "d522e295"
      },
      "source": [
        "### Изменение типов данных"
      ]
    },
    {
      "cell_type": "markdown",
      "id": "c229c581",
      "metadata": {
        "deletable": false,
        "editable": false,
        "id": "c229c581"
      },
      "source": [
        "Заменим вещественный тип данных в столбце `total_income` на целочисленный"
      ]
    },
    {
      "cell_type": "code",
      "execution_count": null,
      "id": "31036462",
      "metadata": {
        "deletable": false,
        "id": "31036462"
      },
      "outputs": [],
      "source": [
        "data['total_income'] = data['total_income'].astype(int)"
      ]
    },
    {
      "cell_type": "markdown",
      "id": "b8e3d1d9",
      "metadata": {
        "deletable": false,
        "editable": false,
        "id": "b8e3d1d9"
      },
      "source": [
        "### Обработка дубликатов"
      ]
    },
    {
      "cell_type": "markdown",
      "id": "9be53c49",
      "metadata": {
        "deletable": false,
        "editable": false,
        "id": "9be53c49"
      },
      "source": [
        "Обработаем неявные дубликаты в столбце `education`. В этом столбце есть одни и те же значения, но записанные по-разному: с использованием заглавных и строчных букв. Приведем их к нижнему регистру."
      ]
    },
    {
      "cell_type": "code",
      "execution_count": null,
      "id": "d89e73e1",
      "metadata": {
        "deletable": false,
        "id": "d89e73e1"
      },
      "outputs": [],
      "source": [
        "data['education'] = data['education'].str.lower()"
      ]
    },
    {
      "cell_type": "markdown",
      "id": "01d4500e",
      "metadata": {
        "deletable": false,
        "editable": false,
        "id": "01d4500e"
      },
      "source": [
        "Выведем на экран количество строк-дубликатов в данных. Если такие строки присутствуют, удалим их."
      ]
    },
    {
      "cell_type": "code",
      "execution_count": null,
      "id": "e10efb23",
      "metadata": {
        "deletable": false,
        "id": "e10efb23",
        "outputId": "60e9fcf7-5fad-4c06-e8b7-e707f49664c5",
        "colab": {
          "base_uri": "https://localhost:8080/"
        }
      },
      "outputs": [
        {
          "output_type": "execute_result",
          "data": {
            "text/plain": [
              "71"
            ]
          },
          "metadata": {},
          "execution_count": 48
        }
      ],
      "source": [
        "data.duplicated().sum()"
      ]
    },
    {
      "cell_type": "code",
      "execution_count": null,
      "id": "df853f20",
      "metadata": {
        "deletable": false,
        "id": "df853f20"
      },
      "outputs": [],
      "source": [
        "data = data.drop_duplicates()"
      ]
    },
    {
      "cell_type": "markdown",
      "id": "627be38f",
      "metadata": {
        "deletable": false,
        "editable": false,
        "id": "627be38f"
      },
      "source": [
        "### Категоризация данных"
      ]
    },
    {
      "cell_type": "markdown",
      "id": "4684c3e0",
      "metadata": {
        "deletable": false,
        "editable": false,
        "id": "4684c3e0"
      },
      "source": [
        "На основании диапазонов, указанных ниже, создадим в датафрейме `data` столбец `total_income_category` с категориями:\n",
        "\n",
        "- 0–30000 — `'E'`;\n",
        "- 30001–50000 — `'D'`;\n",
        "- 50001–200000 — `'C'`;\n",
        "- 200001–1000000 — `'B'`;\n",
        "- 1000001 и выше — `'A'`.\n",
        "\n",
        "\n",
        "Например, кредитополучателю с доходом 25000 назначим категорию `'E'`, а клиенту, получающему 235000, — `'B'`.  \n",
        "Используем собственную функцию с именем `categorize_income()` и метод `apply()`."
      ]
    },
    {
      "cell_type": "code",
      "execution_count": null,
      "id": "78965238",
      "metadata": {
        "deletable": false,
        "id": "78965238"
      },
      "outputs": [],
      "source": [
        "def categorize_income(income):\n",
        "    try:\n",
        "        if 0 <= income <= 30000:\n",
        "            return 'E'\n",
        "        elif 30001 <= income <= 50000:\n",
        "            return 'D'\n",
        "        elif 50001 <= income <= 200000:\n",
        "            return 'C'\n",
        "        elif 200001 <= income <= 1000000:\n",
        "            return 'B'\n",
        "        elif income >= 1000001:\n",
        "            return 'A'\n",
        "    except:\n",
        "        pass"
      ]
    },
    {
      "cell_type": "code",
      "execution_count": null,
      "id": "0980ada1",
      "metadata": {
        "deletable": false,
        "id": "0980ada1"
      },
      "outputs": [],
      "source": [
        "data['total_income_category'] = data['total_income'].apply(categorize_income)"
      ]
    },
    {
      "cell_type": "markdown",
      "id": "9917bba0",
      "metadata": {
        "deletable": false,
        "editable": false,
        "id": "9917bba0"
      },
      "source": [
        "Выведем на экран перечень уникальных целей взятия кредита из столбца `purpose`"
      ]
    },
    {
      "cell_type": "code",
      "execution_count": null,
      "id": "ee07b65e",
      "metadata": {
        "deletable": false,
        "id": "ee07b65e",
        "outputId": "0fefef84-46f0-46e9-c0de-9af969e781f0",
        "colab": {
          "base_uri": "https://localhost:8080/"
        }
      },
      "outputs": [
        {
          "output_type": "execute_result",
          "data": {
            "text/plain": [
              "array(['покупка жилья', 'приобретение автомобиля',\n",
              "       'дополнительное образование', 'сыграть свадьбу',\n",
              "       'операции с жильем', 'образование', 'на проведение свадьбы',\n",
              "       'покупка жилья для семьи', 'покупка недвижимости',\n",
              "       'покупка коммерческой недвижимости', 'покупка жилой недвижимости',\n",
              "       'строительство собственной недвижимости', 'недвижимость',\n",
              "       'строительство недвижимости', 'на покупку подержанного автомобиля',\n",
              "       'на покупку своего автомобиля',\n",
              "       'операции с коммерческой недвижимостью',\n",
              "       'строительство жилой недвижимости', 'жилье',\n",
              "       'операции со своей недвижимостью', 'автомобили',\n",
              "       'заняться образованием', 'сделка с подержанным автомобилем',\n",
              "       'получение образования', 'автомобиль', 'свадьба',\n",
              "       'получение дополнительного образования', 'покупка своего жилья',\n",
              "       'операции с недвижимостью', 'получение высшего образования',\n",
              "       'свой автомобиль', 'сделка с автомобилем',\n",
              "       'профильное образование', 'высшее образование',\n",
              "       'покупка жилья для сдачи', 'на покупку автомобиля', 'ремонт жилью',\n",
              "       'заняться высшим образованием'], dtype=object)"
            ]
          },
          "metadata": {},
          "execution_count": 52
        }
      ],
      "source": [
        "data['purpose'].unique()"
      ]
    },
    {
      "cell_type": "markdown",
      "id": "52b79d56",
      "metadata": {
        "deletable": false,
        "editable": false,
        "id": "52b79d56"
      },
      "source": [
        "Создадим функцию, которая на основании данных из столбца `purpose` сформирует новый столбец `purpose_category`, в который войдут следующие категории:\n",
        "\n",
        "- `'операции с автомобилем'`,\n",
        "- `'операции с недвижимостью'`,\n",
        "- `'проведение свадьбы'`,\n",
        "- `'получение образования'`.  \n",
        "  \n",
        "Используем собственную функцию с именем `categorize_purpose()` и метод `apply()`.  "
      ]
    },
    {
      "cell_type": "code",
      "execution_count": null,
      "id": "be41da5d",
      "metadata": {
        "deletable": false,
        "id": "be41da5d"
      },
      "outputs": [],
      "source": [
        "def categorize_purpose(row):\n",
        "    try:\n",
        "        if 'автом' in row:\n",
        "            return 'операции с автомобилем'\n",
        "        elif 'жил' in row or 'недвиж' in row:\n",
        "            return 'операции с недвижимостью'\n",
        "        elif 'свад' in row:\n",
        "            return 'проведение свадьбы'\n",
        "        elif 'образов' in row:\n",
        "            return 'получение образования'\n",
        "    except:\n",
        "        return 'нет категории'"
      ]
    },
    {
      "cell_type": "code",
      "execution_count": null,
      "id": "94c4a19a",
      "metadata": {
        "deletable": false,
        "id": "94c4a19a"
      },
      "outputs": [],
      "source": [
        "data['purpose_category'] = data['purpose'].apply(categorize_purpose)"
      ]
    },
    {
      "cell_type": "markdown",
      "id": "3d596c34",
      "metadata": {
        "deletable": false,
        "editable": false,
        "id": "3d596c34"
      },
      "source": [
        "## Исследование данных"
      ]
    },
    {
      "cell_type": "markdown",
      "id": "648db036",
      "metadata": {
        "deletable": false,
        "editable": false,
        "id": "648db036"
      },
      "source": [
        "### Исследуем наличие зависимости между количеством детей и возвратом кредита в срок"
      ]
    },
    {
      "cell_type": "markdown",
      "source": [
        "Сгруппируем данные по количеству детей и сделаем сортировку по столбцу с долей невозвратов по возрастанию.  \n",
        "Посчитаем доли просрочек для групп заемщиков с детьми и без."
      ],
      "metadata": {
        "id": "lGJk6FraSxTU"
      },
      "id": "lGJk6FraSxTU"
    },
    {
      "cell_type": "code",
      "execution_count": null,
      "id": "7fcff25e",
      "metadata": {
        "deletable": false,
        "id": "7fcff25e",
        "scrolled": true,
        "colab": {
          "base_uri": "https://localhost:8080/",
          "height": 306
        },
        "outputId": "a9ca2609-2a49-4c11-9cd5-d89c6a193c88"
      },
      "outputs": [
        {
          "output_type": "display_data",
          "data": {
            "text/plain": [
              "           mean  count\n",
              "children              \n",
              "5         0.000      9\n",
              "0         0.075  14091\n",
              "3         0.082    330\n",
              "1         0.092   4808\n",
              "2         0.095   2052\n",
              "4         0.098     41"
            ],
            "text/html": [
              "\n",
              "  <div id=\"df-b7710807-fc85-4a39-8036-9b491447c506\" class=\"colab-df-container\">\n",
              "    <div>\n",
              "<style scoped>\n",
              "    .dataframe tbody tr th:only-of-type {\n",
              "        vertical-align: middle;\n",
              "    }\n",
              "\n",
              "    .dataframe tbody tr th {\n",
              "        vertical-align: top;\n",
              "    }\n",
              "\n",
              "    .dataframe thead th {\n",
              "        text-align: right;\n",
              "    }\n",
              "</style>\n",
              "<table border=\"1\" class=\"dataframe\">\n",
              "  <thead>\n",
              "    <tr style=\"text-align: right;\">\n",
              "      <th></th>\n",
              "      <th>mean</th>\n",
              "      <th>count</th>\n",
              "    </tr>\n",
              "    <tr>\n",
              "      <th>children</th>\n",
              "      <th></th>\n",
              "      <th></th>\n",
              "    </tr>\n",
              "  </thead>\n",
              "  <tbody>\n",
              "    <tr>\n",
              "      <th>5</th>\n",
              "      <td>0.000</td>\n",
              "      <td>9</td>\n",
              "    </tr>\n",
              "    <tr>\n",
              "      <th>0</th>\n",
              "      <td>0.075</td>\n",
              "      <td>14091</td>\n",
              "    </tr>\n",
              "    <tr>\n",
              "      <th>3</th>\n",
              "      <td>0.082</td>\n",
              "      <td>330</td>\n",
              "    </tr>\n",
              "    <tr>\n",
              "      <th>1</th>\n",
              "      <td>0.092</td>\n",
              "      <td>4808</td>\n",
              "    </tr>\n",
              "    <tr>\n",
              "      <th>2</th>\n",
              "      <td>0.095</td>\n",
              "      <td>2052</td>\n",
              "    </tr>\n",
              "    <tr>\n",
              "      <th>4</th>\n",
              "      <td>0.098</td>\n",
              "      <td>41</td>\n",
              "    </tr>\n",
              "  </tbody>\n",
              "</table>\n",
              "</div>\n",
              "    <div class=\"colab-df-buttons\">\n",
              "\n",
              "  <div class=\"colab-df-container\">\n",
              "    <button class=\"colab-df-convert\" onclick=\"convertToInteractive('df-b7710807-fc85-4a39-8036-9b491447c506')\"\n",
              "            title=\"Convert this dataframe to an interactive table.\"\n",
              "            style=\"display:none;\">\n",
              "\n",
              "  <svg xmlns=\"http://www.w3.org/2000/svg\" height=\"24px\" viewBox=\"0 -960 960 960\">\n",
              "    <path d=\"M120-120v-720h720v720H120Zm60-500h600v-160H180v160Zm220 220h160v-160H400v160Zm0 220h160v-160H400v160ZM180-400h160v-160H180v160Zm440 0h160v-160H620v160ZM180-180h160v-160H180v160Zm440 0h160v-160H620v160Z\"/>\n",
              "  </svg>\n",
              "    </button>\n",
              "\n",
              "  <style>\n",
              "    .colab-df-container {\n",
              "      display:flex;\n",
              "      gap: 12px;\n",
              "    }\n",
              "\n",
              "    .colab-df-convert {\n",
              "      background-color: #E8F0FE;\n",
              "      border: none;\n",
              "      border-radius: 50%;\n",
              "      cursor: pointer;\n",
              "      display: none;\n",
              "      fill: #1967D2;\n",
              "      height: 32px;\n",
              "      padding: 0 0 0 0;\n",
              "      width: 32px;\n",
              "    }\n",
              "\n",
              "    .colab-df-convert:hover {\n",
              "      background-color: #E2EBFA;\n",
              "      box-shadow: 0px 1px 2px rgba(60, 64, 67, 0.3), 0px 1px 3px 1px rgba(60, 64, 67, 0.15);\n",
              "      fill: #174EA6;\n",
              "    }\n",
              "\n",
              "    .colab-df-buttons div {\n",
              "      margin-bottom: 4px;\n",
              "    }\n",
              "\n",
              "    [theme=dark] .colab-df-convert {\n",
              "      background-color: #3B4455;\n",
              "      fill: #D2E3FC;\n",
              "    }\n",
              "\n",
              "    [theme=dark] .colab-df-convert:hover {\n",
              "      background-color: #434B5C;\n",
              "      box-shadow: 0px 1px 3px 1px rgba(0, 0, 0, 0.15);\n",
              "      filter: drop-shadow(0px 1px 2px rgba(0, 0, 0, 0.3));\n",
              "      fill: #FFFFFF;\n",
              "    }\n",
              "  </style>\n",
              "\n",
              "    <script>\n",
              "      const buttonEl =\n",
              "        document.querySelector('#df-b7710807-fc85-4a39-8036-9b491447c506 button.colab-df-convert');\n",
              "      buttonEl.style.display =\n",
              "        google.colab.kernel.accessAllowed ? 'block' : 'none';\n",
              "\n",
              "      async function convertToInteractive(key) {\n",
              "        const element = document.querySelector('#df-b7710807-fc85-4a39-8036-9b491447c506');\n",
              "        const dataTable =\n",
              "          await google.colab.kernel.invokeFunction('convertToInteractive',\n",
              "                                                    [key], {});\n",
              "        if (!dataTable) return;\n",
              "\n",
              "        const docLinkHtml = 'Like what you see? Visit the ' +\n",
              "          '<a target=\"_blank\" href=https://colab.research.google.com/notebooks/data_table.ipynb>data table notebook</a>'\n",
              "          + ' to learn more about interactive tables.';\n",
              "        element.innerHTML = '';\n",
              "        dataTable['output_type'] = 'display_data';\n",
              "        await google.colab.output.renderOutput(dataTable, element);\n",
              "        const docLink = document.createElement('div');\n",
              "        docLink.innerHTML = docLinkHtml;\n",
              "        element.appendChild(docLink);\n",
              "      }\n",
              "    </script>\n",
              "  </div>\n",
              "\n",
              "\n",
              "<div id=\"df-de47f992-f977-4aa5-a094-6806207eb4b3\">\n",
              "  <button class=\"colab-df-quickchart\" onclick=\"quickchart('df-de47f992-f977-4aa5-a094-6806207eb4b3')\"\n",
              "            title=\"Suggest charts.\"\n",
              "            style=\"display:none;\">\n",
              "\n",
              "<svg xmlns=\"http://www.w3.org/2000/svg\" height=\"24px\"viewBox=\"0 0 24 24\"\n",
              "     width=\"24px\">\n",
              "    <g>\n",
              "        <path d=\"M19 3H5c-1.1 0-2 .9-2 2v14c0 1.1.9 2 2 2h14c1.1 0 2-.9 2-2V5c0-1.1-.9-2-2-2zM9 17H7v-7h2v7zm4 0h-2V7h2v10zm4 0h-2v-4h2v4z\"/>\n",
              "    </g>\n",
              "</svg>\n",
              "  </button>\n",
              "\n",
              "<style>\n",
              "  .colab-df-quickchart {\n",
              "    background-color: #E8F0FE;\n",
              "    border: none;\n",
              "    border-radius: 50%;\n",
              "    cursor: pointer;\n",
              "    display: none;\n",
              "    fill: #1967D2;\n",
              "    height: 32px;\n",
              "    padding: 0 0 0 0;\n",
              "    width: 32px;\n",
              "  }\n",
              "\n",
              "  .colab-df-quickchart:hover {\n",
              "    background-color: #E2EBFA;\n",
              "    box-shadow: 0px 1px 2px rgba(60, 64, 67, 0.3), 0px 1px 3px 1px rgba(60, 64, 67, 0.15);\n",
              "    fill: #174EA6;\n",
              "  }\n",
              "\n",
              "  [theme=dark] .colab-df-quickchart {\n",
              "    background-color: #3B4455;\n",
              "    fill: #D2E3FC;\n",
              "  }\n",
              "\n",
              "  [theme=dark] .colab-df-quickchart:hover {\n",
              "    background-color: #434B5C;\n",
              "    box-shadow: 0px 1px 3px 1px rgba(0, 0, 0, 0.15);\n",
              "    filter: drop-shadow(0px 1px 2px rgba(0, 0, 0, 0.3));\n",
              "    fill: #FFFFFF;\n",
              "  }\n",
              "</style>\n",
              "\n",
              "  <script>\n",
              "    async function quickchart(key) {\n",
              "      const charts = await google.colab.kernel.invokeFunction(\n",
              "          'suggestCharts', [key], {});\n",
              "    }\n",
              "    (() => {\n",
              "      let quickchartButtonEl =\n",
              "        document.querySelector('#df-de47f992-f977-4aa5-a094-6806207eb4b3 button');\n",
              "      quickchartButtonEl.style.display =\n",
              "        google.colab.kernel.accessAllowed ? 'block' : 'none';\n",
              "    })();\n",
              "  </script>\n",
              "</div>\n",
              "    </div>\n",
              "  </div>\n"
            ]
          },
          "metadata": {}
        },
        {
          "output_type": "stream",
          "name": "stdout",
          "text": [
            "Заемщики с детьми: доля просрочки кредитов 9.2%\n",
            "Заемщики без детей: доля просрочки кредитов 7.5%\n"
          ]
        }
      ],
      "source": [
        "display(data.groupby('children')['debt'].agg({'mean','count'}).round(3).sort_values(by = 'mean'))\n",
        "debt_with_child = data[data['children'] != 0]['debt'].mean().round(3)\n",
        "debt_without_child = data[data['children'] == 0]['debt'].mean().round(3)\n",
        "print(f'Заемщики с детьми: доля просрочки кредитов {debt_with_child:.1%}\\n\\\n",
        "Заемщики без детей: доля просрочки кредитов {debt_without_child:.1%}')\n"
      ]
    },
    {
      "cell_type": "markdown",
      "id": "083552b2",
      "metadata": {
        "deletable": false,
        "id": "083552b2"
      },
      "source": [
        "**Вывод:**  \n",
        "Учитывая релевантность исследуемой выборки, мы делаем вывод о том, что заемщики без детей чаще гасят свои обязательства в срок:\n",
        "- просрочка платежа у заемщиков без детей 7.5%  \n",
        "- просрочка платежа у заемщиков с детьми 9.2%"
      ]
    },
    {
      "cell_type": "markdown",
      "id": "74c9b3a7",
      "metadata": {
        "deletable": false,
        "editable": false,
        "id": "74c9b3a7"
      },
      "source": [
        "### Исследуем наличие зависимости между семейным положением и возвратом кредита в срок"
      ]
    },
    {
      "cell_type": "markdown",
      "source": [
        "Сгруппируем данные по семейному статусу и сделаем сортировку по столбцу с долей невозвратов по возрастанию"
      ],
      "metadata": {
        "id": "J0p15lAKTx0B"
      },
      "id": "J0p15lAKTx0B"
    },
    {
      "cell_type": "code",
      "execution_count": null,
      "id": "8098ab3b",
      "metadata": {
        "deletable": false,
        "id": "8098ab3b",
        "colab": {
          "base_uri": "https://localhost:8080/",
          "height": 237
        },
        "outputId": "63767b23-c34b-4bb3-d5d6-9bbb3766e5f2"
      },
      "outputs": [
        {
          "output_type": "execute_result",
          "data": {
            "text/plain": [
              "                       mean  count\n",
              "family_status                     \n",
              "в разводе              0.07   1189\n",
              "вдовец / вдова         0.07    951\n",
              "женат / замужем        0.08  12261\n",
              "гражданский брак       0.09   4134\n",
              "Не женат / не замужем  0.10   2796"
            ],
            "text/html": [
              "\n",
              "  <div id=\"df-2aead637-e74a-4ea0-8a8b-f7363e318161\" class=\"colab-df-container\">\n",
              "    <div>\n",
              "<style scoped>\n",
              "    .dataframe tbody tr th:only-of-type {\n",
              "        vertical-align: middle;\n",
              "    }\n",
              "\n",
              "    .dataframe tbody tr th {\n",
              "        vertical-align: top;\n",
              "    }\n",
              "\n",
              "    .dataframe thead th {\n",
              "        text-align: right;\n",
              "    }\n",
              "</style>\n",
              "<table border=\"1\" class=\"dataframe\">\n",
              "  <thead>\n",
              "    <tr style=\"text-align: right;\">\n",
              "      <th></th>\n",
              "      <th>mean</th>\n",
              "      <th>count</th>\n",
              "    </tr>\n",
              "    <tr>\n",
              "      <th>family_status</th>\n",
              "      <th></th>\n",
              "      <th></th>\n",
              "    </tr>\n",
              "  </thead>\n",
              "  <tbody>\n",
              "    <tr>\n",
              "      <th>в разводе</th>\n",
              "      <td>0.07</td>\n",
              "      <td>1189</td>\n",
              "    </tr>\n",
              "    <tr>\n",
              "      <th>вдовец / вдова</th>\n",
              "      <td>0.07</td>\n",
              "      <td>951</td>\n",
              "    </tr>\n",
              "    <tr>\n",
              "      <th>женат / замужем</th>\n",
              "      <td>0.08</td>\n",
              "      <td>12261</td>\n",
              "    </tr>\n",
              "    <tr>\n",
              "      <th>гражданский брак</th>\n",
              "      <td>0.09</td>\n",
              "      <td>4134</td>\n",
              "    </tr>\n",
              "    <tr>\n",
              "      <th>Не женат / не замужем</th>\n",
              "      <td>0.10</td>\n",
              "      <td>2796</td>\n",
              "    </tr>\n",
              "  </tbody>\n",
              "</table>\n",
              "</div>\n",
              "    <div class=\"colab-df-buttons\">\n",
              "\n",
              "  <div class=\"colab-df-container\">\n",
              "    <button class=\"colab-df-convert\" onclick=\"convertToInteractive('df-2aead637-e74a-4ea0-8a8b-f7363e318161')\"\n",
              "            title=\"Convert this dataframe to an interactive table.\"\n",
              "            style=\"display:none;\">\n",
              "\n",
              "  <svg xmlns=\"http://www.w3.org/2000/svg\" height=\"24px\" viewBox=\"0 -960 960 960\">\n",
              "    <path d=\"M120-120v-720h720v720H120Zm60-500h600v-160H180v160Zm220 220h160v-160H400v160Zm0 220h160v-160H400v160ZM180-400h160v-160H180v160Zm440 0h160v-160H620v160ZM180-180h160v-160H180v160Zm440 0h160v-160H620v160Z\"/>\n",
              "  </svg>\n",
              "    </button>\n",
              "\n",
              "  <style>\n",
              "    .colab-df-container {\n",
              "      display:flex;\n",
              "      gap: 12px;\n",
              "    }\n",
              "\n",
              "    .colab-df-convert {\n",
              "      background-color: #E8F0FE;\n",
              "      border: none;\n",
              "      border-radius: 50%;\n",
              "      cursor: pointer;\n",
              "      display: none;\n",
              "      fill: #1967D2;\n",
              "      height: 32px;\n",
              "      padding: 0 0 0 0;\n",
              "      width: 32px;\n",
              "    }\n",
              "\n",
              "    .colab-df-convert:hover {\n",
              "      background-color: #E2EBFA;\n",
              "      box-shadow: 0px 1px 2px rgba(60, 64, 67, 0.3), 0px 1px 3px 1px rgba(60, 64, 67, 0.15);\n",
              "      fill: #174EA6;\n",
              "    }\n",
              "\n",
              "    .colab-df-buttons div {\n",
              "      margin-bottom: 4px;\n",
              "    }\n",
              "\n",
              "    [theme=dark] .colab-df-convert {\n",
              "      background-color: #3B4455;\n",
              "      fill: #D2E3FC;\n",
              "    }\n",
              "\n",
              "    [theme=dark] .colab-df-convert:hover {\n",
              "      background-color: #434B5C;\n",
              "      box-shadow: 0px 1px 3px 1px rgba(0, 0, 0, 0.15);\n",
              "      filter: drop-shadow(0px 1px 2px rgba(0, 0, 0, 0.3));\n",
              "      fill: #FFFFFF;\n",
              "    }\n",
              "  </style>\n",
              "\n",
              "    <script>\n",
              "      const buttonEl =\n",
              "        document.querySelector('#df-2aead637-e74a-4ea0-8a8b-f7363e318161 button.colab-df-convert');\n",
              "      buttonEl.style.display =\n",
              "        google.colab.kernel.accessAllowed ? 'block' : 'none';\n",
              "\n",
              "      async function convertToInteractive(key) {\n",
              "        const element = document.querySelector('#df-2aead637-e74a-4ea0-8a8b-f7363e318161');\n",
              "        const dataTable =\n",
              "          await google.colab.kernel.invokeFunction('convertToInteractive',\n",
              "                                                    [key], {});\n",
              "        if (!dataTable) return;\n",
              "\n",
              "        const docLinkHtml = 'Like what you see? Visit the ' +\n",
              "          '<a target=\"_blank\" href=https://colab.research.google.com/notebooks/data_table.ipynb>data table notebook</a>'\n",
              "          + ' to learn more about interactive tables.';\n",
              "        element.innerHTML = '';\n",
              "        dataTable['output_type'] = 'display_data';\n",
              "        await google.colab.output.renderOutput(dataTable, element);\n",
              "        const docLink = document.createElement('div');\n",
              "        docLink.innerHTML = docLinkHtml;\n",
              "        element.appendChild(docLink);\n",
              "      }\n",
              "    </script>\n",
              "  </div>\n",
              "\n",
              "\n",
              "<div id=\"df-bd295ba6-2f5b-499c-a79a-c93f31b6cf12\">\n",
              "  <button class=\"colab-df-quickchart\" onclick=\"quickchart('df-bd295ba6-2f5b-499c-a79a-c93f31b6cf12')\"\n",
              "            title=\"Suggest charts.\"\n",
              "            style=\"display:none;\">\n",
              "\n",
              "<svg xmlns=\"http://www.w3.org/2000/svg\" height=\"24px\"viewBox=\"0 0 24 24\"\n",
              "     width=\"24px\">\n",
              "    <g>\n",
              "        <path d=\"M19 3H5c-1.1 0-2 .9-2 2v14c0 1.1.9 2 2 2h14c1.1 0 2-.9 2-2V5c0-1.1-.9-2-2-2zM9 17H7v-7h2v7zm4 0h-2V7h2v10zm4 0h-2v-4h2v4z\"/>\n",
              "    </g>\n",
              "</svg>\n",
              "  </button>\n",
              "\n",
              "<style>\n",
              "  .colab-df-quickchart {\n",
              "    background-color: #E8F0FE;\n",
              "    border: none;\n",
              "    border-radius: 50%;\n",
              "    cursor: pointer;\n",
              "    display: none;\n",
              "    fill: #1967D2;\n",
              "    height: 32px;\n",
              "    padding: 0 0 0 0;\n",
              "    width: 32px;\n",
              "  }\n",
              "\n",
              "  .colab-df-quickchart:hover {\n",
              "    background-color: #E2EBFA;\n",
              "    box-shadow: 0px 1px 2px rgba(60, 64, 67, 0.3), 0px 1px 3px 1px rgba(60, 64, 67, 0.15);\n",
              "    fill: #174EA6;\n",
              "  }\n",
              "\n",
              "  [theme=dark] .colab-df-quickchart {\n",
              "    background-color: #3B4455;\n",
              "    fill: #D2E3FC;\n",
              "  }\n",
              "\n",
              "  [theme=dark] .colab-df-quickchart:hover {\n",
              "    background-color: #434B5C;\n",
              "    box-shadow: 0px 1px 3px 1px rgba(0, 0, 0, 0.15);\n",
              "    filter: drop-shadow(0px 1px 2px rgba(0, 0, 0, 0.3));\n",
              "    fill: #FFFFFF;\n",
              "  }\n",
              "</style>\n",
              "\n",
              "  <script>\n",
              "    async function quickchart(key) {\n",
              "      const charts = await google.colab.kernel.invokeFunction(\n",
              "          'suggestCharts', [key], {});\n",
              "    }\n",
              "    (() => {\n",
              "      let quickchartButtonEl =\n",
              "        document.querySelector('#df-bd295ba6-2f5b-499c-a79a-c93f31b6cf12 button');\n",
              "      quickchartButtonEl.style.display =\n",
              "        google.colab.kernel.accessAllowed ? 'block' : 'none';\n",
              "    })();\n",
              "  </script>\n",
              "</div>\n",
              "    </div>\n",
              "  </div>\n"
            ]
          },
          "metadata": {},
          "execution_count": 62
        }
      ],
      "source": [
        "data.groupby('family_status')['debt'].agg({'mean','count'}).round(2).sort_values(by = 'mean')"
      ]
    },
    {
      "cell_type": "markdown",
      "id": "c389ca63",
      "metadata": {
        "deletable": false,
        "id": "c389ca63"
      },
      "source": [
        "**Вывод:**  \n",
        "Из таблицы мы видим, что выборка репрезентативна.  \n",
        "Можно сделать вывод о том, что люди, которые имеют узаконенный семейный статус (вдовец / вдова, в разводе, женат / замужем) более своевременно гасят кредиты (просрочка  7-8%) в сравнении с людьми, статус которых не зафиксирован документально (гражданский брак, Не женат / не замужем) - просрочка  9-10%"
      ]
    },
    {
      "cell_type": "markdown",
      "id": "9529de68",
      "metadata": {
        "deletable": false,
        "editable": false,
        "id": "9529de68"
      },
      "source": [
        "### Исследуем наличие зависимости между уровнем дохода и возвратом кредита в срок"
      ]
    },
    {
      "cell_type": "markdown",
      "source": [
        "Сгруппируем данные по уровню дохода и сделаем сортировку по уровню дохода по убыванию"
      ],
      "metadata": {
        "id": "bHTtgZqRUKJn"
      },
      "id": "bHTtgZqRUKJn"
    },
    {
      "cell_type": "code",
      "execution_count": null,
      "id": "8787f44a",
      "metadata": {
        "deletable": false,
        "id": "8787f44a",
        "colab": {
          "base_uri": "https://localhost:8080/",
          "height": 237
        },
        "outputId": "4ac5992f-9bea-4031-8d68-b10a4534b872"
      },
      "outputs": [
        {
          "output_type": "execute_result",
          "data": {
            "text/plain": [
              "                        mean  count\n",
              "total_income_category              \n",
              "A                      0.080     25\n",
              "B                      0.071   5014\n",
              "C                      0.085  15921\n",
              "D                      0.060    349\n",
              "E                      0.091     22"
            ],
            "text/html": [
              "\n",
              "  <div id=\"df-babbb70b-da38-4a01-bf81-3b1445012244\" class=\"colab-df-container\">\n",
              "    <div>\n",
              "<style scoped>\n",
              "    .dataframe tbody tr th:only-of-type {\n",
              "        vertical-align: middle;\n",
              "    }\n",
              "\n",
              "    .dataframe tbody tr th {\n",
              "        vertical-align: top;\n",
              "    }\n",
              "\n",
              "    .dataframe thead th {\n",
              "        text-align: right;\n",
              "    }\n",
              "</style>\n",
              "<table border=\"1\" class=\"dataframe\">\n",
              "  <thead>\n",
              "    <tr style=\"text-align: right;\">\n",
              "      <th></th>\n",
              "      <th>mean</th>\n",
              "      <th>count</th>\n",
              "    </tr>\n",
              "    <tr>\n",
              "      <th>total_income_category</th>\n",
              "      <th></th>\n",
              "      <th></th>\n",
              "    </tr>\n",
              "  </thead>\n",
              "  <tbody>\n",
              "    <tr>\n",
              "      <th>A</th>\n",
              "      <td>0.080</td>\n",
              "      <td>25</td>\n",
              "    </tr>\n",
              "    <tr>\n",
              "      <th>B</th>\n",
              "      <td>0.071</td>\n",
              "      <td>5014</td>\n",
              "    </tr>\n",
              "    <tr>\n",
              "      <th>C</th>\n",
              "      <td>0.085</td>\n",
              "      <td>15921</td>\n",
              "    </tr>\n",
              "    <tr>\n",
              "      <th>D</th>\n",
              "      <td>0.060</td>\n",
              "      <td>349</td>\n",
              "    </tr>\n",
              "    <tr>\n",
              "      <th>E</th>\n",
              "      <td>0.091</td>\n",
              "      <td>22</td>\n",
              "    </tr>\n",
              "  </tbody>\n",
              "</table>\n",
              "</div>\n",
              "    <div class=\"colab-df-buttons\">\n",
              "\n",
              "  <div class=\"colab-df-container\">\n",
              "    <button class=\"colab-df-convert\" onclick=\"convertToInteractive('df-babbb70b-da38-4a01-bf81-3b1445012244')\"\n",
              "            title=\"Convert this dataframe to an interactive table.\"\n",
              "            style=\"display:none;\">\n",
              "\n",
              "  <svg xmlns=\"http://www.w3.org/2000/svg\" height=\"24px\" viewBox=\"0 -960 960 960\">\n",
              "    <path d=\"M120-120v-720h720v720H120Zm60-500h600v-160H180v160Zm220 220h160v-160H400v160Zm0 220h160v-160H400v160ZM180-400h160v-160H180v160Zm440 0h160v-160H620v160ZM180-180h160v-160H180v160Zm440 0h160v-160H620v160Z\"/>\n",
              "  </svg>\n",
              "    </button>\n",
              "\n",
              "  <style>\n",
              "    .colab-df-container {\n",
              "      display:flex;\n",
              "      gap: 12px;\n",
              "    }\n",
              "\n",
              "    .colab-df-convert {\n",
              "      background-color: #E8F0FE;\n",
              "      border: none;\n",
              "      border-radius: 50%;\n",
              "      cursor: pointer;\n",
              "      display: none;\n",
              "      fill: #1967D2;\n",
              "      height: 32px;\n",
              "      padding: 0 0 0 0;\n",
              "      width: 32px;\n",
              "    }\n",
              "\n",
              "    .colab-df-convert:hover {\n",
              "      background-color: #E2EBFA;\n",
              "      box-shadow: 0px 1px 2px rgba(60, 64, 67, 0.3), 0px 1px 3px 1px rgba(60, 64, 67, 0.15);\n",
              "      fill: #174EA6;\n",
              "    }\n",
              "\n",
              "    .colab-df-buttons div {\n",
              "      margin-bottom: 4px;\n",
              "    }\n",
              "\n",
              "    [theme=dark] .colab-df-convert {\n",
              "      background-color: #3B4455;\n",
              "      fill: #D2E3FC;\n",
              "    }\n",
              "\n",
              "    [theme=dark] .colab-df-convert:hover {\n",
              "      background-color: #434B5C;\n",
              "      box-shadow: 0px 1px 3px 1px rgba(0, 0, 0, 0.15);\n",
              "      filter: drop-shadow(0px 1px 2px rgba(0, 0, 0, 0.3));\n",
              "      fill: #FFFFFF;\n",
              "    }\n",
              "  </style>\n",
              "\n",
              "    <script>\n",
              "      const buttonEl =\n",
              "        document.querySelector('#df-babbb70b-da38-4a01-bf81-3b1445012244 button.colab-df-convert');\n",
              "      buttonEl.style.display =\n",
              "        google.colab.kernel.accessAllowed ? 'block' : 'none';\n",
              "\n",
              "      async function convertToInteractive(key) {\n",
              "        const element = document.querySelector('#df-babbb70b-da38-4a01-bf81-3b1445012244');\n",
              "        const dataTable =\n",
              "          await google.colab.kernel.invokeFunction('convertToInteractive',\n",
              "                                                    [key], {});\n",
              "        if (!dataTable) return;\n",
              "\n",
              "        const docLinkHtml = 'Like what you see? Visit the ' +\n",
              "          '<a target=\"_blank\" href=https://colab.research.google.com/notebooks/data_table.ipynb>data table notebook</a>'\n",
              "          + ' to learn more about interactive tables.';\n",
              "        element.innerHTML = '';\n",
              "        dataTable['output_type'] = 'display_data';\n",
              "        await google.colab.output.renderOutput(dataTable, element);\n",
              "        const docLink = document.createElement('div');\n",
              "        docLink.innerHTML = docLinkHtml;\n",
              "        element.appendChild(docLink);\n",
              "      }\n",
              "    </script>\n",
              "  </div>\n",
              "\n",
              "\n",
              "<div id=\"df-47ab36aa-f614-4f6a-a956-52f58c2aac3e\">\n",
              "  <button class=\"colab-df-quickchart\" onclick=\"quickchart('df-47ab36aa-f614-4f6a-a956-52f58c2aac3e')\"\n",
              "            title=\"Suggest charts.\"\n",
              "            style=\"display:none;\">\n",
              "\n",
              "<svg xmlns=\"http://www.w3.org/2000/svg\" height=\"24px\"viewBox=\"0 0 24 24\"\n",
              "     width=\"24px\">\n",
              "    <g>\n",
              "        <path d=\"M19 3H5c-1.1 0-2 .9-2 2v14c0 1.1.9 2 2 2h14c1.1 0 2-.9 2-2V5c0-1.1-.9-2-2-2zM9 17H7v-7h2v7zm4 0h-2V7h2v10zm4 0h-2v-4h2v4z\"/>\n",
              "    </g>\n",
              "</svg>\n",
              "  </button>\n",
              "\n",
              "<style>\n",
              "  .colab-df-quickchart {\n",
              "    background-color: #E8F0FE;\n",
              "    border: none;\n",
              "    border-radius: 50%;\n",
              "    cursor: pointer;\n",
              "    display: none;\n",
              "    fill: #1967D2;\n",
              "    height: 32px;\n",
              "    padding: 0 0 0 0;\n",
              "    width: 32px;\n",
              "  }\n",
              "\n",
              "  .colab-df-quickchart:hover {\n",
              "    background-color: #E2EBFA;\n",
              "    box-shadow: 0px 1px 2px rgba(60, 64, 67, 0.3), 0px 1px 3px 1px rgba(60, 64, 67, 0.15);\n",
              "    fill: #174EA6;\n",
              "  }\n",
              "\n",
              "  [theme=dark] .colab-df-quickchart {\n",
              "    background-color: #3B4455;\n",
              "    fill: #D2E3FC;\n",
              "  }\n",
              "\n",
              "  [theme=dark] .colab-df-quickchart:hover {\n",
              "    background-color: #434B5C;\n",
              "    box-shadow: 0px 1px 3px 1px rgba(0, 0, 0, 0.15);\n",
              "    filter: drop-shadow(0px 1px 2px rgba(0, 0, 0, 0.3));\n",
              "    fill: #FFFFFF;\n",
              "  }\n",
              "</style>\n",
              "\n",
              "  <script>\n",
              "    async function quickchart(key) {\n",
              "      const charts = await google.colab.kernel.invokeFunction(\n",
              "          'suggestCharts', [key], {});\n",
              "    }\n",
              "    (() => {\n",
              "      let quickchartButtonEl =\n",
              "        document.querySelector('#df-47ab36aa-f614-4f6a-a956-52f58c2aac3e button');\n",
              "      quickchartButtonEl.style.display =\n",
              "        google.colab.kernel.accessAllowed ? 'block' : 'none';\n",
              "    })();\n",
              "  </script>\n",
              "</div>\n",
              "    </div>\n",
              "  </div>\n"
            ]
          },
          "metadata": {},
          "execution_count": 63
        }
      ],
      "source": [
        "data.groupby('total_income_category')['debt'].agg({'mean','count'}).round(3).\\\n",
        "sort_values(by = 'total_income_category')"
      ]
    },
    {
      "cell_type": "markdown",
      "id": "6dd14b57",
      "metadata": {
        "deletable": false,
        "id": "6dd14b57"
      },
      "source": [
        "**Вывод:**  \n",
        "Для анализа возьмем 2 самые многочисленные выборки в исследуемых данных корреляции между уровнем дохода и погашением кредитов  в срок: люди с более низким доходом чаще допускают просрочки по кредитам.  \n",
        "\n",
        "Просрочка по кредитам:\n",
        "- у людей с доходом из кат.\"С\" (50001 - 200000) - 8,5%\n",
        "- у людей с доходом из кат.\"B\" (200001 - 1000000) - 7,1%"
      ]
    },
    {
      "cell_type": "markdown",
      "id": "1dcc9b12",
      "metadata": {
        "deletable": false,
        "editable": false,
        "id": "1dcc9b12"
      },
      "source": [
        "### Исследуем закономерность, как разные цели кредита влияют на его возврат в срок?"
      ]
    },
    {
      "cell_type": "markdown",
      "source": [
        "Сгруппируем данные по цели кредитования и сделаем сортировку по столбцу с долей невозвратов по возрастанию"
      ],
      "metadata": {
        "id": "063Y9fIgUk1j"
      },
      "id": "063Y9fIgUk1j"
    },
    {
      "cell_type": "code",
      "execution_count": null,
      "id": "c602bc8b",
      "metadata": {
        "deletable": false,
        "id": "c602bc8b",
        "colab": {
          "base_uri": "https://localhost:8080/",
          "height": 206
        },
        "outputId": "0eafa7b2-0431-4ea2-98b4-ee0c9139e17d"
      },
      "outputs": [
        {
          "output_type": "execute_result",
          "data": {
            "text/plain": [
              "                          mean  count\n",
              "purpose_category                     \n",
              "операции с недвижимостью  0.07  10751\n",
              "проведение свадьбы        0.08   2313\n",
              "операции с автомобилем    0.09   4279\n",
              "получение образования     0.09   3988"
            ],
            "text/html": [
              "\n",
              "  <div id=\"df-de03398d-e7c4-4e57-98fd-1f07a191cbef\" class=\"colab-df-container\">\n",
              "    <div>\n",
              "<style scoped>\n",
              "    .dataframe tbody tr th:only-of-type {\n",
              "        vertical-align: middle;\n",
              "    }\n",
              "\n",
              "    .dataframe tbody tr th {\n",
              "        vertical-align: top;\n",
              "    }\n",
              "\n",
              "    .dataframe thead th {\n",
              "        text-align: right;\n",
              "    }\n",
              "</style>\n",
              "<table border=\"1\" class=\"dataframe\">\n",
              "  <thead>\n",
              "    <tr style=\"text-align: right;\">\n",
              "      <th></th>\n",
              "      <th>mean</th>\n",
              "      <th>count</th>\n",
              "    </tr>\n",
              "    <tr>\n",
              "      <th>purpose_category</th>\n",
              "      <th></th>\n",
              "      <th></th>\n",
              "    </tr>\n",
              "  </thead>\n",
              "  <tbody>\n",
              "    <tr>\n",
              "      <th>операции с недвижимостью</th>\n",
              "      <td>0.07</td>\n",
              "      <td>10751</td>\n",
              "    </tr>\n",
              "    <tr>\n",
              "      <th>проведение свадьбы</th>\n",
              "      <td>0.08</td>\n",
              "      <td>2313</td>\n",
              "    </tr>\n",
              "    <tr>\n",
              "      <th>операции с автомобилем</th>\n",
              "      <td>0.09</td>\n",
              "      <td>4279</td>\n",
              "    </tr>\n",
              "    <tr>\n",
              "      <th>получение образования</th>\n",
              "      <td>0.09</td>\n",
              "      <td>3988</td>\n",
              "    </tr>\n",
              "  </tbody>\n",
              "</table>\n",
              "</div>\n",
              "    <div class=\"colab-df-buttons\">\n",
              "\n",
              "  <div class=\"colab-df-container\">\n",
              "    <button class=\"colab-df-convert\" onclick=\"convertToInteractive('df-de03398d-e7c4-4e57-98fd-1f07a191cbef')\"\n",
              "            title=\"Convert this dataframe to an interactive table.\"\n",
              "            style=\"display:none;\">\n",
              "\n",
              "  <svg xmlns=\"http://www.w3.org/2000/svg\" height=\"24px\" viewBox=\"0 -960 960 960\">\n",
              "    <path d=\"M120-120v-720h720v720H120Zm60-500h600v-160H180v160Zm220 220h160v-160H400v160Zm0 220h160v-160H400v160ZM180-400h160v-160H180v160Zm440 0h160v-160H620v160ZM180-180h160v-160H180v160Zm440 0h160v-160H620v160Z\"/>\n",
              "  </svg>\n",
              "    </button>\n",
              "\n",
              "  <style>\n",
              "    .colab-df-container {\n",
              "      display:flex;\n",
              "      gap: 12px;\n",
              "    }\n",
              "\n",
              "    .colab-df-convert {\n",
              "      background-color: #E8F0FE;\n",
              "      border: none;\n",
              "      border-radius: 50%;\n",
              "      cursor: pointer;\n",
              "      display: none;\n",
              "      fill: #1967D2;\n",
              "      height: 32px;\n",
              "      padding: 0 0 0 0;\n",
              "      width: 32px;\n",
              "    }\n",
              "\n",
              "    .colab-df-convert:hover {\n",
              "      background-color: #E2EBFA;\n",
              "      box-shadow: 0px 1px 2px rgba(60, 64, 67, 0.3), 0px 1px 3px 1px rgba(60, 64, 67, 0.15);\n",
              "      fill: #174EA6;\n",
              "    }\n",
              "\n",
              "    .colab-df-buttons div {\n",
              "      margin-bottom: 4px;\n",
              "    }\n",
              "\n",
              "    [theme=dark] .colab-df-convert {\n",
              "      background-color: #3B4455;\n",
              "      fill: #D2E3FC;\n",
              "    }\n",
              "\n",
              "    [theme=dark] .colab-df-convert:hover {\n",
              "      background-color: #434B5C;\n",
              "      box-shadow: 0px 1px 3px 1px rgba(0, 0, 0, 0.15);\n",
              "      filter: drop-shadow(0px 1px 2px rgba(0, 0, 0, 0.3));\n",
              "      fill: #FFFFFF;\n",
              "    }\n",
              "  </style>\n",
              "\n",
              "    <script>\n",
              "      const buttonEl =\n",
              "        document.querySelector('#df-de03398d-e7c4-4e57-98fd-1f07a191cbef button.colab-df-convert');\n",
              "      buttonEl.style.display =\n",
              "        google.colab.kernel.accessAllowed ? 'block' : 'none';\n",
              "\n",
              "      async function convertToInteractive(key) {\n",
              "        const element = document.querySelector('#df-de03398d-e7c4-4e57-98fd-1f07a191cbef');\n",
              "        const dataTable =\n",
              "          await google.colab.kernel.invokeFunction('convertToInteractive',\n",
              "                                                    [key], {});\n",
              "        if (!dataTable) return;\n",
              "\n",
              "        const docLinkHtml = 'Like what you see? Visit the ' +\n",
              "          '<a target=\"_blank\" href=https://colab.research.google.com/notebooks/data_table.ipynb>data table notebook</a>'\n",
              "          + ' to learn more about interactive tables.';\n",
              "        element.innerHTML = '';\n",
              "        dataTable['output_type'] = 'display_data';\n",
              "        await google.colab.output.renderOutput(dataTable, element);\n",
              "        const docLink = document.createElement('div');\n",
              "        docLink.innerHTML = docLinkHtml;\n",
              "        element.appendChild(docLink);\n",
              "      }\n",
              "    </script>\n",
              "  </div>\n",
              "\n",
              "\n",
              "<div id=\"df-12578ddc-572e-483c-aa91-9c173642e2fb\">\n",
              "  <button class=\"colab-df-quickchart\" onclick=\"quickchart('df-12578ddc-572e-483c-aa91-9c173642e2fb')\"\n",
              "            title=\"Suggest charts.\"\n",
              "            style=\"display:none;\">\n",
              "\n",
              "<svg xmlns=\"http://www.w3.org/2000/svg\" height=\"24px\"viewBox=\"0 0 24 24\"\n",
              "     width=\"24px\">\n",
              "    <g>\n",
              "        <path d=\"M19 3H5c-1.1 0-2 .9-2 2v14c0 1.1.9 2 2 2h14c1.1 0 2-.9 2-2V5c0-1.1-.9-2-2-2zM9 17H7v-7h2v7zm4 0h-2V7h2v10zm4 0h-2v-4h2v4z\"/>\n",
              "    </g>\n",
              "</svg>\n",
              "  </button>\n",
              "\n",
              "<style>\n",
              "  .colab-df-quickchart {\n",
              "    background-color: #E8F0FE;\n",
              "    border: none;\n",
              "    border-radius: 50%;\n",
              "    cursor: pointer;\n",
              "    display: none;\n",
              "    fill: #1967D2;\n",
              "    height: 32px;\n",
              "    padding: 0 0 0 0;\n",
              "    width: 32px;\n",
              "  }\n",
              "\n",
              "  .colab-df-quickchart:hover {\n",
              "    background-color: #E2EBFA;\n",
              "    box-shadow: 0px 1px 2px rgba(60, 64, 67, 0.3), 0px 1px 3px 1px rgba(60, 64, 67, 0.15);\n",
              "    fill: #174EA6;\n",
              "  }\n",
              "\n",
              "  [theme=dark] .colab-df-quickchart {\n",
              "    background-color: #3B4455;\n",
              "    fill: #D2E3FC;\n",
              "  }\n",
              "\n",
              "  [theme=dark] .colab-df-quickchart:hover {\n",
              "    background-color: #434B5C;\n",
              "    box-shadow: 0px 1px 3px 1px rgba(0, 0, 0, 0.15);\n",
              "    filter: drop-shadow(0px 1px 2px rgba(0, 0, 0, 0.3));\n",
              "    fill: #FFFFFF;\n",
              "  }\n",
              "</style>\n",
              "\n",
              "  <script>\n",
              "    async function quickchart(key) {\n",
              "      const charts = await google.colab.kernel.invokeFunction(\n",
              "          'suggestCharts', [key], {});\n",
              "    }\n",
              "    (() => {\n",
              "      let quickchartButtonEl =\n",
              "        document.querySelector('#df-12578ddc-572e-483c-aa91-9c173642e2fb button');\n",
              "      quickchartButtonEl.style.display =\n",
              "        google.colab.kernel.accessAllowed ? 'block' : 'none';\n",
              "    })();\n",
              "  </script>\n",
              "</div>\n",
              "    </div>\n",
              "  </div>\n"
            ]
          },
          "metadata": {},
          "execution_count": 65
        }
      ],
      "source": [
        "data.groupby('purpose_category')['debt'].agg({'mean','count'}).round(2).sort_values(by = 'mean')"
      ]
    },
    {
      "cell_type": "markdown",
      "id": "cf05ed63",
      "metadata": {
        "deletable": false,
        "id": "cf05ed63"
      },
      "source": [
        "**Вывод:**  \n",
        "Данные говорят о том, что меньше всего просрочек по кредитам по направлению \"операции с недвижимостью\" - 7%  \n",
        "На 2-м месте по возврату в срок кредиты на \"проведение свадьбы\"- 8%  \n",
        "Больше всего просрочек по кредитам по направлениям \"операции с автомобилем\" и \"получение образования\" - 9%"
      ]
    },
    {
      "cell_type": "markdown",
      "id": "7b452f61",
      "metadata": {
        "id": "7b452f61"
      },
      "source": [
        "### Проверим предположение о том, что существует взаимосвязь одновременно с семейным статусом, наличием детей и возвратом кредита в срок"
      ]
    },
    {
      "cell_type": "code",
      "execution_count": null,
      "id": "ce6db47c",
      "metadata": {
        "colab": {
          "base_uri": "https://localhost:8080/",
          "height": 256
        },
        "id": "ce6db47c",
        "outputId": "86f67307-0535-4384-db82-2f3995a48a29"
      },
      "outputs": [
        {
          "output_type": "stream",
          "name": "stdout",
          "text": [
            "Вдовцы с 2 детьми выборке: 20\n"
          ]
        },
        {
          "output_type": "execute_result",
          "data": {
            "text/plain": [
              "children                  0     1     2     3    4    5\n",
              "family_status                                          \n",
              "Не женат / не замужем  0.09  0.12  0.12  0.12  0.5  NaN\n",
              "в разводе              0.07  0.07  0.09  0.09  0.0  NaN\n",
              "вдовец / вдова         0.06  0.09  0.15  0.00  0.0  NaN\n",
              "гражданский брак       0.08  0.12  0.09  0.14  0.0  0.0\n",
              "женат / замужем        0.07  0.08  0.09  0.07  0.1  0.0"
            ],
            "text/html": [
              "\n",
              "  <div id=\"df-5bfb54de-c2c7-4dd4-b4aa-91fd29a8997b\" class=\"colab-df-container\">\n",
              "    <div>\n",
              "<style scoped>\n",
              "    .dataframe tbody tr th:only-of-type {\n",
              "        vertical-align: middle;\n",
              "    }\n",
              "\n",
              "    .dataframe tbody tr th {\n",
              "        vertical-align: top;\n",
              "    }\n",
              "\n",
              "    .dataframe thead th {\n",
              "        text-align: right;\n",
              "    }\n",
              "</style>\n",
              "<table border=\"1\" class=\"dataframe\">\n",
              "  <thead>\n",
              "    <tr style=\"text-align: right;\">\n",
              "      <th>children</th>\n",
              "      <th>0</th>\n",
              "      <th>1</th>\n",
              "      <th>2</th>\n",
              "      <th>3</th>\n",
              "      <th>4</th>\n",
              "      <th>5</th>\n",
              "    </tr>\n",
              "    <tr>\n",
              "      <th>family_status</th>\n",
              "      <th></th>\n",
              "      <th></th>\n",
              "      <th></th>\n",
              "      <th></th>\n",
              "      <th></th>\n",
              "      <th></th>\n",
              "    </tr>\n",
              "  </thead>\n",
              "  <tbody>\n",
              "    <tr>\n",
              "      <th>Не женат / не замужем</th>\n",
              "      <td>0.09</td>\n",
              "      <td>0.12</td>\n",
              "      <td>0.12</td>\n",
              "      <td>0.12</td>\n",
              "      <td>0.5</td>\n",
              "      <td>NaN</td>\n",
              "    </tr>\n",
              "    <tr>\n",
              "      <th>в разводе</th>\n",
              "      <td>0.07</td>\n",
              "      <td>0.07</td>\n",
              "      <td>0.09</td>\n",
              "      <td>0.09</td>\n",
              "      <td>0.0</td>\n",
              "      <td>NaN</td>\n",
              "    </tr>\n",
              "    <tr>\n",
              "      <th>вдовец / вдова</th>\n",
              "      <td>0.06</td>\n",
              "      <td>0.09</td>\n",
              "      <td>0.15</td>\n",
              "      <td>0.00</td>\n",
              "      <td>0.0</td>\n",
              "      <td>NaN</td>\n",
              "    </tr>\n",
              "    <tr>\n",
              "      <th>гражданский брак</th>\n",
              "      <td>0.08</td>\n",
              "      <td>0.12</td>\n",
              "      <td>0.09</td>\n",
              "      <td>0.14</td>\n",
              "      <td>0.0</td>\n",
              "      <td>0.0</td>\n",
              "    </tr>\n",
              "    <tr>\n",
              "      <th>женат / замужем</th>\n",
              "      <td>0.07</td>\n",
              "      <td>0.08</td>\n",
              "      <td>0.09</td>\n",
              "      <td>0.07</td>\n",
              "      <td>0.1</td>\n",
              "      <td>0.0</td>\n",
              "    </tr>\n",
              "  </tbody>\n",
              "</table>\n",
              "</div>\n",
              "    <div class=\"colab-df-buttons\">\n",
              "\n",
              "  <div class=\"colab-df-container\">\n",
              "    <button class=\"colab-df-convert\" onclick=\"convertToInteractive('df-5bfb54de-c2c7-4dd4-b4aa-91fd29a8997b')\"\n",
              "            title=\"Convert this dataframe to an interactive table.\"\n",
              "            style=\"display:none;\">\n",
              "\n",
              "  <svg xmlns=\"http://www.w3.org/2000/svg\" height=\"24px\" viewBox=\"0 -960 960 960\">\n",
              "    <path d=\"M120-120v-720h720v720H120Zm60-500h600v-160H180v160Zm220 220h160v-160H400v160Zm0 220h160v-160H400v160ZM180-400h160v-160H180v160Zm440 0h160v-160H620v160ZM180-180h160v-160H180v160Zm440 0h160v-160H620v160Z\"/>\n",
              "  </svg>\n",
              "    </button>\n",
              "\n",
              "  <style>\n",
              "    .colab-df-container {\n",
              "      display:flex;\n",
              "      gap: 12px;\n",
              "    }\n",
              "\n",
              "    .colab-df-convert {\n",
              "      background-color: #E8F0FE;\n",
              "      border: none;\n",
              "      border-radius: 50%;\n",
              "      cursor: pointer;\n",
              "      display: none;\n",
              "      fill: #1967D2;\n",
              "      height: 32px;\n",
              "      padding: 0 0 0 0;\n",
              "      width: 32px;\n",
              "    }\n",
              "\n",
              "    .colab-df-convert:hover {\n",
              "      background-color: #E2EBFA;\n",
              "      box-shadow: 0px 1px 2px rgba(60, 64, 67, 0.3), 0px 1px 3px 1px rgba(60, 64, 67, 0.15);\n",
              "      fill: #174EA6;\n",
              "    }\n",
              "\n",
              "    .colab-df-buttons div {\n",
              "      margin-bottom: 4px;\n",
              "    }\n",
              "\n",
              "    [theme=dark] .colab-df-convert {\n",
              "      background-color: #3B4455;\n",
              "      fill: #D2E3FC;\n",
              "    }\n",
              "\n",
              "    [theme=dark] .colab-df-convert:hover {\n",
              "      background-color: #434B5C;\n",
              "      box-shadow: 0px 1px 3px 1px rgba(0, 0, 0, 0.15);\n",
              "      filter: drop-shadow(0px 1px 2px rgba(0, 0, 0, 0.3));\n",
              "      fill: #FFFFFF;\n",
              "    }\n",
              "  </style>\n",
              "\n",
              "    <script>\n",
              "      const buttonEl =\n",
              "        document.querySelector('#df-5bfb54de-c2c7-4dd4-b4aa-91fd29a8997b button.colab-df-convert');\n",
              "      buttonEl.style.display =\n",
              "        google.colab.kernel.accessAllowed ? 'block' : 'none';\n",
              "\n",
              "      async function convertToInteractive(key) {\n",
              "        const element = document.querySelector('#df-5bfb54de-c2c7-4dd4-b4aa-91fd29a8997b');\n",
              "        const dataTable =\n",
              "          await google.colab.kernel.invokeFunction('convertToInteractive',\n",
              "                                                    [key], {});\n",
              "        if (!dataTable) return;\n",
              "\n",
              "        const docLinkHtml = 'Like what you see? Visit the ' +\n",
              "          '<a target=\"_blank\" href=https://colab.research.google.com/notebooks/data_table.ipynb>data table notebook</a>'\n",
              "          + ' to learn more about interactive tables.';\n",
              "        element.innerHTML = '';\n",
              "        dataTable['output_type'] = 'display_data';\n",
              "        await google.colab.output.renderOutput(dataTable, element);\n",
              "        const docLink = document.createElement('div');\n",
              "        docLink.innerHTML = docLinkHtml;\n",
              "        element.appendChild(docLink);\n",
              "      }\n",
              "    </script>\n",
              "  </div>\n",
              "\n",
              "\n",
              "<div id=\"df-39c1cd37-07ff-4a1e-97e5-20c1cc9ee567\">\n",
              "  <button class=\"colab-df-quickchart\" onclick=\"quickchart('df-39c1cd37-07ff-4a1e-97e5-20c1cc9ee567')\"\n",
              "            title=\"Suggest charts.\"\n",
              "            style=\"display:none;\">\n",
              "\n",
              "<svg xmlns=\"http://www.w3.org/2000/svg\" height=\"24px\"viewBox=\"0 0 24 24\"\n",
              "     width=\"24px\">\n",
              "    <g>\n",
              "        <path d=\"M19 3H5c-1.1 0-2 .9-2 2v14c0 1.1.9 2 2 2h14c1.1 0 2-.9 2-2V5c0-1.1-.9-2-2-2zM9 17H7v-7h2v7zm4 0h-2V7h2v10zm4 0h-2v-4h2v4z\"/>\n",
              "    </g>\n",
              "</svg>\n",
              "  </button>\n",
              "\n",
              "<style>\n",
              "  .colab-df-quickchart {\n",
              "    background-color: #E8F0FE;\n",
              "    border: none;\n",
              "    border-radius: 50%;\n",
              "    cursor: pointer;\n",
              "    display: none;\n",
              "    fill: #1967D2;\n",
              "    height: 32px;\n",
              "    padding: 0 0 0 0;\n",
              "    width: 32px;\n",
              "  }\n",
              "\n",
              "  .colab-df-quickchart:hover {\n",
              "    background-color: #E2EBFA;\n",
              "    box-shadow: 0px 1px 2px rgba(60, 64, 67, 0.3), 0px 1px 3px 1px rgba(60, 64, 67, 0.15);\n",
              "    fill: #174EA6;\n",
              "  }\n",
              "\n",
              "  [theme=dark] .colab-df-quickchart {\n",
              "    background-color: #3B4455;\n",
              "    fill: #D2E3FC;\n",
              "  }\n",
              "\n",
              "  [theme=dark] .colab-df-quickchart:hover {\n",
              "    background-color: #434B5C;\n",
              "    box-shadow: 0px 1px 3px 1px rgba(0, 0, 0, 0.15);\n",
              "    filter: drop-shadow(0px 1px 2px rgba(0, 0, 0, 0.3));\n",
              "    fill: #FFFFFF;\n",
              "  }\n",
              "</style>\n",
              "\n",
              "  <script>\n",
              "    async function quickchart(key) {\n",
              "      const charts = await google.colab.kernel.invokeFunction(\n",
              "          'suggestCharts', [key], {});\n",
              "    }\n",
              "    (() => {\n",
              "      let quickchartButtonEl =\n",
              "        document.querySelector('#df-39c1cd37-07ff-4a1e-97e5-20c1cc9ee567 button');\n",
              "      quickchartButtonEl.style.display =\n",
              "        google.colab.kernel.accessAllowed ? 'block' : 'none';\n",
              "    })();\n",
              "  </script>\n",
              "</div>\n",
              "    </div>\n",
              "  </div>\n"
            ]
          },
          "metadata": {},
          "execution_count": 66
        }
      ],
      "source": [
        "print('Вдовцы с 2 детьми выборке:', len(data[(data['family_status'] == 'вдовец / вдова') & (data['children'] == 2)]))\n",
        "data.pivot_table(index = 'family_status', columns = 'children', values = 'debt', aggfunc = 'mean').round(2)"
      ]
    },
    {
      "cell_type": "markdown",
      "id": "61ca2a9c",
      "metadata": {
        "id": "61ca2a9c"
      },
      "source": [
        "**Вывод:**  \n",
        "Данные говорят о том, что люди с семейным статусом \"Не женат / не замужем\" имеющие детей - самые недобросовестные заемщики по сравнению с другими категориями в анализируемой выборке"
      ]
    },
    {
      "cell_type": "markdown",
      "id": "57bc304e",
      "metadata": {
        "deletable": false,
        "editable": false,
        "id": "57bc304e"
      },
      "source": [
        "## Вывод по результатам исследования"
      ]
    },
    {
      "cell_type": "markdown",
      "id": "229f636d",
      "metadata": {
        "id": "229f636d"
      },
      "source": [
        "Проведено исследование для кредитного отдела банка по оценке платежеспособности клиентов в зависимости  от анализируемых критериев.\n",
        "    \n",
        "<p></p>\n",
        "\n",
        "На входе данные от банка, которые содержат выборку клиентов в количестве 21525 чел., включающую 11 критериев:\n",
        "* children — количество детей в семье\n",
        "* days_employed — общий трудовой стаж в днях\n",
        "* dob_years — возраст клиента в годах\n",
        "* education — уровень образования клиента\n",
        "* education_id — идентификатор уровня образования\n",
        "* family_status — семейное положение\n",
        "* family_status_id — идентификатор семейного положения\n",
        "* gender — пол клиента\n",
        "* income_type — тип занятости\n",
        "* debt — имел ли задолженность по возврату кредитов\n",
        "* total_income — ежемесячный доход\n",
        "* purpose — цель получения кредита\n",
        "    \n",
        "<p></p>\n",
        "\n",
        "**На этапе предобработки были обнаружены следующие недостатки в данных, которые устранены:**\n",
        "- отрицательные значения в столбце days_employed заменены на положительные\n",
        "- пропуски в столбцах days_employed, total_income заменены медианными значениями\n",
        "- данные столбца total_income приведены к типу int\n",
        "- данные по доходам total_income разбиты на категории в новом столбце total_income_category\n",
        "- данные по целям получения кредита purpose разбиты на категории в новом столбце purpose_category\n",
        "</div>"
      ]
    },
    {
      "cell_type": "markdown",
      "id": "1ab75d1c",
      "metadata": {
        "deletable": false,
        "id": "1ab75d1c"
      },
      "source": [
        "<div style=\"border:solid steelblue 2px; padding: 10px; border-radius: 5px\">\n",
        "<p></p>\n",
        "\n",
        "**На основании проведенного исследования сделали следующие выводы:**\n",
        "- существует зависимость между наличием детей и возвратом кредита в срок:\n",
        "    - процент просрочек у людей с детьми 9,2%\n",
        "    - процент просрочек у людей без детей 7,5%\n",
        "    \n",
        "<p></p>\n",
        "\n",
        "- существует зависимость между семейным положением и возвратом кредита в срок:\n",
        "    - люди, состоящие\\состоявшие в браке имеют процент просрочек 7-8%\n",
        "    - люди никогда не состоявшие в официальном браке имеют просрочку 9-10%\n",
        "        \n",
        "<p></p>\n",
        "\n",
        "\n",
        "- существует зависимость между уровнем дохода и возвратом кредита в срок:\n",
        "    - у людей с доходом до 200000 руб. просрочка выше - 8,5%\n",
        "    - у людей с доходом свыше 200001 руб. просрочка сотавляет 7,1%\n",
        "    \n",
        "<p></p>\n",
        "\n",
        "- разные цели кредита влияют на его возврат в срок:\n",
        "    - ниже остальных просрочка по кредитам на недвижимость - 7%\n",
        "    - просрочка по кредитам на свадьбу - 8%\n",
        "    - самые проблемные кредиты на \"операции с автомобилем\" и \"получение образования\" - 9%\n",
        "        \n",
        "<p></p>\n",
        "\n",
        "- в результате более детального анализа сделали вывод: больше всего просрочек по кредитам у людей с семейным статусом \"не женат/не замужем\" имеющих детей - 12%\n",
        "        \n",
        "<p></p>    \n",
        "    \n",
        "**Рекомендации по улучшению сбора данных:**\n",
        "    \n",
        "1. Рекомендуется сделать ограниченный список для выбора цели кредита\n",
        "\n",
        "2. В случае отсутствия данных добавить признак отсутствия причины:\n",
        "  - не предоставлены клиентом\n",
        "  - отсутствуют\n",
        "  - прочее"
      ]
    }
  ],
  "metadata": {
    "ExecuteTimeLog": [
      {
        "duration": 58,
        "start_time": "2023-01-21T08:18:32.544Z"
      },
      {
        "duration": 475,
        "start_time": "2023-01-21T08:18:48.204Z"
      },
      {
        "duration": 20,
        "start_time": "2023-01-21T08:18:48.681Z"
      },
      {
        "duration": 14,
        "start_time": "2023-01-21T08:18:48.702Z"
      },
      {
        "duration": 23,
        "start_time": "2023-01-21T08:18:48.718Z"
      },
      {
        "duration": 36,
        "start_time": "2023-01-21T08:18:48.743Z"
      },
      {
        "duration": 4,
        "start_time": "2023-01-21T08:18:48.780Z"
      },
      {
        "duration": 17,
        "start_time": "2023-01-21T08:18:48.785Z"
      },
      {
        "duration": 6,
        "start_time": "2023-01-21T08:18:48.803Z"
      },
      {
        "duration": 10,
        "start_time": "2023-01-21T08:18:48.811Z"
      },
      {
        "duration": 5,
        "start_time": "2023-01-21T08:18:48.839Z"
      },
      {
        "duration": 42,
        "start_time": "2023-01-21T08:18:48.846Z"
      },
      {
        "duration": 10,
        "start_time": "2023-01-21T08:18:48.890Z"
      },
      {
        "duration": 4,
        "start_time": "2023-01-21T08:18:48.902Z"
      },
      {
        "duration": 39,
        "start_time": "2023-01-21T08:18:48.907Z"
      },
      {
        "duration": 19,
        "start_time": "2023-01-21T08:18:48.948Z"
      },
      {
        "duration": 18,
        "start_time": "2023-01-21T08:18:48.969Z"
      },
      {
        "duration": 4,
        "start_time": "2023-01-21T08:18:48.988Z"
      },
      {
        "duration": 42,
        "start_time": "2023-01-21T08:18:48.994Z"
      },
      {
        "duration": 13,
        "start_time": "2023-01-21T08:18:49.038Z"
      },
      {
        "duration": 11,
        "start_time": "2023-01-21T08:18:49.053Z"
      },
      {
        "duration": 20,
        "start_time": "2023-01-21T08:18:49.066Z"
      },
      {
        "duration": 9,
        "start_time": "2023-01-21T08:18:49.088Z"
      },
      {
        "duration": 13,
        "start_time": "2023-01-21T08:18:49.098Z"
      },
      {
        "duration": 5,
        "start_time": "2023-01-21T08:18:49.112Z"
      },
      {
        "duration": 6,
        "start_time": "2023-01-21T08:18:49.118Z"
      },
      {
        "duration": 7,
        "start_time": "2023-01-21T08:20:17.282Z"
      },
      {
        "duration": 11,
        "start_time": "2023-01-21T08:35:53.479Z"
      },
      {
        "duration": 26,
        "start_time": "2023-01-21T08:36:08.220Z"
      },
      {
        "duration": 10,
        "start_time": "2023-01-21T08:45:46.176Z"
      },
      {
        "duration": 7,
        "start_time": "2023-01-21T08:51:27.773Z"
      },
      {
        "duration": 99,
        "start_time": "2023-01-21T09:00:36.989Z"
      },
      {
        "duration": 27,
        "start_time": "2023-01-21T09:02:04.952Z"
      },
      {
        "duration": 33,
        "start_time": "2023-01-21T09:02:13.764Z"
      },
      {
        "duration": 18,
        "start_time": "2023-01-21T09:02:50.778Z"
      },
      {
        "duration": 15,
        "start_time": "2023-01-21T09:04:17.381Z"
      },
      {
        "duration": 14,
        "start_time": "2023-01-21T09:04:28.000Z"
      },
      {
        "duration": 17,
        "start_time": "2023-01-21T09:04:46.211Z"
      },
      {
        "duration": 25,
        "start_time": "2023-01-21T09:05:49.801Z"
      },
      {
        "duration": 7,
        "start_time": "2023-01-21T09:06:26.295Z"
      },
      {
        "duration": 7,
        "start_time": "2023-01-21T09:06:35.649Z"
      },
      {
        "duration": 18,
        "start_time": "2023-01-21T09:07:02.329Z"
      },
      {
        "duration": 19,
        "start_time": "2023-01-21T09:08:34.250Z"
      },
      {
        "duration": 19,
        "start_time": "2023-01-21T09:09:38.928Z"
      },
      {
        "duration": 5,
        "start_time": "2023-01-21T18:17:42.410Z"
      },
      {
        "duration": 45,
        "start_time": "2023-01-21T18:20:09.313Z"
      },
      {
        "duration": 510,
        "start_time": "2023-01-21T18:20:27.515Z"
      },
      {
        "duration": 22,
        "start_time": "2023-01-21T18:20:28.027Z"
      },
      {
        "duration": 13,
        "start_time": "2023-01-21T18:20:28.050Z"
      },
      {
        "duration": 9,
        "start_time": "2023-01-21T18:20:28.064Z"
      },
      {
        "duration": 47,
        "start_time": "2023-01-21T18:20:28.075Z"
      },
      {
        "duration": 3,
        "start_time": "2023-01-21T18:20:28.124Z"
      },
      {
        "duration": 9,
        "start_time": "2023-01-21T18:20:28.129Z"
      },
      {
        "duration": 4,
        "start_time": "2023-01-21T18:20:28.139Z"
      },
      {
        "duration": 7,
        "start_time": "2023-01-21T18:20:28.145Z"
      },
      {
        "duration": 5,
        "start_time": "2023-01-21T18:20:28.154Z"
      },
      {
        "duration": 55,
        "start_time": "2023-01-21T18:20:28.160Z"
      },
      {
        "duration": 8,
        "start_time": "2023-01-21T18:20:28.217Z"
      },
      {
        "duration": 8,
        "start_time": "2023-01-21T18:20:28.227Z"
      },
      {
        "duration": 26,
        "start_time": "2023-01-21T18:20:28.237Z"
      },
      {
        "duration": 18,
        "start_time": "2023-01-21T18:20:28.265Z"
      },
      {
        "duration": 22,
        "start_time": "2023-01-21T18:20:28.284Z"
      },
      {
        "duration": 4,
        "start_time": "2023-01-21T18:20:28.307Z"
      },
      {
        "duration": 12,
        "start_time": "2023-01-21T18:20:28.312Z"
      },
      {
        "duration": 9,
        "start_time": "2023-01-21T18:20:28.325Z"
      },
      {
        "duration": 7,
        "start_time": "2023-01-21T18:20:28.335Z"
      },
      {
        "duration": 24,
        "start_time": "2023-01-21T18:20:28.343Z"
      },
      {
        "duration": 12,
        "start_time": "2023-01-21T18:20:28.369Z"
      },
      {
        "duration": 9,
        "start_time": "2023-01-21T18:20:28.383Z"
      },
      {
        "duration": 26,
        "start_time": "2023-01-21T18:20:28.393Z"
      },
      {
        "duration": 2,
        "start_time": "2023-01-21T18:20:28.420Z"
      },
      {
        "duration": 8,
        "start_time": "2023-01-21T18:20:28.424Z"
      },
      {
        "duration": 423,
        "start_time": "2023-01-21T18:22:00.556Z"
      },
      {
        "duration": 21,
        "start_time": "2023-01-21T18:22:00.981Z"
      },
      {
        "duration": 16,
        "start_time": "2023-01-21T18:22:01.003Z"
      },
      {
        "duration": 14,
        "start_time": "2023-01-21T18:22:01.021Z"
      },
      {
        "duration": 62,
        "start_time": "2023-01-21T18:22:01.036Z"
      },
      {
        "duration": 3,
        "start_time": "2023-01-21T18:22:01.100Z"
      },
      {
        "duration": 35,
        "start_time": "2023-01-21T18:22:01.105Z"
      },
      {
        "duration": 32,
        "start_time": "2023-01-21T18:22:01.142Z"
      },
      {
        "duration": 24,
        "start_time": "2023-01-21T18:22:01.175Z"
      },
      {
        "duration": 23,
        "start_time": "2023-01-21T18:22:01.201Z"
      },
      {
        "duration": 72,
        "start_time": "2023-01-21T18:22:01.226Z"
      },
      {
        "duration": 21,
        "start_time": "2023-01-21T18:22:01.299Z"
      },
      {
        "duration": 41,
        "start_time": "2023-01-21T18:22:01.322Z"
      },
      {
        "duration": 49,
        "start_time": "2023-01-21T18:22:01.365Z"
      },
      {
        "duration": 83,
        "start_time": "2023-01-21T18:22:01.416Z"
      },
      {
        "duration": 42,
        "start_time": "2023-01-21T18:22:01.501Z"
      },
      {
        "duration": 9,
        "start_time": "2023-01-21T18:22:01.544Z"
      },
      {
        "duration": 30,
        "start_time": "2023-01-21T18:22:01.555Z"
      },
      {
        "duration": 46,
        "start_time": "2023-01-21T18:22:01.587Z"
      },
      {
        "duration": 21,
        "start_time": "2023-01-21T18:22:01.634Z"
      },
      {
        "duration": 25,
        "start_time": "2023-01-21T18:22:01.656Z"
      },
      {
        "duration": 20,
        "start_time": "2023-01-21T18:22:01.683Z"
      },
      {
        "duration": 15,
        "start_time": "2023-01-21T18:22:01.705Z"
      },
      {
        "duration": 24,
        "start_time": "2023-01-21T18:22:01.721Z"
      },
      {
        "duration": 30,
        "start_time": "2023-01-21T18:22:01.747Z"
      },
      {
        "duration": 8,
        "start_time": "2023-01-21T18:33:20.840Z"
      },
      {
        "duration": 7,
        "start_time": "2023-01-21T18:35:15.316Z"
      },
      {
        "duration": 7,
        "start_time": "2023-01-21T18:39:38.268Z"
      },
      {
        "duration": 36,
        "start_time": "2023-01-21T18:40:59.319Z"
      },
      {
        "duration": 8,
        "start_time": "2023-01-21T18:41:04.357Z"
      },
      {
        "duration": 67,
        "start_time": "2023-01-21T18:42:04.804Z"
      },
      {
        "duration": 12,
        "start_time": "2023-01-21T18:42:07.533Z"
      },
      {
        "duration": 19,
        "start_time": "2023-01-21T18:42:22.151Z"
      },
      {
        "duration": 7,
        "start_time": "2023-01-21T18:43:30.001Z"
      },
      {
        "duration": 9,
        "start_time": "2023-01-21T18:51:18.422Z"
      },
      {
        "duration": 5,
        "start_time": "2023-01-21T18:51:27.870Z"
      },
      {
        "duration": 5,
        "start_time": "2023-01-21T18:57:11.853Z"
      },
      {
        "duration": 9,
        "start_time": "2023-01-21T19:15:53.733Z"
      },
      {
        "duration": 8,
        "start_time": "2023-01-21T19:16:37.262Z"
      },
      {
        "duration": 7,
        "start_time": "2023-01-21T19:29:22.376Z"
      },
      {
        "duration": 8,
        "start_time": "2023-01-21T19:30:29.450Z"
      },
      {
        "duration": 52,
        "start_time": "2023-01-21T19:35:41.704Z"
      },
      {
        "duration": 15,
        "start_time": "2023-01-21T19:35:54.606Z"
      },
      {
        "duration": 6,
        "start_time": "2023-01-21T19:36:27.373Z"
      },
      {
        "duration": 12,
        "start_time": "2023-01-21T19:39:10.685Z"
      },
      {
        "duration": 8,
        "start_time": "2023-01-21T19:40:11.935Z"
      },
      {
        "duration": 754,
        "start_time": "2023-01-22T09:55:40.700Z"
      },
      {
        "duration": 32,
        "start_time": "2023-01-22T09:55:41.457Z"
      },
      {
        "duration": 18,
        "start_time": "2023-01-22T09:55:41.491Z"
      },
      {
        "duration": 25,
        "start_time": "2023-01-22T09:55:41.511Z"
      },
      {
        "duration": 42,
        "start_time": "2023-01-22T09:55:41.538Z"
      },
      {
        "duration": 5,
        "start_time": "2023-01-22T09:55:41.582Z"
      },
      {
        "duration": 14,
        "start_time": "2023-01-22T09:55:41.589Z"
      },
      {
        "duration": 13,
        "start_time": "2023-01-22T09:55:41.605Z"
      },
      {
        "duration": 10,
        "start_time": "2023-01-22T09:55:41.635Z"
      },
      {
        "duration": 10,
        "start_time": "2023-01-22T09:55:41.648Z"
      },
      {
        "duration": 43,
        "start_time": "2023-01-22T09:55:41.660Z"
      },
      {
        "duration": 14,
        "start_time": "2023-01-22T09:55:41.705Z"
      },
      {
        "duration": 4,
        "start_time": "2023-01-22T09:55:41.737Z"
      },
      {
        "duration": 13,
        "start_time": "2023-01-22T09:55:41.743Z"
      },
      {
        "duration": 28,
        "start_time": "2023-01-22T09:55:41.757Z"
      },
      {
        "duration": 19,
        "start_time": "2023-01-22T09:55:41.786Z"
      },
      {
        "duration": 3,
        "start_time": "2023-01-22T09:55:41.807Z"
      },
      {
        "duration": 31,
        "start_time": "2023-01-22T09:55:41.812Z"
      },
      {
        "duration": 11,
        "start_time": "2023-01-22T09:55:41.845Z"
      },
      {
        "duration": 7,
        "start_time": "2023-01-22T09:55:41.857Z"
      },
      {
        "duration": 14,
        "start_time": "2023-01-22T09:55:41.866Z"
      },
      {
        "duration": 7,
        "start_time": "2023-01-22T09:55:41.882Z"
      },
      {
        "duration": 6,
        "start_time": "2023-01-22T09:55:41.891Z"
      },
      {
        "duration": 15,
        "start_time": "2023-01-22T09:55:41.899Z"
      },
      {
        "duration": 7,
        "start_time": "2023-01-22T09:55:41.937Z"
      },
      {
        "duration": 8,
        "start_time": "2023-01-22T09:55:41.946Z"
      },
      {
        "duration": 6,
        "start_time": "2023-01-22T09:55:41.955Z"
      },
      {
        "duration": 11,
        "start_time": "2023-01-22T09:55:41.964Z"
      },
      {
        "duration": 9,
        "start_time": "2023-01-22T09:56:32.949Z"
      },
      {
        "duration": 8,
        "start_time": "2023-01-22T09:56:42.167Z"
      },
      {
        "duration": 7,
        "start_time": "2023-01-22T09:56:58.081Z"
      },
      {
        "duration": 11,
        "start_time": "2023-01-22T09:59:00.457Z"
      },
      {
        "duration": 15,
        "start_time": "2023-01-22T09:59:27.366Z"
      },
      {
        "duration": 13,
        "start_time": "2023-01-22T10:00:24.140Z"
      },
      {
        "duration": 13,
        "start_time": "2023-01-22T10:02:35.468Z"
      },
      {
        "duration": 16,
        "start_time": "2023-01-22T10:02:45.307Z"
      },
      {
        "duration": 12,
        "start_time": "2023-01-22T10:03:15.543Z"
      },
      {
        "duration": 14,
        "start_time": "2023-01-22T10:03:43.872Z"
      },
      {
        "duration": 89,
        "start_time": "2023-01-22T10:09:36.774Z"
      },
      {
        "duration": 13,
        "start_time": "2023-01-22T10:09:46.306Z"
      },
      {
        "duration": 20,
        "start_time": "2023-01-22T10:12:26.060Z"
      },
      {
        "duration": 14,
        "start_time": "2023-01-22T10:13:57.900Z"
      },
      {
        "duration": 74,
        "start_time": "2023-01-22T10:14:32.936Z"
      },
      {
        "duration": 16,
        "start_time": "2023-01-22T10:14:37.791Z"
      },
      {
        "duration": 14,
        "start_time": "2023-01-22T10:14:57.608Z"
      },
      {
        "duration": 96,
        "start_time": "2023-01-22T10:26:43.584Z"
      },
      {
        "duration": 38,
        "start_time": "2023-01-22T10:30:49.955Z"
      },
      {
        "duration": 41,
        "start_time": "2023-01-22T10:31:21.918Z"
      },
      {
        "duration": 32,
        "start_time": "2023-01-22T10:31:29.350Z"
      },
      {
        "duration": 17,
        "start_time": "2023-01-22T10:32:41.171Z"
      },
      {
        "duration": 13,
        "start_time": "2023-01-22T10:33:01.552Z"
      },
      {
        "duration": 454,
        "start_time": "2023-01-22T10:33:31.388Z"
      },
      {
        "duration": 24,
        "start_time": "2023-01-22T10:33:31.845Z"
      },
      {
        "duration": 15,
        "start_time": "2023-01-22T10:33:31.872Z"
      },
      {
        "duration": 9,
        "start_time": "2023-01-22T10:33:31.889Z"
      },
      {
        "duration": 60,
        "start_time": "2023-01-22T10:33:31.900Z"
      },
      {
        "duration": 5,
        "start_time": "2023-01-22T10:33:31.962Z"
      },
      {
        "duration": 14,
        "start_time": "2023-01-22T10:33:31.968Z"
      },
      {
        "duration": 5,
        "start_time": "2023-01-22T10:33:31.984Z"
      },
      {
        "duration": 17,
        "start_time": "2023-01-22T10:33:31.991Z"
      },
      {
        "duration": 6,
        "start_time": "2023-01-22T10:33:32.011Z"
      },
      {
        "duration": 34,
        "start_time": "2023-01-22T10:33:32.037Z"
      },
      {
        "duration": 10,
        "start_time": "2023-01-22T10:33:32.072Z"
      },
      {
        "duration": 4,
        "start_time": "2023-01-22T10:33:32.084Z"
      },
      {
        "duration": 11,
        "start_time": "2023-01-22T10:33:32.089Z"
      },
      {
        "duration": 52,
        "start_time": "2023-01-22T10:33:32.102Z"
      },
      {
        "duration": 18,
        "start_time": "2023-01-22T10:33:32.156Z"
      },
      {
        "duration": 4,
        "start_time": "2023-01-22T10:33:32.176Z"
      },
      {
        "duration": 11,
        "start_time": "2023-01-22T10:33:32.182Z"
      },
      {
        "duration": 7,
        "start_time": "2023-01-22T10:33:32.194Z"
      },
      {
        "duration": 35,
        "start_time": "2023-01-22T10:33:32.203Z"
      },
      {
        "duration": 12,
        "start_time": "2023-01-22T10:33:32.239Z"
      },
      {
        "duration": 18,
        "start_time": "2023-01-22T10:33:32.252Z"
      },
      {
        "duration": 12,
        "start_time": "2023-01-22T10:33:32.271Z"
      },
      {
        "duration": 11,
        "start_time": "2023-01-22T10:33:32.285Z"
      },
      {
        "duration": 12,
        "start_time": "2023-01-22T10:33:32.297Z"
      },
      {
        "duration": 24,
        "start_time": "2023-01-22T10:33:49.353Z"
      },
      {
        "duration": 455,
        "start_time": "2023-01-22T10:34:01.962Z"
      },
      {
        "duration": 23,
        "start_time": "2023-01-22T10:34:02.419Z"
      },
      {
        "duration": 15,
        "start_time": "2023-01-22T10:34:02.443Z"
      },
      {
        "duration": 27,
        "start_time": "2023-01-22T10:34:02.460Z"
      },
      {
        "duration": 51,
        "start_time": "2023-01-22T10:34:02.489Z"
      },
      {
        "duration": 3,
        "start_time": "2023-01-22T10:34:02.541Z"
      },
      {
        "duration": 12,
        "start_time": "2023-01-22T10:34:02.546Z"
      },
      {
        "duration": 6,
        "start_time": "2023-01-22T10:34:02.560Z"
      },
      {
        "duration": 12,
        "start_time": "2023-01-22T10:34:02.567Z"
      },
      {
        "duration": 20,
        "start_time": "2023-01-22T10:34:02.581Z"
      },
      {
        "duration": 40,
        "start_time": "2023-01-22T10:34:02.602Z"
      },
      {
        "duration": 9,
        "start_time": "2023-01-22T10:34:02.644Z"
      },
      {
        "duration": 4,
        "start_time": "2023-01-22T10:34:02.654Z"
      },
      {
        "duration": 24,
        "start_time": "2023-01-22T10:34:02.659Z"
      },
      {
        "duration": 21,
        "start_time": "2023-01-22T10:34:02.685Z"
      },
      {
        "duration": 16,
        "start_time": "2023-01-22T10:34:02.708Z"
      },
      {
        "duration": 4,
        "start_time": "2023-01-22T10:34:02.736Z"
      },
      {
        "duration": 20,
        "start_time": "2023-01-22T10:34:02.741Z"
      },
      {
        "duration": 5,
        "start_time": "2023-01-22T10:34:02.763Z"
      },
      {
        "duration": 13,
        "start_time": "2023-01-22T10:34:02.770Z"
      },
      {
        "duration": 22,
        "start_time": "2023-01-22T10:34:02.785Z"
      },
      {
        "duration": 22,
        "start_time": "2023-01-22T10:34:02.809Z"
      },
      {
        "duration": 17,
        "start_time": "2023-01-22T10:34:02.832Z"
      },
      {
        "duration": 11,
        "start_time": "2023-01-22T10:34:02.850Z"
      },
      {
        "duration": 17,
        "start_time": "2023-01-22T10:34:02.862Z"
      },
      {
        "duration": 14,
        "start_time": "2023-01-22T10:34:59.114Z"
      },
      {
        "duration": 469,
        "start_time": "2023-01-22T10:35:11.070Z"
      },
      {
        "duration": 25,
        "start_time": "2023-01-22T10:35:11.541Z"
      },
      {
        "duration": 15,
        "start_time": "2023-01-22T10:35:11.567Z"
      },
      {
        "duration": 11,
        "start_time": "2023-01-22T10:35:11.584Z"
      },
      {
        "duration": 64,
        "start_time": "2023-01-22T10:35:11.596Z"
      },
      {
        "duration": 5,
        "start_time": "2023-01-22T10:35:11.662Z"
      },
      {
        "duration": 11,
        "start_time": "2023-01-22T10:35:11.669Z"
      },
      {
        "duration": 5,
        "start_time": "2023-01-22T10:35:11.682Z"
      },
      {
        "duration": 9,
        "start_time": "2023-01-22T10:35:11.688Z"
      },
      {
        "duration": 19,
        "start_time": "2023-01-22T10:35:11.701Z"
      },
      {
        "duration": 44,
        "start_time": "2023-01-22T10:35:11.722Z"
      },
      {
        "duration": 9,
        "start_time": "2023-01-22T10:35:11.768Z"
      },
      {
        "duration": 5,
        "start_time": "2023-01-22T10:35:11.779Z"
      },
      {
        "duration": 13,
        "start_time": "2023-01-22T10:35:11.786Z"
      },
      {
        "duration": 43,
        "start_time": "2023-01-22T10:35:11.800Z"
      },
      {
        "duration": 20,
        "start_time": "2023-01-22T10:35:11.845Z"
      },
      {
        "duration": 4,
        "start_time": "2023-01-22T10:35:11.867Z"
      },
      {
        "duration": 15,
        "start_time": "2023-01-22T10:35:11.873Z"
      },
      {
        "duration": 5,
        "start_time": "2023-01-22T10:35:11.890Z"
      },
      {
        "duration": 8,
        "start_time": "2023-01-22T10:35:11.897Z"
      },
      {
        "duration": 34,
        "start_time": "2023-01-22T10:35:11.907Z"
      },
      {
        "duration": 12,
        "start_time": "2023-01-22T10:35:11.942Z"
      },
      {
        "duration": 18,
        "start_time": "2023-01-22T10:35:11.956Z"
      },
      {
        "duration": 31,
        "start_time": "2023-01-22T10:35:11.976Z"
      },
      {
        "duration": 13,
        "start_time": "2023-01-22T10:35:12.009Z"
      },
      {
        "duration": 19,
        "start_time": "2023-01-22T10:55:06.209Z"
      },
      {
        "duration": 16,
        "start_time": "2023-01-22T10:55:33.533Z"
      },
      {
        "duration": 23,
        "start_time": "2023-01-22T10:55:52.043Z"
      },
      {
        "duration": 78,
        "start_time": "2023-01-22T10:57:28.407Z"
      },
      {
        "duration": 76,
        "start_time": "2023-01-22T10:57:42.727Z"
      },
      {
        "duration": 32,
        "start_time": "2023-01-22T10:58:08.356Z"
      },
      {
        "duration": 27,
        "start_time": "2023-01-22T11:01:38.189Z"
      },
      {
        "duration": 1138,
        "start_time": "2023-01-22T11:11:43.482Z"
      },
      {
        "duration": 1510,
        "start_time": "2023-01-22T11:12:24.615Z"
      },
      {
        "duration": 75,
        "start_time": "2023-01-22T11:13:32.678Z"
      },
      {
        "duration": 75,
        "start_time": "2023-01-22T11:14:07.666Z"
      },
      {
        "duration": 11,
        "start_time": "2023-01-22T11:14:18.507Z"
      },
      {
        "duration": 1390,
        "start_time": "2023-01-22T11:16:03.039Z"
      },
      {
        "duration": 1270,
        "start_time": "2023-01-22T11:16:37.126Z"
      },
      {
        "duration": 4,
        "start_time": "2023-01-22T11:18:43.292Z"
      },
      {
        "duration": 19,
        "start_time": "2023-01-22T11:18:59.291Z"
      },
      {
        "duration": 10,
        "start_time": "2023-01-22T11:19:30.298Z"
      },
      {
        "duration": 8,
        "start_time": "2023-01-22T11:19:57.928Z"
      },
      {
        "duration": 6,
        "start_time": "2023-01-22T11:20:13.560Z"
      },
      {
        "duration": 31,
        "start_time": "2023-01-22T11:20:28.059Z"
      },
      {
        "duration": 38,
        "start_time": "2023-01-22T11:31:33.023Z"
      },
      {
        "duration": 551,
        "start_time": "2023-01-23T06:18:13.501Z"
      },
      {
        "duration": 21,
        "start_time": "2023-01-23T06:18:14.054Z"
      },
      {
        "duration": 39,
        "start_time": "2023-01-23T06:18:14.077Z"
      },
      {
        "duration": 22,
        "start_time": "2023-01-23T06:18:14.118Z"
      },
      {
        "duration": 58,
        "start_time": "2023-01-23T06:18:14.142Z"
      },
      {
        "duration": 4,
        "start_time": "2023-01-23T06:18:14.202Z"
      },
      {
        "duration": 60,
        "start_time": "2023-01-23T06:18:14.208Z"
      },
      {
        "duration": 24,
        "start_time": "2023-01-23T06:18:14.270Z"
      },
      {
        "duration": 29,
        "start_time": "2023-01-23T06:18:14.296Z"
      },
      {
        "duration": 36,
        "start_time": "2023-01-23T06:18:14.330Z"
      },
      {
        "duration": 50,
        "start_time": "2023-01-23T06:18:14.367Z"
      },
      {
        "duration": 21,
        "start_time": "2023-01-23T06:18:14.419Z"
      },
      {
        "duration": 20,
        "start_time": "2023-01-23T06:18:14.442Z"
      },
      {
        "duration": 43,
        "start_time": "2023-01-23T06:18:14.464Z"
      },
      {
        "duration": 62,
        "start_time": "2023-01-23T06:18:14.508Z"
      },
      {
        "duration": 18,
        "start_time": "2023-01-23T06:18:14.572Z"
      },
      {
        "duration": 21,
        "start_time": "2023-01-23T06:18:14.591Z"
      },
      {
        "duration": 81,
        "start_time": "2023-01-23T06:18:14.615Z"
      },
      {
        "duration": 36,
        "start_time": "2023-01-23T06:18:14.698Z"
      },
      {
        "duration": 22,
        "start_time": "2023-01-23T06:18:14.735Z"
      },
      {
        "duration": 28,
        "start_time": "2023-01-23T06:18:14.759Z"
      },
      {
        "duration": 50,
        "start_time": "2023-01-23T06:18:14.788Z"
      },
      {
        "duration": 47,
        "start_time": "2023-01-23T06:18:14.839Z"
      },
      {
        "duration": 50,
        "start_time": "2023-01-23T06:18:14.888Z"
      },
      {
        "duration": 20,
        "start_time": "2023-01-23T06:18:14.939Z"
      },
      {
        "duration": 59,
        "start_time": "2023-01-23T06:18:14.961Z"
      },
      {
        "duration": 27,
        "start_time": "2023-01-23T06:19:33.900Z"
      },
      {
        "duration": 22,
        "start_time": "2023-01-23T06:20:17.961Z"
      },
      {
        "duration": 35,
        "start_time": "2023-01-23T06:21:33.795Z"
      },
      {
        "duration": 28,
        "start_time": "2023-01-23T06:40:23.863Z"
      },
      {
        "duration": 13,
        "start_time": "2023-01-23T06:43:26.767Z"
      },
      {
        "duration": 14,
        "start_time": "2023-01-23T06:46:29.597Z"
      },
      {
        "duration": 13,
        "start_time": "2023-01-23T06:47:08.350Z"
      },
      {
        "duration": 19,
        "start_time": "2023-01-23T06:48:52.210Z"
      },
      {
        "duration": 11,
        "start_time": "2023-01-23T07:01:03.992Z"
      },
      {
        "duration": 11,
        "start_time": "2023-01-23T07:06:14.478Z"
      },
      {
        "duration": 11,
        "start_time": "2023-01-23T07:06:36.165Z"
      },
      {
        "duration": 15,
        "start_time": "2023-01-23T07:16:50.405Z"
      },
      {
        "duration": 11,
        "start_time": "2023-01-23T07:31:33.122Z"
      },
      {
        "duration": 10,
        "start_time": "2023-01-23T07:31:57.800Z"
      },
      {
        "duration": 15,
        "start_time": "2023-01-23T07:32:12.874Z"
      },
      {
        "duration": 16,
        "start_time": "2023-01-23T07:32:41.285Z"
      },
      {
        "duration": 48,
        "start_time": "2023-01-23T07:33:48.027Z"
      },
      {
        "duration": 48,
        "start_time": "2023-01-23T07:39:00.698Z"
      },
      {
        "duration": 44,
        "start_time": "2023-01-23T07:39:27.911Z"
      },
      {
        "duration": 14,
        "start_time": "2023-01-23T07:40:37.291Z"
      },
      {
        "duration": 14,
        "start_time": "2023-01-23T07:41:48.342Z"
      },
      {
        "duration": 17,
        "start_time": "2023-01-23T07:45:30.965Z"
      },
      {
        "duration": 69,
        "start_time": "2023-01-23T07:45:51.131Z"
      },
      {
        "duration": 52,
        "start_time": "2023-01-23T07:46:26.665Z"
      },
      {
        "duration": 46,
        "start_time": "2023-01-23T07:46:44.745Z"
      },
      {
        "duration": 41,
        "start_time": "2023-01-23T07:48:23.495Z"
      },
      {
        "duration": 16,
        "start_time": "2023-01-23T07:48:37.816Z"
      },
      {
        "duration": 18,
        "start_time": "2023-01-23T07:48:55.279Z"
      },
      {
        "duration": 17,
        "start_time": "2023-01-23T07:54:52.377Z"
      },
      {
        "duration": 468,
        "start_time": "2023-01-23T07:58:11.033Z"
      },
      {
        "duration": 23,
        "start_time": "2023-01-23T07:58:11.503Z"
      },
      {
        "duration": 15,
        "start_time": "2023-01-23T07:58:11.528Z"
      },
      {
        "duration": 9,
        "start_time": "2023-01-23T07:58:11.545Z"
      },
      {
        "duration": 37,
        "start_time": "2023-01-23T07:58:11.556Z"
      },
      {
        "duration": 3,
        "start_time": "2023-01-23T07:58:11.595Z"
      },
      {
        "duration": 29,
        "start_time": "2023-01-23T07:58:11.600Z"
      },
      {
        "duration": 4,
        "start_time": "2023-01-23T07:58:11.631Z"
      },
      {
        "duration": 12,
        "start_time": "2023-01-23T07:58:11.637Z"
      },
      {
        "duration": 4,
        "start_time": "2023-01-23T07:58:11.652Z"
      },
      {
        "duration": 35,
        "start_time": "2023-01-23T07:58:11.657Z"
      },
      {
        "duration": 36,
        "start_time": "2023-01-23T07:58:11.693Z"
      },
      {
        "duration": 4,
        "start_time": "2023-01-23T07:58:11.731Z"
      },
      {
        "duration": 12,
        "start_time": "2023-01-23T07:58:11.736Z"
      },
      {
        "duration": 31,
        "start_time": "2023-01-23T07:58:11.750Z"
      },
      {
        "duration": 17,
        "start_time": "2023-01-23T07:58:11.783Z"
      },
      {
        "duration": 3,
        "start_time": "2023-01-23T07:58:11.802Z"
      },
      {
        "duration": 23,
        "start_time": "2023-01-23T07:58:11.807Z"
      },
      {
        "duration": 9,
        "start_time": "2023-01-23T07:58:11.832Z"
      },
      {
        "duration": 4,
        "start_time": "2023-01-23T07:58:11.842Z"
      },
      {
        "duration": 13,
        "start_time": "2023-01-23T07:58:11.847Z"
      },
      {
        "duration": 25,
        "start_time": "2023-01-23T07:58:11.862Z"
      },
      {
        "duration": 13,
        "start_time": "2023-01-23T07:58:11.889Z"
      },
      {
        "duration": 33,
        "start_time": "2023-01-23T07:58:11.903Z"
      },
      {
        "duration": 12,
        "start_time": "2023-01-23T07:58:11.938Z"
      },
      {
        "duration": 29,
        "start_time": "2023-01-23T07:58:11.952Z"
      },
      {
        "duration": 488,
        "start_time": "2023-01-23T08:05:33.252Z"
      },
      {
        "duration": 23,
        "start_time": "2023-01-23T08:05:33.742Z"
      },
      {
        "duration": 30,
        "start_time": "2023-01-23T08:05:33.766Z"
      },
      {
        "duration": 16,
        "start_time": "2023-01-23T08:05:33.798Z"
      },
      {
        "duration": 50,
        "start_time": "2023-01-23T08:05:33.815Z"
      },
      {
        "duration": 4,
        "start_time": "2023-01-23T08:05:33.867Z"
      },
      {
        "duration": 28,
        "start_time": "2023-01-23T08:05:33.872Z"
      },
      {
        "duration": 12,
        "start_time": "2023-01-23T08:05:33.901Z"
      },
      {
        "duration": 19,
        "start_time": "2023-01-23T08:05:33.915Z"
      },
      {
        "duration": 6,
        "start_time": "2023-01-23T08:05:33.936Z"
      },
      {
        "duration": 36,
        "start_time": "2023-01-23T08:05:33.943Z"
      },
      {
        "duration": 10,
        "start_time": "2023-01-23T08:05:33.981Z"
      },
      {
        "duration": 13,
        "start_time": "2023-01-23T08:05:33.993Z"
      },
      {
        "duration": 24,
        "start_time": "2023-01-23T08:05:34.008Z"
      },
      {
        "duration": 24,
        "start_time": "2023-01-23T08:05:34.033Z"
      },
      {
        "duration": 17,
        "start_time": "2023-01-23T08:05:34.059Z"
      },
      {
        "duration": 3,
        "start_time": "2023-01-23T08:05:34.078Z"
      },
      {
        "duration": 16,
        "start_time": "2023-01-23T08:05:34.083Z"
      },
      {
        "duration": 21,
        "start_time": "2023-01-23T08:05:34.101Z"
      },
      {
        "duration": 28,
        "start_time": "2023-01-23T08:05:34.124Z"
      },
      {
        "duration": 58,
        "start_time": "2023-01-23T08:05:34.154Z"
      },
      {
        "duration": 48,
        "start_time": "2023-01-23T08:05:34.214Z"
      },
      {
        "duration": 44,
        "start_time": "2023-01-23T08:05:34.264Z"
      },
      {
        "duration": 46,
        "start_time": "2023-01-23T08:05:34.310Z"
      },
      {
        "duration": 22,
        "start_time": "2023-01-23T08:05:34.358Z"
      },
      {
        "duration": 53,
        "start_time": "2023-01-23T08:05:34.382Z"
      },
      {
        "duration": 56,
        "start_time": "2023-01-24T06:15:31.642Z"
      },
      {
        "duration": 79,
        "start_time": "2023-01-24T06:15:53.512Z"
      },
      {
        "duration": 41,
        "start_time": "2023-01-24T06:37:18.966Z"
      },
      {
        "duration": 6,
        "start_time": "2023-01-24T06:42:10.648Z"
      },
      {
        "duration": 524,
        "start_time": "2023-01-24T06:42:26.673Z"
      },
      {
        "duration": 28,
        "start_time": "2023-01-24T06:42:27.198Z"
      },
      {
        "duration": 54,
        "start_time": "2023-01-24T06:42:27.228Z"
      },
      {
        "duration": 13,
        "start_time": "2023-01-24T06:42:27.284Z"
      },
      {
        "duration": 55,
        "start_time": "2023-01-24T06:42:27.299Z"
      },
      {
        "duration": 3,
        "start_time": "2023-01-24T06:42:27.356Z"
      },
      {
        "duration": 33,
        "start_time": "2023-01-24T06:42:27.360Z"
      },
      {
        "duration": 21,
        "start_time": "2023-01-24T06:42:27.395Z"
      },
      {
        "duration": 25,
        "start_time": "2023-01-24T06:42:27.418Z"
      },
      {
        "duration": 17,
        "start_time": "2023-01-24T06:42:27.446Z"
      },
      {
        "duration": 43,
        "start_time": "2023-01-24T06:42:27.465Z"
      },
      {
        "duration": 8,
        "start_time": "2023-01-24T06:42:27.510Z"
      },
      {
        "duration": 15,
        "start_time": "2023-01-24T06:42:27.520Z"
      },
      {
        "duration": 22,
        "start_time": "2023-01-24T06:42:27.537Z"
      },
      {
        "duration": 30,
        "start_time": "2023-01-24T06:42:27.561Z"
      },
      {
        "duration": 33,
        "start_time": "2023-01-24T06:42:27.593Z"
      },
      {
        "duration": 3,
        "start_time": "2023-01-24T06:42:27.628Z"
      },
      {
        "duration": 32,
        "start_time": "2023-01-24T06:42:27.633Z"
      },
      {
        "duration": 30,
        "start_time": "2023-01-24T06:42:27.667Z"
      },
      {
        "duration": 9,
        "start_time": "2023-01-24T06:42:27.698Z"
      },
      {
        "duration": 30,
        "start_time": "2023-01-24T06:42:27.708Z"
      },
      {
        "duration": 33,
        "start_time": "2023-01-24T06:42:27.739Z"
      },
      {
        "duration": 22,
        "start_time": "2023-01-24T06:42:27.774Z"
      },
      {
        "duration": 12,
        "start_time": "2023-01-24T06:42:27.798Z"
      },
      {
        "duration": 35,
        "start_time": "2023-01-24T06:42:27.812Z"
      },
      {
        "duration": 40,
        "start_time": "2023-01-24T06:42:27.848Z"
      },
      {
        "duration": 44,
        "start_time": "2023-01-24T06:44:04.265Z"
      },
      {
        "duration": 16,
        "start_time": "2023-01-24T07:06:36.167Z"
      },
      {
        "duration": 21,
        "start_time": "2023-01-24T07:06:55.326Z"
      },
      {
        "duration": 82,
        "start_time": "2023-01-24T07:07:39.218Z"
      },
      {
        "duration": 20,
        "start_time": "2023-01-24T07:22:23.095Z"
      },
      {
        "duration": 64,
        "start_time": "2023-01-24T07:28:51.894Z"
      },
      {
        "duration": 60,
        "start_time": "2023-01-24T07:29:00.726Z"
      },
      {
        "duration": 35,
        "start_time": "2023-01-24T07:29:05.681Z"
      },
      {
        "duration": 23,
        "start_time": "2023-01-24T07:29:18.620Z"
      },
      {
        "duration": 30,
        "start_time": "2023-01-24T07:29:40.557Z"
      },
      {
        "duration": 35,
        "start_time": "2023-01-24T07:30:26.738Z"
      },
      {
        "duration": 17,
        "start_time": "2023-01-24T07:30:51.070Z"
      },
      {
        "duration": 38,
        "start_time": "2023-01-24T07:31:09.297Z"
      },
      {
        "duration": 35,
        "start_time": "2023-01-24T07:31:33.102Z"
      },
      {
        "duration": 23,
        "start_time": "2023-01-24T07:31:54.569Z"
      },
      {
        "duration": 47,
        "start_time": "2023-01-24T07:32:20.276Z"
      },
      {
        "duration": 504,
        "start_time": "2023-01-24T07:33:11.918Z"
      },
      {
        "duration": 32,
        "start_time": "2023-01-24T07:33:12.424Z"
      },
      {
        "duration": 17,
        "start_time": "2023-01-24T07:33:12.458Z"
      },
      {
        "duration": 42,
        "start_time": "2023-01-24T07:33:12.477Z"
      },
      {
        "duration": 33,
        "start_time": "2023-01-24T07:33:12.521Z"
      },
      {
        "duration": 4,
        "start_time": "2023-01-24T07:33:12.556Z"
      },
      {
        "duration": 10,
        "start_time": "2023-01-24T07:33:12.562Z"
      },
      {
        "duration": 5,
        "start_time": "2023-01-24T07:33:12.574Z"
      },
      {
        "duration": 40,
        "start_time": "2023-01-24T07:33:12.580Z"
      },
      {
        "duration": 5,
        "start_time": "2023-01-24T07:33:12.623Z"
      },
      {
        "duration": 37,
        "start_time": "2023-01-24T07:33:12.631Z"
      },
      {
        "duration": 11,
        "start_time": "2023-01-24T07:33:12.669Z"
      },
      {
        "duration": 6,
        "start_time": "2023-01-24T07:33:12.682Z"
      },
      {
        "duration": 31,
        "start_time": "2023-01-24T07:33:12.690Z"
      },
      {
        "duration": 31,
        "start_time": "2023-01-24T07:33:12.723Z"
      },
      {
        "duration": 28,
        "start_time": "2023-01-24T07:33:12.756Z"
      },
      {
        "duration": 5,
        "start_time": "2023-01-24T07:33:12.786Z"
      },
      {
        "duration": 25,
        "start_time": "2023-01-24T07:33:12.808Z"
      },
      {
        "duration": 6,
        "start_time": "2023-01-24T07:33:12.836Z"
      },
      {
        "duration": 7,
        "start_time": "2023-01-24T07:33:12.844Z"
      },
      {
        "duration": 20,
        "start_time": "2023-01-24T07:33:12.853Z"
      },
      {
        "duration": 36,
        "start_time": "2023-01-24T07:33:12.875Z"
      },
      {
        "duration": 14,
        "start_time": "2023-01-24T07:33:12.916Z"
      },
      {
        "duration": 12,
        "start_time": "2023-01-24T07:33:12.932Z"
      },
      {
        "duration": 15,
        "start_time": "2023-01-24T07:33:12.946Z"
      },
      {
        "duration": 65,
        "start_time": "2023-01-24T07:33:12.963Z"
      },
      {
        "duration": 16,
        "start_time": "2023-01-24T07:34:29.125Z"
      },
      {
        "duration": 57,
        "start_time": "2023-01-24T07:39:14.472Z"
      }
    ],
    "colab": {
      "provenance": [],
      "toc_visible": true
    },
    "kernelspec": {
      "display_name": "Python 3 (ipykernel)",
      "language": "python",
      "name": "python3"
    },
    "language_info": {
      "codemirror_mode": {
        "name": "ipython",
        "version": 3
      },
      "file_extension": ".py",
      "mimetype": "text/x-python",
      "name": "python",
      "nbconvert_exporter": "python",
      "pygments_lexer": "ipython3",
      "version": "3.9.5"
    },
    "toc": {
      "base_numbering": 1,
      "nav_menu": {},
      "number_sections": true,
      "sideBar": true,
      "skip_h1_title": true,
      "title_cell": "Table of Contents",
      "title_sidebar": "Contents",
      "toc_cell": false,
      "toc_position": {},
      "toc_section_display": true,
      "toc_window_display": false
    }
  },
  "nbformat": 4,
  "nbformat_minor": 5
}